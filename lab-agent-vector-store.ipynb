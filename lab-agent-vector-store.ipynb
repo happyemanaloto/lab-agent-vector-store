{
 "cells": [
  {
   "cell_type": "markdown",
   "id": "efad6479-7fb1-40c4-8610-8963f8de307f",
   "metadata": {},
   "source": [
    "# Lab | Agent & Vector store\n",
    "\n",
    "**Change the state union dataset and replicate this lab by updating the prompts accordingly.**\n",
    "\n",
    "One such dataset is the [sonnets.txt](https://github.com/martin-gorner/tensorflow-rnn-shakespeare/blob/master/shakespeare/sonnets.txt) dataset or any other data of your choice from the same git."
   ]
  },
  {
   "cell_type": "markdown",
   "id": "68b24990",
   "metadata": {},
   "source": [
    "# Combine agents and vector stores\n",
    "\n",
    "This notebook covers how to combine agents and vector stores. The use case for this is that you've ingested your data into a vector store and want to interact with it in an agentic manner.\n",
    "\n",
    "The recommended method for doing so is to create a `RetrievalQA` and then use that as a tool in the overall agent. Let's take a look at doing this below. You can do this with multiple different vector DBs, and use the agent as a way to route between them. There are two different ways of doing this - you can either let the agent use the vector stores as normal tools, or you can set `return_direct=True` to really just use the agent as a router."
   ]
  },
  {
   "cell_type": "markdown",
   "id": "9b22020a",
   "metadata": {},
   "source": [
    "## Create the vector store"
   ]
  },
  {
   "cell_type": "code",
   "execution_count": 1,
   "id": "12df91e0-7322-43c2-96cd-0159d017a1e1",
   "metadata": {
    "tags": []
   },
   "outputs": [
    {
     "name": "stdout",
     "output_type": "stream",
     "text": [
      "Collecting chromadb\n",
      "  Downloading chromadb-1.0.15-cp39-abi3-win_amd64.whl.metadata (7.1 kB)\n",
      "Requirement already satisfied: langchain in c:\\users\\happy\\anaconda3\\envs\\sub_ironhack\\lib\\site-packages (0.3.26)\n",
      "Requirement already satisfied: langchain_community in c:\\users\\happy\\anaconda3\\envs\\sub_ironhack\\lib\\site-packages (0.3.27)\n",
      "Requirement already satisfied: langchain_openai in c:\\users\\happy\\anaconda3\\envs\\sub_ironhack\\lib\\site-packages (0.3.27)\n",
      "Collecting build>=1.0.3 (from chromadb)\n",
      "  Downloading build-1.2.2.post1-py3-none-any.whl.metadata (6.5 kB)\n",
      "Requirement already satisfied: pydantic>=1.9 in c:\\users\\happy\\anaconda3\\envs\\sub_ironhack\\lib\\site-packages (from chromadb) (2.11.7)\n",
      "Collecting pybase64>=1.4.1 (from chromadb)\n",
      "  Downloading pybase64-1.4.1-cp311-cp311-win_amd64.whl.metadata (8.7 kB)\n",
      "Requirement already satisfied: uvicorn>=0.18.3 in c:\\users\\happy\\anaconda3\\envs\\sub_ironhack\\lib\\site-packages (from uvicorn[standard]>=0.18.3->chromadb) (0.35.0)\n",
      "Requirement already satisfied: numpy>=1.22.5 in c:\\users\\happy\\anaconda3\\envs\\sub_ironhack\\lib\\site-packages (from chromadb) (1.26.4)\n",
      "Collecting posthog<6.0.0,>=2.4.0 (from chromadb)\n",
      "  Downloading posthog-5.4.0-py3-none-any.whl.metadata (5.7 kB)\n",
      "Requirement already satisfied: typing-extensions>=4.5.0 in c:\\users\\happy\\anaconda3\\envs\\sub_ironhack\\lib\\site-packages (from chromadb) (4.14.1)\n",
      "Collecting onnxruntime>=1.14.1 (from chromadb)\n",
      "  Downloading onnxruntime-1.22.1-cp311-cp311-win_amd64.whl.metadata (5.1 kB)\n",
      "Collecting opentelemetry-api>=1.2.0 (from chromadb)\n",
      "  Downloading opentelemetry_api-1.35.0-py3-none-any.whl.metadata (1.5 kB)\n",
      "Collecting opentelemetry-exporter-otlp-proto-grpc>=1.2.0 (from chromadb)\n",
      "  Downloading opentelemetry_exporter_otlp_proto_grpc-1.35.0-py3-none-any.whl.metadata (2.4 kB)\n",
      "Collecting opentelemetry-sdk>=1.2.0 (from chromadb)\n",
      "  Downloading opentelemetry_sdk-1.35.0-py3-none-any.whl.metadata (1.5 kB)\n",
      "Requirement already satisfied: tokenizers>=0.13.2 in c:\\users\\happy\\anaconda3\\envs\\sub_ironhack\\lib\\site-packages (from chromadb) (0.21.2)\n",
      "Collecting pypika>=0.48.9 (from chromadb)\n",
      "  Downloading PyPika-0.48.9.tar.gz (67 kB)\n",
      "  Installing build dependencies: started\n",
      "  Installing build dependencies: finished with status 'done'\n",
      "  Getting requirements to build wheel: started\n",
      "  Getting requirements to build wheel: finished with status 'done'\n",
      "  Preparing metadata (pyproject.toml): started\n",
      "  Preparing metadata (pyproject.toml): finished with status 'done'\n",
      "Requirement already satisfied: tqdm>=4.65.0 in c:\\users\\happy\\anaconda3\\envs\\sub_ironhack\\lib\\site-packages (from chromadb) (4.67.1)\n",
      "Collecting overrides>=7.3.1 (from chromadb)\n",
      "  Using cached overrides-7.7.0-py3-none-any.whl.metadata (5.8 kB)\n",
      "Collecting importlib-resources (from chromadb)\n",
      "  Downloading importlib_resources-6.5.2-py3-none-any.whl.metadata (3.9 kB)\n",
      "Requirement already satisfied: grpcio>=1.58.0 in c:\\users\\happy\\anaconda3\\envs\\sub_ironhack\\lib\\site-packages (from chromadb) (1.73.1)\n",
      "Collecting bcrypt>=4.0.1 (from chromadb)\n",
      "  Downloading bcrypt-4.3.0-cp39-abi3-win_amd64.whl.metadata (10 kB)\n",
      "Collecting typer>=0.9.0 (from chromadb)\n",
      "  Using cached typer-0.16.0-py3-none-any.whl.metadata (15 kB)\n",
      "Collecting kubernetes>=28.1.0 (from chromadb)\n",
      "  Downloading kubernetes-33.1.0-py2.py3-none-any.whl.metadata (1.7 kB)\n",
      "Requirement already satisfied: tenacity>=8.2.3 in c:\\users\\happy\\anaconda3\\envs\\sub_ironhack\\lib\\site-packages (from chromadb) (9.1.2)\n",
      "Requirement already satisfied: pyyaml>=6.0.0 in c:\\users\\happy\\anaconda3\\envs\\sub_ironhack\\lib\\site-packages (from chromadb) (6.0.2)\n",
      "Collecting mmh3>=4.0.1 (from chromadb)\n",
      "  Downloading mmh3-5.1.0-cp311-cp311-win_amd64.whl.metadata (16 kB)\n",
      "Requirement already satisfied: orjson>=3.9.12 in c:\\users\\happy\\anaconda3\\envs\\sub_ironhack\\lib\\site-packages (from chromadb) (3.10.18)\n",
      "Requirement already satisfied: httpx>=0.27.0 in c:\\users\\happy\\anaconda3\\envs\\sub_ironhack\\lib\\site-packages (from chromadb) (0.28.1)\n",
      "Requirement already satisfied: rich>=10.11.0 in c:\\users\\happy\\anaconda3\\envs\\sub_ironhack\\lib\\site-packages (from chromadb) (14.0.0)\n",
      "Collecting jsonschema>=4.19.0 (from chromadb)\n",
      "  Using cached jsonschema-4.24.0-py3-none-any.whl.metadata (7.8 kB)\n",
      "Requirement already satisfied: requests<3.0,>=2.7 in c:\\users\\happy\\anaconda3\\envs\\sub_ironhack\\lib\\site-packages (from posthog<6.0.0,>=2.4.0->chromadb) (2.32.4)\n",
      "Requirement already satisfied: six>=1.5 in c:\\users\\happy\\anaconda3\\envs\\sub_ironhack\\lib\\site-packages (from posthog<6.0.0,>=2.4.0->chromadb) (1.17.0)\n",
      "Requirement already satisfied: python-dateutil>=2.2 in c:\\users\\happy\\anaconda3\\envs\\sub_ironhack\\lib\\site-packages (from posthog<6.0.0,>=2.4.0->chromadb) (2.9.0.post0)\n",
      "Collecting backoff>=1.10.0 (from posthog<6.0.0,>=2.4.0->chromadb)\n",
      "  Downloading backoff-2.2.1-py3-none-any.whl.metadata (14 kB)\n",
      "Requirement already satisfied: distro>=1.5.0 in c:\\users\\happy\\anaconda3\\envs\\sub_ironhack\\lib\\site-packages (from posthog<6.0.0,>=2.4.0->chromadb) (1.9.0)\n",
      "Requirement already satisfied: charset_normalizer<4,>=2 in c:\\users\\happy\\anaconda3\\envs\\sub_ironhack\\lib\\site-packages (from requests<3.0,>=2.7->posthog<6.0.0,>=2.4.0->chromadb) (3.4.2)\n",
      "Requirement already satisfied: idna<4,>=2.5 in c:\\users\\happy\\anaconda3\\envs\\sub_ironhack\\lib\\site-packages (from requests<3.0,>=2.7->posthog<6.0.0,>=2.4.0->chromadb) (3.10)\n",
      "Requirement already satisfied: urllib3<3,>=1.21.1 in c:\\users\\happy\\anaconda3\\envs\\sub_ironhack\\lib\\site-packages (from requests<3.0,>=2.7->posthog<6.0.0,>=2.4.0->chromadb) (2.5.0)\n",
      "Requirement already satisfied: certifi>=2017.4.17 in c:\\users\\happy\\anaconda3\\envs\\sub_ironhack\\lib\\site-packages (from requests<3.0,>=2.7->posthog<6.0.0,>=2.4.0->chromadb) (2025.7.9)\n",
      "Requirement already satisfied: langchain-core<1.0.0,>=0.3.66 in c:\\users\\happy\\anaconda3\\envs\\sub_ironhack\\lib\\site-packages (from langchain) (0.3.68)\n",
      "Requirement already satisfied: langchain-text-splitters<1.0.0,>=0.3.8 in c:\\users\\happy\\anaconda3\\envs\\sub_ironhack\\lib\\site-packages (from langchain) (0.3.8)\n",
      "Requirement already satisfied: langsmith>=0.1.17 in c:\\users\\happy\\anaconda3\\envs\\sub_ironhack\\lib\\site-packages (from langchain) (0.4.4)\n",
      "Requirement already satisfied: SQLAlchemy<3,>=1.4 in c:\\users\\happy\\anaconda3\\envs\\sub_ironhack\\lib\\site-packages (from langchain) (2.0.41)\n",
      "Requirement already satisfied: jsonpatch<2.0,>=1.33 in c:\\users\\happy\\anaconda3\\envs\\sub_ironhack\\lib\\site-packages (from langchain-core<1.0.0,>=0.3.66->langchain) (1.33)\n",
      "Requirement already satisfied: packaging<25,>=23.2 in c:\\users\\happy\\anaconda3\\envs\\sub_ironhack\\lib\\site-packages (from langchain-core<1.0.0,>=0.3.66->langchain) (24.2)\n",
      "Requirement already satisfied: jsonpointer>=1.9 in c:\\users\\happy\\anaconda3\\envs\\sub_ironhack\\lib\\site-packages (from jsonpatch<2.0,>=1.33->langchain-core<1.0.0,>=0.3.66->langchain) (3.0.0)\n",
      "Requirement already satisfied: annotated-types>=0.6.0 in c:\\users\\happy\\anaconda3\\envs\\sub_ironhack\\lib\\site-packages (from pydantic>=1.9->chromadb) (0.7.0)\n",
      "Requirement already satisfied: pydantic-core==2.33.2 in c:\\users\\happy\\anaconda3\\envs\\sub_ironhack\\lib\\site-packages (from pydantic>=1.9->chromadb) (2.33.2)\n",
      "Requirement already satisfied: typing-inspection>=0.4.0 in c:\\users\\happy\\anaconda3\\envs\\sub_ironhack\\lib\\site-packages (from pydantic>=1.9->chromadb) (0.4.1)\n",
      "Requirement already satisfied: greenlet>=1 in c:\\users\\happy\\anaconda3\\envs\\sub_ironhack\\lib\\site-packages (from SQLAlchemy<3,>=1.4->langchain) (3.2.3)\n",
      "Requirement already satisfied: aiohttp<4.0.0,>=3.8.3 in c:\\users\\happy\\anaconda3\\envs\\sub_ironhack\\lib\\site-packages (from langchain_community) (3.12.14)\n",
      "Requirement already satisfied: dataclasses-json<0.7,>=0.5.7 in c:\\users\\happy\\anaconda3\\envs\\sub_ironhack\\lib\\site-packages (from langchain_community) (0.6.7)\n",
      "Requirement already satisfied: pydantic-settings<3.0.0,>=2.4.0 in c:\\users\\happy\\anaconda3\\envs\\sub_ironhack\\lib\\site-packages (from langchain_community) (2.10.1)\n",
      "Requirement already satisfied: httpx-sse<1.0.0,>=0.4.0 in c:\\users\\happy\\anaconda3\\envs\\sub_ironhack\\lib\\site-packages (from langchain_community) (0.4.1)\n",
      "Requirement already satisfied: aiohappyeyeballs>=2.5.0 in c:\\users\\happy\\anaconda3\\envs\\sub_ironhack\\lib\\site-packages (from aiohttp<4.0.0,>=3.8.3->langchain_community) (2.6.1)\n",
      "Requirement already satisfied: aiosignal>=1.4.0 in c:\\users\\happy\\anaconda3\\envs\\sub_ironhack\\lib\\site-packages (from aiohttp<4.0.0,>=3.8.3->langchain_community) (1.4.0)\n",
      "Requirement already satisfied: attrs>=17.3.0 in c:\\users\\happy\\anaconda3\\envs\\sub_ironhack\\lib\\site-packages (from aiohttp<4.0.0,>=3.8.3->langchain_community) (25.3.0)\n",
      "Requirement already satisfied: frozenlist>=1.1.1 in c:\\users\\happy\\anaconda3\\envs\\sub_ironhack\\lib\\site-packages (from aiohttp<4.0.0,>=3.8.3->langchain_community) (1.7.0)\n",
      "Requirement already satisfied: multidict<7.0,>=4.5 in c:\\users\\happy\\anaconda3\\envs\\sub_ironhack\\lib\\site-packages (from aiohttp<4.0.0,>=3.8.3->langchain_community) (6.6.3)\n",
      "Requirement already satisfied: propcache>=0.2.0 in c:\\users\\happy\\anaconda3\\envs\\sub_ironhack\\lib\\site-packages (from aiohttp<4.0.0,>=3.8.3->langchain_community) (0.3.2)\n",
      "Requirement already satisfied: yarl<2.0,>=1.17.0 in c:\\users\\happy\\anaconda3\\envs\\sub_ironhack\\lib\\site-packages (from aiohttp<4.0.0,>=3.8.3->langchain_community) (1.20.1)\n",
      "Requirement already satisfied: marshmallow<4.0.0,>=3.18.0 in c:\\users\\happy\\anaconda3\\envs\\sub_ironhack\\lib\\site-packages (from dataclasses-json<0.7,>=0.5.7->langchain_community) (3.26.1)\n",
      "Requirement already satisfied: typing-inspect<1,>=0.4.0 in c:\\users\\happy\\anaconda3\\envs\\sub_ironhack\\lib\\site-packages (from dataclasses-json<0.7,>=0.5.7->langchain_community) (0.9.0)\n",
      "Requirement already satisfied: python-dotenv>=0.21.0 in c:\\users\\happy\\anaconda3\\envs\\sub_ironhack\\lib\\site-packages (from pydantic-settings<3.0.0,>=2.4.0->langchain_community) (1.1.1)\n",
      "Requirement already satisfied: mypy-extensions>=0.3.0 in c:\\users\\happy\\anaconda3\\envs\\sub_ironhack\\lib\\site-packages (from typing-inspect<1,>=0.4.0->dataclasses-json<0.7,>=0.5.7->langchain_community) (1.1.0)\n",
      "Requirement already satisfied: openai<2.0.0,>=1.86.0 in c:\\users\\happy\\anaconda3\\envs\\sub_ironhack\\lib\\site-packages (from langchain_openai) (1.95.0)\n",
      "Requirement already satisfied: tiktoken<1,>=0.7 in c:\\users\\happy\\anaconda3\\envs\\sub_ironhack\\lib\\site-packages (from langchain_openai) (0.9.0)\n",
      "Requirement already satisfied: anyio<5,>=3.5.0 in c:\\users\\happy\\anaconda3\\envs\\sub_ironhack\\lib\\site-packages (from openai<2.0.0,>=1.86.0->langchain_openai) (4.9.0)\n",
      "Requirement already satisfied: jiter<1,>=0.4.0 in c:\\users\\happy\\anaconda3\\envs\\sub_ironhack\\lib\\site-packages (from openai<2.0.0,>=1.86.0->langchain_openai) (0.10.0)\n",
      "Requirement already satisfied: sniffio in c:\\users\\happy\\anaconda3\\envs\\sub_ironhack\\lib\\site-packages (from openai<2.0.0,>=1.86.0->langchain_openai) (1.3.1)\n",
      "Requirement already satisfied: httpcore==1.* in c:\\users\\happy\\anaconda3\\envs\\sub_ironhack\\lib\\site-packages (from httpx>=0.27.0->chromadb) (1.0.9)\n",
      "Requirement already satisfied: h11>=0.16 in c:\\users\\happy\\anaconda3\\envs\\sub_ironhack\\lib\\site-packages (from httpcore==1.*->httpx>=0.27.0->chromadb) (0.16.0)\n",
      "Requirement already satisfied: regex>=2022.1.18 in c:\\users\\happy\\anaconda3\\envs\\sub_ironhack\\lib\\site-packages (from tiktoken<1,>=0.7->langchain_openai) (2024.11.6)\n",
      "Collecting pyproject_hooks (from build>=1.0.3->chromadb)\n",
      "  Downloading pyproject_hooks-1.2.0-py3-none-any.whl.metadata (1.3 kB)\n",
      "Requirement already satisfied: colorama in c:\\users\\happy\\anaconda3\\envs\\sub_ironhack\\lib\\site-packages (from build>=1.0.3->chromadb) (0.4.6)\n",
      "Collecting jsonschema-specifications>=2023.03.6 (from jsonschema>=4.19.0->chromadb)\n",
      "  Using cached jsonschema_specifications-2025.4.1-py3-none-any.whl.metadata (2.9 kB)\n",
      "Collecting referencing>=0.28.4 (from jsonschema>=4.19.0->chromadb)\n",
      "  Using cached referencing-0.36.2-py3-none-any.whl.metadata (2.8 kB)\n",
      "Collecting rpds-py>=0.7.1 (from jsonschema>=4.19.0->chromadb)\n",
      "  Downloading rpds_py-0.26.0-cp311-cp311-win_amd64.whl.metadata (4.3 kB)\n",
      "Collecting google-auth>=1.0.1 (from kubernetes>=28.1.0->chromadb)\n",
      "  Using cached google_auth-2.40.3-py2.py3-none-any.whl.metadata (6.2 kB)\n",
      "Collecting websocket-client!=0.40.0,!=0.41.*,!=0.42.*,>=0.32.0 (from kubernetes>=28.1.0->chromadb)\n",
      "  Using cached websocket_client-1.8.0-py3-none-any.whl.metadata (8.0 kB)\n",
      "Collecting requests-oauthlib (from kubernetes>=28.1.0->chromadb)\n",
      "  Using cached requests_oauthlib-2.0.0-py2.py3-none-any.whl.metadata (11 kB)\n",
      "Collecting oauthlib>=3.2.2 (from kubernetes>=28.1.0->chromadb)\n",
      "  Downloading oauthlib-3.3.1-py3-none-any.whl.metadata (7.9 kB)\n",
      "Collecting durationpy>=0.7 (from kubernetes>=28.1.0->chromadb)\n",
      "  Downloading durationpy-0.10-py3-none-any.whl.metadata (340 bytes)\n",
      "Collecting cachetools<6.0,>=2.0.0 (from google-auth>=1.0.1->kubernetes>=28.1.0->chromadb)\n",
      "  Using cached cachetools-5.5.2-py3-none-any.whl.metadata (5.4 kB)\n",
      "Collecting pyasn1-modules>=0.2.1 (from google-auth>=1.0.1->kubernetes>=28.1.0->chromadb)\n",
      "  Using cached pyasn1_modules-0.4.2-py3-none-any.whl.metadata (3.5 kB)\n",
      "Collecting rsa<5,>=3.1.4 (from google-auth>=1.0.1->kubernetes>=28.1.0->chromadb)\n",
      "  Using cached rsa-4.9.1-py3-none-any.whl.metadata (5.6 kB)\n",
      "Collecting pyasn1>=0.1.3 (from rsa<5,>=3.1.4->google-auth>=1.0.1->kubernetes>=28.1.0->chromadb)\n",
      "  Using cached pyasn1-0.6.1-py3-none-any.whl.metadata (8.4 kB)\n",
      "Requirement already satisfied: requests-toolbelt<2.0.0,>=1.0.0 in c:\\users\\happy\\anaconda3\\envs\\sub_ironhack\\lib\\site-packages (from langsmith>=0.1.17->langchain) (1.0.0)\n",
      "Requirement already satisfied: zstandard<0.24.0,>=0.23.0 in c:\\users\\happy\\anaconda3\\envs\\sub_ironhack\\lib\\site-packages (from langsmith>=0.1.17->langchain) (0.23.0)\n",
      "Collecting coloredlogs (from onnxruntime>=1.14.1->chromadb)\n",
      "  Downloading coloredlogs-15.0.1-py2.py3-none-any.whl.metadata (12 kB)\n",
      "Requirement already satisfied: flatbuffers in c:\\users\\happy\\anaconda3\\envs\\sub_ironhack\\lib\\site-packages (from onnxruntime>=1.14.1->chromadb) (25.2.10)\n",
      "Requirement already satisfied: protobuf in c:\\users\\happy\\anaconda3\\envs\\sub_ironhack\\lib\\site-packages (from onnxruntime>=1.14.1->chromadb) (5.29.5)\n",
      "Requirement already satisfied: sympy in c:\\users\\happy\\anaconda3\\envs\\sub_ironhack\\lib\\site-packages (from onnxruntime>=1.14.1->chromadb) (1.14.0)\n",
      "Requirement already satisfied: importlib-metadata<8.8.0,>=6.0 in c:\\users\\happy\\anaconda3\\envs\\sub_ironhack\\lib\\site-packages (from opentelemetry-api>=1.2.0->chromadb) (8.7.0)\n",
      "Requirement already satisfied: zipp>=3.20 in c:\\users\\happy\\anaconda3\\envs\\sub_ironhack\\lib\\site-packages (from importlib-metadata<8.8.0,>=6.0->opentelemetry-api>=1.2.0->chromadb) (3.23.0)\n",
      "Collecting googleapis-common-protos~=1.57 (from opentelemetry-exporter-otlp-proto-grpc>=1.2.0->chromadb)\n",
      "  Downloading googleapis_common_protos-1.70.0-py3-none-any.whl.metadata (9.3 kB)\n",
      "Collecting opentelemetry-exporter-otlp-proto-common==1.35.0 (from opentelemetry-exporter-otlp-proto-grpc>=1.2.0->chromadb)\n",
      "  Downloading opentelemetry_exporter_otlp_proto_common-1.35.0-py3-none-any.whl.metadata (1.8 kB)\n",
      "Collecting opentelemetry-proto==1.35.0 (from opentelemetry-exporter-otlp-proto-grpc>=1.2.0->chromadb)\n",
      "  Downloading opentelemetry_proto-1.35.0-py3-none-any.whl.metadata (2.3 kB)\n",
      "Collecting opentelemetry-semantic-conventions==0.56b0 (from opentelemetry-sdk>=1.2.0->chromadb)\n",
      "  Downloading opentelemetry_semantic_conventions-0.56b0-py3-none-any.whl.metadata (2.4 kB)\n",
      "Requirement already satisfied: markdown-it-py>=2.2.0 in c:\\users\\happy\\anaconda3\\envs\\sub_ironhack\\lib\\site-packages (from rich>=10.11.0->chromadb) (3.0.0)\n",
      "Requirement already satisfied: pygments<3.0.0,>=2.13.0 in c:\\users\\happy\\anaconda3\\envs\\sub_ironhack\\lib\\site-packages (from rich>=10.11.0->chromadb) (2.19.2)\n",
      "Requirement already satisfied: mdurl~=0.1 in c:\\users\\happy\\anaconda3\\envs\\sub_ironhack\\lib\\site-packages (from markdown-it-py>=2.2.0->rich>=10.11.0->chromadb) (0.1.2)\n",
      "Requirement already satisfied: huggingface-hub<1.0,>=0.16.4 in c:\\users\\happy\\anaconda3\\envs\\sub_ironhack\\lib\\site-packages (from tokenizers>=0.13.2->chromadb) (0.33.2)\n",
      "Requirement already satisfied: filelock in c:\\users\\happy\\anaconda3\\envs\\sub_ironhack\\lib\\site-packages (from huggingface-hub<1.0,>=0.16.4->tokenizers>=0.13.2->chromadb) (3.18.0)\n",
      "Requirement already satisfied: fsspec>=2023.5.0 in c:\\users\\happy\\anaconda3\\envs\\sub_ironhack\\lib\\site-packages (from huggingface-hub<1.0,>=0.16.4->tokenizers>=0.13.2->chromadb) (2025.3.0)\n",
      "Requirement already satisfied: click>=8.0.0 in c:\\users\\happy\\anaconda3\\envs\\sub_ironhack\\lib\\site-packages (from typer>=0.9.0->chromadb) (8.2.1)\n",
      "Collecting shellingham>=1.3.0 (from typer>=0.9.0->chromadb)\n",
      "  Using cached shellingham-1.5.4-py2.py3-none-any.whl.metadata (3.5 kB)\n",
      "Collecting httptools>=0.6.3 (from uvicorn[standard]>=0.18.3->chromadb)\n",
      "  Downloading httptools-0.6.4-cp311-cp311-win_amd64.whl.metadata (3.7 kB)\n",
      "Collecting watchfiles>=0.13 (from uvicorn[standard]>=0.18.3->chromadb)\n",
      "  Downloading watchfiles-1.1.0-cp311-cp311-win_amd64.whl.metadata (5.0 kB)\n",
      "Collecting websockets>=10.4 (from uvicorn[standard]>=0.18.3->chromadb)\n",
      "  Downloading websockets-15.0.1-cp311-cp311-win_amd64.whl.metadata (7.0 kB)\n",
      "Collecting humanfriendly>=9.1 (from coloredlogs->onnxruntime>=1.14.1->chromadb)\n",
      "  Downloading humanfriendly-10.0-py2.py3-none-any.whl.metadata (9.2 kB)\n",
      "Collecting pyreadline3 (from humanfriendly>=9.1->coloredlogs->onnxruntime>=1.14.1->chromadb)\n",
      "  Downloading pyreadline3-3.5.4-py3-none-any.whl.metadata (4.7 kB)\n",
      "Requirement already satisfied: mpmath<1.4,>=1.1.0 in c:\\users\\happy\\anaconda3\\envs\\sub_ironhack\\lib\\site-packages (from sympy->onnxruntime>=1.14.1->chromadb) (1.3.0)\n",
      "Downloading chromadb-1.0.15-cp39-abi3-win_amd64.whl (19.5 MB)\n",
      "   ---------------------------------------- 0.0/19.5 MB ? eta -:--:--\n",
      "   -------- ------------------------------- 3.9/19.5 MB 21.5 MB/s eta 0:00:01\n",
      "   -------------------- ------------------- 10.0/19.5 MB 24.9 MB/s eta 0:00:01\n",
      "   ------------------------------ --------- 14.9/19.5 MB 24.8 MB/s eta 0:00:01\n",
      "   ---------------------------------------- 19.5/19.5 MB 24.2 MB/s eta 0:00:00\n",
      "Downloading posthog-5.4.0-py3-none-any.whl (105 kB)\n",
      "Downloading backoff-2.2.1-py3-none-any.whl (15 kB)\n",
      "Downloading bcrypt-4.3.0-cp39-abi3-win_amd64.whl (152 kB)\n",
      "Downloading build-1.2.2.post1-py3-none-any.whl (22 kB)\n",
      "Using cached jsonschema-4.24.0-py3-none-any.whl (88 kB)\n",
      "Using cached jsonschema_specifications-2025.4.1-py3-none-any.whl (18 kB)\n",
      "Downloading kubernetes-33.1.0-py2.py3-none-any.whl (1.9 MB)\n",
      "   ---------------------------------------- 0.0/1.9 MB ? eta -:--:--\n",
      "   ---------------------------------------- 1.9/1.9 MB 21.5 MB/s eta 0:00:00\n",
      "Downloading durationpy-0.10-py3-none-any.whl (3.9 kB)\n",
      "Using cached google_auth-2.40.3-py2.py3-none-any.whl (216 kB)\n",
      "Using cached cachetools-5.5.2-py3-none-any.whl (10 kB)\n",
      "Using cached rsa-4.9.1-py3-none-any.whl (34 kB)\n",
      "Downloading mmh3-5.1.0-cp311-cp311-win_amd64.whl (41 kB)\n",
      "Downloading oauthlib-3.3.1-py3-none-any.whl (160 kB)\n",
      "Downloading onnxruntime-1.22.1-cp311-cp311-win_amd64.whl (12.7 MB)\n",
      "   ---------------------------------------- 0.0/12.7 MB ? eta -:--:--\n",
      "   --------------- ------------------------ 5.0/12.7 MB 25.2 MB/s eta 0:00:01\n",
      "   ------------------------ --------------- 7.9/12.7 MB 19.5 MB/s eta 0:00:01\n",
      "   ---------------------------------------  12.6/12.7 MB 21.3 MB/s eta 0:00:01\n",
      "   ---------------------------------------- 12.7/12.7 MB 20.4 MB/s eta 0:00:00\n",
      "Downloading opentelemetry_api-1.35.0-py3-none-any.whl (65 kB)\n",
      "Downloading opentelemetry_exporter_otlp_proto_grpc-1.35.0-py3-none-any.whl (18 kB)\n",
      "Downloading opentelemetry_exporter_otlp_proto_common-1.35.0-py3-none-any.whl (18 kB)\n",
      "Downloading opentelemetry_proto-1.35.0-py3-none-any.whl (72 kB)\n",
      "Downloading googleapis_common_protos-1.70.0-py3-none-any.whl (294 kB)\n",
      "Downloading opentelemetry_sdk-1.35.0-py3-none-any.whl (119 kB)\n",
      "Downloading opentelemetry_semantic_conventions-0.56b0-py3-none-any.whl (201 kB)\n",
      "Using cached overrides-7.7.0-py3-none-any.whl (17 kB)\n",
      "Using cached pyasn1-0.6.1-py3-none-any.whl (83 kB)\n",
      "Using cached pyasn1_modules-0.4.2-py3-none-any.whl (181 kB)\n",
      "Downloading pybase64-1.4.1-cp311-cp311-win_amd64.whl (36 kB)\n",
      "Using cached referencing-0.36.2-py3-none-any.whl (26 kB)\n",
      "Downloading rpds_py-0.26.0-cp311-cp311-win_amd64.whl (231 kB)\n",
      "Using cached typer-0.16.0-py3-none-any.whl (46 kB)\n",
      "Using cached shellingham-1.5.4-py2.py3-none-any.whl (9.8 kB)\n",
      "Downloading httptools-0.6.4-cp311-cp311-win_amd64.whl (88 kB)\n",
      "Downloading watchfiles-1.1.0-cp311-cp311-win_amd64.whl (292 kB)\n",
      "Using cached websocket_client-1.8.0-py3-none-any.whl (58 kB)\n",
      "Downloading websockets-15.0.1-cp311-cp311-win_amd64.whl (176 kB)\n",
      "Downloading coloredlogs-15.0.1-py2.py3-none-any.whl (46 kB)\n",
      "Downloading humanfriendly-10.0-py2.py3-none-any.whl (86 kB)\n",
      "Downloading importlib_resources-6.5.2-py3-none-any.whl (37 kB)\n",
      "Downloading pyproject_hooks-1.2.0-py3-none-any.whl (10 kB)\n",
      "Downloading pyreadline3-3.5.4-py3-none-any.whl (83 kB)\n",
      "Using cached requests_oauthlib-2.0.0-py2.py3-none-any.whl (24 kB)\n",
      "Building wheels for collected packages: pypika\n",
      "  Building wheel for pypika (pyproject.toml): started\n",
      "  Building wheel for pypika (pyproject.toml): finished with status 'done'\n",
      "  Created wheel for pypika: filename=pypika-0.48.9-py2.py3-none-any.whl size=53916 sha256=9129c9aab5f639adf5d4fbb383b388897d5302b70a2708007a7105610a4c8266\n",
      "  Stored in directory: c:\\users\\happy\\appdata\\local\\pip\\cache\\wheels\\a3\\01\\bd\\4c40ceb9d5354160cb186dcc153360f4ab7eb23e2b24daf96d\n",
      "Successfully built pypika\n",
      "Installing collected packages: pypika, durationpy, websockets, websocket-client, shellingham, rpds-py, pyreadline3, pyproject_hooks, pybase64, pyasn1, overrides, opentelemetry-proto, oauthlib, mmh3, importlib-resources, httptools, googleapis-common-protos, cachetools, bcrypt, backoff, watchfiles, rsa, requests-oauthlib, referencing, pyasn1-modules, posthog, opentelemetry-exporter-otlp-proto-common, opentelemetry-api, humanfriendly, build, typer, opentelemetry-semantic-conventions, jsonschema-specifications, google-auth, coloredlogs, opentelemetry-sdk, onnxruntime, kubernetes, jsonschema, opentelemetry-exporter-otlp-proto-grpc, chromadb\n",
      "\n",
      "   - --------------------------------------  2/41 [websockets]\n",
      "   ----- ----------------------------------  6/41 [pyreadline3]\n",
      "   -------- -------------------------------  9/41 [pyasn1]\n",
      "   ---------- ----------------------------- 11/41 [opentelemetry-proto]\n",
      "   ----------- ---------------------------- 12/41 [oauthlib]\n",
      "   --------------- ------------------------ 16/41 [googleapis-common-protos]\n",
      "   ----------------- ---------------------- 18/41 [bcrypt]\n",
      "   ---------------------- ----------------- 23/41 [referencing]\n",
      "   ----------------------- ---------------- 24/41 [pyasn1-modules]\n",
      "   ------------------------ --------------- 25/41 [posthog]\n",
      "   -------------------------- ------------- 27/41 [opentelemetry-api]\n",
      "   ---------------------------- ----------- 29/41 [build]\n",
      "   ------------------------ -------- 31/41 [opentelemetry-semantic-conventions]\n",
      "   -------------------------------- ------- 33/41 [google-auth]\n",
      "   --------------------------------- ------ 34/41 [coloredlogs]\n",
      "   ----------------------------------- ---- 36/41 [onnxruntime]\n",
      "   ----------------------------------- ---- 36/41 [onnxruntime]\n",
      "   ----------------------------------- ---- 36/41 [onnxruntime]\n",
      "   ----------------------------------- ---- 36/41 [onnxruntime]\n",
      "   ----------------------------------- ---- 36/41 [onnxruntime]\n",
      "   ----------------------------------- ---- 36/41 [onnxruntime]\n",
      "   ------------------------------------ --- 37/41 [kubernetes]\n",
      "   ------------------------------------ --- 37/41 [kubernetes]\n",
      "   ------------------------------------ --- 37/41 [kubernetes]\n",
      "   ------------------------------------ --- 37/41 [kubernetes]\n",
      "   ------------------------------------ --- 37/41 [kubernetes]\n",
      "   ------------------------------------ --- 37/41 [kubernetes]\n",
      "   ------------------------------------ --- 37/41 [kubernetes]\n",
      "   ------------------------------------ --- 37/41 [kubernetes]\n",
      "   ------------------------------------ --- 37/41 [kubernetes]\n",
      "   ------------------------------------ --- 37/41 [kubernetes]\n",
      "   ------------------------------------ --- 37/41 [kubernetes]\n",
      "   ------------------------------------ --- 37/41 [kubernetes]\n",
      "   ------------------------------------ --- 37/41 [kubernetes]\n",
      "   ---------------------------------------  40/41 [chromadb]\n",
      "   ---------------------------------------  40/41 [chromadb]\n",
      "   ---------------------------------------  40/41 [chromadb]\n",
      "   ---------------------------------------  40/41 [chromadb]\n",
      "   ---------------------------------------- 41/41 [chromadb]\n",
      "\n",
      "Successfully installed backoff-2.2.1 bcrypt-4.3.0 build-1.2.2.post1 cachetools-5.5.2 chromadb-1.0.15 coloredlogs-15.0.1 durationpy-0.10 google-auth-2.40.3 googleapis-common-protos-1.70.0 httptools-0.6.4 humanfriendly-10.0 importlib-resources-6.5.2 jsonschema-4.24.0 jsonschema-specifications-2025.4.1 kubernetes-33.1.0 mmh3-5.1.0 oauthlib-3.3.1 onnxruntime-1.22.1 opentelemetry-api-1.35.0 opentelemetry-exporter-otlp-proto-common-1.35.0 opentelemetry-exporter-otlp-proto-grpc-1.35.0 opentelemetry-proto-1.35.0 opentelemetry-sdk-1.35.0 opentelemetry-semantic-conventions-0.56b0 overrides-7.7.0 posthog-5.4.0 pyasn1-0.6.1 pyasn1-modules-0.4.2 pybase64-1.4.1 pypika-0.48.9 pyproject_hooks-1.2.0 pyreadline3-3.5.4 referencing-0.36.2 requests-oauthlib-2.0.0 rpds-py-0.26.0 rsa-4.9.1 shellingham-1.5.4 typer-0.16.0 watchfiles-1.1.0 websocket-client-1.8.0 websockets-15.0.1\n"
     ]
    }
   ],
   "source": [
    "!pip install chromadb langchain langchain_community langchain_openai"
   ]
  },
  {
   "cell_type": "code",
   "execution_count": 1,
   "id": "2868cff1-a3ef-426f-b8d7-7fe89047a5b7",
   "metadata": {
    "tags": []
   },
   "outputs": [],
   "source": [
    "from langchain.chains import RetrievalQA\n",
    "from langchain_community.vectorstores import Chroma\n",
    "from langchain_openai import OpenAI, OpenAIEmbeddings\n",
    "from langchain_text_splitters import CharacterTextSplitter\n",
    "from langchain_community.document_loaders import TextLoader"
   ]
  },
  {
   "cell_type": "code",
   "execution_count": 2,
   "id": "aeff3a2d-b0cc-429f-a34c-4381d71f1a5f",
   "metadata": {
    "tags": []
   },
   "outputs": [],
   "source": [
    "import os\n",
    "from dotenv import load_dotenv, find_dotenv\n",
    "_ = load_dotenv(find_dotenv())\n",
    "\n",
    "OPENAI_API_KEY  = os.getenv('OPENAI_API_KEY')"
   ]
  },
  {
   "cell_type": "code",
   "execution_count": null,
   "id": "f16d010b",
   "metadata": {},
   "outputs": [],
   "source": [
    "# If you're using colab, run this\n",
    "#os.environ['OPENAI_API_KEY'] = \"YOUR_OPENAI_API_KEY\""
   ]
  },
  {
   "cell_type": "code",
   "execution_count": 28,
   "id": "14331eec-fd46-42e0-b6e7-adaf21824ef7",
   "metadata": {
    "tags": []
   },
   "outputs": [],
   "source": [
    "llm = OpenAI(temperature=0)"
   ]
  },
  {
   "cell_type": "code",
   "execution_count": 29,
   "id": "0b7b772b",
   "metadata": {
    "tags": []
   },
   "outputs": [],
   "source": [
    "from pathlib import Path\n",
    "\n",
    "relevant_parts = []\n",
    "for p in Path(\".\").absolute().parts:\n",
    "    relevant_parts.append(p)\n",
    "    if relevant_parts[-3:] == [\"langchain\", \"docs\", \"modules\"]:\n",
    "        break\n",
    "doc_path = str(Path(*relevant_parts) / \"state_of_the_union.txt\")"
   ]
  },
  {
   "cell_type": "code",
   "execution_count": 30,
   "id": "f2675861",
   "metadata": {
    "tags": []
   },
   "outputs": [],
   "source": [
    "loader = TextLoader(doc_path)\n",
    "documents = loader.load()\n",
    "text_splitter = CharacterTextSplitter(chunk_size=1000, chunk_overlap=0)\n",
    "texts = text_splitter.split_documents(documents)\n",
    "\n",
    "embeddings = OpenAIEmbeddings()\n",
    "docsearch = Chroma.from_documents(texts, embeddings, collection_name=\"state-of-union\")"
   ]
  },
  {
   "cell_type": "code",
   "execution_count": 65,
   "id": "1ace608b",
   "metadata": {},
   "outputs": [
    {
     "name": "stdout",
     "output_type": "stream",
     "text": [
      "Collecting unstructured\n",
      "  Downloading unstructured-0.18.5-py3-none-any.whl.metadata (24 kB)\n",
      "Collecting chardet (from unstructured)\n",
      "  Downloading chardet-5.2.0-py3-none-any.whl.metadata (3.4 kB)\n",
      "Collecting filetype (from unstructured)\n",
      "  Downloading filetype-1.2.0-py2.py3-none-any.whl.metadata (6.5 kB)\n",
      "Collecting python-magic (from unstructured)\n",
      "  Downloading python_magic-0.4.27-py2.py3-none-any.whl.metadata (5.8 kB)\n",
      "Collecting lxml (from unstructured)\n",
      "  Downloading lxml-6.0.0-cp311-cp311-win_amd64.whl.metadata (6.8 kB)\n",
      "Collecting nltk (from unstructured)\n",
      "  Downloading nltk-3.9.1-py3-none-any.whl.metadata (2.9 kB)\n",
      "Requirement already satisfied: requests in c:\\users\\happy\\anaconda3\\envs\\sub_ironhack\\lib\\site-packages (from unstructured) (2.32.4)\n",
      "Requirement already satisfied: beautifulsoup4 in c:\\users\\happy\\anaconda3\\envs\\sub_ironhack\\lib\\site-packages (from unstructured) (4.13.4)\n",
      "Collecting emoji (from unstructured)\n",
      "  Downloading emoji-2.14.1-py3-none-any.whl.metadata (5.7 kB)\n",
      "Requirement already satisfied: dataclasses-json in c:\\users\\happy\\anaconda3\\envs\\sub_ironhack\\lib\\site-packages (from unstructured) (0.6.7)\n",
      "Collecting python-iso639 (from unstructured)\n",
      "  Downloading python_iso639-2025.2.18-py3-none-any.whl.metadata (14 kB)\n",
      "Collecting langdetect (from unstructured)\n",
      "  Downloading langdetect-1.0.9.tar.gz (981 kB)\n",
      "     ---------------------------------------- 0.0/981.5 kB ? eta -:--:--\n",
      "     ------------------------------------- 981.5/981.5 kB 15.3 MB/s eta 0:00:00\n",
      "  Preparing metadata (setup.py): started\n",
      "  Preparing metadata (setup.py): finished with status 'done'\n",
      "Requirement already satisfied: numpy in c:\\users\\happy\\anaconda3\\envs\\sub_ironhack\\lib\\site-packages (from unstructured) (1.26.4)\n",
      "Collecting rapidfuzz (from unstructured)\n",
      "  Downloading rapidfuzz-3.13.0-cp311-cp311-win_amd64.whl.metadata (12 kB)\n",
      "Requirement already satisfied: backoff in c:\\users\\happy\\anaconda3\\envs\\sub_ironhack\\lib\\site-packages (from unstructured) (2.2.1)\n",
      "Requirement already satisfied: typing-extensions in c:\\users\\happy\\anaconda3\\envs\\sub_ironhack\\lib\\site-packages (from unstructured) (4.14.1)\n",
      "Collecting unstructured-client (from unstructured)\n",
      "  Downloading unstructured_client-0.38.1-py3-none-any.whl.metadata (21 kB)\n",
      "Requirement already satisfied: wrapt in c:\\users\\happy\\anaconda3\\envs\\sub_ironhack\\lib\\site-packages (from unstructured) (1.17.2)\n",
      "Requirement already satisfied: tqdm in c:\\users\\happy\\anaconda3\\envs\\sub_ironhack\\lib\\site-packages (from unstructured) (4.67.1)\n",
      "Requirement already satisfied: psutil in c:\\users\\happy\\anaconda3\\envs\\sub_ironhack\\lib\\site-packages (from unstructured) (7.0.0)\n",
      "Collecting python-oxmsg (from unstructured)\n",
      "  Downloading python_oxmsg-0.0.2-py3-none-any.whl.metadata (5.0 kB)\n",
      "Collecting html5lib (from unstructured)\n",
      "  Downloading html5lib-1.1-py2.py3-none-any.whl.metadata (16 kB)\n",
      "Requirement already satisfied: soupsieve>1.2 in c:\\users\\happy\\anaconda3\\envs\\sub_ironhack\\lib\\site-packages (from beautifulsoup4->unstructured) (2.7)\n",
      "Requirement already satisfied: marshmallow<4.0.0,>=3.18.0 in c:\\users\\happy\\anaconda3\\envs\\sub_ironhack\\lib\\site-packages (from dataclasses-json->unstructured) (3.26.1)\n",
      "Requirement already satisfied: typing-inspect<1,>=0.4.0 in c:\\users\\happy\\anaconda3\\envs\\sub_ironhack\\lib\\site-packages (from dataclasses-json->unstructured) (0.9.0)\n",
      "Requirement already satisfied: packaging>=17.0 in c:\\users\\happy\\anaconda3\\envs\\sub_ironhack\\lib\\site-packages (from marshmallow<4.0.0,>=3.18.0->dataclasses-json->unstructured) (24.2)\n",
      "Requirement already satisfied: mypy-extensions>=0.3.0 in c:\\users\\happy\\anaconda3\\envs\\sub_ironhack\\lib\\site-packages (from typing-inspect<1,>=0.4.0->dataclasses-json->unstructured) (1.1.0)\n",
      "Requirement already satisfied: six>=1.9 in c:\\users\\happy\\anaconda3\\envs\\sub_ironhack\\lib\\site-packages (from html5lib->unstructured) (1.17.0)\n",
      "Collecting webencodings (from html5lib->unstructured)\n",
      "  Using cached webencodings-0.5.1-py2.py3-none-any.whl.metadata (2.1 kB)\n",
      "Requirement already satisfied: click in c:\\users\\happy\\anaconda3\\envs\\sub_ironhack\\lib\\site-packages (from nltk->unstructured) (8.2.1)\n",
      "Requirement already satisfied: joblib in c:\\users\\happy\\anaconda3\\envs\\sub_ironhack\\lib\\site-packages (from nltk->unstructured) (1.5.1)\n",
      "Requirement already satisfied: regex>=2021.8.3 in c:\\users\\happy\\anaconda3\\envs\\sub_ironhack\\lib\\site-packages (from nltk->unstructured) (2024.11.6)\n",
      "Requirement already satisfied: colorama in c:\\users\\happy\\anaconda3\\envs\\sub_ironhack\\lib\\site-packages (from click->nltk->unstructured) (0.4.6)\n",
      "Collecting olefile (from python-oxmsg->unstructured)\n",
      "  Downloading olefile-0.47-py2.py3-none-any.whl.metadata (9.7 kB)\n",
      "Requirement already satisfied: charset_normalizer<4,>=2 in c:\\users\\happy\\anaconda3\\envs\\sub_ironhack\\lib\\site-packages (from requests->unstructured) (3.4.2)\n",
      "Requirement already satisfied: idna<4,>=2.5 in c:\\users\\happy\\anaconda3\\envs\\sub_ironhack\\lib\\site-packages (from requests->unstructured) (3.10)\n",
      "Requirement already satisfied: urllib3<3,>=1.21.1 in c:\\users\\happy\\anaconda3\\envs\\sub_ironhack\\lib\\site-packages (from requests->unstructured) (2.5.0)\n",
      "Requirement already satisfied: certifi>=2017.4.17 in c:\\users\\happy\\anaconda3\\envs\\sub_ironhack\\lib\\site-packages (from requests->unstructured) (2025.7.9)\n",
      "Collecting aiofiles>=24.1.0 (from unstructured-client->unstructured)\n",
      "  Using cached aiofiles-24.1.0-py3-none-any.whl.metadata (10 kB)\n",
      "Collecting cryptography>=3.1 (from unstructured-client->unstructured)\n",
      "  Downloading cryptography-45.0.5-cp311-abi3-win_amd64.whl.metadata (5.7 kB)\n",
      "Requirement already satisfied: httpx>=0.27.0 in c:\\users\\happy\\anaconda3\\envs\\sub_ironhack\\lib\\site-packages (from unstructured-client->unstructured) (0.28.1)\n",
      "Requirement already satisfied: nest-asyncio>=1.6.0 in c:\\users\\happy\\anaconda3\\envs\\sub_ironhack\\lib\\site-packages (from unstructured-client->unstructured) (1.6.0)\n",
      "Requirement already satisfied: pydantic>=2.11.2 in c:\\users\\happy\\anaconda3\\envs\\sub_ironhack\\lib\\site-packages (from unstructured-client->unstructured) (2.11.7)\n",
      "Collecting pypdf>=4.0 (from unstructured-client->unstructured)\n",
      "  Downloading pypdf-5.7.0-py3-none-any.whl.metadata (7.2 kB)\n",
      "Requirement already satisfied: requests-toolbelt>=1.0.0 in c:\\users\\happy\\anaconda3\\envs\\sub_ironhack\\lib\\site-packages (from unstructured-client->unstructured) (1.0.0)\n",
      "Requirement already satisfied: cffi>=1.14 in c:\\users\\happy\\anaconda3\\envs\\sub_ironhack\\lib\\site-packages (from cryptography>=3.1->unstructured-client->unstructured) (1.17.1)\n",
      "Requirement already satisfied: pycparser in c:\\users\\happy\\anaconda3\\envs\\sub_ironhack\\lib\\site-packages (from cffi>=1.14->cryptography>=3.1->unstructured-client->unstructured) (2.22)\n",
      "Requirement already satisfied: anyio in c:\\users\\happy\\anaconda3\\envs\\sub_ironhack\\lib\\site-packages (from httpx>=0.27.0->unstructured-client->unstructured) (4.9.0)\n",
      "Requirement already satisfied: httpcore==1.* in c:\\users\\happy\\anaconda3\\envs\\sub_ironhack\\lib\\site-packages (from httpx>=0.27.0->unstructured-client->unstructured) (1.0.9)\n",
      "Requirement already satisfied: h11>=0.16 in c:\\users\\happy\\anaconda3\\envs\\sub_ironhack\\lib\\site-packages (from httpcore==1.*->httpx>=0.27.0->unstructured-client->unstructured) (0.16.0)\n",
      "Requirement already satisfied: annotated-types>=0.6.0 in c:\\users\\happy\\anaconda3\\envs\\sub_ironhack\\lib\\site-packages (from pydantic>=2.11.2->unstructured-client->unstructured) (0.7.0)\n",
      "Requirement already satisfied: pydantic-core==2.33.2 in c:\\users\\happy\\anaconda3\\envs\\sub_ironhack\\lib\\site-packages (from pydantic>=2.11.2->unstructured-client->unstructured) (2.33.2)\n",
      "Requirement already satisfied: typing-inspection>=0.4.0 in c:\\users\\happy\\anaconda3\\envs\\sub_ironhack\\lib\\site-packages (from pydantic>=2.11.2->unstructured-client->unstructured) (0.4.1)\n",
      "Requirement already satisfied: sniffio>=1.1 in c:\\users\\happy\\anaconda3\\envs\\sub_ironhack\\lib\\site-packages (from anyio->httpx>=0.27.0->unstructured-client->unstructured) (1.3.1)\n",
      "Downloading unstructured-0.18.5-py3-none-any.whl (1.8 MB)\n",
      "   ---------------------------------------- 0.0/1.8 MB ? eta -:--:--\n",
      "   ---------------------------------------- 1.8/1.8 MB 19.4 MB/s eta 0:00:00\n",
      "Downloading chardet-5.2.0-py3-none-any.whl (199 kB)\n",
      "Downloading emoji-2.14.1-py3-none-any.whl (590 kB)\n",
      "   ---------------------------------------- 0.0/590.6 kB ? eta -:--:--\n",
      "   --------------------------------------- 590.6/590.6 kB 21.9 MB/s eta 0:00:00\n",
      "Downloading filetype-1.2.0-py2.py3-none-any.whl (19 kB)\n",
      "Downloading html5lib-1.1-py2.py3-none-any.whl (112 kB)\n",
      "Downloading lxml-6.0.0-cp311-cp311-win_amd64.whl (4.0 MB)\n",
      "   ---------------------------------------- 0.0/4.0 MB ? eta -:--:--\n",
      "   ---------------------------------------- 4.0/4.0 MB 24.0 MB/s eta 0:00:00\n",
      "Downloading nltk-3.9.1-py3-none-any.whl (1.5 MB)\n",
      "   ---------------------------------------- 0.0/1.5 MB ? eta -:--:--\n",
      "   ---------------------------------------- 1.5/1.5 MB 26.5 MB/s eta 0:00:00\n",
      "Downloading python_iso639-2025.2.18-py3-none-any.whl (167 kB)\n",
      "Downloading python_magic-0.4.27-py2.py3-none-any.whl (13 kB)\n",
      "Downloading python_oxmsg-0.0.2-py3-none-any.whl (31 kB)\n",
      "Downloading olefile-0.47-py2.py3-none-any.whl (114 kB)\n",
      "Downloading rapidfuzz-3.13.0-cp311-cp311-win_amd64.whl (1.6 MB)\n",
      "   ---------------------------------------- 0.0/1.6 MB ? eta -:--:--\n",
      "   ---------------------------------------- 1.6/1.6 MB 22.1 MB/s eta 0:00:00\n",
      "Downloading unstructured_client-0.38.1-py3-none-any.whl (212 kB)\n",
      "Using cached aiofiles-24.1.0-py3-none-any.whl (15 kB)\n",
      "Downloading cryptography-45.0.5-cp311-abi3-win_amd64.whl (3.4 MB)\n",
      "   ---------------------------------------- 0.0/3.4 MB ? eta -:--:--\n",
      "   ---------------------------------------- 3.4/3.4 MB 22.3 MB/s eta 0:00:00\n",
      "Downloading pypdf-5.7.0-py3-none-any.whl (305 kB)\n",
      "Using cached webencodings-0.5.1-py2.py3-none-any.whl (11 kB)\n",
      "Building wheels for collected packages: langdetect\n",
      "  Building wheel for langdetect (setup.py): started\n",
      "  Building wheel for langdetect (setup.py): finished with status 'done'\n",
      "  Created wheel for langdetect: filename=langdetect-1.0.9-py3-none-any.whl size=993363 sha256=e022068f8d1596f67ef3c1dcd42c245bfcf1422d104714b7bc38addab370972d\n",
      "  Stored in directory: c:\\users\\happy\\appdata\\local\\pip\\cache\\wheels\\0a\\f2\\b2\\e5ca405801e05eb7c8ed5b3b4bcf1fcabcd6272c167640072e\n",
      "Successfully built langdetect\n",
      "Installing collected packages: webencodings, filetype, rapidfuzz, python-magic, python-iso639, pypdf, olefile, lxml, langdetect, html5lib, emoji, chardet, aiofiles, python-oxmsg, nltk, cryptography, unstructured-client, unstructured\n",
      "\n",
      "   ---- -----------------------------------  2/18 [rapidfuzz]\n",
      "   ----------- ----------------------------  5/18 [pypdf]\n",
      "   ------------- --------------------------  6/18 [olefile]\n",
      "   --------------- ------------------------  7/18 [lxml]\n",
      "   -------------------- -------------------  9/18 [html5lib]\n",
      "   ------------------------ --------------- 11/18 [chardet]\n",
      "   ------------------------------- -------- 14/18 [nltk]\n",
      "   ------------------------------- -------- 14/18 [nltk]\n",
      "   ------------------------------- -------- 14/18 [nltk]\n",
      "   ------------------------------- -------- 14/18 [nltk]\n",
      "   ------------------------------- -------- 14/18 [nltk]\n",
      "   ------------------------------- -------- 14/18 [nltk]\n",
      "   ------------------------------- -------- 14/18 [nltk]\n",
      "   --------------------------------- ------ 15/18 [cryptography]\n",
      "   ----------------------------------- ---- 16/18 [unstructured-client]\n",
      "   ----------------------------------- ---- 16/18 [unstructured-client]\n",
      "   ------------------------------------- -- 17/18 [unstructured]\n",
      "   ------------------------------------- -- 17/18 [unstructured]\n",
      "   ------------------------------------- -- 17/18 [unstructured]\n",
      "   ------------------------------------- -- 17/18 [unstructured]\n",
      "   ---------------------------------------- 18/18 [unstructured]\n",
      "\n",
      "Successfully installed aiofiles-24.1.0 chardet-5.2.0 cryptography-45.0.5 emoji-2.14.1 filetype-1.2.0 html5lib-1.1 langdetect-1.0.9 lxml-6.0.0 nltk-3.9.1 olefile-0.47 pypdf-5.7.0 python-iso639-2025.2.18 python-magic-0.4.27 python-oxmsg-0.0.2 rapidfuzz-3.13.0 unstructured-0.18.5 unstructured-client-0.38.1 webencodings-0.5.1\n"
     ]
    },
    {
     "name": "stderr",
     "output_type": "stream",
     "text": [
      "  DEPRECATION: Building 'langdetect' using the legacy setup.py bdist_wheel mechanism, which will be removed in a future version. pip 25.3 will enforce this behaviour change. A possible replacement is to use the standardized build interface by setting the `--use-pep517` option, (possibly combined with `--no-build-isolation`), or adding a `pyproject.toml` file to the source tree of 'langdetect'. Discussion can be found at https://github.com/pypa/pip/issues/6334\n"
     ]
    }
   ],
   "source": [
    "!pip install unstructured"
   ]
  },
  {
   "cell_type": "code",
   "execution_count": 31,
   "id": "bc5403d4",
   "metadata": {
    "tags": []
   },
   "outputs": [],
   "source": [
    "state_of_union = RetrievalQA.from_chain_type(\n",
    "    llm=llm, chain_type=\"stuff\", retriever=docsearch.as_retriever()\n",
    ")"
   ]
  },
  {
   "cell_type": "code",
   "execution_count": 33,
   "id": "1431cded",
   "metadata": {
    "tags": []
   },
   "outputs": [],
   "source": [
    "from langchain_community.document_loaders import WebBaseLoader"
   ]
  },
  {
   "cell_type": "code",
   "execution_count": 34,
   "id": "915d3ff3",
   "metadata": {
    "tags": []
   },
   "outputs": [],
   "source": [
    "loader = WebBaseLoader(\"https://beta.ruff.rs/docs/faq/\")"
   ]
  },
  {
   "cell_type": "code",
   "execution_count": 35,
   "id": "401312b5",
   "metadata": {},
   "outputs": [
    {
     "data": {
      "text/plain": [
       "<langchain_community.document_loaders.web_base.WebBaseLoader at 0x2361bb7dc90>"
      ]
     },
     "execution_count": 35,
     "metadata": {},
     "output_type": "execute_result"
    }
   ],
   "source": [
    "loader"
   ]
  },
  {
   "cell_type": "code",
   "execution_count": 39,
   "id": "0ae33d10",
   "metadata": {},
   "outputs": [],
   "source": [
    "raw_docs = loader.load()    "
   ]
  },
  {
   "cell_type": "code",
   "execution_count": 40,
   "id": "09357144",
   "metadata": {},
   "outputs": [
    {
     "data": {
      "text/plain": [
       "[Document(metadata={'source': 'https://beta.ruff.rs/docs/faq/', 'title': 'FAQ | Ruff', 'description': 'An extremely fast Python linter and code formatter, written in Rust.', 'language': 'en'}, page_content='\\n\\n\\n\\n\\n\\n\\n\\n\\n\\n\\n\\n\\nFAQ | Ruff\\n\\n\\n\\n\\n\\n\\n\\n\\n\\n\\n\\n\\n\\n\\n\\n\\n\\n\\n\\n\\n\\n\\n\\n\\n\\n          Skip to content\\n        \\n\\n\\n\\n\\n\\n\\n\\n\\n\\n\\n\\n\\n\\n\\n\\n            Ruff\\n          \\n\\n\\n\\n            \\n              FAQ\\n            \\n          \\n\\n\\n\\n\\n\\n\\n\\n\\n\\n\\n\\n\\n\\n\\n\\n\\n\\n\\n\\n\\n\\n\\n\\n\\n\\n\\n\\n\\n\\n\\n\\n\\n\\n\\n\\n\\n\\n\\n\\n\\n            Initializing search\\n          \\n\\n\\n\\n\\n\\n\\n\\n\\n\\n\\n\\n\\n    ruff\\n  \\n\\n\\n\\n\\n\\n\\n\\n\\n\\n\\n\\n\\n\\n\\n\\n    Ruff\\n  \\n\\n\\n\\n\\n\\n\\n    ruff\\n  \\n\\n\\n\\n\\n\\n\\n    \\n  \\n    Overview\\n  \\n\\n    \\n  \\n\\n\\n\\n\\n\\n    \\n  \\n    Tutorial\\n  \\n\\n    \\n  \\n\\n\\n\\n\\n\\n    \\n  \\n    Installing Ruff\\n  \\n\\n    \\n  \\n\\n\\n\\n\\n\\n    \\n  \\n    The Ruff Linter\\n  \\n\\n    \\n  \\n\\n\\n\\n\\n\\n    \\n  \\n    The Ruff Formatter\\n  \\n\\n    \\n  \\n\\n\\n\\n\\n\\n\\n    \\n  \\n    Editors\\n  \\n\\n    \\n  \\n\\n\\n\\n\\n\\n            \\n  \\n    Editors\\n  \\n\\n          \\n\\n\\n\\n\\n    \\n  \\n    Editor Integration\\n  \\n\\n    \\n  \\n\\n\\n\\n\\n\\n    \\n  \\n    Setup\\n  \\n\\n    \\n  \\n\\n\\n\\n\\n\\n    \\n  \\n    Features\\n  \\n\\n    \\n  \\n\\n\\n\\n\\n\\n    \\n  \\n    Settings\\n  \\n\\n    \\n  \\n\\n\\n\\n\\n\\n    \\n  \\n    Migrating from ruff-lsp\\n  \\n\\n    \\n  \\n\\n\\n\\n\\n\\n\\n\\n\\n    \\n  \\n    Configuring Ruff\\n  \\n\\n    \\n  \\n\\n\\n\\n\\n\\n    \\n  \\n    Preview\\n  \\n\\n    \\n  \\n\\n\\n\\n\\n\\n    \\n  \\n    Rules\\n  \\n\\n    \\n  \\n\\n\\n\\n\\n\\n    \\n  \\n    Settings\\n  \\n\\n    \\n  \\n\\n\\n\\n\\n\\n    \\n  \\n    Versioning\\n  \\n\\n    \\n  \\n\\n\\n\\n\\n\\n    \\n  \\n    Integrations\\n  \\n\\n    \\n  \\n\\n\\n\\n\\n\\n\\n    \\n  \\n    FAQ\\n  \\n\\n    \\n  \\n\\n\\n\\n\\n    \\n  \\n    FAQ\\n  \\n\\n    \\n  \\n\\n\\n\\n\\n      Table of contents\\n    \\n\\n\\n\\n\\n      \\n        Is the Ruff linter compatible with Black?\\n      \\n    \\n\\n\\n\\n\\n\\n      \\n        How does Ruff\\'s formatter compare to Black?\\n      \\n    \\n\\n\\n\\n\\n\\n      \\n        How does Ruff\\'s linter compare to Flake8?\\n      \\n    \\n\\n\\n\\n\\n\\n      \\n        How does Ruff\\'s linter compare to Pylint?\\n      \\n    \\n\\n\\n\\n\\n\\n      \\n        How does Ruff compare to Mypy, or Pyright, or Pyre?\\n      \\n    \\n\\n\\n\\n\\n\\n      \\n        Which tools does Ruff replace?\\n      \\n    \\n\\n\\n\\n\\n\\n      \\n        Do I have to use Ruff\\'s linter and formatter together?\\n      \\n    \\n\\n\\n\\n\\n\\n      \\n        What versions of Python does Ruff support?\\n      \\n    \\n\\n\\n\\n\\n\\n      \\n        Do I need to install Rust to use Ruff?\\n      \\n    \\n\\n\\n\\n\\n\\n      \\n        Can I write my own linter plugins for Ruff?\\n      \\n    \\n\\n\\n\\n\\n\\n      \\n        How does Ruff\\'s import sorting compare to isort?\\n      \\n    \\n\\n\\n\\n\\n\\n      \\n        How does Ruff determine which of my imports are first-party, third-party, etc.?\\n      \\n    \\n\\n\\n\\n\\n\\n      \\n        Does Ruff support Jupyter Notebooks?\\n      \\n    \\n\\n\\n\\n\\n\\n      \\n        Does Ruff support NumPy- or Google-style docstrings?\\n      \\n    \\n\\n\\n\\n\\n\\n      \\n        What is \"preview\"?\\n      \\n    \\n\\n\\n\\n\\n\\n      \\n        How can I tell what settings Ruff is using to check my code?\\n      \\n    \\n\\n\\n\\n\\n\\n      \\n        I want to use Ruff, but I don\\'t want to use pyproject.toml. What are my options?\\n      \\n    \\n\\n\\n\\n\\n\\n      \\n        How can I change Ruff\\'s default configuration?\\n      \\n    \\n\\n\\n\\n\\n\\n      \\n        Ruff tried to fix something — but it broke my code. What\\'s going on?\\n      \\n    \\n\\n\\n\\n\\n\\n      \\n        How can I disable/force Ruff\\'s color output?\\n      \\n    \\n\\n\\n\\n\\n\\n      \\n        Ruff behaves unexpectedly when using source.* code actions in Notebooks. What\\'s going on?\\n      \\n    \\n\\n\\n\\n\\n\\n\\n\\n\\n    \\n  \\n    Contributing\\n  \\n\\n    \\n  \\n\\n\\n\\n\\n\\n\\n\\n\\n\\nFAQ\\nIs the Ruff linter compatible with Black?\\nYes. The Ruff linter is compatible with Black out-of-the-box, as\\nlong as the line-length setting is consistent between the two.\\nRuff is designed to be used alongside a formatter (like Ruff\\'s own formatter, or Black) and, as\\nsuch, will defer implementing stylistic rules that are obviated by automated formatting.\\nNote that Ruff\\'s linter and Black treat line-length enforcement a little differently. Black, like\\nRuff\\'s formatter, makes a best-effort attempt to adhere to the\\nline-length, but avoids automatic line-wrapping in some cases (e.g.,\\nwithin comments). Ruff, on the other hand, will flag line-too-long\\n(E501) for any line that exceeds the line-length setting. As such, if\\nline-too-long (E501) is enabled, Ruff can still trigger line-length\\nviolations even when Black or ruff format is enabled.\\nHow does Ruff\\'s formatter compare to Black?\\nThe Ruff formatter is designed to be a drop-in replacement for Black.\\nSpecifically, the formatter is intended to emit near-identical output when run over Black-formatted\\ncode. When run over extensive Black-formatted projects like Django and Zulip, > 99.9% of lines\\nare formatted identically. When migrating an existing project from Black to Ruff, you should expect\\nto see a few differences on the margins, but the vast majority of your code should be unchanged.\\nWhen run over non-Black-formatted code, the formatter makes some different decisions than Black,\\nand so more deviations should be expected, especially around the treatment of end-of-line comments.\\nSee Style Guide for more.\\nHow does Ruff\\'s linter compare to Flake8?\\nRuff can be used as a drop-in replacement for Flake8 when used (1) without or with a small number of\\nplugins, (2) alongside Black, and (3) on Python 3 code.\\nUnder those conditions, Ruff implements every rule in Flake8. In practice, that means Ruff\\nimplements all of the F rules (which originate from Pyflakes), along with a subset of the E and\\nW rules (which originate from pycodestyle).\\nRuff also re-implements some of the most popular Flake8 plugins and related code quality tools\\nnatively, including:\\n\\nautoflake\\neradicate\\nflake8-2020\\nflake8-annotations\\nflake8-async\\nflake8-bandit (#1646)\\nflake8-blind-except\\nflake8-boolean-trap\\nflake8-bugbear\\nflake8-builtins\\nflake8-commas\\nflake8-comprehensions\\nflake8-copyright\\nflake8-datetimez\\nflake8-debugger\\nflake8-django\\nflake8-docstrings\\nflake8-eradicate\\nflake8-errmsg\\nflake8-executable\\nflake8-gettext\\nflake8-implicit-str-concat\\nflake8-import-conventions\\nflake8-logging\\nflake8-logging-format\\nflake8-no-pep420\\nflake8-pie\\nflake8-print\\nflake8-pyi\\nflake8-pytest-style\\nflake8-quotes\\nflake8-raise\\nflake8-return\\nflake8-self\\nflake8-simplify\\nflake8-slots\\nflake8-super\\nflake8-tidy-imports\\nflake8-todos\\nflake8-type-checking\\nflake8-use-pathlib\\nflynt (#2102)\\nisort\\nmccabe\\npandas-vet\\npep8-naming\\nperflint (#4789)\\npydocstyle\\npygrep-hooks\\npyupgrade\\ntryceratops\\nyesqa\\n\\nNote that, in some cases, Ruff uses different rule codes and prefixes than would be found in the\\noriginating Flake8 plugins. For example, Ruff uses TID252 to represent the I252 rule from\\nflake8-tidy-imports. This helps minimize conflicts across plugins and allows any individual plugin\\nto be toggled on or off with a single (e.g.) --select TID, as opposed to --select I2 (to avoid\\nconflicts with the isort rules, like I001).\\nBeyond the rule set, Ruff\\'s primary limitation vis-à-vis Flake8 is that it does not support custom\\nlint rules. (Instead, popular Flake8 plugins are re-implemented in Rust as part of Ruff itself.)\\nOne minor difference is that Ruff doesn\\'t include all the \\'opinionated\\' rules from flake8-bugbear.\\nHow does Ruff\\'s linter compare to Pylint?\\nAt time of writing, Pylint implements ~409 total rules, while Ruff implements over 800, of which at\\nleast 209 overlap with the Pylint rule set (see: #970).\\nPylint implements many rules that Ruff does not, and vice versa. For example, Pylint does more type\\ninference than Ruff (e.g., Pylint can validate the number of arguments in a function call). As such,\\nRuff is not a \"pure\" drop-in replacement for Pylint (and vice versa), as they enforce different sets\\nof rules.\\nDespite these differences, many users have successfully switched from Pylint to Ruff, especially\\nthose using Ruff alongside a type checker,\\nwhich can cover some of the functionality that Pylint provides.\\nLike Flake8, Pylint supports plugins (called \"checkers\"), while Ruff implements all rules natively\\nand does not support custom or third-party rules. Unlike Pylint, Ruff is capable of automatically\\nfixing its own lint violations.\\nIn some cases, Ruff\\'s rules may yield slightly different results than their Pylint counterparts. For\\nexample, Ruff\\'s too-many-branches does not count try blocks as\\ntheir own branches, unlike Pylint\\'s R0912. Ruff\\'s PL rule group also includes a small number of\\nrules from Pylint extensions (like magic-value-comparison),\\nwhich need to be explicitly activated when using Pylint. By enabling Ruff\\'s PL group, you may\\nsee violations for rules that weren\\'t previously enabled through your Pylint configuration.\\nPylint parity is being tracked in #970.\\nHow does Ruff compare to Mypy, or Pyright, or Pyre?\\nRuff is a linter, not a type checker. It can detect some of the same problems that a type checker\\ncan, but a type checker will catch certain errors that Ruff would miss. The opposite is also true:\\nRuff will catch certain errors that a type checker would typically ignore.\\nFor example, unlike a type checker, Ruff will notify you if an import is unused, by looking for\\nreferences to that import in the source code; on the other hand, a type checker could flag that you\\npassed an integer argument to a function that expects a string, which Ruff would miss. The\\ntools are complementary.\\nIt\\'s recommended that you use Ruff in conjunction with a type checker, like Mypy, Pyright, or Pyre,\\nwith Ruff providing faster feedback on lint violations and the type checker providing more detailed\\nfeedback on type errors.\\nWhich tools does Ruff replace?\\nToday, Ruff can be used to replace Flake8 when used with any of the following plugins:\\n\\nflake8-2020\\nflake8-annotations\\nflake8-async\\nflake8-bandit (#1646)\\nflake8-blind-except\\nflake8-boolean-trap\\nflake8-bugbear\\nflake8-builtins\\nflake8-commas\\nflake8-comprehensions\\nflake8-copyright\\nflake8-datetimez\\nflake8-debugger\\nflake8-django\\nflake8-docstrings\\nflake8-eradicate\\nflake8-errmsg\\nflake8-executable\\nflake8-gettext\\nflake8-implicit-str-concat\\nflake8-import-conventions\\nflake8-logging\\nflake8-logging-format\\nflake8-no-pep420\\nflake8-pie\\nflake8-print\\nflake8-pytest-style\\nflake8-quotes\\nflake8-raise\\nflake8-return\\nflake8-self\\nflake8-simplify\\nflake8-slots\\nflake8-super\\nflake8-tidy-imports\\nflake8-todos\\nflake8-type-checking\\nflake8-use-pathlib\\nflynt (#2102)\\nmccabe\\npandas-vet\\npep8-naming\\nperflint (#4789)\\npydocstyle\\ntryceratops\\n\\nRuff can also replace Black, isort,\\nyesqa, eradicate, and\\nmost of the rules implemented in pyupgrade.\\nIf you\\'re looking to use Ruff, but rely on an unsupported Flake8 plugin, feel free to file an\\nissue.\\nDo I have to use Ruff\\'s linter and formatter together?\\nNope! Ruff\\'s linter and formatter can be used independently of one another -- you can use\\nRuff as a formatter, but not a linter, or vice versa.\\nWhat versions of Python does Ruff support?\\nRuff can lint code for any Python version from 3.7 onwards, including Python 3.13.\\nRuff does not support Python 2. Ruff may run on pre-Python 3.7 code, although such versions\\nare not officially supported (e.g., Ruff does not respect type comments).\\nRuff is installable under any Python version from 3.7 onwards.\\nDo I need to install Rust to use Ruff?\\nNope! Ruff is available as ruff on PyPI. We recommend installing Ruff with uv,\\nthough it\\'s also installable with pip, pipx, and a variety of other package managers:\\n$ # Install Ruff globally.\\n$ uv tool install ruff@latest\\n\\n$ # Or add Ruff to your project.\\n$ uv add --dev ruff\\n\\n$ # With pip.\\n$ pip install ruff\\n\\n$ # With pipx.\\n$ pipx install ruff\\n\\nStarting with version 0.5.0, Ruff can also be installed with our standalone installers:\\n$ # On macOS and Linux.\\n$ curl -LsSf https://astral.sh/ruff/install.sh | sh\\n\\n$ # On Windows.\\n$ powershell -c \"irm https://astral.sh/ruff/install.ps1 | iex\"\\n\\n$ # For a specific version.\\n$ curl -LsSf https://astral.sh/ruff/0.5.0/install.sh | sh\\n$ powershell -c \"irm https://astral.sh/ruff/0.5.0/install.ps1 | iex\"\\n\\nRuff ships with wheels for all major platforms, which enables uv, pip, and other tools to install Ruff without\\nrelying on a Rust toolchain at all.\\nCan I write my own linter plugins for Ruff?\\nRuff does not yet support third-party plugins, though a plugin system is within-scope for the\\nproject. See #283 for more.\\nHow does Ruff\\'s import sorting compare to isort?\\nRuff\\'s import sorting is intended to be near-equivalent to isort\\'s when using isort\\'s\\nprofile = \"black\".\\nThere are a few known differences in how Ruff and isort treat aliased imports, and in how Ruff and\\nisort treat inline comments in some cases (see: #1381,\\n#2104).\\nFor example, Ruff tends to group non-aliased imports from the same module:\\nfrom numpy import cos, int8, int16, int32, int64, tan, uint8, uint16, uint32, uint64\\nfrom numpy import sin as np_sin\\n\\nWhereas isort splits them into separate import statements at each aliased boundary:\\nfrom numpy import cos, int8, int16, int32, int64\\nfrom numpy import sin as np_sin\\nfrom numpy import tan, uint8, uint16, uint32, uint64\\n\\nRuff also correctly classifies some modules as standard-library that aren\\'t recognized\\nby isort, like _string and idlelib.\\nLike isort, Ruff\\'s import sorting is compatible with Black.\\nHow does Ruff determine which of my imports are first-party, third-party, etc.?\\nRuff accepts a src option that in your pyproject.toml, ruff.toml, or .ruff.toml file,\\nspecifies the directories that Ruff should consider when determining whether an import is\\nfirst-party.\\nFor example, if you have a project with the following structure:\\nmy_project\\n├── pyproject.toml\\n└── src\\n    └── foo\\n        ├── __init__.py\\n        └── bar\\n            ├── __init__.py\\n            └── baz.py\\n\\nWhen Ruff sees an import like import foo, it will then iterate over the src directories,\\nlooking for a corresponding Python module (in reality, a directory named foo or a file named\\nfoo.py). For module paths with multiple components like import foo.bar,\\nthe default behavior is to search only for a directory named foo or a file\\nnamed foo.py. However, if preview is enabled, Ruff will require that the full relative path foo/bar exists as a directory, or that foo/bar.py or foo/bar.pyi exist as files. Finally, imports of the form from foo import bar, Ruff will only use foo when determining whether a module is first-party or third-party. \\nIf there is a directory\\nwhose name matches a third-party package, but does not contain Python code,\\nit could happen that the above algorithm incorrectly infers an import to be first-party.\\nTo prevent this, you can modify the known-third-party setting. For example, if you import\\nthe package wandb but also have a subdirectory of your src with\\nthe same name, you can add the following:\\npyproject.tomlruff.toml\\n\\n\\n[tool.ruff.lint.isort]\\nknown-third-party = [\"wandb\"]\\n\\n\\n\\n[lint.isort]\\nknown-third-party = [\"wandb\"]\\n\\n\\n\\n\\nIf the src field is omitted, Ruff will default to using the \"project root\", along with a \"src\"\\nsubdirectory, as the first-party sources, to support both flat and nested project layouts.\\nThe \"project root\" is typically the directory containing your pyproject.toml, ruff.toml, or\\n.ruff.toml file, unless a configuration file is provided on the command-line via the --config\\noption, in which case, the current working directory is used as the project root.\\nIn this case, Ruff would check the \"src\" directory by default, but we can configure it as an\\nexplicit, exclusive first-party source like so:\\npyproject.tomlruff.toml\\n\\n\\n[tool.ruff]\\n# Ruff supports a top-level `src` option in lieu of isort\\'s `src_paths` setting.\\n# All paths are relative to the project root, which is the directory containing the pyproject.toml.\\nsrc = [\"src\"]\\n\\n\\n\\n# Ruff supports a top-level `src` option in lieu of isort\\'s `src_paths` setting.\\n# All paths are relative to the project root, which is the directory containing the pyproject.toml.\\nsrc = [\"src\"]\\n\\n\\n\\n\\nIf your pyproject.toml, ruff.toml, or .ruff.toml extends another configuration file, Ruff\\nwill still use the directory containing your pyproject.toml, ruff.toml, or .ruff.toml file as\\nthe project root (as opposed to the directory of the file pointed to via the extends option).\\nFor example, if you add a configuration file to the tests directory in the above example, you\\'ll\\nwant to explicitly set the src option in the extended configuration file:\\npyproject.tomlruff.toml\\n\\n\\n[tool.ruff]\\nextend = \"../pyproject.toml\"\\nsrc = [\"../src\"]\\n\\n\\n\\nextend = \"../pyproject.toml\"\\nsrc = [\"../src\"]\\n\\n\\n\\n\\nBeyond this src-based detection, Ruff will also attempt to determine the current Python package\\nfor a given Python file, and mark imports from within the same package as first-party. For example,\\nabove, baz.py would be identified as part of the Python package beginning at\\n./my_project/src/foo, and so any imports in baz.py that begin with foo (like import foo.bar)\\nwould be considered first-party based on this same-package heuristic.\\nFor a detailed explanation of src resolution, see the contributing guide.\\nRuff can also be configured to treat certain modules as (e.g.) always first-party, regardless of\\ntheir location on the filesystem. For example, you can set known-first-party\\nlike so:\\npyproject.tomlruff.toml\\n\\n\\n[tool.ruff]\\nsrc = [\"src\", \"tests\"]\\n\\n[tool.ruff.lint]\\nselect = [\\n    # Pyflakes\\n    \"F\",\\n    # Pycodestyle\\n    \"E\",\\n    \"W\",\\n    # isort\\n    \"I001\"\\n]\\n\\n[tool.ruff.lint.isort]\\nknown-first-party = [\"my_module1\", \"my_module2\"]\\n\\n\\n\\nsrc = [\"src\", \"tests\"]\\n\\n[lint]\\nselect = [\\n    # Pyflakes\\n    \"F\",\\n    # Pycodestyle\\n    \"E\",\\n    \"W\",\\n    # isort\\n    \"I001\"\\n]\\n\\n[lint.isort]\\nknown-first-party = [\"my_module1\", \"my_module2\"]\\n\\n\\n\\n\\nRuff does not yet support all of isort\\'s configuration options, though it does support many of\\nthem. You can find the supported settings in the API reference.\\nDoes Ruff support Jupyter Notebooks?\\nRuff has built-in support for linting and formatting Jupyter Notebooks. Refer to the\\nJupyter Notebook section for more details.\\nRuff also integrates with nbQA, a tool for running linters and\\ncode formatters over Jupyter Notebooks.\\nAfter installing ruff and nbqa, you can run Ruff over a notebook like so:\\n$ nbqa ruff Untitled.ipynb\\nUntitled.ipynb:cell_1:2:5: F841 Local variable `x` is assigned to but never used\\nUntitled.ipynb:cell_2:1:1: E402 Module level import not at top of file\\nUntitled.ipynb:cell_2:1:8: F401 `os` imported but unused\\nFound 3 errors.\\n1 potentially fixable with the --fix option.\\n\\nDoes Ruff support NumPy- or Google-style docstrings?\\nYes! To enforce a docstring convention, add a convention\\nsetting following to your configuration file:\\npyproject.tomlruff.toml\\n\\n\\n[tool.ruff.lint.pydocstyle]\\nconvention = \"google\"  # Accepts: \"google\", \"numpy\", or \"pep257\".\\n\\n\\n\\n[lint.pydocstyle]\\nconvention = \"google\"  # Accepts: \"google\", \"numpy\", or \"pep257\".\\n\\n\\n\\n\\nFor example, if you\\'re coming from flake8-docstrings, and your originating configuration uses\\n--docstring-convention=numpy, you\\'d instead set convention = \"numpy\" in your pyproject.toml,\\nas above.\\nAlongside convention, you\\'ll want to\\nexplicitly enable the D rule code prefix, since the D rules are not enabled by default:\\npyproject.tomlruff.toml\\n\\n\\n[tool.ruff.lint]\\nselect = [\"D\"]\\n\\n[tool.ruff.lint.pydocstyle]\\nconvention = \"google\"\\n\\n\\n\\n[lint]\\nselect = [\"D\"]\\n\\n[lint.pydocstyle]\\nconvention = \"google\"\\n\\n\\n\\n\\nEnabling a convention will disable any rules that are not\\nincluded in the specified convention. As such, the intended workflow is to enable a convention and\\nthen selectively enable or disable any additional rules on top of it:\\npyproject.tomlruff.toml\\n\\n\\n[tool.ruff.lint]\\nselect = [\\n    \"D\",\\n    # Augment the convention by requiring an imperative mood for all docstrings.\\n    \"D401\",\\n]\\n\\nignore = [\\n    # Relax the convention by _not_ requiring documentation for every function parameter.\\n    \"D417\",\\n]\\n\\n[tool.ruff.lint.pydocstyle]\\nconvention = \"google\"\\n\\n\\n\\n[lint]\\nselect = [\\n    \"D\",\\n    # Augment the convention by requiring an imperative mood for all docstrings.\\n    \"D401\",\\n]\\n\\nignore = [\\n    # Relax the convention by _not_ requiring documentation for every function parameter.\\n    \"D417\",\\n]\\n\\n[lint.pydocstyle]\\nconvention = \"google\"\\n\\n\\n\\n\\nThe PEP 257 convention includes all D errors apart from:\\nD203,\\nD212,\\nD213,\\nD214,\\nD215,\\nD404,\\nD405,\\nD406,\\nD407,\\nD408,\\nD409,\\nD410,\\nD411,\\nD413,\\nD415,\\nD416, and\\nD417.\\nThe NumPy convention includes all D errors apart from:\\nD107,\\nD203,\\nD212,\\nD213,\\nD402,\\nD413,\\nD415,\\nD416, and\\nD417.\\nThe Google convention includes all D errors apart from:\\nD203,\\nD204,\\nD213,\\nD215,\\nD400,\\nD401,\\nD404,\\nD406,\\nD407,\\nD408,\\nD409, and\\nD413.\\nBy default, no convention is set, and so the enabled rules\\nare determined by the select setting alone.\\nWhat is \"preview\"?\\nPreview enables a collection of newer rules and fixes that are considered experimental or unstable.\\nSee the preview documentation for more details; or, to see which rules are currently\\nin preview, visit the rules reference.\\nHow can I tell what settings Ruff is using to check my code?\\nRun ruff check /path/to/code.py --show-settings to view the resolved settings for a given file.\\nI want to use Ruff, but I don\\'t want to use pyproject.toml. What are my options?\\nIn lieu of a pyproject.toml file, you can use a ruff.toml file for configuration. The two\\nfiles are functionally equivalent and have an identical schema, with the exception that a ruff.toml\\nfile can omit the [tool.ruff] section header. For example:\\npyproject.toml\\n\\n\\n\\n\\n[tool.ruff]\\nline-length = 88\\n\\n[tool.ruff.lint.pydocstyle]\\nconvention = \"google\"\\n\\nruff.toml\\n\\n\\n\\n\\nline-length = 88\\n\\n[lint.pydocstyle]\\nconvention = \"google\"\\n\\nRuff doesn\\'t currently support INI files, like setup.cfg or tox.ini.\\nHow can I change Ruff\\'s default configuration?\\nWhen no configuration file is found, Ruff will look for a user-specific ruff.toml file as a\\nlast resort. This behavior is similar to Flake8\\'s ~/.config/flake8.\\nOn macOS and Linux, Ruff expects that file to be located at ~/.config/ruff/ruff.toml,\\nand respects the XDG_CONFIG_HOME specification.\\nOn Windows, Ruff expects that file to be located at ~\\\\AppData\\\\Roaming\\\\ruff\\\\ruff.toml.\\n\\nNote\\nPrior to v0.5.0, Ruff would read user-specific configuration from\\n~/Library/Application Support/ruff/ruff.toml on macOS. While Ruff will still respect\\nsuch configuration files, the use of ~/Library/Application Support is considered deprecated.\\n\\nFor more, see the etcetera crate.\\nRuff tried to fix something — but it broke my code. What\\'s going on?\\nRuff labels fixes as \"safe\" and \"unsafe\". By default, Ruff will fix all violations for which safe\\nfixes are available, while unsafe fixes can be enabled via the unsafe-fixes\\nsetting, or passing the --unsafe-fixes flag to ruff check. For\\nmore, see the fix documentation.\\nEven still, given the dynamic nature of Python, it\\'s difficult to have complete certainty when\\nmaking changes to code, even for seemingly trivial fixes. If a \"safe\" fix breaks your code, please\\nfile an Issue.\\nHow can I disable/force Ruff\\'s color output?\\nRuff\\'s color output is powered by the colored crate, which\\nattempts to automatically detect whether the output stream supports color. However, you can force\\ncolors off by setting the NO_COLOR environment variable to any value (e.g., NO_COLOR=1), or\\nforce colors on by setting FORCE_COLOR to any non-empty value (e.g., FORCE_COLOR=1).\\ncolored also supports the CLICOLOR and CLICOLOR_FORCE\\nenvironment variables (see the spec).\\nRuff behaves unexpectedly when using source.* code actions in Notebooks. What\\'s going on?\\nRuff does not support source.organizeImports and source.fixAll code actions in Jupyter Notebooks\\n(notebook.codeActionsOnSave in VS Code). It\\'s recommended to use the notebook prefixed code\\nactions for the same such as notebook.source.organizeImports and notebook.source.fixAll\\nrespectively.\\nRuff requires to have a full view of the notebook to provide accurate diagnostics and fixes. For\\nexample, if you have a cell that imports a module and another cell that uses that module, Ruff\\nneeds to see both cells to mark the import as used. If Ruff were to only see one cell at a time,\\nit would incorrectly mark the import as unused.\\nWhen using the source.* code actions for a Notebook, Ruff will be asked to fix any issues for each\\ncell in parallel, which can lead to unexpected behavior. For example, if a user has configured to\\nrun source.organizeImports code action on save for a Notebook, Ruff will attempt to fix the\\nimports for the entire notebook corresponding to each cell. This leads to the client making the same\\nchanges to the notebook multiple times, which can lead to unexpected behavior\\n(astral-sh/ruff-vscode#680,\\nastral-sh/ruff-vscode#640,\\nastral-sh/ruff-vscode#391).\\n\\n\\n\\n\\n\\n\\n\\n  Back to top\\n\\n\\n\\n\\n\\n\\n  \\n  \\n    Made with\\n    \\n      Material for MkDocs Insiders\\n    \\n\\n\\n\\n\\n\\n\\n\\n\\n\\n\\n\\n\\n\\n\\n\\n\\n\\n\\n\\n\\n\\n\\n\\n\\n\\n\\n')]"
      ]
     },
     "execution_count": 40,
     "metadata": {},
     "output_type": "execute_result"
    }
   ],
   "source": [
    "raw_docs"
   ]
  },
  {
   "cell_type": "code",
   "execution_count": 41,
   "id": "c94d0c1a",
   "metadata": {},
   "outputs": [
    {
     "name": "stdout",
     "output_type": "stream",
     "text": [
      "Requirement already satisfied: beautifulsoup4 in c:\\users\\happy\\anaconda3\\envs\\sub_ironhack\\lib\\site-packages (4.13.4)\n",
      "Requirement already satisfied: soupsieve>1.2 in c:\\users\\happy\\anaconda3\\envs\\sub_ironhack\\lib\\site-packages (from beautifulsoup4) (2.7)\n",
      "Requirement already satisfied: typing-extensions>=4.0.0 in c:\\users\\happy\\anaconda3\\envs\\sub_ironhack\\lib\\site-packages (from beautifulsoup4) (4.14.1)\n",
      "Note: you may need to restart the kernel to use updated packages.\n"
     ]
    }
   ],
   "source": [
    "%pip install beautifulsoup4"
   ]
  },
  {
   "cell_type": "code",
   "execution_count": 46,
   "id": "cf2ac30a",
   "metadata": {},
   "outputs": [
    {
     "name": "stdout",
     "output_type": "stream",
     "text": [
      "(108, 1)\n"
     ]
    },
    {
     "data": {
      "application/vnd.microsoft.datawrangler.viewer.v0+json": {
       "columns": [
        {
         "name": "index",
         "rawType": "int64",
         "type": "integer"
        },
        {
         "name": "text",
         "rawType": "object",
         "type": "string"
        }
       ],
       "ref": "1e7350e6-a57a-4f33-9fbc-30a10f0c0774",
       "rows": [
        [
         "0",
         "FAQ | Ruff"
        ],
        [
         "1",
         "Skip to content"
        ],
        [
         "2",
         "Ruff"
        ],
        [
         "3",
         "FAQ"
        ],
        [
         "4",
         "Initializing search"
        ],
        [
         "5",
         "ruff"
        ],
        [
         "6",
         "Ruff"
        ],
        [
         "7",
         "ruff"
        ],
        [
         "8",
         "Overview"
        ],
        [
         "9",
         "Tutorial"
        ],
        [
         "10",
         "Installing Ruff"
        ],
        [
         "11",
         "The Ruff Linter"
        ],
        [
         "12",
         "The Ruff Formatter"
        ],
        [
         "13",
         "Editors"
        ],
        [
         "14",
         "Editors"
        ],
        [
         "15",
         "Editor Integration"
        ],
        [
         "16",
         "Setup"
        ],
        [
         "17",
         "Features"
        ],
        [
         "18",
         "Settings"
        ],
        [
         "19",
         "Migrating from ruff-lsp"
        ],
        [
         "20",
         "Configuring Ruff"
        ],
        [
         "21",
         "Preview"
        ],
        [
         "22",
         "Rules"
        ],
        [
         "23",
         "Settings"
        ],
        [
         "24",
         "Versioning"
        ],
        [
         "25",
         "Integrations"
        ],
        [
         "26",
         "FAQ"
        ],
        [
         "27",
         "FAQ"
        ],
        [
         "28",
         "Table of contents"
        ],
        [
         "29",
         "Is the Ruff linter compatible with Black?"
        ],
        [
         "30",
         "How does Ruff's formatter compare to Black?"
        ],
        [
         "31",
         "How does Ruff's linter compare to Flake8?"
        ],
        [
         "32",
         "How does Ruff's linter compare to Pylint?"
        ],
        [
         "33",
         "How does Ruff compare to Mypy, or Pyright, or Pyre?"
        ],
        [
         "34",
         "Which tools does Ruff replace?"
        ],
        [
         "35",
         "Do I have to use Ruff's linter and formatter together?"
        ],
        [
         "36",
         "What versions of Python does Ruff support?"
        ],
        [
         "37",
         "Do I need to install Rust to use Ruff?"
        ],
        [
         "38",
         "Can I write my own linter plugins for Ruff?"
        ],
        [
         "39",
         "How does Ruff's import sorting compare to isort?"
        ],
        [
         "40",
         "How does Ruff determine which of my imports are first-party, third-party, etc.?"
        ],
        [
         "41",
         "Does Ruff support Jupyter Notebooks?"
        ],
        [
         "42",
         "Does Ruff support NumPy- or Google-style docstrings?"
        ],
        [
         "43",
         "What is \"preview\"?"
        ],
        [
         "44",
         "How can I tell what settings Ruff is using to check my code?"
        ],
        [
         "45",
         "I want to use Ruff, but I don't want to use pyproject.toml. What are my options?"
        ],
        [
         "46",
         "How can I change Ruff's default configuration?"
        ],
        [
         "47",
         "Ruff tried to fix something — but it broke my code. What's going on?"
        ],
        [
         "48",
         "How can I disable/force Ruff's color output?"
        ],
        [
         "49",
         "Ruff behaves unexpectedly when using source.* code actions in Notebooks. What's going on?"
        ]
       ],
       "shape": {
        "columns": 1,
        "rows": 108
       }
      },
      "text/html": [
       "<div>\n",
       "<style scoped>\n",
       "    .dataframe tbody tr th:only-of-type {\n",
       "        vertical-align: middle;\n",
       "    }\n",
       "\n",
       "    .dataframe tbody tr th {\n",
       "        vertical-align: top;\n",
       "    }\n",
       "\n",
       "    .dataframe thead th {\n",
       "        text-align: right;\n",
       "    }\n",
       "</style>\n",
       "<table border=\"1\" class=\"dataframe\">\n",
       "  <thead>\n",
       "    <tr style=\"text-align: right;\">\n",
       "      <th></th>\n",
       "      <th>text</th>\n",
       "    </tr>\n",
       "  </thead>\n",
       "  <tbody>\n",
       "    <tr>\n",
       "      <th>0</th>\n",
       "      <td>FAQ | Ruff</td>\n",
       "    </tr>\n",
       "    <tr>\n",
       "      <th>1</th>\n",
       "      <td>Skip to content</td>\n",
       "    </tr>\n",
       "    <tr>\n",
       "      <th>2</th>\n",
       "      <td>Ruff</td>\n",
       "    </tr>\n",
       "    <tr>\n",
       "      <th>3</th>\n",
       "      <td>FAQ</td>\n",
       "    </tr>\n",
       "    <tr>\n",
       "      <th>4</th>\n",
       "      <td>Initializing search</td>\n",
       "    </tr>\n",
       "    <tr>\n",
       "      <th>...</th>\n",
       "      <td>...</td>\n",
       "    </tr>\n",
       "    <tr>\n",
       "      <th>103</th>\n",
       "      <td>Ruff doesn't currently support INI files, like...</td>\n",
       "    </tr>\n",
       "    <tr>\n",
       "      <th>104</th>\n",
       "      <td>Note Prior to v0.5.0, Ruff would read user-spe...</td>\n",
       "    </tr>\n",
       "    <tr>\n",
       "      <th>105</th>\n",
       "      <td>For more, see the etcetera crate. Ruff tried t...</td>\n",
       "    </tr>\n",
       "    <tr>\n",
       "      <th>106</th>\n",
       "      <td>Back to top</td>\n",
       "    </tr>\n",
       "    <tr>\n",
       "      <th>107</th>\n",
       "      <td>Made with Material for MkDocs Insiders</td>\n",
       "    </tr>\n",
       "  </tbody>\n",
       "</table>\n",
       "<p>108 rows × 1 columns</p>\n",
       "</div>"
      ],
      "text/plain": [
       "                                                  text\n",
       "0                                           FAQ | Ruff\n",
       "1                                      Skip to content\n",
       "2                                                 Ruff\n",
       "3                                                  FAQ\n",
       "4                                  Initializing search\n",
       "..                                                 ...\n",
       "103  Ruff doesn't currently support INI files, like...\n",
       "104  Note Prior to v0.5.0, Ruff would read user-spe...\n",
       "105  For more, see the etcetera crate. Ruff tried t...\n",
       "106                                        Back to top\n",
       "107             Made with Material for MkDocs Insiders\n",
       "\n",
       "[108 rows x 1 columns]"
      ]
     },
     "execution_count": 46,
     "metadata": {},
     "output_type": "execute_result"
    }
   ],
   "source": [
    "import pandas as pd\n",
    "from bs4 import BeautifulSoup\n",
    "from langchain.schema import Document\n",
    "\n",
    "# 1. Extract plain text from HTML\n",
    "plain_texts = []\n",
    "for doc in raw_docs:\n",
    "    soup = BeautifulSoup(doc.page_content, \"html.parser\")\n",
    "    text = soup.get_text(separator=\"\\n\")        # preserve paragraph breaks\n",
    "    plain_texts.append(text)\n",
    "\n",
    "# 2. Split into paragraphs and build DataFrame\n",
    "paras = []\n",
    "for text in plain_texts:\n",
    "    for p in text.split(\"\\n\\n\"):                # split on double-newline\n",
    "        p = p.strip()\n",
    "        if p:\n",
    "            paras.append(p)\n",
    "\n",
    "df = pd.DataFrame({\"text\": paras})\n",
    "\n",
    "# 3. Normalize whitespace (collapse internal runs of spaces/newlines) \n",
    "#    and drop any empty rows just in case:\n",
    "df[\"text\"] = df[\"text\"].str.replace(r\"\\s+\", \" \", regex=True).str.strip()\n",
    "df = df[df[\"text\"] != \"\"]\n",
    "\n",
    "print(df.shape)  # now (n_paragraphs, 1)\n",
    "# print(df())\n",
    "df"
   ]
  },
  {
   "cell_type": "code",
   "execution_count": null,
   "id": "7780ef54",
   "metadata": {},
   "outputs": [],
   "source": [
    "# from langchain.schema import Document\n",
    "# from langchain_text_splitters import CharacterTextSplitter\n",
    "\n",
    "# # wrap cleaned paragraphs back into Documents\n",
    "# clean_docs = [Document(page_content=t) for t in df[\"text\"]]\n",
    "\n",
    "# splitter = CharacterTextSplitter(chunk_size=1000, chunk_overlap=0)\n",
    "# texts = splitter.split_documents(clean_docs)\n",
    "\n",
    "# now build your vector store on `texts`\n"
   ]
  },
  {
   "cell_type": "code",
   "execution_count": null,
   "id": "59c8b504",
   "metadata": {},
   "outputs": [
    {
     "data": {
      "text/plain": [
       "[Document(metadata={}, page_content='FAQ | Ruff'),\n",
       " Document(metadata={}, page_content='Skip to content'),\n",
       " Document(metadata={}, page_content='Ruff'),\n",
       " Document(metadata={}, page_content='FAQ'),\n",
       " Document(metadata={}, page_content='Initializing search'),\n",
       " Document(metadata={}, page_content='ruff'),\n",
       " Document(metadata={}, page_content='Ruff'),\n",
       " Document(metadata={}, page_content='ruff'),\n",
       " Document(metadata={}, page_content='Overview'),\n",
       " Document(metadata={}, page_content='Tutorial'),\n",
       " Document(metadata={}, page_content='Installing Ruff'),\n",
       " Document(metadata={}, page_content='The Ruff Linter'),\n",
       " Document(metadata={}, page_content='The Ruff Formatter'),\n",
       " Document(metadata={}, page_content='Editors'),\n",
       " Document(metadata={}, page_content='Editors'),\n",
       " Document(metadata={}, page_content='Editor Integration'),\n",
       " Document(metadata={}, page_content='Setup'),\n",
       " Document(metadata={}, page_content='Features'),\n",
       " Document(metadata={}, page_content='Settings'),\n",
       " Document(metadata={}, page_content='Migrating from ruff-lsp'),\n",
       " Document(metadata={}, page_content='Configuring Ruff'),\n",
       " Document(metadata={}, page_content='Preview'),\n",
       " Document(metadata={}, page_content='Rules'),\n",
       " Document(metadata={}, page_content='Settings'),\n",
       " Document(metadata={}, page_content='Versioning'),\n",
       " Document(metadata={}, page_content='Integrations'),\n",
       " Document(metadata={}, page_content='FAQ'),\n",
       " Document(metadata={}, page_content='FAQ'),\n",
       " Document(metadata={}, page_content='Table of contents'),\n",
       " Document(metadata={}, page_content='Is the Ruff linter compatible with Black?'),\n",
       " Document(metadata={}, page_content=\"How does Ruff's formatter compare to Black?\"),\n",
       " Document(metadata={}, page_content=\"How does Ruff's linter compare to Flake8?\"),\n",
       " Document(metadata={}, page_content=\"How does Ruff's linter compare to Pylint?\"),\n",
       " Document(metadata={}, page_content='How does Ruff compare to Mypy, or Pyright, or Pyre?'),\n",
       " Document(metadata={}, page_content='Which tools does Ruff replace?'),\n",
       " Document(metadata={}, page_content=\"Do I have to use Ruff's linter and formatter together?\"),\n",
       " Document(metadata={}, page_content='What versions of Python does Ruff support?'),\n",
       " Document(metadata={}, page_content='Do I need to install Rust to use Ruff?'),\n",
       " Document(metadata={}, page_content='Can I write my own linter plugins for Ruff?'),\n",
       " Document(metadata={}, page_content=\"How does Ruff's import sorting compare to isort?\"),\n",
       " Document(metadata={}, page_content='How does Ruff determine which of my imports are first-party, third-party, etc.?'),\n",
       " Document(metadata={}, page_content='Does Ruff support Jupyter Notebooks?'),\n",
       " Document(metadata={}, page_content='Does Ruff support NumPy- or Google-style docstrings?'),\n",
       " Document(metadata={}, page_content='What is \"preview\"?'),\n",
       " Document(metadata={}, page_content='How can I tell what settings Ruff is using to check my code?'),\n",
       " Document(metadata={}, page_content=\"I want to use Ruff, but I don't want to use pyproject.toml. What are my options?\"),\n",
       " Document(metadata={}, page_content=\"How can I change Ruff's default configuration?\"),\n",
       " Document(metadata={}, page_content=\"Ruff tried to fix something — but it broke my code. What's going on?\"),\n",
       " Document(metadata={}, page_content=\"How can I disable/force Ruff's color output?\"),\n",
       " Document(metadata={}, page_content=\"Ruff behaves unexpectedly when using source.* code actions in Notebooks. What's going on?\"),\n",
       " Document(metadata={}, page_content='Contributing'),\n",
       " Document(metadata={}, page_content=\"FAQ Is the Ruff linter compatible with Black? Yes. The Ruff linter is compatible with Black out-of-the-box, as long as the line-length setting is consistent between the two. Ruff is designed to be used alongside a formatter (like Ruff's own formatter, or Black) and, as such, will defer implementing stylistic rules that are obviated by automated formatting. Note that Ruff's linter and Black treat line-length enforcement a little differently. Black, like Ruff's formatter, makes a best-effort attempt to adhere to the line-length, but avoids automatic line-wrapping in some cases (e.g., within comments). Ruff, on the other hand, will flag line-too-long (E501) for any line that exceeds the line-length setting. As such, if line-too-long (E501) is enabled, Ruff can still trigger line-length violations even when Black or ruff format is enabled. How does Ruff's formatter compare to Black? The Ruff formatter is designed to be a drop-in replacement for Black. Specifically, the formatter is intended to emit near-identical output when run over Black-formatted code. When run over extensive Black-formatted projects like Django and Zulip, > 99.9% of lines are formatted identically. When migrating an existing project from Black to Ruff, you should expect to see a few differences on the margins, but the vast majority of your code should be unchanged. When run over non-Black-formatted code, the formatter makes some different decisions than Black, and so more deviations should be expected, especially around the treatment of end-of-line comments. See Style Guide for more. How does Ruff's linter compare to Flake8? Ruff can be used as a drop-in replacement for Flake8 when used (1) without or with a small number of plugins, (2) alongside Black, and (3) on Python 3 code. Under those conditions, Ruff implements every rule in Flake8. In practice, that means Ruff implements all of the F rules (which originate from Pyflakes), along with a subset of the E and W rules (which originate from pycodestyle). Ruff also re-implements some of the most popular Flake8 plugins and related code quality tools natively, including:\"),\n",
       " Document(metadata={}, page_content='autoflake eradicate flake8-2020 flake8-annotations flake8-async flake8-bandit (#1646) flake8-blind-except flake8-boolean-trap flake8-bugbear flake8-builtins flake8-commas flake8-comprehensions flake8-copyright flake8-datetimez flake8-debugger flake8-django flake8-docstrings flake8-eradicate flake8-errmsg flake8-executable flake8-gettext flake8-implicit-str-concat flake8-import-conventions flake8-logging flake8-logging-format flake8-no-pep420 flake8-pie flake8-print flake8-pyi flake8-pytest-style flake8-quotes flake8-raise flake8-return flake8-self flake8-simplify flake8-slots flake8-super flake8-tidy-imports flake8-todos flake8-type-checking flake8-use-pathlib flynt (#2102) isort mccabe pandas-vet pep8-naming perflint (#4789) pydocstyle pygrep-hooks pyupgrade tryceratops yesqa'),\n",
       " Document(metadata={}, page_content='Note that, in some cases, Ruff uses different rule codes and prefixes than would be found in the originating Flake8 plugins. For example, Ruff uses TID252 to represent the I252 rule from flake8-tidy-imports. This helps minimize conflicts across plugins and allows any individual plugin to be toggled on or off with a single (e.g.) --select TID, as opposed to --select I2 (to avoid conflicts with the isort rules, like I001). Beyond the rule set, Ruff\\'s primary limitation vis-à-vis Flake8 is that it does not support custom lint rules. (Instead, popular Flake8 plugins are re-implemented in Rust as part of Ruff itself.) One minor difference is that Ruff doesn\\'t include all the \\'opinionated\\' rules from flake8-bugbear. How does Ruff\\'s linter compare to Pylint? At time of writing, Pylint implements ~409 total rules, while Ruff implements over 800, of which at least 209 overlap with the Pylint rule set (see: #970). Pylint implements many rules that Ruff does not, and vice versa. For example, Pylint does more type inference than Ruff (e.g., Pylint can validate the number of arguments in a function call). As such, Ruff is not a \"pure\" drop-in replacement for Pylint (and vice versa), as they enforce different sets of rules. Despite these differences, many users have successfully switched from Pylint to Ruff, especially those using Ruff alongside a type checker, which can cover some of the functionality that Pylint provides. Like Flake8, Pylint supports plugins (called \"checkers\"), while Ruff implements all rules natively and does not support custom or third-party rules. Unlike Pylint, Ruff is capable of automatically fixing its own lint violations. In some cases, Ruff\\'s rules may yield slightly different results than their Pylint counterparts. For example, Ruff\\'s too-many-branches does not count try blocks as their own branches, unlike Pylint\\'s R0912. Ruff\\'s PL rule group also includes a small number of rules from Pylint extensions (like magic-value-comparison), which need to be explicitly activated when using Pylint. By enabling Ruff\\'s PL group, you may see violations for rules that weren\\'t previously enabled through your Pylint configuration. Pylint parity is being tracked in #970. How does Ruff compare to Mypy, or Pyright, or Pyre? Ruff is a linter, not a type checker. It can detect some of the same problems that a type checker can, but a type checker will catch certain errors that Ruff would miss. The opposite is also true: Ruff will catch certain errors that a type checker would typically ignore. For example, unlike a type checker, Ruff will notify you if an import is unused, by looking for references to that import in the source code; on the other hand, a type checker could flag that you passed an integer argument to a function that expects a string, which Ruff would miss. The tools are complementary. It\\'s recommended that you use Ruff in conjunction with a type checker, like Mypy, Pyright, or Pyre, with Ruff providing faster feedback on lint violations and the type checker providing more detailed feedback on type errors. Which tools does Ruff replace? Today, Ruff can be used to replace Flake8 when used with any of the following plugins:'),\n",
       " Document(metadata={}, page_content='flake8-2020 flake8-annotations flake8-async flake8-bandit (#1646) flake8-blind-except flake8-boolean-trap flake8-bugbear flake8-builtins flake8-commas flake8-comprehensions flake8-copyright flake8-datetimez flake8-debugger flake8-django flake8-docstrings flake8-eradicate flake8-errmsg flake8-executable flake8-gettext flake8-implicit-str-concat flake8-import-conventions flake8-logging flake8-logging-format flake8-no-pep420 flake8-pie flake8-print flake8-pytest-style flake8-quotes flake8-raise flake8-return flake8-self flake8-simplify flake8-slots flake8-super flake8-tidy-imports flake8-todos flake8-type-checking flake8-use-pathlib flynt (#2102) mccabe pandas-vet pep8-naming perflint (#4789) pydocstyle tryceratops'),\n",
       " Document(metadata={}, page_content=\"Ruff can also replace Black, isort, yesqa, eradicate, and most of the rules implemented in pyupgrade. If you're looking to use Ruff, but rely on an unsupported Flake8 plugin, feel free to file an issue. Do I have to use Ruff's linter and formatter together? Nope! Ruff's linter and formatter can be used independently of one another -- you can use Ruff as a formatter, but not a linter, or vice versa. What versions of Python does Ruff support? Ruff can lint code for any Python version from 3.7 onwards, including Python 3.13. Ruff does not support Python 2. Ruff may run on pre-Python 3.7 code, although such versions are not officially supported (e.g., Ruff does not respect type comments). Ruff is installable under any Python version from 3.7 onwards. Do I need to install Rust to use Ruff? Nope! Ruff is available as ruff on PyPI. We recommend installing Ruff with uv, though it's also installable with pip, pipx, and a variety of other package managers: $ # Install Ruff globally. $ uv tool install ruff@latest\"),\n",
       " Document(metadata={}, page_content='$ # Or add Ruff to your project. $ uv add --dev ruff'),\n",
       " Document(metadata={}, page_content='$ # With pip. $ pip install ruff'),\n",
       " Document(metadata={}, page_content='$ # With pipx. $ pipx install ruff'),\n",
       " Document(metadata={}, page_content='Starting with version 0.5.0, Ruff can also be installed with our standalone installers: $ # On macOS and Linux. $ curl -LsSf https://astral.sh/ruff/install.sh | sh'),\n",
       " Document(metadata={}, page_content='$ # On Windows. $ powershell -c \"irm https://astral.sh/ruff/install.ps1 | iex\"'),\n",
       " Document(metadata={}, page_content='$ # For a specific version. $ curl -LsSf https://astral.sh/ruff/0.5.0/install.sh | sh $ powershell -c \"irm https://astral.sh/ruff/0.5.0/install.ps1 | iex\"'),\n",
       " Document(metadata={}, page_content='Ruff ships with wheels for all major platforms, which enables uv, pip, and other tools to install Ruff without relying on a Rust toolchain at all. Can I write my own linter plugins for Ruff? Ruff does not yet support third-party plugins, though a plugin system is within-scope for the project. See #283 for more. How does Ruff\\'s import sorting compare to isort? Ruff\\'s import sorting is intended to be near-equivalent to isort\\'s when using isort\\'s profile = \"black\". There are a few known differences in how Ruff and isort treat aliased imports, and in how Ruff and isort treat inline comments in some cases (see: #1381, #2104). For example, Ruff tends to group non-aliased imports from the same module: from numpy import cos, int8, int16, int32, int64, tan, uint8, uint16, uint32, uint64 from numpy import sin as np_sin'),\n",
       " Document(metadata={}, page_content='Whereas isort splits them into separate import statements at each aliased boundary: from numpy import cos, int8, int16, int32, int64 from numpy import sin as np_sin from numpy import tan, uint8, uint16, uint32, uint64'),\n",
       " Document(metadata={}, page_content=\"Ruff also correctly classifies some modules as standard-library that aren't recognized by isort, like _string and idlelib. Like isort, Ruff's import sorting is compatible with Black. How does Ruff determine which of my imports are first-party, third-party, etc.? Ruff accepts a src option that in your pyproject.toml, ruff.toml, or .ruff.toml file, specifies the directories that Ruff should consider when determining whether an import is first-party. For example, if you have a project with the following structure: my_project ├── pyproject.toml └── src └── foo ├── __init__.py └── bar ├── __init__.py └── baz.py\"),\n",
       " Document(metadata={}, page_content='When Ruff sees an import like import foo, it will then iterate over the src directories, looking for a corresponding Python module (in reality, a directory named foo or a file named foo.py). For module paths with multiple components like import foo.bar, the default behavior is to search only for a directory named foo or a file named foo.py. However, if preview is enabled, Ruff will require that the full relative path foo/bar exists as a directory, or that foo/bar.py or foo/bar.pyi exist as files. Finally, imports of the form from foo import bar, Ruff will only use foo when determining whether a module is first-party or third-party. If there is a directory whose name matches a third-party package, but does not contain Python code, it could happen that the above algorithm incorrectly infers an import to be first-party. To prevent this, you can modify the known-third-party setting. For example, if you import the package wandb but also have a subdirectory of your src with the same name, you can add the following: pyproject.tomlruff.toml'),\n",
       " Document(metadata={}, page_content='[tool.ruff.lint.isort] known-third-party = [\"wandb\"]'),\n",
       " Document(metadata={}, page_content='[lint.isort] known-third-party = [\"wandb\"]'),\n",
       " Document(metadata={}, page_content='If the src field is omitted, Ruff will default to using the \"project root\", along with a \"src\" subdirectory, as the first-party sources, to support both flat and nested project layouts. The \"project root\" is typically the directory containing your pyproject.toml, ruff.toml, or .ruff.toml file, unless a configuration file is provided on the command-line via the --config option, in which case, the current working directory is used as the project root. In this case, Ruff would check the \"src\" directory by default, but we can configure it as an explicit, exclusive first-party source like so: pyproject.tomlruff.toml'),\n",
       " Document(metadata={}, page_content='[tool.ruff] # Ruff supports a top-level `src` option in lieu of isort\\'s `src_paths` setting. # All paths are relative to the project root, which is the directory containing the pyproject.toml. src = [\"src\"]'),\n",
       " Document(metadata={}, page_content='# Ruff supports a top-level `src` option in lieu of isort\\'s `src_paths` setting. # All paths are relative to the project root, which is the directory containing the pyproject.toml. src = [\"src\"]'),\n",
       " Document(metadata={}, page_content=\"If your pyproject.toml, ruff.toml, or .ruff.toml extends another configuration file, Ruff will still use the directory containing your pyproject.toml, ruff.toml, or .ruff.toml file as the project root (as opposed to the directory of the file pointed to via the extends option). For example, if you add a configuration file to the tests directory in the above example, you'll want to explicitly set the src option in the extended configuration file: pyproject.tomlruff.toml\"),\n",
       " Document(metadata={}, page_content='[tool.ruff] extend = \"../pyproject.toml\" src = [\"../src\"]'),\n",
       " Document(metadata={}, page_content='extend = \"../pyproject.toml\" src = [\"../src\"]'),\n",
       " Document(metadata={}, page_content='Beyond this src-based detection, Ruff will also attempt to determine the current Python package for a given Python file, and mark imports from within the same package as first-party. For example, above, baz.py would be identified as part of the Python package beginning at ./my_project/src/foo, and so any imports in baz.py that begin with foo (like import foo.bar) would be considered first-party based on this same-package heuristic. For a detailed explanation of src resolution, see the contributing guide. Ruff can also be configured to treat certain modules as (e.g.) always first-party, regardless of their location on the filesystem. For example, you can set known-first-party like so: pyproject.tomlruff.toml'),\n",
       " Document(metadata={}, page_content='[tool.ruff] src = [\"src\", \"tests\"]'),\n",
       " Document(metadata={}, page_content='[tool.ruff.lint] select = [ # Pyflakes \"F\", # Pycodestyle \"E\", \"W\", # isort \"I001\" ]'),\n",
       " Document(metadata={}, page_content='[tool.ruff.lint.isort] known-first-party = [\"my_module1\", \"my_module2\"]'),\n",
       " Document(metadata={}, page_content='src = [\"src\", \"tests\"]'),\n",
       " Document(metadata={}, page_content='[lint] select = [ # Pyflakes \"F\", # Pycodestyle \"E\", \"W\", # isort \"I001\" ]'),\n",
       " Document(metadata={}, page_content='[lint.isort] known-first-party = [\"my_module1\", \"my_module2\"]'),\n",
       " Document(metadata={}, page_content=\"Ruff does not yet support all of isort's configuration options, though it does support many of them. You can find the supported settings in the API reference. Does Ruff support Jupyter Notebooks? Ruff has built-in support for linting and formatting Jupyter Notebooks. Refer to the Jupyter Notebook section for more details. Ruff also integrates with nbQA, a tool for running linters and code formatters over Jupyter Notebooks. After installing ruff and nbqa, you can run Ruff over a notebook like so: $ nbqa ruff Untitled.ipynb Untitled.ipynb:cell_1:2:5: F841 Local variable `x` is assigned to but never used Untitled.ipynb:cell_2:1:1: E402 Module level import not at top of file Untitled.ipynb:cell_2:1:8: F401 `os` imported but unused Found 3 errors. 1 potentially fixable with the --fix option.\"),\n",
       " Document(metadata={}, page_content='Does Ruff support NumPy- or Google-style docstrings? Yes! To enforce a docstring convention, add a convention setting following to your configuration file: pyproject.tomlruff.toml'),\n",
       " Document(metadata={}, page_content='[tool.ruff.lint.pydocstyle] convention = \"google\" # Accepts: \"google\", \"numpy\", or \"pep257\".'),\n",
       " Document(metadata={}, page_content='[lint.pydocstyle] convention = \"google\" # Accepts: \"google\", \"numpy\", or \"pep257\".'),\n",
       " Document(metadata={}, page_content='For example, if you\\'re coming from flake8-docstrings, and your originating configuration uses --docstring-convention=numpy, you\\'d instead set convention = \"numpy\" in your pyproject.toml, as above. Alongside convention, you\\'ll want to explicitly enable the D rule code prefix, since the D rules are not enabled by default: pyproject.tomlruff.toml'),\n",
       " Document(metadata={}, page_content='[tool.ruff.lint] select = [\"D\"]'),\n",
       " Document(metadata={}, page_content='[tool.ruff.lint.pydocstyle] convention = \"google\"'),\n",
       " Document(metadata={}, page_content='[lint] select = [\"D\"]'),\n",
       " Document(metadata={}, page_content='[lint.pydocstyle] convention = \"google\"'),\n",
       " Document(metadata={}, page_content='Enabling a convention will disable any rules that are not included in the specified convention. As such, the intended workflow is to enable a convention and then selectively enable or disable any additional rules on top of it: pyproject.tomlruff.toml'),\n",
       " Document(metadata={}, page_content='[tool.ruff.lint] select = [ \"D\", # Augment the convention by requiring an imperative mood for all docstrings. \"D401\", ]'),\n",
       " Document(metadata={}, page_content='ignore = [ # Relax the convention by _not_ requiring documentation for every function parameter. \"D417\", ]'),\n",
       " Document(metadata={}, page_content='[tool.ruff.lint.pydocstyle] convention = \"google\"'),\n",
       " Document(metadata={}, page_content='[lint] select = [ \"D\", # Augment the convention by requiring an imperative mood for all docstrings. \"D401\", ]'),\n",
       " Document(metadata={}, page_content='ignore = [ # Relax the convention by _not_ requiring documentation for every function parameter. \"D417\", ]'),\n",
       " Document(metadata={}, page_content='[lint.pydocstyle] convention = \"google\"'),\n",
       " Document(metadata={}, page_content='The PEP 257 convention includes all D errors apart from: D203, D212, D213, D214, D215, D404, D405, D406, D407, D408, D409, D410, D411, D413, D415, D416, and D417. The NumPy convention includes all D errors apart from: D107, D203, D212, D213, D402, D413, D415, D416, and D417. The Google convention includes all D errors apart from: D203, D204, D213, D215, D400, D401, D404, D406, D407, D408, D409, and D413. By default, no convention is set, and so the enabled rules are determined by the select setting alone. What is \"preview\"? Preview enables a collection of newer rules and fixes that are considered experimental or unstable. See the preview documentation for more details; or, to see which rules are currently in preview, visit the rules reference. How can I tell what settings Ruff is using to check my code? Run ruff check /path/to/code.py --show-settings to view the resolved settings for a given file. I want to use Ruff, but I don\\'t want to use pyproject.toml. What are my options? In lieu of a pyproject.toml file, you can use a ruff.toml file for configuration. The two files are functionally equivalent and have an identical schema, with the exception that a ruff.toml file can omit the [tool.ruff] section header. For example: pyproject.toml'),\n",
       " Document(metadata={}, page_content='[tool.ruff] line-length = 88'),\n",
       " Document(metadata={}, page_content='[tool.ruff.lint.pydocstyle] convention = \"google\"'),\n",
       " Document(metadata={}, page_content='ruff.toml'),\n",
       " Document(metadata={}, page_content='line-length = 88'),\n",
       " Document(metadata={}, page_content='[lint.pydocstyle] convention = \"google\"'),\n",
       " Document(metadata={}, page_content=\"Ruff doesn't currently support INI files, like setup.cfg or tox.ini. How can I change Ruff's default configuration? When no configuration file is found, Ruff will look for a user-specific ruff.toml file as a last resort. This behavior is similar to Flake8's ~/.config/flake8. On macOS and Linux, Ruff expects that file to be located at ~/.config/ruff/ruff.toml, and respects the XDG_CONFIG_HOME specification. On Windows, Ruff expects that file to be located at ~\\\\AppData\\\\Roaming\\\\ruff\\\\ruff.toml.\"),\n",
       " Document(metadata={}, page_content='Note Prior to v0.5.0, Ruff would read user-specific configuration from ~/Library/Application Support/ruff/ruff.toml on macOS. While Ruff will still respect such configuration files, the use of ~/Library/Application Support is considered deprecated.'),\n",
       " Document(metadata={}, page_content='For more, see the etcetera crate. Ruff tried to fix something — but it broke my code. What\\'s going on? Ruff labels fixes as \"safe\" and \"unsafe\". By default, Ruff will fix all violations for which safe fixes are available, while unsafe fixes can be enabled via the unsafe-fixes setting, or passing the --unsafe-fixes flag to ruff check. For more, see the fix documentation. Even still, given the dynamic nature of Python, it\\'s difficult to have complete certainty when making changes to code, even for seemingly trivial fixes. If a \"safe\" fix breaks your code, please file an Issue. How can I disable/force Ruff\\'s color output? Ruff\\'s color output is powered by the colored crate, which attempts to automatically detect whether the output stream supports color. However, you can force colors off by setting the NO_COLOR environment variable to any value (e.g., NO_COLOR=1), or force colors on by setting FORCE_COLOR to any non-empty value (e.g., FORCE_COLOR=1). colored also supports the CLICOLOR and CLICOLOR_FORCE environment variables (see the spec). Ruff behaves unexpectedly when using source.* code actions in Notebooks. What\\'s going on? Ruff does not support source.organizeImports and source.fixAll code actions in Jupyter Notebooks (notebook.codeActionsOnSave in VS Code). It\\'s recommended to use the notebook prefixed code actions for the same such as notebook.source.organizeImports and notebook.source.fixAll respectively. Ruff requires to have a full view of the notebook to provide accurate diagnostics and fixes. For example, if you have a cell that imports a module and another cell that uses that module, Ruff needs to see both cells to mark the import as used. If Ruff were to only see one cell at a time, it would incorrectly mark the import as unused. When using the source.* code actions for a Notebook, Ruff will be asked to fix any issues for each cell in parallel, which can lead to unexpected behavior. For example, if a user has configured to run source.organizeImports code action on save for a Notebook, Ruff will attempt to fix the imports for the entire notebook corresponding to each cell. This leads to the client making the same changes to the notebook multiple times, which can lead to unexpected behavior (astral-sh/ruff-vscode#680, astral-sh/ruff-vscode#640, astral-sh/ruff-vscode#391).'),\n",
       " Document(metadata={}, page_content='Back to top'),\n",
       " Document(metadata={}, page_content='Made with Material for MkDocs Insiders')]"
      ]
     },
     "execution_count": 44,
     "metadata": {},
     "output_type": "execute_result"
    }
   ],
   "source": [
    "# texts"
   ]
  },
  {
   "cell_type": "code",
   "execution_count": 50,
   "id": "96a2edf8",
   "metadata": {
    "tags": []
   },
   "outputs": [
    {
     "name": "stderr",
     "output_type": "stream",
     "text": [
      "Created a chunk of size 2122, which is longer than the specified 1000\n",
      "Created a chunk of size 3187, which is longer than the specified 1000\n",
      "Created a chunk of size 1017, which is longer than the specified 1000\n",
      "Created a chunk of size 1049, which is longer than the specified 1000\n",
      "Created a chunk of size 1256, which is longer than the specified 1000\n",
      "Created a chunk of size 2321, which is longer than the specified 1000\n"
     ]
    }
   ],
   "source": [
    "\n",
    "\n",
    "docs = loader.load()\n",
    "ruff_texts = text_splitter.split_documents(docs)\n",
    "ruff_db = Chroma.from_documents(ruff_texts, embeddings, collection_name=\"ruff\")\n",
    "ruff = RetrievalQA.from_chain_type(\n",
    "    llm=llm, chain_type=\"stuff\", retriever=ruff_db.as_retriever()\n",
    ")"
   ]
  },
  {
   "cell_type": "markdown",
   "id": "c0a6c031",
   "metadata": {},
   "source": [
    "## Create the Agent"
   ]
  },
  {
   "cell_type": "code",
   "execution_count": 51,
   "id": "eb142786",
   "metadata": {
    "tags": []
   },
   "outputs": [],
   "source": [
    "# Import things that are needed generically\n",
    "from langchain.agents import AgentType, Tool, initialize_agent\n",
    "from langchain_openai import OpenAI"
   ]
  },
  {
   "cell_type": "code",
   "execution_count": 52,
   "id": "850bc4e9",
   "metadata": {
    "tags": []
   },
   "outputs": [],
   "source": [
    "tools = [\n",
    "    Tool(\n",
    "        name=\"State of Union QA System\",\n",
    "        func=state_of_union.run,\n",
    "        description=\"useful for when you need to answer questions about the most recent state of the union address. Input should be a fully formed question.\",\n",
    "    ),\n",
    "    Tool(\n",
    "        name=\"Ruff QA System\",\n",
    "        func=ruff.run,\n",
    "        description=\"useful for when you need to answer questions about ruff (a python linter). Input should be a fully formed question.\",\n",
    "    ),\n",
    "]"
   ]
  },
  {
   "cell_type": "code",
   "execution_count": 53,
   "id": "fc47f230",
   "metadata": {
    "tags": []
   },
   "outputs": [
    {
     "name": "stderr",
     "output_type": "stream",
     "text": [
      "C:\\Users\\happy\\AppData\\Local\\Temp\\ipykernel_41472\\1834837320.py:3: LangChainDeprecationWarning: LangChain agents will continue to be supported, but it is recommended for new use cases to be built with LangGraph. LangGraph offers a more flexible and full-featured framework for building agents, including support for tool-calling, persistence of state, and human-in-the-loop workflows. For details, refer to the `LangGraph documentation <https://langchain-ai.github.io/langgraph/>`_ as well as guides for `Migrating from AgentExecutor <https://python.langchain.com/docs/how_to/migrate_agent/>`_ and LangGraph's `Pre-built ReAct agent <https://langchain-ai.github.io/langgraph/how-tos/create-react-agent/>`_.\n",
      "  agent = initialize_agent(\n"
     ]
    }
   ],
   "source": [
    "# Construct the agent. We will use the default agent type here.\n",
    "# See documentation for a full list of options.\n",
    "agent = initialize_agent(\n",
    "    tools, llm, agent=AgentType.ZERO_SHOT_REACT_DESCRIPTION, verbose=True\n",
    ")"
   ]
  },
  {
   "cell_type": "code",
   "execution_count": 54,
   "id": "10ca2db8",
   "metadata": {
    "tags": []
   },
   "outputs": [
    {
     "name": "stdout",
     "output_type": "stream",
     "text": [
      "\n",
      "\n",
      "\u001b[1m> Entering new AgentExecutor chain...\u001b[0m\n",
      "\u001b[32;1m\u001b[1;3m I should use the State of Union QA System to answer this question.\n",
      "Action: State of Union QA System\n",
      "Action Input: \"What did Biden say about Ketanji Brown Jackson in the state of the union address?\"\u001b[0m\n",
      "Observation: \u001b[36;1m\u001b[1;3m Biden mentioned that he nominated Circuit Court of Appeals Judge Ketanji Brown Jackson to serve on the United States Supreme Court, and praised her as one of the nation's top legal minds who will continue Justice Breyer's legacy of excellence.\u001b[0m\n",
      "Thought:\u001b[32;1m\u001b[1;3m I should use the Ruff QA System to get more information about Ketanji Brown Jackson.\n",
      "Action: Ruff QA System\n",
      "Action Input: \"Who is Ketanji Brown Jackson?\"\u001b[0m\n",
      "Observation: \u001b[33;1m\u001b[1;3m I don't know.\u001b[0m\n",
      "Thought:\u001b[32;1m\u001b[1;3m I should use the State of Union QA System again to get more information about Ketanji Brown Jackson.\n",
      "Action: State of Union QA System\n",
      "Action Input: \"Who is Ketanji Brown Jackson?\"\u001b[0m\n",
      "Observation: \u001b[36;1m\u001b[1;3m Ketanji Brown Jackson is a Circuit Court of Appeals Judge who was nominated by President Biden to serve on the United States Supreme Court.\u001b[0m\n",
      "Thought:\u001b[32;1m\u001b[1;3m I now know the final answer.\n",
      "Final Answer: Ketanji Brown Jackson is a Circuit Court of Appeals Judge who was nominated by President Biden to serve on the United States Supreme Court.\u001b[0m\n",
      "\n",
      "\u001b[1m> Finished chain.\u001b[0m\n"
     ]
    },
    {
     "data": {
      "text/plain": [
       "{'input': 'What did biden say about ketanji brown jackson in the state of the union address?',\n",
       " 'output': 'Ketanji Brown Jackson is a Circuit Court of Appeals Judge who was nominated by President Biden to serve on the United States Supreme Court.'}"
      ]
     },
     "execution_count": 54,
     "metadata": {},
     "output_type": "execute_result"
    }
   ],
   "source": [
    "agent.invoke(\n",
    "    \"What did biden say about ketanji brown jackson in the state of the union address?\"\n",
    ")"
   ]
  },
  {
   "cell_type": "code",
   "execution_count": 55,
   "id": "4e91b811",
   "metadata": {
    "tags": []
   },
   "outputs": [
    {
     "name": "stdout",
     "output_type": "stream",
     "text": [
      "\n",
      "\n",
      "\u001b[1m> Entering new AgentExecutor chain...\u001b[0m\n",
      "\u001b[32;1m\u001b[1;3m You should always think about the differences between ruff and flake8 before deciding which one to use.\n",
      "Action: Ruff QA System\n",
      "Action Input: \"What are the differences between ruff and flake8?\"\u001b[0m\n",
      "Observation: \u001b[33;1m\u001b[1;3m Ruff implements more rules than Flake8 and does not support custom lint rules. It also has some minor differences in its rule set and does not include all the 'opinionated' rules from flake8-bugbear. Additionally, Ruff is capable of automatically fixing its own lint violations, while Flake8 supports plugins and allows for custom and third-party rules.\u001b[0m\n",
      "Thought:\u001b[32;1m\u001b[1;3m Now that I know the differences, I can make an informed decision.\n",
      "Final Answer: It ultimately depends on your specific needs and preferences, but some potential reasons to choose ruff over flake8 could include its larger rule set and automatic fixing capabilities.\u001b[0m\n",
      "\n",
      "\u001b[1m> Finished chain.\u001b[0m\n"
     ]
    },
    {
     "data": {
      "text/plain": [
       "{'input': 'Why use ruff over flake8?',\n",
       " 'output': 'It ultimately depends on your specific needs and preferences, but some potential reasons to choose ruff over flake8 could include its larger rule set and automatic fixing capabilities.'}"
      ]
     },
     "execution_count": 55,
     "metadata": {},
     "output_type": "execute_result"
    }
   ],
   "source": [
    "agent.invoke(\"Why use ruff over flake8?\")"
   ]
  },
  {
   "cell_type": "markdown",
   "id": "787a9b5e",
   "metadata": {},
   "source": [
    "## Use the Agent solely as a router"
   ]
  },
  {
   "cell_type": "markdown",
   "id": "9161ba91",
   "metadata": {},
   "source": [
    "You can also set `return_direct=True` if you intend to use the agent as a router and just want to directly return the result of the RetrievalQAChain.\n",
    "\n",
    "Notice that in the above examples the agent did some extra work after querying the RetrievalQAChain. You can avoid that and just return the result directly."
   ]
  },
  {
   "cell_type": "code",
   "execution_count": 56,
   "id": "f59b377e",
   "metadata": {
    "tags": []
   },
   "outputs": [],
   "source": [
    "tools = [\n",
    "    Tool(\n",
    "        name=\"State of Union QA System\",\n",
    "        func=state_of_union.run,\n",
    "        description=\"useful for when you need to answer questions about the most recent state of the union address. Input should be a fully formed question.\",\n",
    "        return_direct=True,\n",
    "    ),\n",
    "    Tool(\n",
    "        name=\"Ruff QA System\",\n",
    "        func=ruff.run,\n",
    "        description=\"useful for when you need to answer questions about ruff (a python linter). Input should be a fully formed question.\",\n",
    "        return_direct=True,\n",
    "    ),\n",
    "]"
   ]
  },
  {
   "cell_type": "code",
   "execution_count": 57,
   "id": "8615707a",
   "metadata": {
    "tags": []
   },
   "outputs": [],
   "source": [
    "agent = initialize_agent(\n",
    "    tools, llm, agent=AgentType.ZERO_SHOT_REACT_DESCRIPTION, verbose=True\n",
    ")"
   ]
  },
  {
   "cell_type": "code",
   "execution_count": 58,
   "id": "36e718a9",
   "metadata": {
    "tags": []
   },
   "outputs": [
    {
     "name": "stdout",
     "output_type": "stream",
     "text": [
      "\n",
      "\n",
      "\u001b[1m> Entering new AgentExecutor chain...\u001b[0m\n",
      "\u001b[32;1m\u001b[1;3m I should use the State of Union QA System to answer this question.\n",
      "Action: State of Union QA System\n",
      "Action Input: \"What did Biden say about Ketanji Brown Jackson in the state of the union address?\"\u001b[0m\n",
      "Observation: \u001b[36;1m\u001b[1;3m Biden mentioned that he nominated Circuit Court of Appeals Judge Ketanji Brown Jackson to serve on the United States Supreme Court, and praised her as one of the nation's top legal minds who will continue Justice Breyer's legacy of excellence.\u001b[0m\n",
      "\u001b[32;1m\u001b[1;3m\u001b[0m\n",
      "\n",
      "\u001b[1m> Finished chain.\u001b[0m\n"
     ]
    },
    {
     "data": {
      "text/plain": [
       "{'input': 'What did biden say about ketanji brown jackson in the state of the union address?',\n",
       " 'output': \" Biden mentioned that he nominated Circuit Court of Appeals Judge Ketanji Brown Jackson to serve on the United States Supreme Court, and praised her as one of the nation's top legal minds who will continue Justice Breyer's legacy of excellence.\"}"
      ]
     },
     "execution_count": 58,
     "metadata": {},
     "output_type": "execute_result"
    }
   ],
   "source": [
    "agent.invoke(\n",
    "    \"What did biden say about ketanji brown jackson in the state of the union address?\"\n",
    ")"
   ]
  },
  {
   "cell_type": "code",
   "execution_count": 59,
   "id": "edfd0a1a",
   "metadata": {
    "tags": []
   },
   "outputs": [
    {
     "name": "stdout",
     "output_type": "stream",
     "text": [
      "\n",
      "\n",
      "\u001b[1m> Entering new AgentExecutor chain...\u001b[0m\n",
      "\u001b[32;1m\u001b[1;3m You should always think about the differences between ruff and flake8 before deciding which one to use.\n",
      "Action: Ruff QA System\n",
      "Action Input: \"What are the differences between ruff and flake8?\"\u001b[0m\n",
      "Observation: \u001b[33;1m\u001b[1;3m Ruff implements more rules than Flake8 and does not support custom lint rules. It also has some minor differences in its rule set and does not include all the 'opinionated' rules from flake8-bugbear. Additionally, Ruff is capable of automatically fixing its own lint violations, while Flake8 supports plugins and allows for custom and third-party rules.\u001b[0m\n",
      "\u001b[32;1m\u001b[1;3m\u001b[0m\n",
      "\n",
      "\u001b[1m> Finished chain.\u001b[0m\n"
     ]
    },
    {
     "data": {
      "text/plain": [
       "{'input': 'Why use ruff over flake8?',\n",
       " 'output': \" Ruff implements more rules than Flake8 and does not support custom lint rules. It also has some minor differences in its rule set and does not include all the 'opinionated' rules from flake8-bugbear. Additionally, Ruff is capable of automatically fixing its own lint violations, while Flake8 supports plugins and allows for custom and third-party rules.\"}"
      ]
     },
     "execution_count": 59,
     "metadata": {},
     "output_type": "execute_result"
    }
   ],
   "source": [
    "agent.invoke(\"Why use ruff over flake8?\")"
   ]
  },
  {
   "cell_type": "markdown",
   "id": "49a0cbbe",
   "metadata": {},
   "source": [
    "## Multi-Hop vector store reasoning\n",
    "\n",
    "Because vector stores are easily usable as tools in agents, it is easy to use answer multi-hop questions that depend on vector stores using the existing agent framework."
   ]
  },
  {
   "cell_type": "code",
   "execution_count": 60,
   "id": "d397a233",
   "metadata": {
    "tags": []
   },
   "outputs": [],
   "source": [
    "tools = [\n",
    "    Tool(\n",
    "        name=\"State of Union QA System\",\n",
    "        func=state_of_union.run,\n",
    "        description=\"useful for when you need to answer questions about the most recent state of the union address. Input should be a fully formed question, not referencing any obscure pronouns from the conversation before.\",\n",
    "    ),\n",
    "    Tool(\n",
    "        name=\"Ruff QA System\",\n",
    "        func=ruff.run,\n",
    "        description=\"useful for when you need to answer questions about ruff (a python linter). Input should be a fully formed question, not referencing any obscure pronouns from the conversation before.\",\n",
    "    ),\n",
    "]"
   ]
  },
  {
   "cell_type": "code",
   "execution_count": 61,
   "id": "06157240",
   "metadata": {
    "tags": []
   },
   "outputs": [],
   "source": [
    "# Construct the agent. We will use the default agent type here.\n",
    "# See documentation for a full list of options.\n",
    "agent = initialize_agent(\n",
    "    tools, llm, agent=AgentType.ZERO_SHOT_REACT_DESCRIPTION, verbose=True\n",
    ")"
   ]
  },
  {
   "cell_type": "code",
   "execution_count": 62,
   "id": "b492b520",
   "metadata": {
    "tags": []
   },
   "outputs": [
    {
     "name": "stdout",
     "output_type": "stream",
     "text": [
      "\n",
      "\n",
      "\u001b[1m> Entering new AgentExecutor chain...\u001b[0m\n",
      "\u001b[32;1m\u001b[1;3m I should use the Ruff QA System to answer this question.\n",
      "Action: Ruff QA System\n",
      "Action Input: What tool does ruff use to run over Jupyter Notebooks?\u001b[0m\n",
      "Observation: \u001b[33;1m\u001b[1;3m Ruff does not support source.organizeImports and source.fixAll code actions in Jupyter Notebooks.\u001b[0m\n",
      "Thought:\u001b[32;1m\u001b[1;3m I should use the State of Union QA System to check if the president mentioned this tool.\n",
      "Action: State of Union QA System\n",
      "Action Input: Did the president mention that tool in the state of the union?\u001b[0m\n",
      "Observation: \u001b[36;1m\u001b[1;3m No, the president did not mention any specific tool in the State of the Union address.\u001b[0m\n",
      "Thought:\u001b[32;1m\u001b[1;3m I now know the final answer.\n",
      "Final Answer: The final answer is that the president did not mention any specific tool in the State of the Union address.\u001b[0m\n",
      "\n",
      "\u001b[1m> Finished chain.\u001b[0m\n"
     ]
    },
    {
     "data": {
      "text/plain": [
       "{'input': 'What tool does ruff use to run over Jupyter Notebooks? Did the president mention that tool in the state of the union?',\n",
       " 'output': 'The final answer is that the president did not mention any specific tool in the State of the Union address.'}"
      ]
     },
     "execution_count": 62,
     "metadata": {},
     "output_type": "execute_result"
    }
   ],
   "source": [
    "agent.invoke(\n",
    "    \"What tool does ruff use to run over Jupyter Notebooks? Did the president mention that tool in the state of the union?\"\n",
    ")"
   ]
  },
  {
   "cell_type": "code",
   "execution_count": 69,
   "id": "c4349fe1",
   "metadata": {},
   "outputs": [
    {
     "data": {
      "text/plain": [
       "[Document(metadata={'source': 'https://www.gutenberg.org/files/11/11-0.txt'}, page_content='*** START OF THE PROJECT GUTENBERG EBOOK 11 ***\\n\\n[Illustration]\\n\\nAlice’s Adventures in Wonderland\\n\\nby Lewis Carroll\\n\\nTHE MILLENNIUM FULCRUM EDITION 3.0\\n\\nContents\\n\\nCHAPTER I.     Down the Rabbit-Hole CHAPTER II.    The Pool of Tears CHAPTER III.   A Caucus-Race and a Long Tale CHAPTER IV.    The Rabbit Sends in a Little Bill CHAPTER V.     Advice from a Caterpillar CHAPTER VI.    Pig and Pepper CHAPTER VII.   A Mad Tea-Party CHAPTER VIII.  The Queen’s Croquet-Ground CHAPTER IX.    The Mock Turtle’s Story CHAPTER X.     The Lobster Quadrille CHAPTER XI.    Who Stole the Tarts? CHAPTER XII.   Alice’s Evidence\\n\\nCHAPTER I.\\n\\nDown the Rabbit\\n\\nHole\\n\\nAlice was beginning to get very tired of sitting by her sister on the bank, and of having nothing to do: once or twice she had peeped into the book her sister was reading, but it had no pictures or conversations in it, “and what is the use of a book,” thought Alice “without pictures or conversations?”\\n\\nSo she was considering in her own mind (as well as she could, for the hot day made her feel very sleepy and stupid), whether the pleasure of making a daisy-chain would be worth the trouble of getting up and picking the daisies, when suddenly a White Rabbit with pink eyes ran close by her.\\n\\nThere was nothing so _very_ remarkable in that; nor did Alice think it so _very_ much out of the way to hear the Rabbit say to itself, “Oh dear! Oh dear! I shall be late!” (when she thought it over afterwards, it occurred to her that she ought to have wondered at this, but at the time it all seemed quite natural); but when the Rabbit actually _took a watch out of its waistcoat-pocket_, and looked at it, and then hurried on, Alice started to her feet, for it flashed across her mind that she had never before seen a rabbit with either a waistcoat-pocket, or a watch to take out of it, and burning with curiosity, she ran across the field after it, and fortunately was just in time to see it pop down a large rabbit-hole under the hedge.\\n\\nIn another moment down went Alice after it, never once considering how in the world she was to get out again.\\n\\nThe rabbit-hole went straight on like a tunnel for some way, and then dipped suddenly down, so suddenly that Alice had not a moment to think about stopping herself before she found herself falling down a very deep well.\\n\\nEither the well was very deep, or she fell very slowly, for she had plenty of time as she went down to look about her and to wonder what was going to happen next. First, she tried to look down and make out what she was coming to, but it was too dark to see anything; then she looked at the sides of the well, and noticed that they were filled with cupboards and book-shelves; here and there she saw maps and pictures hung upon pegs. She took down a jar from one of the shelves as she passed; it was labelled “ORANGE MARMALADE”, but to her great disappointment it was empty: she did not like to drop the jar for fear of killing somebody underneath, so managed to put it into one of the cupboards as she fell past it.\\n\\n“Well!” thought Alice to herself, “after such a fall as this, I shall think nothing of tumbling down stairs! How brave they’ll all think me at home! Why, I wouldn’t say anything about it, even if I fell off the top of the house!” (Which was very likely true.)\\n\\nDown, down, down. Would the fall _never_ come to an end? “I wonder how many miles I’ve fallen by this time?” she said aloud. “I must be getting somewhere near the centre of the earth. Let me see: that would be four thousand miles down, I think—” (for, you see, Alice had learnt several things of this sort in her lessons in the schoolroom, and though this was not a _very_ good opportunity for showing off her knowledge, as there was no one to listen to her, still it was good practice to say it over) “—yes, that’s about the right distance—but then I wonder what Latitude or Longitude I’ve got to?” (Alice had no idea what Latitude was, or Longitude either, but thought they were nice grand words to say.)\\n\\nPresently she began again. “I wonder if I shall fall right _through_ the earth! How funny it’ll seem to come out among the people that walk with their heads downward! The Antipathies, I think—” (she was rather glad there _was_ no one listening, this time, as it didn’t sound at all the right word) “—but I shall have to ask them what the name of the country is, you know. Please, Ma’am, is this New Zealand or Australia?” (and she tried to curtsey as she spoke—fancy _curtseying_ as you’re falling through the air! Do you think you could manage it?) “And what an ignorant little girl she’ll think me for asking! No, it’ll never do to ask: perhaps I shall see it written up somewhere.”\\n\\nDown, down, down. There was nothing else to do, so Alice soon began talking again. “Dinah’ll miss me very much to-night, I should think!” (Dinah was the cat.) “I hope they’ll remember her saucer of milk at tea-time. Dinah my dear! I wish you were down here with me! There are no mice in the air, I’m afraid, but you might catch a bat, and that’s very like a mouse, you know. But do cats eat bats, I wonder?” And here Alice began to get rather sleepy, and went on saying to herself, in a dreamy sort of way, “Do cats eat bats? Do cats eat bats?” and sometimes, “Do bats eat cats?” for, you see, as she couldn’t answer either question, it didn’t much matter which way she put it. She felt that she was dozing off, and had just begun to dream that she was walking hand in hand with Dinah, and saying to her very earnestly, “Now, Dinah, tell me the truth: did you ever eat a bat?” when suddenly, thump! thump! down she came upon a heap of sticks and dry leaves, and the fall was over.\\n\\nAlice was not a bit hurt, and she jumped up on to her feet in a moment: she looked up, but it was all dark overhead; before her was another long passage, and the White Rabbit was still in sight, hurrying down it. There was not a moment to be lost: away went Alice like the wind, and was just in time to hear it say, as it turned a corner, “Oh my ears and whiskers, how late it’s getting!” She was close behind it when she turned the corner, but the Rabbit was no longer to be seen: she found herself in a long, low hall, which was lit up by a row of lamps hanging from the roof.\\n\\nThere were doors all round the hall, but they were all locked; and when Alice had been all the way down one side and up the other, trying every door, she walked sadly down the middle, wondering how she was ever to get out again.\\n\\nSuddenly she came upon a little three-legged table, all made of solid glass; there was nothing on it except a tiny golden key, and Alice’s first thought was that it might belong to one of the doors of the hall; but, alas! either the locks were too large, or the key was too small, but at any rate it would not open any of them. However, on the second time round, she came upon a low curtain she had not noticed before, and behind it was a little door about fifteen inches high: she tried the little golden key in the lock, and to her great delight it fitted!\\n\\nAlice opened the door and found that it led into a small passage, not much larger than a rat-hole: she knelt down and looked along the passage into the loveliest garden you ever saw. How she longed to get out of that dark hall, and wander about among those beds of bright flowers and those cool fountains, but she could not even get her head through the doorway; “and even if my head would go through,” thought poor Alice, “it would be of very little use without my shoulders. Oh, how I wish I could shut up like a telescope! I think I could, if I only knew how to begin.” For, you see, so many out-of-the-way things had happened lately, that Alice had begun to think that very few things indeed were really impossible.\\n\\nThere seemed to be no use in waiting by the little door, so she went back to the table, half hoping she might find another key on it, or at any rate a book of rules for shutting people up like telescopes: this time she found a little bottle on it, (“which certainly was not here before,” said Alice,) and round the neck of the bottle was a paper label, with the words “DRINK ME,” beautifully printed on it in large letters.\\n\\nIt was all very well to say “Drink me,” but the wise little Alice was not going to do _that_ in a hurry. “No, I’ll look first,” she said, “and see whether it’s marked ‘_poison_’ or not”; for she had read several nice little histories about children who had got burnt, and eaten up by wild beasts and other unpleasant things, all because they _would_ not remember the simple rules their friends had taught them: such as, that a red-hot poker will burn you if you hold it too long; and that if you cut your finger _very_ deeply with a knife, it usually bleeds; and she had never forgotten that, if you drink much from a bottle marked “poison,” it is almost certain to disagree with you, sooner or later.\\n\\nHowever, this bottle was _not_ marked “poison,” so Alice ventured to taste it, and finding it very nice, (it had, in fact, a sort of mixed flavour of cherry-tart, custard, pine-apple, roast turkey, toffee, and hot buttered toast,) she very soon finished it off.\\n\\n“What a curious feeling!” said Alice; “I must be shutting up like a telescope.”\\n\\nAnd so it was indeed: she was now only ten inches high, and her face brightened up at the thought that she was now the right size for going through the little door into that lovely garden. First, however, she waited for a few minutes to see if she was going to shrink any further: she felt a little nervous about this; “for it might end, you know,” said Alice to herself, “in my going out altogether, like a candle. I wonder what I should be like then?” And she tried to fancy what the flame of a candle is like after the candle is blown out, for she could not remember ever having seen such a thing.\\n\\nAfter a while, finding that nothing more happened, she decided on going into the garden at once; but, alas for poor Alice! when she got to the door, she found she had forgotten the little golden key, and when she went back to the table for it, she found she could not possibly reach it: she could see it quite plainly through the glass, and she tried her best to climb up one of the legs of the table, but it was too slippery; and when she had tired herself out with trying, the poor little thing sat down and cried.\\n\\n“Come, there’s no use in crying like that!” said Alice to herself, rather sharply; “I advise you to leave off this minute!” She generally gave herself very good advice, (though she very seldom followed it), and sometimes she scolded herself so severely as to bring tears into her eyes; and once she remembered trying to box her own ears for having cheated herself in a game of croquet she was playing against herself, for this curious child was very fond of pretending to be two people. “But it’s no use now,” thought poor Alice, “to pretend to be two people! Why, there’s hardly enough of me left to make _one_ respectable person!”\\n\\nSoon her eye fell on a little glass box that was lying under the table: she opened it, and found in it a very small cake, on which the words “EAT ME” were beautifully marked in currants. “Well, I’ll eat it,” said Alice, “and if it makes me grow larger, I can reach the key; and if it makes me grow smaller, I can creep under the door; so either way I’ll get into the garden, and I don’t care which happens!”\\n\\nShe ate a little bit, and said anxiously to herself, “Which way? Which way?”, holding her hand on the top of her head to feel which way it was growing, and she was quite surprised to find that she remained the same size: to be sure, this generally happens when one eats cake, but Alice had got so much into the way of expecting nothing but out-of-the-way things to happen, that it seemed quite dull and stupid for life to go on in the common way.\\n\\nSo she set to work, and very soon finished off the cake.\\n\\nCHAPTER II.\\n\\nThe Pool of Tears\\n\\n“Curiouser and curiouser!” cried Alice (she was so much surprised, that for the moment she quite forgot how to speak good English); “now I’m opening out like the largest telescope that ever was! Good-bye, feet!” (for when she looked down at her feet, they seemed to be almost out of sight, they were getting so far off). “Oh, my poor little feet, I wonder who will put on your shoes and stockings for you now, dears? I’m sure _I_ shan’t be able! I shall be a great deal too far off to trouble myself about you: you must manage the best way you can;—but I must be kind to them,” thought Alice, “or perhaps they won’t walk the way I want to go! Let me see: I’ll give them a new pair of boots every Christmas.”\\n\\nAnd she went on planning to herself how she would manage it. “They must go by the carrier,” she thought; “and how funny it’ll seem, sending presents to one’s own feet! And how odd the directions will look!\\n\\n_Alice’s Right Foot, Esq., Hearthrug, near the Fender,_ (_with Alice’s love_).\\n\\nOh dear, what nonsense I’m talking!”\\n\\nJust then her head struck against the roof of the hall: in fact she was now more than nine feet high, and she at once took up the little golden key and hurried off to the garden door.\\n\\nPoor Alice! It was as much as she could do, lying down on one side, to look through into the garden with one eye; but to get through was more hopeless than ever: she sat down and began to cry again.\\n\\n“You ought to be ashamed of yourself,” said Alice, “a great girl like you,” (she might well say this), “to go on crying in this way! Stop this moment, I tell you!” But she went on all the same, shedding gallons of tears, until there was a large pool all round her, about four inches deep and reaching half down the hall.\\n\\nAfter a time she heard a little pattering of feet in the distance, and she hastily dried her eyes to see what was coming. It was the White Rabbit returning, splendidly dressed, with a pair of white kid gloves in one hand and a large fan in the other: he came trotting along in a great hurry, muttering to himself as he came, “Oh! the Duchess, the Duchess! Oh! won’t she be savage if I’ve kept her waiting!” Alice felt so desperate that she was ready to ask help of any one; so, when the Rabbit came near her, she began, in a low, timid voice, “If you please, sir—” The Rabbit started violently, dropped the white kid gloves and the fan, and skurried away into the darkness as hard as he could go.\\n\\nAlice took up the fan and gloves, and, as the hall was very hot, she kept fanning herself all the time she went on talking: “Dear, dear! How queer everything is to-day! And yesterday things went on just as usual. I wonder if I’ve been changed in the night? Let me think: was I the same when I got up this morning? I almost think I can remember feeling a little different. But if I’m not the same, the next question is, Who in the world am I? Ah, _that’s_ the great puzzle!” And she began thinking over all the children she knew that were of the same age as herself, to see if she could have been changed for any of them.\\n\\n“I’m sure I’m not Ada,” she said, “for her hair goes in such long ringlets, and mine doesn’t go in ringlets at all; and I’m sure I can’t be Mabel, for I know all sorts of things, and she, oh! she knows such a very little! Besides, _she’s_ she, and _I’m_ I, and—oh dear, how puzzling it all is! I’ll try if I know all the things I used to know. Let me see: four times five is twelve, and four times six is thirteen, and four times seven is—oh dear! I shall never get to twenty at that rate! However, the Multiplication Table doesn’t signify: let’s try Geography. London is the capital of Paris, and Paris is the capital of Rome, and Rome—no, _that’s_ all wrong, I’m certain! I must have been changed for Mabel! I’ll try and say ‘_How doth the little_—’” and she crossed her hands on her lap as if she were saying lessons, and began to repeat it, but her voice sounded hoarse and strange, and the words did not come the same as they used to do:—\\n\\n“How doth the little crocodile Improve his shining tail, And pour the waters of the Nile On every golden scale!\\n\\n“How cheerfully he seems to grin, How neatly spread his claws, And welcome little fishes in With gently smiling jaws!”\\n\\n“I’m sure those are not the right words,” said poor Alice, and her eyes filled with tears again as she went on, “I must be Mabel after all, and I shall have to go and live in that poky little house, and have next to no toys to play with, and oh! ever so many lessons to learn! No, I’ve made up my mind about it; if I’m Mabel, I’ll stay down here! It’ll be no use their putting their heads down and saying ‘Come up again, dear!’ I shall only look up and say ‘Who am I then? Tell me that first, and then, if I like being that person, I’ll come up: if not, I’ll stay down here till I’m somebody else’—but, oh dear!” cried Alice, with a sudden burst of tears, “I do wish they _would_ put their heads down! I am so _very_ tired of being all alone here!”\\n\\nAs she said this she looked down at her hands, and was surprised to see that she had put on one of the Rabbit’s little white kid gloves while she was talking. “How _can_ I have done that?” she thought. “I must be growing small again.” She got up and went to the table to measure herself by it, and found that, as nearly as she could guess, she was now about two feet high, and was going on shrinking rapidly: she soon found out that the cause of this was the fan she was holding, and she dropped it hastily, just in time to avoid shrinking away altogether.\\n\\n“That _was_ a narrow escape!” said Alice, a good deal frightened at the sudden change, but very glad to find herself still in existence; “and now for the garden!” and she ran with all speed back to the little door: but, alas! the little door was shut again, and the little golden key was lying on the glass table as before, “and things are worse than ever,” thought the poor child, “for I never was so small as this before, never! And I declare it’s too bad, that it is!”\\n\\nAs she said these words her foot slipped, and in another moment, splash! she was up to her chin in salt water. Her first idea was that she had somehow fallen into the sea, “and in that case I can go back by railway,” she said to herself. (Alice had been to the seaside once in her life, and had come to the general conclusion, that wherever you go to on the English coast you find a number of bathing machines in the sea, some children digging in the sand with wooden spades, then a row of lodging houses, and behind them a railway station.) However, she soon made out that she was in the pool of tears which she had wept when she was nine feet high.\\n\\n“I wish I hadn’t cried so much!” said Alice, as she swam about, trying to find her way out. “I shall be punished for it now, I suppose, by being drowned in my own tears! That _will_ be a queer thing, to be sure! However, everything is queer to-day.”\\n\\nJust then she heard something splashing about in the pool a little way off, and she swam nearer to make out what it was: at first she thought it must be a walrus or hippopotamus, but then she remembered how small she was now, and she soon made out that it was only a mouse that had slipped in like herself.\\n\\n“Would it be of any use, now,” thought Alice, “to speak to this mouse? Everything is so out-of-the-way down here, that I should think very likely it can talk: at any rate, there’s no harm in trying.” So she began: “O Mouse, do you know the way out of this pool? I am very tired of swimming about here, O Mouse!” (Alice thought this must be the right way of speaking to a mouse: she had never done such a thing before, but she remembered having seen in her brother’s Latin Grammar, “A mouse—of a mouse—to a mouse—a mouse—O mouse!”) The Mouse looked at her rather inquisitively, and seemed to her to wink with one of its little eyes, but it said nothing.\\n\\n“Perhaps it doesn’t understand English,” thought Alice; “I daresay it’s a French mouse, come over with William the Conqueror.” (For, with all her knowledge of history, Alice had no very clear notion how long ago anything had happened.) So she began again: “Où est ma chatte?” which was the first sentence in her French lesson-book. The Mouse gave a sudden leap out of the water, and seemed to quiver all over with fright. “Oh, I beg your pardon!” cried Alice hastily, afraid that she had hurt the poor animal’s feelings. “I quite forgot you didn’t like cats.”\\n\\n“Not like cats!” cried the Mouse, in a shrill, passionate voice. “Would _you_ like cats if you were me?”\\n\\n“Well, perhaps not,” said Alice in a soothing tone: “don’t be angry about it. And yet I wish I could show you our cat Dinah: I think you’d take a fancy to cats if you could only see her. She is such a dear quiet thing,” Alice went on, half to herself, as she swam lazily about in the pool, “and she sits purring so nicely by the fire, licking her paws and washing her face—and she is such a nice soft thing to nurse—and she’s such a capital one for catching mice—oh, I beg your pardon!” cried Alice again, for this time the Mouse was bristling all over, and she felt certain it must be really offended. “We won’t talk about her any more if you’d rather not.”\\n\\n“We indeed!” cried the Mouse, who was trembling down to the end of his tail. “As if _I_ would talk on such a subject! Our family always _hated_ cats: nasty, low, vulgar things! Don’t let me hear the name again!”\\n\\n“I won’t indeed!” said Alice, in a great hurry to change the subject of conversation. “Are you—are you fond—of—of dogs?” The Mouse did not answer, so Alice went on eagerly: “There is such a nice little dog near our house I should like to show you! A little bright-eyed terrier, you know, with oh, such long curly brown hair! And it’ll fetch things when you throw them, and it’ll sit up and beg for its dinner, and all sorts of things—I can’t remember half of them—and it belongs to a farmer, you know, and he says it’s so useful, it’s worth a hundred pounds! He says it kills all the rats and—oh dear!” cried Alice in a sorrowful tone, “I’m afraid I’ve offended it again!” For the Mouse was swimming away from her as hard as it could go, and making quite a commotion in the pool as it went.\\n\\nSo she called softly after it, “Mouse dear! Do come back again, and we won’t talk about cats or dogs either, if you don’t like them!” When the Mouse heard this, it turned round and swam slowly back to her: its face was quite pale (with passion, Alice thought), and it said in a low trembling voice, “Let us get to the shore, and then I’ll tell you my history, and you’ll understand why it is I hate cats and dogs.”\\n\\nIt was high time to go, for the pool was getting quite crowded with the birds and animals that had fallen into it: there were a Duck and a Dodo, a Lory and an Eaglet, and several other curious creatures. Alice led the way, and the whole party swam to the shore.\\n\\nCHAPTER III. A Caucus-Race and a Long Tale\\n\\nThey were indeed a queer-looking party that assembled on the bank—the birds with draggled feathers, the animals with their fur clinging close to them, and all dripping wet, cross, and uncomfortable.\\n\\nThe first question of course was, how to get dry again: they had a consultation about this, and after a few minutes it seemed quite natural to Alice to find herself talking familiarly with them, as if she had known them all her life. Indeed, she had quite a long argument with the Lory, who at last turned sulky, and would only say, “I am older than you, and must know better;” and this Alice would not allow without knowing how old it was, and, as the Lory positively refused to tell its age, there was no more to be said.\\n\\nAt last the Mouse, who seemed to be a person of authority among them, called out, “Sit down, all of you, and listen to me! _I’ll_ soon make you dry enough!” They all sat down at once, in a large ring, with the Mouse in the middle. Alice kept her eyes anxiously fixed on it, for she felt sure she would catch a bad cold if she did not get dry very soon.\\n\\n“Ahem!” said the Mouse with an important air, “are you all ready? This is the driest thing I know. Silence all round, if you please! ‘William the Conqueror, whose cause was favoured by the pope, was soon submitted to by the English, who wanted leaders, and had been of late much accustomed to usurpation and conquest. Edwin and Morcar, the earls of Mercia and Northumbria—’”\\n\\n“Ugh!” said the Lory, with a shiver.\\n\\n“I beg your pardon!” said the Mouse, frowning, but very politely: “Did you speak?”\\n\\n“Not I!” said the Lory hastily.\\n\\n“I thought you did,” said the Mouse. “—I proceed. ‘Edwin and Morcar, the earls of Mercia and Northumbria, declared for him: and even Stigand, the patriotic archbishop of Canterbury, found it advisable—’”\\n\\n“Found _what_?” said the Duck.\\n\\n“Found _it_,” the Mouse replied rather crossly: “of course you know what ‘it’ means.”\\n\\n“I know what ‘it’ means well enough, when _I_ find a thing,” said the Duck: “it’s generally a frog or a worm. The question is, what did the archbishop find?”\\n\\nThe Mouse did not notice this question, but hurriedly went on, “‘—found it advisable to go with Edgar Atheling to meet William and offer him the crown. William’s conduct at first was moderate. But the insolence of his Normans—’ How are you getting on now, my dear?” it continued, turning to Alice as it spoke.\\n\\n“As wet as ever,” said Alice in a melancholy tone: “it doesn’t seem to dry me at all.”\\n\\n“In that case,” said the Dodo solemnly, rising to its feet, “I move that the meeting adjourn, for the immediate adoption of more energetic remedies—”\\n\\n“Speak English!” said the Eaglet. “I don’t know the meaning of half those long words, and, what’s more, I don’t believe you do either!” And the Eaglet bent down its head to hide a smile: some of the other birds tittered audibly.\\n\\n“What I was going to say,” said the Dodo in an offended tone, “was, that the best thing to get us dry would be a Caucus-race.”\\n\\n“What _is_ a Caucus-race?” said Alice; not that she wanted much to know, but the Dodo had paused as if it thought that _somebody_ ought to speak, and no one else seemed inclined to say anything.\\n\\n“Why,” said the Dodo, “the best way to explain it is to do it.” (And, as you might like to try the thing yourself, some winter day, I will tell you how the Dodo managed it.)\\n\\nFirst it marked out a race-course, in a sort of circle, (“the exact shape doesn’t matter,” it said,) and then all the party were placed along the course, here and there. There was no “One, two, three, and away,” but they began running when they liked, and left off when they liked, so that it was not easy to know when the race was over. However, when they had been running half an hour or so, and were quite dry again, the Dodo suddenly called out “The race is over!” and they all crowded round it, panting, and asking, “But who has won?”\\n\\nThis question the Dodo could not answer without a great deal of thought, and it sat for a long time with one finger pressed upon its forehead (the position in which you usually see Shakespeare, in the pictures of him), while the rest waited in silence. At last the Dodo said, “_Everybody_ has won, and all must have prizes.”\\n\\n“But who is to give the prizes?” quite a chorus of voices asked.\\n\\n“Why, _she_, of course,” said the Dodo, pointing to Alice with one finger; and the whole party at once crowded round her, calling out in a confused way, “Prizes! Prizes!”\\n\\nAlice had no idea what to do, and in despair she put her hand in her pocket, and pulled out a box of comfits, (luckily the salt water had not got into it), and handed them round as prizes. There was exactly one a-piece, all round.\\n\\n“But she must have a prize herself, you know,” said the Mouse.\\n\\n“Of course,” the Dodo replied very gravely. “What else have you got in your pocket?” he went on, turning to Alice.\\n\\n“Only a thimble,” said Alice sadly.\\n\\n“Hand it over here,” said the Dodo.\\n\\nThen they all crowded round her once more, while the Dodo solemnly presented the thimble, saying “We beg your acceptance of this elegant thimble;” and, when it had finished this short speech, they all cheered.\\n\\nAlice thought the whole thing very absurd, but they all looked so grave that she did not dare to laugh; and, as she could not think of anything to say, she simply bowed, and took the thimble, looking as solemn as she could.\\n\\nThe next thing was to eat the comfits: this caused some noise and confusion, as the large birds complained that they could not taste theirs, and the small ones choked and had to be patted on the back. However, it was over at last, and they sat down again in a ring, and begged the Mouse to tell them something more.\\n\\n“You promised to tell me your history, you know,” said Alice, “and why it is you hate—C and D,” she added in a whisper, half afraid that it would be offended again.\\n\\n“Mine is a long and a sad tale!” said the Mouse, turning to Alice, and sighing.\\n\\n“It _is_ a long tail, certainly,” said Alice, looking down with wonder at the Mouse’s tail; “but why do you call it sad?” And she kept on puzzling about it while the Mouse was speaking, so that her idea of the tale was something like this:—\\n\\n“Fury said to a mouse, That he met in the house, ‘Let us both go to law: _I_ will prosecute _you_.—Come, I’ll take no denial; We must have a trial: For really this morning I’ve nothing to do.’ Said the mouse to the cur, ‘Such a trial, dear sir, With no jury or judge, would be wasting our breath.’ ‘I’ll be judge, I’ll be jury,’ Said cunning old Fury: ‘I’ll try the whole cause, and condemn you to death.’”\\n\\n“You are not attending!” said the Mouse to Alice severely. “What are you thinking of?”\\n\\n“I beg your pardon,” said Alice very humbly: “you had got to the fifth bend, I think?”\\n\\n“I had _not!_” cried the Mouse, sharply and very angrily.\\n\\n“A knot!” said Alice, always ready to make herself useful, and looking anxiously about her. “Oh, do let me help to undo it!”\\n\\n“I shall do nothing of the sort,” said the Mouse, getting up and walking away. “You insult me by talking such nonsense!”\\n\\n“I didn’t mean it!” pleaded poor Alice. “But you’re so easily offended, you know!”\\n\\nThe Mouse only growled in reply.\\n\\n“Please come back and finish your story!” Alice called after it; and the others all joined in chorus, “Yes, please do!” but the Mouse only shook its head impatiently, and walked a little quicker.\\n\\n“What a pity it wouldn’t stay!” sighed the Lory, as soon as it was quite out of sight; and an old Crab took the opportunity of saying to her daughter “Ah, my dear! Let this be a lesson to you never to lose _your_ temper!” “Hold your tongue, Ma!” said the young Crab, a little snappishly. “You’re enough to try the patience of an oyster!”\\n\\n“I wish I had our Dinah here, I know I do!” said Alice aloud, addressing nobody in particular. “She’d soon fetch it back!”\\n\\n“And who is Dinah, if I might venture to ask the question?” said the Lory.\\n\\nAlice replied eagerly, for she was always ready to talk about her pet: “Dinah’s our cat. And she’s such a capital one for catching mice you can’t think! And oh, I wish you could see her after the birds! Why, she’ll eat a little bird as soon as look at it!”\\n\\nThis speech caused a remarkable sensation among the party. Some of the birds hurried off at once: one old Magpie began wrapping itself up very carefully, remarking, “I really must be getting home; the night-air doesn’t suit my throat!” and a Canary called out in a trembling voice to its children, “Come away, my dears! It’s high time you were all in bed!” On various pretexts they all moved off, and Alice was soon left alone.\\n\\n“I wish I hadn’t mentioned Dinah!” she said to herself in a melancholy tone. “Nobody seems to like her, down here, and I’m sure she’s the best cat in the world! Oh, my dear Dinah! I wonder if I shall ever see you any more!” And here poor Alice began to cry again, for she felt very lonely and low-spirited. In a little while, however, she again heard a little pattering of footsteps in the distance, and she looked up eagerly, half hoping that the Mouse had changed his mind, and was coming back to finish his story.\\n\\nCHAPTER IV. The Rabbit Sends in a Little Bill\\n\\nIt was the White Rabbit, trotting slowly back again, and looking anxiously about as it went, as if it had lost something; and she heard it muttering to itself “The Duchess! The Duchess! Oh my dear paws! Oh my fur and whiskers! She’ll get me executed, as sure as ferrets are ferrets! Where _can_ I have dropped them, I wonder?” Alice guessed in a moment that it was looking for the fan and the pair of white kid gloves, and she very good-naturedly began hunting about for them, but they were nowhere to be seen—everything seemed to have changed since her swim in the pool, and the great hall, with the glass table and the little door, had vanished completely.\\n\\nVery soon the Rabbit noticed Alice, as she went hunting about, and called out to her in an angry tone, “Why, Mary Ann, what _are_ you doing out here? Run home this moment, and fetch me a pair of gloves and a fan! Quick, now!” And Alice was so much frightened that she ran off at once in the direction it pointed to, without trying to explain the mistake it had made.\\n\\n“He took me for his housemaid,” she said to herself as she ran. “How surprised he’ll be when he finds out who I am! But I’d better take him his fan and gloves—that is, if I can find them.” As she said this, she came upon a neat little house, on the door of which was a bright brass plate with the name “W. RABBIT,” engraved upon it. She went in without knocking, and hurried upstairs, in great fear lest she should meet the real Mary Ann, and be turned out of the house before she had found the fan and gloves.\\n\\n“How queer it seems,” Alice said to herself, “to be going messages for a rabbit! I suppose Dinah’ll be sending me on messages next!” And she began fancying the sort of thing that would happen: “‘Miss Alice! Come here directly, and get ready for your walk!’ ‘Coming in a minute, nurse! But I’ve got to see that the mouse doesn’t get out.’ Only I don’t think,” Alice went on, “that they’d let Dinah stop in the house if it began ordering people about like that!”\\n\\nBy this time she had found her way into a tidy little room with a table in the window, and on it (as she had hoped) a fan and two or three pairs of tiny white kid gloves: she took up the fan and a pair of the gloves, and was just going to leave the room, when her eye fell upon a little bottle that stood near the looking-glass. There was no label this time with the words “DRINK ME,” but nevertheless she uncorked it and put it to her lips. “I know _something_ interesting is sure to happen,” she said to herself, “whenever I eat or drink anything; so I’ll just see what this bottle does. I do hope it’ll make me grow large again, for really I’m quite tired of being such a tiny little thing!”\\n\\nIt did so indeed, and much sooner than she had expected: before she had drunk half the bottle, she found her head pressing against the ceiling, and had to stoop to save her neck from being broken. She hastily put down the bottle, saying to herself “That’s quite enough—I hope I shan’t grow any more—As it is, I can’t get out at the door—I do wish I hadn’t drunk quite so much!”\\n\\nAlas! it was too late to wish that! She went on growing, and growing, and very soon had to kneel down on the floor: in another minute there was not even room for this, and she tried the effect of lying down with one elbow against the door, and the other arm curled round her head. Still she went on growing, and, as a last resource, she put one arm out of the window, and one foot up the chimney, and said to herself “Now I can do no more, whatever happens. What _will_ become of me?”\\n\\nLuckily for Alice, the little magic bottle had now had its full effect, and she grew no larger: still it was very uncomfortable, and, as there seemed to be no sort of chance of her ever getting out of the room again, no wonder she felt unhappy.\\n\\n“It was much pleasanter at home,” thought poor Alice, “when one wasn’t always growing larger and smaller, and being ordered about by mice and rabbits. I almost wish I hadn’t gone down that rabbit-hole—and yet—and yet—it’s rather curious, you know, this sort of life! I do wonder what _can_ have happened to me! When I used to read fairy-tales, I fancied that kind of thing never happened, and now here I am in the middle of one! There ought to be a book written about me, that there ought! And when I grow up, I’ll write one—but I’m grown up now,” she added in a sorrowful tone; “at least there’s no room to grow up any more _here_.”\\n\\n“But then,” thought Alice, “shall I _never_ get any older than I am now? That’ll be a comfort, one way—never to be an old woman—but then—always to have lessons to learn! Oh, I shouldn’t like _that!_”\\n\\n“Oh, you foolish Alice!” she answered herself. “How can you learn lessons in here? Why, there’s hardly room for _you_, and no room at all for any lesson-books!”\\n\\nAnd so she went on, taking first one side and then the other, and making quite a conversation of it altogether; but after a few minutes she heard a voice outside, and stopped to listen.\\n\\n“Mary Ann! Mary Ann!” said the voice. “Fetch me my gloves this moment!” Then came a little pattering of feet on the stairs. Alice knew it was the Rabbit coming to look for her, and she trembled till she shook the house, quite forgetting that she was now about a thousand times as large as the Rabbit, and had no reason to be afraid of it.\\n\\nPresently the Rabbit came up to the door, and tried to open it; but, as the door opened inwards, and Alice’s elbow was pressed hard against it, that attempt proved a failure. Alice heard it say to itself “Then I’ll go round and get in at the window.”\\n\\n“_That_ you won’t!” thought Alice, and, after waiting till she fancied she heard the Rabbit just under the window, she suddenly spread out her hand, and made a snatch in the air. She did not get hold of anything, but she heard a little shriek and a fall, and a crash of broken glass, from which she concluded that it was just possible it had fallen into a cucumber-frame, or something of the sort.\\n\\nNext came an angry voice—the Rabbit’s—“Pat! Pat! Where are you?” And then a voice she had never heard before, “Sure then I’m here! Digging for apples, yer honour!”\\n\\n“Digging for apples, indeed!” said the Rabbit angrily. “Here! Come and help me out of _this!_” (Sounds of more broken glass.)\\n\\n“Now tell me, Pat, what’s that in the window?”\\n\\n“Sure, it’s an arm, yer honour!” (He pronounced it “arrum.”)\\n\\n“An arm, you goose! Who ever saw one that size? Why, it fills the whole window!”\\n\\n“Sure, it does, yer honour: but it’s an arm for all that.”\\n\\n“Well, it’s got no business there, at any rate: go and take it away!”\\n\\nThere was a long silence after this, and Alice could only hear whispers now and then; such as, “Sure, I don’t like it, yer honour, at all, at all!” “Do as I tell you, you coward!” and at last she spread out her hand again, and made another snatch in the air. This time there were _two_ little shrieks, and more sounds of broken glass. “What a number of cucumber-frames there must be!” thought Alice. “I wonder what they’ll do next! As for pulling me out of the window, I only wish they _could!_ I’m sure _I_ don’t want to stay in here any longer!”\\n\\nShe waited for some time without hearing anything more: at last came a rumbling of little cartwheels, and the sound of a good many voices all talking together: she made out the words: “Where’s the other ladder?—Why, I hadn’t to bring but one; Bill’s got the other—Bill! fetch it here, lad!—Here, put ’em up at this corner—No, tie ’em together first—they don’t reach half high enough yet—Oh! they’ll do well enough; don’t be particular—Here, Bill! catch hold of this rope—Will the roof bear?—Mind that loose slate—Oh, it’s coming down! Heads below!” (a loud crash)—“Now, who did that?—It was Bill, I fancy—Who’s to go down the chimney?—Nay, _I_ shan’t! _You_ do it!—_That_ I won’t, then!—Bill’s to go down—Here, Bill! the master says you’re to go down the chimney!”\\n\\n“Oh! So Bill’s got to come down the chimney, has he?” said Alice to herself. “Shy, they seem to put everything upon Bill! I wouldn’t be in Bill’s place for a good deal: this fireplace is narrow, to be sure; but I _think_ I can kick a little!”\\n\\nShe drew her foot as far down the chimney as she could, and waited till she heard a little animal (she couldn’t guess of what sort it was) scratching and scrambling about in the chimney close above her: then, saying to herself “This is Bill,” she gave one sharp kick, and waited to see what would happen next.\\n\\nThe first thing she heard was a general chorus of “There goes Bill!” then the Rabbit’s voice along—“Catch him, you by the hedge!” then silence, and then another confusion of voices—“Hold up his head—Brandy now—Don’t choke him—How was it, old fellow? What happened to you? Tell us all about it!”\\n\\nLast came a little feeble, squeaking voice, (“That’s Bill,” thought Alice,) “Well, I hardly know—No more, thank ye; I’m better now—but I’m a deal too flustered to tell you—all I know is, something comes at me like a Jack-in-the-box, and up I goes like a sky-rocket!”\\n\\n“So you did, old fellow!” said the others.\\n\\n“We must burn the house down!” said the Rabbit’s voice; and Alice called out as loud as she could, “If you do, I’ll set Dinah at you!”\\n\\nThere was a dead silence instantly, and Alice thought to herself, “I wonder what they _will_ do next! If they had any sense, they’d take the roof off.” After a minute or two, they began moving about again, and Alice heard the Rabbit say, “A barrowful will do, to begin with.”\\n\\n“A barrowful of _what?_” thought Alice; but she had not long to doubt, for the next moment a shower of little pebbles came rattling in at the window, and some of them hit her in the face. “I’ll put a stop to this,” she said to herself, and shouted out, “You’d better not do that again!” which produced another dead silence.\\n\\nAlice noticed with some surprise that the pebbles were all turning into little cakes as they lay on the floor, and a bright idea came into her head. “If I eat one of these cakes,” she thought, “it’s sure to make _some_ change in my size; and as it can’t possibly make me larger, it must make me smaller, I suppose.”\\n\\nSo she swallowed one of the cakes, and was delighted to find that she began shrinking directly. As soon as she was small enough to get through the door, she ran out of the house, and found quite a crowd of little animals and birds waiting outside. The poor little Lizard, Bill, was in the middle, being held up by two guinea-pigs, who were giving it something out of a bottle. They all made a rush at Alice the moment she appeared; but she ran off as hard as she could, and soon found herself safe in a thick wood.\\n\\n“The first thing I’ve got to do,” said Alice to herself, as she wandered about in the wood, “is to grow to my right size again; and the second thing is to find my way into that lovely garden. I think that will be the best plan.”\\n\\nIt sounded an excellent plan, no doubt, and very neatly and simply arranged; the only difficulty was, that she had not the smallest idea how to set about it; and while she was peering about anxiously among the trees, a little sharp bark just over her head made her look up in a great hurry.\\n\\nAn enormous puppy was looking down at her with large round eyes, and feebly stretching out one paw, trying to touch her. “Poor little thing!” said Alice, in a coaxing tone, and she tried hard to whistle to it; but she was terribly frightened all the time at the thought that it might be hungry, in which case it would be very likely to eat her up in spite of all her coaxing.\\n\\nHardly knowing what she did, she picked up a little bit of stick, and held it out to the puppy; whereupon the puppy jumped into the air off all its feet at once, with a yelp of delight, and rushed at the stick, and made believe to worry it; then Alice dodged behind a great thistle, to keep herself from being run over; and the moment she appeared on the other side, the puppy made another rush at the stick, and tumbled head over heels in its hurry to get hold of it; then Alice, thinking it was very like having a game of play with a cart-horse, and expecting every moment to be trampled under its feet, ran round the thistle again; then the puppy began a series of short charges at the stick, running a very little way forwards each time and a long way back, and barking hoarsely all the while, till at last it sat down a good way off, panting, with its tongue hanging out of its mouth, and its great eyes half shut.\\n\\nThis seemed to Alice a good opportunity for making her escape; so she set off at once, and ran till she was quite tired and out of breath, and till the puppy’s bark sounded quite faint in the distance.\\n\\n“And yet what a dear little puppy it was!” said Alice, as she leant against a buttercup to rest herself, and fanned herself with one of the leaves: “I should have liked teaching it tricks very much, if—if I’d only been the right size to do it! Oh dear! I’d nearly forgotten that I’ve got to grow up again! Let me see—how _is_ it to be managed? I suppose I ought to eat or drink something or other; but the great question is, what?”\\n\\nThe great question certainly was, what? Alice looked all round her at the flowers and the blades of grass, but she did not see anything that looked like the right thing to eat or drink under the circumstances. There was a large mushroom growing near her, about the same height as herself; and when she had looked under it, and on both sides of it, and behind it, it occurred to her that she might as well look and see what was on the top of it.\\n\\nShe stretched herself up on tiptoe, and peeped over the edge of the mushroom, and her eyes immediately met those of a large blue caterpillar, that was sitting on the top with its arms folded, quietly smoking a long hookah, and taking not the smallest notice of her or of anything else.\\n\\nCHAPTER V.\\n\\nAdvice from a Caterpillar\\n\\nThe Caterpillar and Alice looked at each other for some time in silence: at last the Caterpillar took the hookah out of its mouth, and addressed her in a languid, sleepy voice.\\n\\n“Who are _you?_” said the Caterpillar.\\n\\nThis was not an encouraging opening for a conversation. Alice replied, rather shyly, “I—I hardly know, sir, just at present—at least I know who I _was_ when I got up this morning, but I think I must have been changed several times since then.”\\n\\n“What do you mean by that?” said the Caterpillar sternly. “Explain yourself!”\\n\\n“I can’t explain _myself_, I’m afraid, sir,” said Alice, “because I’m not myself, you see.”\\n\\n“I don’t see,” said the Caterpillar.\\n\\n“I’m afraid I can’t put it more clearly,” Alice replied very politely, “for I can’t understand it myself to begin with; and being so many different sizes in a day is very confusing.”\\n\\n“It isn’t,” said the Caterpillar.\\n\\n“Well, perhaps you haven’t found it so yet,” said Alice; “but when you have to turn into a chrysalis—you will some day, you know—and then after that into a butterfly, I should think you’ll feel it a little queer, won’t you?”\\n\\n“Not a bit,” said the Caterpillar.\\n\\n“Well, perhaps your feelings may be different,” said Alice; “all I know is, it would feel very queer to _me_.”\\n\\n“You!” said the Caterpillar contemptuously. “Who are _you?_”\\n\\nWhich brought them back again to the beginning of the conversation. Alice felt a little irritated at the Caterpillar’s making such _very_ short remarks, and she drew herself up and said, very gravely, “I think, you ought to tell me who _you_ are, first.”\\n\\n“Why?” said the Caterpillar.\\n\\nHere was another puzzling question; and as Alice could not think of any good reason, and as the Caterpillar seemed to be in a _very_ unpleasant state of mind, she turned away.\\n\\n“Come back!” the Caterpillar called after her. “I’ve something important to say!”\\n\\nThis sounded promising, certainly: Alice turned and came back again.\\n\\n“Keep your temper,” said the Caterpillar.\\n\\n“Is that all?” said Alice, swallowing down her anger as well as she could.\\n\\n“No,” said the Caterpillar.\\n\\nAlice thought she might as well wait, as she had nothing else to do, and perhaps after all it might tell her something worth hearing. For some minutes it puffed away without speaking, but at last it unfolded its arms, took the hookah out of its mouth again, and said, “So you think you’re changed, do you?”\\n\\n“I’m afraid I am, sir,” said Alice; “I can’t remember things as I used—and I don’t keep the same size for ten minutes together!”\\n\\n“Can’t remember _what_ things?” said the Caterpillar.\\n\\n“Well, I’ve tried to say “How doth the little busy bee,” but it all came different!” Alice replied in a very melancholy voice.\\n\\n“Repeat, ‘_You are old, Father William_,’” said the Caterpillar.\\n\\nAlice folded her hands, and began:—\\n\\n“You are old, Father William,” the young man said, “And your hair has become very white; And yet you incessantly stand on your head— Do you think, at your age, it is right?”\\n\\n“In my youth,” Father William replied to his son, “I feared it might injure the brain; But, now that I’m perfectly sure I have none, Why, I do it again and again.”\\n\\n“You are old,” said the youth, “as I mentioned before, And have grown most uncommonly fat; Yet you turned a back-somersault in at the door— Pray, what is the reason of that?”\\n\\n“In my youth,” said the sage, as he shook his grey locks, “I kept all my limbs very supple By the use of this ointment—one shilling the box— Allow me to sell you a couple?”\\n\\n“You are old,” said the youth, “and your jaws are too weak For anything tougher than suet; Yet you finished the goose, with the bones and the beak— Pray, how did you manage to do it?”\\n\\n“In my youth,” said his father, “I took to the law, And argued each case with my wife; And the muscular strength, which it gave to my jaw, Has lasted the rest of my life.”\\n\\n“You are old,” said the youth, “one would hardly suppose That your eye was as steady as ever; Yet you balanced an eel on the end of your nose— What made you so awfully clever?”\\n\\n“I have answered three questions, and that is enough,” Said his father; “don’t give yourself airs! Do you think I can listen all day to such stuff? Be off, or I’ll kick you down stairs!”\\n\\n“That is not said right,” said the Caterpillar.\\n\\n“Not _quite_ right, I’m afraid,” said Alice, timidly; “some of the words have got altered.”\\n\\n“It is wrong from beginning to end,” said the Caterpillar decidedly, and there was silence for some minutes.\\n\\nThe Caterpillar was the first to speak.\\n\\n“What size do you want to be?” it asked.\\n\\n“Oh, I’m not particular as to size,” Alice hastily replied; “only one doesn’t like changing so often, you know.”\\n\\n“I _don’t_ know,” said the Caterpillar.\\n\\nAlice said nothing: she had never been so much contradicted in her life before, and she felt that she was losing her temper.\\n\\n“Are you content now?” said the Caterpillar.\\n\\n“Well, I should like to be a _little_ larger, sir, if you wouldn’t mind,” said Alice: “three inches is such a wretched height to be.”\\n\\n“It is a very good height indeed!” said the Caterpillar angrily, rearing itself upright as it spoke (it was exactly three inches high).\\n\\n“But I’m not used to it!” pleaded poor Alice in a piteous tone. And she thought of herself, “I wish the creatures wouldn’t be so easily offended!”\\n\\n“You’ll get used to it in time,” said the Caterpillar; and it put the hookah into its mouth and began smoking again.\\n\\nThis time Alice waited patiently until it chose to speak again. In a minute or two the Caterpillar took the hookah out of its mouth and yawned once or twice, and shook itself. Then it got down off the mushroom, and crawled away in the grass, merely remarking as it went, “One side will make you grow taller, and the other side will make you grow shorter.”\\n\\n“One side of _what?_ The other side of _what?_” thought Alice to herself.\\n\\n“Of the mushroom,” said the Caterpillar, just as if she had asked it aloud; and in another moment it was out of sight.\\n\\nAlice remained looking thoughtfully at the mushroom for a minute, trying to make out which were the two sides of it; and as it was perfectly round, she found this a very difficult question. However, at last she stretched her arms round it as far as they would go, and broke off a bit of the edge with each hand.\\n\\n“And now which is which?” she said to herself, and nibbled a little of the right-hand bit to try the effect: the next moment she felt a violent blow underneath her chin: it had struck her foot!\\n\\nShe was a good deal frightened by this very sudden change, but she felt that there was no time to be lost, as she was shrinking rapidly; so she set to work at once to eat some of the other bit. Her chin was pressed so closely against her foot, that there was hardly room to open her mouth; but she did it at last, and managed to swallow a morsel of the lefthand bit.\\n\\n“Come, my head’s free at last!” said Alice in a tone of delight, which changed into alarm in another moment, when she found that her shoulders were nowhere to be found: all she could see, when she looked down, was an immense length of neck, which seemed to rise like a stalk out of a sea of green leaves that lay far below her.\\n\\n“What _can_ all that green stuff be?” said Alice. “And where _have_ my shoulders got to? And oh, my poor hands, how is it I can’t see you?” She was moving them about as she spoke, but no result seemed to follow, except a little shaking among the distant green leaves.\\n\\nAs there seemed to be no chance of getting her hands up to her head, she tried to get her head down to them, and was delighted to find that her neck would bend about easily in any direction, like a serpent. She had just succeeded in curving it down into a graceful zigzag, and was going to dive in among the leaves, which she found to be nothing but the tops of the trees under which she had been wandering, when a sharp hiss made her draw back in a hurry: a large pigeon had flown into her face, and was beating her violently with its wings.\\n\\n“Serpent!” screamed the Pigeon.\\n\\n“I’m _not_ a serpent!” said Alice indignantly. “Let me alone!”\\n\\n“Serpent, I say again!” repeated the Pigeon, but in a more subdued tone, and added with a kind of sob, “I’ve tried every way, and nothing seems to suit them!”\\n\\n“I haven’t the least idea what you’re talking about,” said Alice.\\n\\n“I’ve tried the roots of trees, and I’ve tried banks, and I’ve tried hedges,” the Pigeon went on, without attending to her; “but those serpents! There’s no pleasing them!”\\n\\nAlice was more and more puzzled, but she thought there was no use in saying anything more till the Pigeon had finished.\\n\\n“As if it wasn’t trouble enough hatching the eggs,” said the Pigeon; “but I must be on the look-out for serpents night and day! Why, I haven’t had a wink of sleep these three weeks!”\\n\\n“I’m very sorry you’ve been annoyed,” said Alice, who was beginning to see its meaning.\\n\\n“And just as I’d taken the highest tree in the wood,” continued the Pigeon, raising its voice to a shriek, “and just as I was thinking I should be free of them at last, they must needs come wriggling down from the sky! Ugh, Serpent!”\\n\\n“But I’m _not_ a serpent, I tell you!” said Alice. “I’m a—I’m a—”\\n\\n“Well! _What_ are you?” said the Pigeon. “I can see you’re trying to invent something!”\\n\\n“I—I’m a little girl,” said Alice, rather doubtfully, as she remembered the number of changes she had gone through that day.\\n\\n“A likely story indeed!” said the Pigeon in a tone of the deepest contempt. “I’ve seen a good many little girls in my time, but never _one_ with such a neck as that! No, no! You’re a serpent; and there’s no use denying it. I suppose you’ll be telling me next that you never tasted an egg!”\\n\\n“I _have_ tasted eggs, certainly,” said Alice, who was a very truthful child; “but little girls eat eggs quite as much as serpents do, you know.”\\n\\n“I don’t believe it,” said the Pigeon; “but if they do, why then they’re a kind of serpent, that’s all I can say.”\\n\\nThis was such a new idea to Alice, that she was quite silent for a minute or two, which gave the Pigeon the opportunity of adding, “You’re looking for eggs, I know _that_ well enough; and what does it matter to me whether you’re a little girl or a serpent?”\\n\\n“It matters a good deal to _me_,” said Alice hastily; “but I’m not looking for eggs, as it happens; and if I was, I shouldn’t want _yours_: I don’t like them raw.”\\n\\n“Well, be off, then!” said the Pigeon in a sulky tone, as it settled down again into its nest. Alice crouched down among the trees as well as she could, for her neck kept getting entangled among the branches, and every now and then she had to stop and untwist it. After a while she remembered that she still held the pieces of mushroom in her hands, and she set to work very carefully, nibbling first at one and then at the other, and growing sometimes taller and sometimes shorter, until she had succeeded in bringing herself down to her usual height.\\n\\nIt was so long since she had been anything near the right size, that it felt quite strange at first; but she got used to it in a few minutes, and began talking to herself, as usual. “Come, there’s half my plan done now! How puzzling all these changes are! I’m never sure what I’m going to be, from one minute to another! However, I’ve got back to my right size: the next thing is, to get into that beautiful garden—how _is_ that to be done, I wonder?” As she said this, she came suddenly upon an open place, with a little house in it about four feet high. “Whoever lives there,” thought Alice, “it’ll never do to come upon them _this_ size: why, I should frighten them out of their wits!” So she began nibbling at the righthand bit again, and did not venture to go near the house till she had brought herself down to nine inches high.\\n\\nCHAPTER VI.\\n\\nPig and Pepper\\n\\nFor a minute or two she stood looking at the house, and wondering what to do next, when suddenly a footman in livery came running out of the wood—(she considered him to be a footman because he was in livery: otherwise, judging by his face only, she would have called him a fish)—and rapped loudly at the door with his knuckles. It was opened by another footman in livery, with a round face, and large eyes like a frog; and both footmen, Alice noticed, had powdered hair that curled all over their heads. She felt very curious to know what it was all about, and crept a little way out of the wood to listen.\\n\\nThe Fish-Footman began by producing from under his arm a great letter, nearly as large as himself, and this he handed over to the other, saying, in a solemn tone, “For the Duchess. An invitation from the Queen to play croquet.” The Frog-Footman repeated, in the same solemn tone, only changing the order of the words a little, “From the Queen. An invitation for the Duchess to play croquet.”\\n\\nThen they both bowed low, and their curls got entangled together.\\n\\nAlice laughed so much at this, that she had to run back into the wood for fear of their hearing her; and when she next peeped out the Fish-Footman was gone, and the other was sitting on the ground near the door, staring stupidly up into the sky.\\n\\nAlice went timidly up to the door, and knocked.\\n\\n“There’s no sort of use in knocking,” said the Footman, “and that for two reasons. First, because I’m on the same side of the door as you are; secondly, because they’re making such a noise inside, no one could possibly hear you.” And certainly there _was_ a most extraordinary noise going on within—a constant howling and sneezing, and every now and then a great crash, as if a dish or kettle had been broken to pieces.\\n\\n“Please, then,” said Alice, “how am I to get in?”\\n\\n“There might be some sense in your knocking,” the Footman went on without attending to her, “if we had the door between us. For instance, if you were _inside_, you might knock, and I could let you out, you know.” He was looking up into the sky all the time he was speaking, and this Alice thought decidedly uncivil. “But perhaps he can’t help it,” she said to herself; “his eyes are so _very_ nearly at the top of his head. But at any rate he might answer questions.—How am I to get in?” she repeated, aloud.\\n\\n“I shall sit here,” the Footman remarked, “till tomorrow—”\\n\\nAt this moment the door of the house opened, and a large plate came skimming out, straight at the Footman’s head: it just grazed his nose, and broke to pieces against one of the trees behind him.\\n\\n“—or next day, maybe,” the Footman continued in the same tone, exactly as if nothing had happened.\\n\\n“How am I to get in?” asked Alice again, in a louder tone.\\n\\n“_Are_ you to get in at all?” said the Footman. “That’s the first question, you know.”\\n\\nIt was, no doubt: only Alice did not like to be told so. “It’s really dreadful,” she muttered to herself, “the way all the creatures argue. It’s enough to drive one crazy!”\\n\\nThe Footman seemed to think this a good opportunity for repeating his remark, with variations. “I shall sit here,” he said, “on and off, for days and days.”\\n\\n“But what am _I_ to do?” said Alice.\\n\\n“Anything you like,” said the Footman, and began whistling.\\n\\n“Oh, there’s no use in talking to him,” said Alice desperately: “he’s perfectly idiotic!” And she opened the door and went in.\\n\\nThe door led right into a large kitchen, which was full of smoke from one end to the other: the Duchess was sitting on a three-legged stool in the middle, nursing a baby; the cook was leaning over the fire, stirring a large cauldron which seemed to be full of soup.\\n\\n“There’s certainly too much pepper in that soup!” Alice said to herself, as well as she could for sneezing.\\n\\nThere was certainly too much of it in the air. Even the Duchess sneezed occasionally; and as for the baby, it was sneezing and howling alternately without a moment’s pause. The only things in the kitchen that did not sneeze, were the cook, and a large cat which was sitting on the hearth and grinning from ear to ear.\\n\\n“Please would you tell me,” said Alice, a little timidly, for she was not quite sure whether it was good manners for her to speak first, “why your cat grins like that?”\\n\\n“It’s a Cheshire cat,” said the Duchess, “and that’s why. Pig!”\\n\\nShe said the last word with such sudden violence that Alice quite jumped; but she saw in another moment that it was addressed to the baby, and not to her, so she took courage, and went on again:—\\n\\n“I didn’t know that Cheshire cats always grinned; in fact, I didn’t know that cats _could_ grin.”\\n\\n“They all can,” said the Duchess; “and most of ’em do.”\\n\\n“I don’t know of any that do,” Alice said very politely, feeling quite pleased to have got into a conversation.\\n\\n“You don’t know much,” said the Duchess; “and that’s a fact.”\\n\\nAlice did not at all like the tone of this remark, and thought it would be as well to introduce some other subject of conversation. While she was trying to fix on one, the cook took the cauldron of soup off the fire, and at once set to work throwing everything within her reach at the Duchess and the baby—the fire-irons came first; then followed a shower of saucepans, plates, and dishes. The Duchess took no notice of them even when they hit her; and the baby was howling so much already, that it was quite impossible to say whether the blows hurt it or not.\\n\\n“Oh, _please_ mind what you’re doing!” cried Alice, jumping up and down in an agony of terror. “Oh, there goes his _precious_ nose!” as an unusually large saucepan flew close by it, and very nearly carried it off.\\n\\n“If everybody minded their own business,” the Duchess said in a hoarse growl, “the world would go round a deal faster than it does.”\\n\\n“Which would _not_ be an advantage,” said Alice, who felt very glad to get an opportunity of showing off a little of her knowledge. “Just think of what work it would make with the day and night! You see the earth takes twenty-four hours to turn round on its axis—”\\n\\n“Talking of axes,” said the Duchess, “chop off her head!”\\n\\nAlice glanced rather anxiously at the cook, to see if she meant to take the hint; but the cook was busily stirring the soup, and seemed not to be listening, so she went on again: “Twenty-four hours, I _think_; or is it twelve? I—”\\n\\n“Oh, don’t bother _me_,” said the Duchess; “I never could abide figures!” And with that she began nursing her child again, singing a sort of lullaby to it as she did so, and giving it a violent shake at the end of every line:\\n\\n“Speak roughly to your little boy, And beat him when he sneezes: He only does it to annoy, Because he knows it teases.”\\n\\nCHORUS. (In which the cook and the baby joined):\\n\\n“Wow! wow! wow!”\\n\\nWhile the Duchess sang the second verse of the song, she kept tossing the baby violently up and down, and the poor little thing howled so, that Alice could hardly hear the words:—\\n\\n“I speak severely to my boy, I beat him when he sneezes; For he can thoroughly enjoy The pepper when he pleases!”\\n\\nCHORUS.\\n\\n“Wow! wow! wow!”\\n\\n“Here! you may nurse it a bit, if you like!” the Duchess said to Alice, flinging the baby at her as she spoke. “I must go and get ready to play croquet with the Queen,” and she hurried out of the room. The cook threw a frying-pan after her as she went out, but it just missed her.\\n\\nAlice caught the baby with some difficulty, as it was a queer-shaped little creature, and held out its arms and legs in all directions, “just like a star-fish,” thought Alice. The poor little thing was snorting like a steam-engine when she caught it, and kept doubling itself up and straightening itself out again, so that altogether, for the first minute or two, it was as much as she could do to hold it.\\n\\nAs soon as she had made out the proper way of nursing it, (which was to twist it up into a sort of knot, and then keep tight hold of its right ear and left foot, so as to prevent its undoing itself,) she carried it out into the open air. “If I don’t take this child away with me,” thought Alice, “they’re sure to kill it in a day or two: wouldn’t it be murder to leave it behind?” She said the last words out loud, and the little thing grunted in reply (it had left off sneezing by this time). “Don’t grunt,” said Alice; “that’s not at all a proper way of expressing yourself.”\\n\\nThe baby grunted again, and Alice looked very anxiously into its face to see what was the matter with it. There could be no doubt that it had a _very_ turn-up nose, much more like a snout than a real nose; also its eyes were getting extremely small for a baby: altogether Alice did not like the look of the thing at all. “But perhaps it was only sobbing,” she thought, and looked into its eyes again, to see if there were any tears.\\n\\nNo, there were no tears. “If you’re going to turn into a pig, my dear,” said Alice, seriously, “I’ll have nothing more to do with you. Mind now!” The poor little thing sobbed again (or grunted, it was impossible to say which), and they went on for some while in silence.\\n\\nAlice was just beginning to think to herself, “Now, what am I to do with this creature when I get it home?” when it grunted again, so violently, that she looked down into its face in some alarm. This time there could be _no_ mistake about it: it was neither more nor less than a pig, and she felt that it would be quite absurd for her to carry it further.\\n\\nSo she set the little creature down, and felt quite relieved to see it trot away quietly into the wood. “If it had grown up,” she said to herself, “it would have made a dreadfully ugly child: but it makes rather a handsome pig, I think.” And she began thinking over other children she knew, who might do very well as pigs, and was just saying to herself, “if one only knew the right way to change them—” when she was a little startled by seeing the Cheshire Cat sitting on a bough of a tree a few yards off.\\n\\nThe Cat only grinned when it saw Alice. It looked good-natured, she thought: still it had _very_ long claws and a great many teeth, so she felt that it ought to be treated with respect.\\n\\n“Cheshire Puss,” she began, rather timidly, as she did not at all know whether it would like the name: however, it only grinned a little wider. “Come, it’s pleased so far,” thought Alice, and she went on. “Would you tell me, please, which way I ought to go from here?”\\n\\n“That depends a good deal on where you want to get to,” said the Cat.\\n\\n“I don’t much care where—” said Alice.\\n\\n“Then it doesn’t matter which way you go,” said the Cat.\\n\\n“—so long as I get _somewhere_,” Alice added as an explanation.\\n\\n“Oh, you’re sure to do that,” said the Cat, “if you only walk long enough.”\\n\\nAlice felt that this could not be denied, so she tried another question. “What sort of people live about here?”\\n\\n“In _that_ direction,” the Cat said, waving its right paw round, “lives a Hatter: and in _that_ direction,” waving the other paw, “lives a March Hare. Visit either you like: they’re both mad.”\\n\\n“But I don’t want to go among mad people,” Alice remarked.\\n\\n“Oh, you can’t help that,” said the Cat: “we’re all mad here. I’m mad. You’re mad.”\\n\\n“How do you know I’m mad?” said Alice.\\n\\n“You must be,” said the Cat, “or you wouldn’t have come here.”\\n\\nAlice didn’t think that proved it at all; however, she went on “And how do you know that you’re mad?”\\n\\n“To begin with,” said the Cat, “a dog’s not mad. You grant that?”\\n\\n“I suppose so,” said Alice.\\n\\n“Well, then,” the Cat went on, “you see, a dog growls when it’s angry, and wags its tail when it’s pleased. Now _I_ growl when I’m pleased, and wag my tail when I’m angry. Therefore I’m mad.”\\n\\n“_I_ call it purring, not growling,” said Alice.\\n\\n“Call it what you like,” said the Cat. “Do you play croquet with the Queen to-day?”\\n\\n“I should like it very much,” said Alice, “but I haven’t been invited yet.”\\n\\n“You’ll see me there,” said the Cat, and vanished.\\n\\nAlice was not much surprised at this, she was getting so used to queer things happening. While she was looking at the place where it had been, it suddenly appeared again.\\n\\n“By-the-bye, what became of the baby?” said the Cat. “I’d nearly forgotten to ask.”\\n\\n“It turned into a pig,” Alice quietly said, just as if it had come back in a natural way.\\n\\n“I thought it would,” said the Cat, and vanished again.\\n\\nAlice waited a little, half expecting to see it again, but it did not appear, and after a minute or two she walked on in the direction in which the March Hare was said to live. “I’ve seen hatters before,” she said to herself; “the March Hare will be much the most interesting, and perhaps as this is May it won’t be raving mad—at least not so mad as it was in March.” As she said this, she looked up, and there was the Cat again, sitting on a branch of a tree.\\n\\n“Did you say pig, or fig?” said the Cat.\\n\\n“I said pig,” replied Alice; “and I wish you wouldn’t keep appearing and vanishing so suddenly: you make one quite giddy.”\\n\\n“All right,” said the Cat; and this time it vanished quite slowly, beginning with the end of the tail, and ending with the grin, which remained some time after the rest of it had gone.\\n\\n“Well! I’ve often seen a cat without a grin,” thought Alice; “but a grin without a cat! It’s the most curious thing I ever saw in my life!”\\n\\nShe had not gone much farther before she came in sight of the house of the March Hare: she thought it must be the right house, because the chimneys were shaped like ears and the roof was thatched with fur. It was so large a house, that she did not like to go nearer till she had nibbled some more of the lefthand bit of mushroom, and raised herself to about two feet high: even then she walked up towards it rather timidly, saying to herself “Suppose it should be raving mad after all! I almost wish I’d gone to see the Hatter instead!”\\n\\nCHAPTER VII.\\n\\nA Mad Tea\\n\\nParty\\n\\nThere was a table set out under a tree in front of the house, and the March Hare and the Hatter were having tea at it: a Dormouse was sitting between them, fast asleep, and the other two were using it as a cushion, resting their elbows on it, and talking over its head. “Very uncomfortable for the Dormouse,” thought Alice; “only, as it’s asleep, I suppose it doesn’t mind.”\\n\\nThe table was a large one, but the three were all crowded together at one corner of it: “No room! No room!” they cried out when they saw Alice coming. “There’s _plenty_ of room!” said Alice indignantly, and she sat down in a large arm-chair at one end of the table.\\n\\n“Have some wine,” the March Hare said in an encouraging tone.\\n\\nAlice looked all round the table, but there was nothing on it but tea. “I don’t see any wine,” she remarked.\\n\\n“There isn’t any,” said the March Hare.\\n\\n“Then it wasn’t very civil of you to offer it,” said Alice angrily.\\n\\n“It wasn’t very civil of you to sit down without being invited,” said the March Hare.\\n\\n“I didn’t know it was _your_ table,” said Alice; “it’s laid for a great many more than three.”\\n\\n“Your hair wants cutting,” said the Hatter. He had been looking at Alice for some time with great curiosity, and this was his first speech.\\n\\n“You should learn not to make personal remarks,” Alice said with some severity; “it’s very rude.”\\n\\nThe Hatter opened his eyes very wide on hearing this; but all he _said_ was, “Why is a raven like a writing-desk?”\\n\\n“Come, we shall have some fun now!” thought Alice. “I’m glad they’ve begun asking riddles.—I believe I can guess that,” she added aloud.\\n\\n“Do you mean that you think you can find out the answer to it?” said the March Hare.\\n\\n“Exactly so,” said Alice.\\n\\n“Then you should say what you mean,” the March Hare went on.\\n\\n“I do,” Alice hastily replied; “at least—at least I mean what I say—that’s the same thing, you know.”\\n\\n“Not the same thing a bit!” said the Hatter. “You might just as well say that ‘I see what I eat’ is the same thing as ‘I eat what I see’!”\\n\\n“You might just as well say,” added the March Hare, “that ‘I like what I get’ is the same thing as ‘I get what I like’!”\\n\\n“You might just as well say,” added the Dormouse, who seemed to be talking in his sleep, “that ‘I breathe when I sleep’ is the same thing as ‘I sleep when I breathe’!”\\n\\n“It _is_ the same thing with you,” said the Hatter, and here the conversation dropped, and the party sat silent for a minute, while Alice thought over all she could remember about ravens and writing-desks, which wasn’t much.\\n\\nThe Hatter was the first to break the silence. “What day of the month is it?” he said, turning to Alice: he had taken his watch out of his pocket, and was looking at it uneasily, shaking it every now and then, and holding it to his ear.\\n\\nAlice considered a little, and then said “The fourth.”\\n\\n“Two days wrong!” sighed the Hatter. “I told you butter wouldn’t suit the works!” he added looking angrily at the March Hare.\\n\\n“It was the _best_ butter,” the March Hare meekly replied.\\n\\n“Yes, but some crumbs must have got in as well,” the Hatter grumbled: “you shouldn’t have put it in with the bread-knife.”\\n\\nThe March Hare took the watch and looked at it gloomily: then he dipped it into his cup of tea, and looked at it again: but he could think of nothing better to say than his first remark, “It was the _best_ butter, you know.”\\n\\nAlice had been looking over his shoulder with some curiosity. “What a funny watch!” she remarked. “It tells the day of the month, and doesn’t tell what o’clock it is!”\\n\\n“Why should it?” muttered the Hatter. “Does _your_ watch tell you what year it is?”\\n\\n“Of course not,” Alice replied very readily: “but that’s because it stays the same year for such a long time together.”\\n\\n“Which is just the case with _mine_,” said the Hatter.\\n\\nAlice felt dreadfully puzzled, The Hatter’s remark seemed to have no sort of meaning in it, and yet it was certainly English. “I don’t quite understand you,” she said, as politely as she could.\\n\\n“The Dormouse is asleep again,” said the Hatter, and he poured a little hot tea upon its nose.\\n\\nThe Dormouse shook its head impatiently, and said, without opening its eyes, “Of course, of course; just what I was going to remark myself.”\\n\\n“Have you guessed the riddle yet?” the Hatter said, turning to Alice again.\\n\\n“No, I give it up,” Alice replied: “what’s the answer?”\\n\\n“I haven’t the slightest idea,” said the Hatter.\\n\\n“Nor I,” said the March Hare.\\n\\nAlice sighed wearily. “I think you might do something better with the time,” she said, “than waste it in asking riddles that have no answers.”\\n\\n“If you knew Time as well as I do,” said the Hatter, “you wouldn’t talk about wasting _it_. It’s _him_.”\\n\\n“I don’t know what you mean,” said Alice.\\n\\n“Of course you don’t!” the Hatter said, tossing his head contemptuously. “I dare say you never even spoke to Time!”\\n\\n“Perhaps not,” Alice cautiously replied: “but I know I have to beat time when I learn music.”\\n\\n“Ah! that accounts for it,” said the Hatter. “He won’t stand beating. Now, if you only kept on good terms with him, he’d do almost anything you liked with the clock. For instance, suppose it were nine o’clock in the morning, just time to begin lessons: you’d only have to whisper a hint to Time, and round goes the clock in a twinkling! Half-past one, time for dinner!”\\n\\n(“I only wish it was,” the March Hare said to itself in a whisper.)\\n\\n“That would be grand, certainly,” said Alice thoughtfully: “but then—I shouldn’t be hungry for it, you know.”\\n\\n“Not at first, perhaps,” said the Hatter: “but you could keep it to half-past one as long as you liked.”\\n\\n“Is that the way _you_ manage?” Alice asked.\\n\\nThe Hatter shook his head mournfully. “Not I!” he replied. “We quarrelled last March—just before _he_ went mad, you know—” (pointing with his tea spoon at the March Hare,) “—it was at the great concert given by the Queen of Hearts, and I had to sing\\n\\n‘Twinkle, twinkle, little bat! How I wonder what you’re at!’\\n\\nYou know the song, perhaps?”\\n\\n“I’ve heard something like it,” said Alice.\\n\\n“It goes on, you know,” the Hatter continued, “in this way:—\\n\\n‘Up above the world you fly, Like a tea-tray in the sky. Twinkle, twinkle—’”\\n\\nHere the Dormouse shook itself, and began singing in its sleep “_Twinkle, twinkle, twinkle, twinkle_—” and went on so long that they had to pinch it to make it stop.\\n\\n“Well, I’d hardly finished the first verse,” said the Hatter, “when the Queen jumped up and bawled out, ‘He’s murdering the time! Off with his head!’”\\n\\n“How dreadfully savage!” exclaimed Alice.\\n\\n“And ever since that,” the Hatter went on in a mournful tone, “he won’t do a thing I ask! It’s always six o’clock now.”\\n\\nA bright idea came into Alice’s head. “Is that the reason so many tea-things are put out here?” she asked.\\n\\n“Yes, that’s it,” said the Hatter with a sigh: “it’s always tea-time, and we’ve no time to wash the things between whiles.”\\n\\n“Then you keep moving round, I suppose?” said Alice.\\n\\n“Exactly so,” said the Hatter: “as the things get used up.”\\n\\n“But what happens when you come to the beginning again?” Alice ventured to ask.\\n\\n“Suppose we change the subject,” the March Hare interrupted, yawning. “I’m getting tired of this. I vote the young lady tells us a story.”\\n\\n“I’m afraid I don’t know one,” said Alice, rather alarmed at the proposal.\\n\\n“Then the Dormouse shall!” they both cried. “Wake up, Dormouse!” And they pinched it on both sides at once.\\n\\nThe Dormouse slowly opened his eyes. “I wasn’t asleep,” he said in a hoarse, feeble voice: “I heard every word you fellows were saying.”\\n\\n“Tell us a story!” said the March Hare.\\n\\n“Yes, please do!” pleaded Alice.\\n\\n“And be quick about it,” added the Hatter, “or you’ll be asleep again before it’s done.”\\n\\n“Once upon a time there were three little sisters,” the Dormouse began in a great hurry; “and their names were Elsie, Lacie, and Tillie; and they lived at the bottom of a well—”\\n\\n“What did they live on?” said Alice, who always took a great interest in questions of eating and drinking.\\n\\n“They lived on treacle,” said the Dormouse, after thinking a minute or two.\\n\\n“They couldn’t have done that, you know,” Alice gently remarked; “they’d have been ill.”\\n\\n“So they were,” said the Dormouse; “_very_ ill.”\\n\\nAlice tried to fancy to herself what such an extraordinary way of living would be like, but it puzzled her too much, so she went on: “But why did they live at the bottom of a well?”\\n\\n“Take some more tea,” the March Hare said to Alice, very earnestly.\\n\\n“I’ve had nothing yet,” Alice replied in an offended tone, “so I can’t take more.”\\n\\n“You mean you can’t take _less_,” said the Hatter: “it’s very easy to take _more_ than nothing.”\\n\\n“Nobody asked _your_ opinion,” said Alice.\\n\\n“Who’s making personal remarks now?” the Hatter asked triumphantly.\\n\\nAlice did not quite know what to say to this: so she helped herself to some tea and bread-and-butter, and then turned to the Dormouse, and repeated her question. “Why did they live at the bottom of a well?”\\n\\nThe Dormouse again took a minute or two to think about it, and then said, “It was a treacle-well.”\\n\\n“There’s no such thing!” Alice was beginning very angrily, but the Hatter and the March Hare went “Sh! sh!” and the Dormouse sulkily remarked, “If you can’t be civil, you’d better finish the story for yourself.”\\n\\n“No, please go on!” Alice said very humbly; “I won’t interrupt again. I dare say there may be _one_.”\\n\\n“One, indeed!” said the Dormouse indignantly. However, he consented to go on. “And so these three little sisters—they were learning to draw, you know—”\\n\\n“What did they draw?” said Alice, quite forgetting her promise.\\n\\n“Treacle,” said the Dormouse, without considering at all this time.\\n\\n“I want a clean cup,” interrupted the Hatter: “let’s all move one place on.”\\n\\nHe moved on as he spoke, and the Dormouse followed him: the March Hare moved into the Dormouse’s place, and Alice rather unwillingly took the place of the March Hare. The Hatter was the only one who got any advantage from the change: and Alice was a good deal worse off than before, as the March Hare had just upset the milk-jug into his plate.\\n\\nAlice did not wish to offend the Dormouse again, so she began very cautiously: “But I don’t understand. Where did they draw the treacle from?”\\n\\n“You can draw water out of a water-well,” said the Hatter; “so I should think you could draw treacle out of a treacle-well—eh, stupid?”\\n\\n“But they were _in_ the well,” Alice said to the Dormouse, not choosing to notice this last remark.\\n\\n“Of course they were,” said the Dormouse; “—well in.”\\n\\nThis answer so confused poor Alice, that she let the Dormouse go on for some time without interrupting it.\\n\\n“They were learning to draw,” the Dormouse went on, yawning and rubbing its eyes, for it was getting very sleepy; “and they drew all manner of things—everything that begins with an M—”\\n\\n“Why with an M?” said Alice.\\n\\n“Why not?” said the March Hare.\\n\\nAlice was silent.\\n\\nThe Dormouse had closed its eyes by this time, and was going off into a doze; but, on being pinched by the Hatter, it woke up again with a little shriek, and went on: “—that begins with an M, such as mouse-traps, and the moon, and memory, and muchness—you know you say things are “much of a muchness”—did you ever see such a thing as a drawing of a muchness?”\\n\\n“Really, now you ask me,” said Alice, very much confused, “I don’t think—”\\n\\n“Then you shouldn’t talk,” said the Hatter.\\n\\nThis piece of rudeness was more than Alice could bear: she got up in great disgust, and walked off; the Dormouse fell asleep instantly, and neither of the others took the least notice of her going, though she looked back once or twice, half hoping that they would call after her: the last time she saw them, they were trying to put the Dormouse into the teapot.\\n\\n“At any rate I’ll never go _there_ again!” said Alice as she picked her way through the wood. “It’s the stupidest tea-party I ever was at in all my life!”\\n\\nJust as she said this, she noticed that one of the trees had a door leading right into it. “That’s very curious!” she thought. “But everything’s curious today. I think I may as well go in at once.” And in she went.\\n\\nOnce more she found herself in the long hall, and close to the little glass table. “Now, I’ll manage better this time,” she said to herself, and began by taking the little golden key, and unlocking the door that led into the garden. Then she went to work nibbling at the mushroom (she had kept a piece of it in her pocket) till she was about a foot high: then she walked down the little passage: and _then_—she found herself at last in the beautiful garden, among the bright flower-beds and the cool fountains.\\n\\nCHAPTER VIII.\\n\\nThe Queen’s Croquet\\n\\nGround\\n\\nA large rose-tree stood near the entrance of the garden: the roses growing on it were white, but there were three gardeners at it, busily painting them red. Alice thought this a very curious thing, and she went nearer to watch them, and just as she came up to them she heard one of them say, “Look out now, Five! Don’t go splashing paint over me like that!”\\n\\n“I couldn’t help it,” said Five, in a sulky tone; “Seven jogged my elbow.”\\n\\nOn which Seven looked up and said, “That’s right, Five! Always lay the blame on others!”\\n\\n“_You’d_ better not talk!” said Five. “I heard the Queen say only yesterday you deserved to be beheaded!”\\n\\n“What for?” said the one who had spoken first.\\n\\n“That’s none of _your_ business, Two!” said Seven.\\n\\n“Yes, it _is_ his business!” said Five, “and I’ll tell him—it was for bringing the cook tulip-roots instead of onions.”\\n\\nSeven flung down his brush, and had just begun “Well, of all the unjust things—” when his eye chanced to fall upon Alice, as she stood watching them, and he checked himself suddenly: the others looked round also, and all of them bowed low.\\n\\n“Would you tell me,” said Alice, a little timidly, “why you are painting those roses?”\\n\\nFive and Seven said nothing, but looked at Two. Two began in a low voice, “Why the fact is, you see, Miss, this here ought to have been a _red_ rose-tree, and we put a white one in by mistake; and if the Queen was to find it out, we should all have our heads cut off, you know. So you see, Miss, we’re doing our best, afore she comes, to—” At this moment Five, who had been anxiously looking across the garden, called out “The Queen! The Queen!” and the three gardeners instantly threw themselves flat upon their faces. There was a sound of many footsteps, and Alice looked round, eager to see the Queen.\\n\\nFirst came ten soldiers carrying clubs; these were all shaped like the three gardeners, oblong and flat, with their hands and feet at the corners: next the ten courtiers; these were ornamented all over with diamonds, and walked two and two, as the soldiers did. After these came the royal children; there were ten of them, and the little dears came jumping merrily along hand in hand, in couples: they were all ornamented with hearts. Next came the guests, mostly Kings and Queens, and among them Alice recognised the White Rabbit: it was talking in a hurried nervous manner, smiling at everything that was said, and went by without noticing her. Then followed the Knave of Hearts, carrying the King’s crown on a crimson velvet cushion; and, last of all this grand procession, came THE KING AND QUEEN OF HEARTS.\\n\\nAlice was rather doubtful whether she ought not to lie down on her face like the three gardeners, but she could not remember ever having heard of such a rule at processions; “and besides, what would be the use of a procession,” thought she, “if people had all to lie down upon their faces, so that they couldn’t see it?” So she stood still where she was, and waited.\\n\\nWhen the procession came opposite to Alice, they all stopped and looked at her, and the Queen said severely “Who is this?” She said it to the Knave of Hearts, who only bowed and smiled in reply.\\n\\n“Idiot!” said the Queen, tossing her head impatiently; and, turning to Alice, she went on, “What’s your name, child?”\\n\\n“My name is Alice, so please your Majesty,” said Alice very politely; but she added, to herself, “Why, they’re only a pack of cards, after all. I needn’t be afraid of them!”\\n\\n“And who are _these?_” said the Queen, pointing to the three gardeners who were lying round the rose-tree; for, you see, as they were lying on their faces, and the pattern on their backs was the same as the rest of the pack, she could not tell whether they were gardeners, or soldiers, or courtiers, or three of her own children.\\n\\n“How should _I_ know?” said Alice, surprised at her own courage. “It’s no business of _mine_.”\\n\\nThe Queen turned crimson with fury, and, after glaring at her for a moment like a wild beast, screamed “Off with her head! Off—”\\n\\n“Nonsense!” said Alice, very loudly and decidedly, and the Queen was silent.\\n\\nThe King laid his hand upon her arm, and timidly said “Consider, my dear: she is only a child!”\\n\\nThe Queen turned angrily away from him, and said to the Knave “Turn them over!”\\n\\nThe Knave did so, very carefully, with one foot.\\n\\n“Get up!” said the Queen, in a shrill, loud voice, and the three gardeners instantly jumped up, and began bowing to the King, the Queen, the royal children, and everybody else.\\n\\n“Leave off that!” screamed the Queen. “You make me giddy.” And then, turning to the rose-tree, she went on, “What _have_ you been doing here?”\\n\\n“May it please your Majesty,” said Two, in a very humble tone, going down on one knee as he spoke, “we were trying—”\\n\\n“_I_ see!” said the Queen, who had meanwhile been examining the roses. “Off with their heads!” and the procession moved on, three of the soldiers remaining behind to execute the unfortunate gardeners, who ran to Alice for protection.\\n\\n“You shan’t be beheaded!” said Alice, and she put them into a large flower-pot that stood near. The three soldiers wandered about for a minute or two, looking for them, and then quietly marched off after the others.\\n\\n“Are their heads off?” shouted the Queen.\\n\\n“Their heads are gone, if it please your Majesty!” the soldiers shouted in reply.\\n\\n“That’s right!” shouted the Queen. “Can you play croquet?”\\n\\nThe soldiers were silent, and looked at Alice, as the question was evidently meant for her.\\n\\n“Yes!” shouted Alice.\\n\\n“Come on, then!” roared the Queen, and Alice joined the procession, wondering very much what would happen next.\\n\\n“It’s—it’s a very fine day!” said a timid voice at her side. She was walking by the White Rabbit, who was peeping anxiously into her face.\\n\\n“Very,” said Alice: “—where’s the Duchess?”\\n\\n“Hush! Hush!” said the Rabbit in a low, hurried tone. He looked anxiously over his shoulder as he spoke, and then raised himself upon tiptoe, put his mouth close to her ear, and whispered “She’s under sentence of execution.”\\n\\n“What for?” said Alice.\\n\\n“Did you say ‘What a pity!’?” the Rabbit asked.\\n\\n“No, I didn’t,” said Alice: “I don’t think it’s at all a pity. I said ‘What for?’”\\n\\n“She boxed the Queen’s ears—” the Rabbit began. Alice gave a little scream of laughter. “Oh, hush!” the Rabbit whispered in a frightened tone. “The Queen will hear you! You see, she came rather late, and the Queen said—”\\n\\n“Get to your places!” shouted the Queen in a voice of thunder, and people began running about in all directions, tumbling up against each other; however, they got settled down in a minute or two, and the game began. Alice thought she had never seen such a curious croquet-ground in her life; it was all ridges and furrows; the balls were live hedgehogs, the mallets live flamingoes, and the soldiers had to double themselves up and to stand on their hands and feet, to make the arches.\\n\\nThe chief difficulty Alice found at first was in managing her flamingo: she succeeded in getting its body tucked away, comfortably enough, under her arm, with its legs hanging down, but generally, just as she had got its neck nicely straightened out, and was going to give the hedgehog a blow with its head, it _would_ twist itself round and look up in her face, with such a puzzled expression that she could not help bursting out laughing: and when she had got its head down, and was going to begin again, it was very provoking to find that the hedgehog had unrolled itself, and was in the act of crawling away: besides all this, there was generally a ridge or furrow in the way wherever she wanted to send the hedgehog to, and, as the doubled-up soldiers were always getting up and walking off to other parts of the ground, Alice soon came to the conclusion that it was a very difficult game indeed.\\n\\nThe players all played at once without waiting for turns, quarrelling all the while, and fighting for the hedgehogs; and in a very short time the Queen was in a furious passion, and went stamping about, and shouting “Off with his head!” or “Off with her head!” about once in a minute.\\n\\nAlice began to feel very uneasy: to be sure, she had not as yet had any dispute with the Queen, but she knew that it might happen any minute, “and then,” thought she, “what would become of me? They’re dreadfully fond of beheading people here; the great wonder is, that there’s any one left alive!”\\n\\nShe was looking about for some way of escape, and wondering whether she could get away without being seen, when she noticed a curious appearance in the air: it puzzled her very much at first, but, after watching it a minute or two, she made it out to be a grin, and she said to herself “It’s the Cheshire Cat: now I shall have somebody to talk to.”\\n\\n“How are you getting on?” said the Cat, as soon as there was mouth enough for it to speak with.\\n\\nAlice waited till the eyes appeared, and then nodded. “It’s no use speaking to it,” she thought, “till its ears have come, or at least one of them.” In another minute the whole head appeared, and then Alice put down her flamingo, and began an account of the game, feeling very glad she had someone to listen to her. The Cat seemed to think that there was enough of it now in sight, and no more of it appeared.\\n\\n“I don’t think they play at all fairly,” Alice began, in rather a complaining tone, “and they all quarrel so dreadfully one can’t hear oneself speak—and they don’t seem to have any rules in particular; at least, if there are, nobody attends to them—and you’ve no idea how confusing it is all the things being alive; for instance, there’s the arch I’ve got to go through next walking about at the other end of the ground—and I should have croqueted the Queen’s hedgehog just now, only it ran away when it saw mine coming!”\\n\\n“How do you like the Queen?” said the Cat in a low voice.\\n\\n“Not at all,” said Alice: “she’s so extremely—” Just then she noticed that the Queen was close behind her, listening: so she went on, “—likely to win, that it’s hardly worth while finishing the game.”\\n\\nThe Queen smiled and passed on.\\n\\n“Who _are_ you talking to?” said the King, going up to Alice, and looking at the Cat’s head with great curiosity.\\n\\n“It’s a friend of mine—a Cheshire Cat,” said Alice: “allow me to introduce it.”\\n\\n“I don’t like the look of it at all,” said the King: “however, it may kiss my hand if it likes.”\\n\\n“I’d rather not,” the Cat remarked.\\n\\n“Don’t be impertinent,” said the King, “and don’t look at me like that!” He got behind Alice as he spoke.\\n\\n“A cat may look at a king,” said Alice. “I’ve read that in some book, but I don’t remember where.”\\n\\n“Well, it must be removed,” said the King very decidedly, and he called the Queen, who was passing at the moment, “My dear! I wish you would have this cat removed!”\\n\\nThe Queen had only one way of settling all difficulties, great or small. “Off with his head!” she said, without even looking round.\\n\\n“I’ll fetch the executioner myself,” said the King eagerly, and he hurried off.\\n\\nAlice thought she might as well go back, and see how the game was going on, as she heard the Queen’s voice in the distance, screaming with passion. She had already heard her sentence three of the players to be executed for having missed their turns, and she did not like the look of things at all, as the game was in such confusion that she never knew whether it was her turn or not. So she went in search of her hedgehog.\\n\\nThe hedgehog was engaged in a fight with another hedgehog, which seemed to Alice an excellent opportunity for croqueting one of them with the other: the only difficulty was, that her flamingo was gone across to the other side of the garden, where Alice could see it trying in a helpless sort of way to fly up into a tree.\\n\\nBy the time she had caught the flamingo and brought it back, the fight was over, and both the hedgehogs were out of sight: “but it doesn’t matter much,” thought Alice, “as all the arches are gone from this side of the ground.” So she tucked it away under her arm, that it might not escape again, and went back for a little more conversation with her friend.\\n\\nWhen she got back to the Cheshire Cat, she was surprised to find quite a large crowd collected round it: there was a dispute going on between the executioner, the King, and the Queen, who were all talking at once, while all the rest were quite silent, and looked very uncomfortable.\\n\\nThe moment Alice appeared, she was appealed to by all three to settle the question, and they repeated their arguments to her, though, as they all spoke at once, she found it very hard indeed to make out exactly what they said.\\n\\nThe executioner’s argument was, that you couldn’t cut off a head unless there was a body to cut it off from: that he had never had to do such a thing before, and he wasn’t going to begin at _his_ time of life.\\n\\nThe King’s argument was, that anything that had a head could be beheaded, and that you weren’t to talk nonsense.\\n\\nThe Queen’s argument was, that if something wasn’t done about it in less than no time she’d have everybody executed, all round. (It was this last remark that had made the whole party look so grave and anxious.)\\n\\nAlice could think of nothing else to say but “It belongs to the Duchess: you’d better ask _her_ about it.”\\n\\n“She’s in prison,” the Queen said to the executioner: “fetch her here.” And the executioner went off like an arrow.\\n\\nThe Cat’s head began fading away the moment he was gone, and, by the time he had come back with the Duchess, it had entirely disappeared; so the King and the executioner ran wildly up and down looking for it, while the rest of the party went back to the game.\\n\\nCHAPTER IX.\\n\\nThe Mock Turtle’s Story\\n\\n“You can’t think how glad I am to see you again, you dear old thing!” said the Duchess, as she tucked her arm affectionately into Alice’s, and they walked off together.\\n\\nAlice was very glad to find her in such a pleasant temper, and thought to herself that perhaps it was only the pepper that had made her so savage when they met in the kitchen.\\n\\n“When _I’m_ a Duchess,” she said to herself, (not in a very hopeful tone though), “I won’t have any pepper in my kitchen _at all_. Soup does very well without—Maybe it’s always pepper that makes people hot-tempered,” she went on, very much pleased at having found out a new kind of rule, “and vinegar that makes them sour—and camomile that makes them bitter—and—and barley-sugar and such things that make children sweet-tempered. I only wish people knew _that_: then they wouldn’t be so stingy about it, you know—”\\n\\nShe had quite forgotten the Duchess by this time, and was a little startled when she heard her voice close to her ear. “You’re thinking about something, my dear, and that makes you forget to talk. I can’t tell you just now what the moral of that is, but I shall remember it in a bit.”\\n\\n“Perhaps it hasn’t one,” Alice ventured to remark.\\n\\n“Tut, tut, child!” said the Duchess. “Everything’s got a moral, if only you can find it.” And she squeezed herself up closer to Alice’s side as she spoke.\\n\\nAlice did not much like keeping so close to her: first, because the Duchess was _very_ ugly; and secondly, because she was exactly the right height to rest her chin upon Alice’s shoulder, and it was an uncomfortably sharp chin. However, she did not like to be rude, so she bore it as well as she could.\\n\\n“The game’s going on rather better now,” she said, by way of keeping up the conversation a little.\\n\\n“’Tis so,” said the Duchess: “and the moral of that is—‘Oh, ’tis love, ’tis love, that makes the world go round!’”\\n\\n“Somebody said,” Alice whispered, “that it’s done by everybody minding their own business!”\\n\\n“Ah, well! It means much the same thing,” said the Duchess, digging her sharp little chin into Alice’s shoulder as she added, “and the moral of _that_ is—‘Take care of the sense, and the sounds will take care of themselves.’”\\n\\n“How fond she is of finding morals in things!” Alice thought to herself.\\n\\n“I dare say you’re wondering why I don’t put my arm round your waist,” the Duchess said after a pause: “the reason is, that I’m doubtful about the temper of your flamingo. Shall I try the experiment?”\\n\\n“He might bite,” Alice cautiously replied, not feeling at all anxious to have the experiment tried.\\n\\n“Very true,” said the Duchess: “flamingoes and mustard both bite. And the moral of that is—‘Birds of a feather flock together.’”\\n\\n“Only mustard isn’t a bird,” Alice remarked.\\n\\n“Right, as usual,” said the Duchess: “what a clear way you have of putting things!”\\n\\n“It’s a mineral, I _think_,” said Alice.\\n\\n“Of course it is,” said the Duchess, who seemed ready to agree to everything that Alice said; “there’s a large mustard-mine near here. And the moral of that is—‘The more there is of mine, the less there is of yours.’”\\n\\n“Oh, I know!” exclaimed Alice, who had not attended to this last remark, “it’s a vegetable. It doesn’t look like one, but it is.”\\n\\n“I quite agree with you,” said the Duchess; “and the moral of that is—‘Be what you would seem to be’—or if you’d like it put more simply—‘Never imagine yourself not to be otherwise than what it might appear to others that what you were or might have been was not otherwise than what you had been would have appeared to them to be otherwise.’”\\n\\n“I think I should understand that better,” Alice said very politely, “if I had it written down: but I can’t quite follow it as you say it.”\\n\\n“That’s nothing to what I could say if I chose,” the Duchess replied, in a pleased tone.\\n\\n“Pray don’t trouble yourself to say it any longer than that,” said Alice.\\n\\n“Oh, don’t talk about trouble!” said the Duchess. “I make you a present of everything I’ve said as yet.”\\n\\n“A cheap sort of present!” thought Alice. “I’m glad they don’t give birthday presents like that!” But she did not venture to say it out loud.\\n\\n“Thinking again?” the Duchess asked, with another dig of her sharp little chin.\\n\\n“I’ve a right to think,” said Alice sharply, for she was beginning to feel a little worried.\\n\\n“Just about as much right,” said the Duchess, “as pigs have to fly; and the m—”\\n\\nBut here, to Alice’s great surprise, the Duchess’s voice died away, even in the middle of her favourite word ‘moral,’ and the arm that was linked into hers began to tremble. Alice looked up, and there stood the Queen in front of them, with her arms folded, frowning like a thunderstorm.\\n\\n“A fine day, your Majesty!” the Duchess began in a low, weak voice.\\n\\n“Now, I give you fair warning,” shouted the Queen, stamping on the ground as she spoke; “either you or your head must be off, and that in about half no time! Take your choice!”\\n\\nThe Duchess took her choice, and was gone in a moment.\\n\\n“Let’s go on with the game,” the Queen said to Alice; and Alice was too much frightened to say a word, but slowly followed her back to the croquet-ground.\\n\\nThe other guests had taken advantage of the Queen’s absence, and were resting in the shade: however, the moment they saw her, they hurried back to the game, the Queen merely remarking that a moment’s delay would cost them their lives.\\n\\nAll the time they were playing the Queen never left off quarrelling with the other players, and shouting “Off with his head!” or “Off with her head!” Those whom she sentenced were taken into custody by the soldiers, who of course had to leave off being arches to do this, so that by the end of half an hour or so there were no arches left, and all the players, except the King, the Queen, and Alice, were in custody and under sentence of execution.\\n\\nThen the Queen left off, quite out of breath, and said to Alice, “Have you seen the Mock Turtle yet?”\\n\\n“No,” said Alice. “I don’t even know what a Mock Turtle is.”\\n\\n“It’s the thing Mock Turtle Soup is made from,” said the Queen.\\n\\n“I never saw one, or heard of one,” said Alice.\\n\\n“Come on, then,” said the Queen, “and he shall tell you his history.”\\n\\nAs they walked off together, Alice heard the King say in a low voice, to the company generally, “You are all pardoned.” “Come, _that’s_ a good thing!” she said to herself, for she had felt quite unhappy at the number of executions the Queen had ordered.\\n\\nThey very soon came upon a Gryphon, lying fast asleep in the sun. (If you don’t know what a Gryphon is, look at the picture.) “Up, lazy thing!” said the Queen, “and take this young lady to see the Mock Turtle, and to hear his history. I must go back and see after some executions I have ordered;” and she walked off, leaving Alice alone with the Gryphon. Alice did not quite like the look of the creature, but on the whole she thought it would be quite as safe to stay with it as to go after that savage Queen: so she waited.\\n\\nThe Gryphon sat up and rubbed its eyes: then it watched the Queen till she was out of sight: then it chuckled. “What fun!” said the Gryphon, half to itself, half to Alice.\\n\\n“What _is_ the fun?” said Alice.\\n\\n“Why, _she_,” said the Gryphon. “It’s all her fancy, that: they never executes nobody, you know. Come on!”\\n\\n“Everybody says ‘come on!’ here,” thought Alice, as she went slowly after it: “I never was so ordered about in all my life, never!”\\n\\nThey had not gone far before they saw the Mock Turtle in the distance, sitting sad and lonely on a little ledge of rock, and, as they came nearer, Alice could hear him sighing as if his heart would break. She pitied him deeply. “What is his sorrow?” she asked the Gryphon, and the Gryphon answered, very nearly in the same words as before, “It’s all his fancy, that: he hasn’t got no sorrow, you know. Come on!”\\n\\nSo they went up to the Mock Turtle, who looked at them with large eyes full of tears, but said nothing.\\n\\n“This here young lady,” said the Gryphon, “she wants for to know your history, she do.”\\n\\n“I’ll tell it her,” said the Mock Turtle in a deep, hollow tone: “sit down, both of you, and don’t speak a word till I’ve finished.”\\n\\nSo they sat down, and nobody spoke for some minutes. Alice thought to herself, “I don’t see how he can _ever_ finish, if he doesn’t begin.” But she waited patiently.\\n\\n“Once,” said the Mock Turtle at last, with a deep sigh, “I was a real Turtle.”\\n\\nThese words were followed by a very long silence, broken only by an occasional exclamation of “Hjckrrh!” from the Gryphon, and the constant heavy sobbing of the Mock Turtle. Alice was very nearly getting up and saying, “Thank you, sir, for your interesting story,” but she could not help thinking there _must_ be more to come, so she sat still and said nothing.\\n\\n“When we were little,” the Mock Turtle went on at last, more calmly, though still sobbing a little now and then, “we went to school in the sea. The master was an old Turtle—we used to call him Tortoise—”\\n\\n“Why did you call him Tortoise, if he wasn’t one?” Alice asked.\\n\\n“We called him Tortoise because he taught us,” said the Mock Turtle angrily: “really you are very dull!”\\n\\n“You ought to be ashamed of yourself for asking such a simple question,” added the Gryphon; and then they both sat silent and looked at poor Alice, who felt ready to sink into the earth. At last the Gryphon said to the Mock Turtle, “Drive on, old fellow! Don’t be all day about it!” and he went on in these words:\\n\\n“Yes, we went to school in the sea, though you mayn’t believe it—”\\n\\n“I never said I didn’t!” interrupted Alice.\\n\\n“You did,” said the Mock Turtle.\\n\\n“Hold your tongue!” added the Gryphon, before Alice could speak again. The Mock Turtle went on.\\n\\n“We had the best of educations—in fact, we went to school every day—”\\n\\n“_I’ve_ been to a day-school, too,” said Alice; “you needn’t be so proud as all that.”\\n\\n“With extras?” asked the Mock Turtle a little anxiously.\\n\\n“Yes,” said Alice, “we learned French and music.”\\n\\n“And washing?” said the Mock Turtle.\\n\\n“Certainly not!” said Alice indignantly.\\n\\n“Ah! then yours wasn’t a really good school,” said the Mock Turtle in a tone of great relief. “Now at _ours_ they had at the end of the bill, ‘French, music, _and washing_—extra.’”\\n\\n“You couldn’t have wanted it much,” said Alice; “living at the bottom of the sea.”\\n\\n“I couldn’t afford to learn it.” said the Mock Turtle with a sigh. “I only took the regular course.”\\n\\n“What was that?” inquired Alice.\\n\\n“Reeling and Writhing, of course, to begin with,” the Mock Turtle replied; “and then the different branches of Arithmetic—Ambition, Distraction, Uglification, and Derision.”\\n\\n“I never heard of ‘Uglification,’” Alice ventured to say. “What is it?”\\n\\nThe Gryphon lifted up both its paws in surprise. “What! Never heard of uglifying!” it exclaimed. “You know what to beautify is, I suppose?”\\n\\n“Yes,” said Alice doubtfully: “it means—to—make—anything—prettier.”\\n\\n“Well, then,” the Gryphon went on, “if you don’t know what to uglify is, you _are_ a simpleton.”\\n\\nAlice did not feel encouraged to ask any more questions about it, so she turned to the Mock Turtle, and said “What else had you to learn?”\\n\\n“Well, there was Mystery,” the Mock Turtle replied, counting off the subjects on his flappers, “—Mystery, ancient and modern, with Seaography: then Drawling—the Drawling-master was an old conger-eel, that used to come once a week: _he_ taught us Drawling, Stretching, and Fainting in Coils.”\\n\\n“What was _that_ like?” said Alice.\\n\\n“Well, I can’t show it you myself,” the Mock Turtle said: “I’m too stiff. And the Gryphon never learnt it.”\\n\\n“Hadn’t time,” said the Gryphon: “I went to the Classics master, though. He was an old crab, _he_ was.”\\n\\n“I never went to him,” the Mock Turtle said with a sigh: “he taught Laughing and Grief, they used to say.”\\n\\n“So he did, so he did,” said the Gryphon, sighing in his turn; and both creatures hid their faces in their paws.\\n\\n“And how many hours a day did you do lessons?” said Alice, in a hurry to change the subject.\\n\\n“Ten hours the first day,” said the Mock Turtle: “nine the next, and so on.”\\n\\n“What a curious plan!” exclaimed Alice.\\n\\n“That’s the reason they’re called lessons,” the Gryphon remarked: “because they lessen from day to day.”\\n\\nThis was quite a new idea to Alice, and she thought it over a little before she made her next remark. “Then the eleventh day must have been a holiday?”\\n\\n“Of course it was,” said the Mock Turtle.\\n\\n“And how did you manage on the twelfth?” Alice went on eagerly.\\n\\n“That’s enough about lessons,” the Gryphon interrupted in a very decided tone: “tell her something about the games now.”\\n\\nCHAPTER X.\\n\\nThe Lobster Quadrille\\n\\nThe Mock Turtle sighed deeply, and drew the back of one flapper across his eyes. He looked at Alice, and tried to speak, but for a minute or two sobs choked his voice. “Same as if he had a bone in his throat,” said the Gryphon: and it set to work shaking him and punching him in the back. At last the Mock Turtle recovered his voice, and, with tears running down his cheeks, he went on again:—\\n\\n“You may not have lived much under the sea—” (“I haven’t,” said Alice)—“and perhaps you were never even introduced to a lobster—” (Alice began to say “I once tasted—” but checked herself hastily, and said “No, never”) “—so you can have no idea what a delightful thing a Lobster Quadrille is!”\\n\\n“No, indeed,” said Alice. “What sort of a dance is it?”\\n\\n“Why,” said the Gryphon, “you first form into a line along the sea-shore—”\\n\\n“Two lines!” cried the Mock Turtle. “Seals, turtles, salmon, and so on; then, when you’ve cleared all the jelly-fish out of the way—”\\n\\n“_That_ generally takes some time,” interrupted the Gryphon.\\n\\n“—you advance twice—”\\n\\n“Each with a lobster as a partner!” cried the Gryphon.\\n\\n“Of course,” the Mock Turtle said: “advance twice, set to partners—”\\n\\n“—change lobsters, and retire in same order,” continued the Gryphon.\\n\\n“Then, you know,” the Mock Turtle went on, “you throw the—”\\n\\n“The lobsters!” shouted the Gryphon, with a bound into the air.\\n\\n“—as far out to sea as you can—”\\n\\n“Swim after them!” screamed the Gryphon.\\n\\n“Turn a somersault in the sea!” cried the Mock Turtle, capering wildly about.\\n\\n“Change lobsters again!” yelled the Gryphon at the top of its voice.\\n\\n“Back to land again, and that’s all the first figure,” said the Mock Turtle, suddenly dropping his voice; and the two creatures, who had been jumping about like mad things all this time, sat down again very sadly and quietly, and looked at Alice.\\n\\n“It must be a very pretty dance,” said Alice timidly.\\n\\n“Would you like to see a little of it?” said the Mock Turtle.\\n\\n“Very much indeed,” said Alice.\\n\\n“Come, let’s try the first figure!” said the Mock Turtle to the Gryphon. “We can do without lobsters, you know. Which shall sing?”\\n\\n“Oh, _you_ sing,” said the Gryphon. “I’ve forgotten the words.”\\n\\nSo they began solemnly dancing round and round Alice, every now and then treading on her toes when they passed too close, and waving their forepaws to mark the time, while the Mock Turtle sang this, very slowly and sadly:—\\n\\n“Will you walk a little faster?” said a whiting to a snail. “There’s a porpoise close behind us, and he’s treading on my tail. See how eagerly the lobsters and the turtles all advance! They are waiting on the shingle—will you come and join the dance? Will you, won’t you, will you, won’t you, will you join the dance? Will you, won’t you, will you, won’t you, won’t you join the dance?\\n\\n“You can really have no notion how delightful it will be When they take us up and throw us, with the lobsters, out to sea!” But the snail replied “Too far, too far!” and gave a look askance— Said he thanked the whiting kindly, but he would not join the dance. Would not, could not, would not, could not, would not join the dance. Would not, could not, would not, could not, could not join the dance.\\n\\n“What matters it how far we go?” his scaly friend replied. “There is another shore, you know, upon the other side. The further off from England the nearer is to France— Then turn not pale, beloved snail, but come and join the dance. Will you, won’t you, will you, won’t you, will you join the dance? Will you, won’t you, will you, won’t you, won’t you join the dance?”\\n\\n“Thank you, it’s a very interesting dance to watch,” said Alice, feeling very glad that it was over at last: “and I do so like that curious song about the whiting!”\\n\\n“Oh, as to the whiting,” said the Mock Turtle, “they—you’ve seen them, of course?”\\n\\n“Yes,” said Alice, “I’ve often seen them at dinn—” she checked herself hastily.\\n\\n“I don’t know where Dinn may be,” said the Mock Turtle, “but if you’ve seen them so often, of course you know what they’re like.”\\n\\n“I believe so,” Alice replied thoughtfully. “They have their tails in their mouths—and they’re all over crumbs.”\\n\\n“You’re wrong about the crumbs,” said the Mock Turtle: “crumbs would all wash off in the sea. But they _have_ their tails in their mouths; and the reason is—” here the Mock Turtle yawned and shut his eyes.—“Tell her about the reason and all that,” he said to the Gryphon.\\n\\n“The reason is,” said the Gryphon, “that they _would_ go with the lobsters to the dance. So they got thrown out to sea. So they had to fall a long way. So they got their tails fast in their mouths. So they couldn’t get them out again. That’s all.”\\n\\n“Thank you,” said Alice, “it’s very interesting. I never knew so much about a whiting before.”\\n\\n“I can tell you more than that, if you like,” said the Gryphon. “Do you know why it’s called a whiting?”\\n\\n“I never thought about it,” said Alice. “Why?”\\n\\n“_It does the boots and shoes_,” the Gryphon replied very solemnly.\\n\\nAlice was thoroughly puzzled. “Does the boots and shoes!” she repeated in a wondering tone.\\n\\n“Why, what are _your_ shoes done with?” said the Gryphon. “I mean, what makes them so shiny?”\\n\\nAlice looked down at them, and considered a little before she gave her answer. “They’re done with blacking, I believe.”\\n\\n“Boots and shoes under the sea,” the Gryphon went on in a deep voice, “are done with a whiting. Now you know.”\\n\\n“And what are they made of?” Alice asked in a tone of great curiosity.\\n\\n“Soles and eels, of course,” the Gryphon replied rather impatiently: “any shrimp could have told you that.”\\n\\n“If I’d been the whiting,” said Alice, whose thoughts were still running on the song, “I’d have said to the porpoise, ‘Keep back, please: we don’t want _you_ with us!’”\\n\\n“They were obliged to have him with them,” the Mock Turtle said: “no wise fish would go anywhere without a porpoise.”\\n\\n“Wouldn’t it really?” said Alice in a tone of great surprise.\\n\\n“Of course not,” said the Mock Turtle: “why, if a fish came to _me_, and told me he was going a journey, I should say ‘With what porpoise?’”\\n\\n“Don’t you mean ‘purpose’?” said Alice.\\n\\n“I mean what I say,” the Mock Turtle replied in an offended tone. And the Gryphon added “Come, let’s hear some of _your_ adventures.”\\n\\n“I could tell you my adventures—beginning from this morning,” said Alice a little timidly: “but it’s no use going back to yesterday, because I was a different person then.”\\n\\n“Explain all that,” said the Mock Turtle.\\n\\n“No, no! The adventures first,” said the Gryphon in an impatient tone: “explanations take such a dreadful time.”\\n\\nSo Alice began telling them her adventures from the time when she first saw the White Rabbit. She was a little nervous about it just at first, the two creatures got so close to her, one on each side, and opened their eyes and mouths so _very_ wide, but she gained courage as she went on. Her listeners were perfectly quiet till she got to the part about her repeating “_You are old, Father William_,” to the Caterpillar, and the words all coming different, and then the Mock Turtle drew a long breath, and said “That’s very curious.”\\n\\n“It’s all about as curious as it can be,” said the Gryphon.\\n\\n“It all came different!” the Mock Turtle repeated thoughtfully. “I should like to hear her try and repeat something now. Tell her to begin.” He looked at the Gryphon as if he thought it had some kind of authority over Alice.\\n\\n“Stand up and repeat ‘’_Tis the voice of the sluggard_,’” said the Gryphon.\\n\\n“How the creatures order one about, and make one repeat lessons!” thought Alice; “I might as well be at school at once.” However, she got up, and began to repeat it, but her head was so full of the Lobster Quadrille, that she hardly knew what she was saying, and the words came very queer indeed:—\\n\\n“’Tis the voice of the Lobster; I heard him declare, “You have baked me too brown, I must sugar my hair.” As a duck with its eyelids, so he with his nose Trims his belt and his buttons, and turns out his toes.”\\n\\n[later editions continued as follows When the sands are all dry, he is gay as a lark, And will talk in contemptuous tones of the Shark, But, when the tide rises and sharks are around, His voice has a timid and tremulous sound.]\\n\\n“That’s different from what _I_ used to say when I was a child,” said the Gryphon.\\n\\n“Well, I never heard it before,” said the Mock Turtle; “but it sounds uncommon nonsense.”\\n\\nAlice said nothing; she had sat down with her face in her hands, wondering if anything would _ever_ happen in a natural way again.\\n\\n“I should like to have it explained,” said the Mock Turtle.\\n\\n“She can’t explain it,” said the Gryphon hastily. “Go on with the next verse.”\\n\\n“But about his toes?” the Mock Turtle persisted. “How _could_ he turn them out with his nose, you know?”\\n\\n“It’s the first position in dancing.” Alice said; but was dreadfully puzzled by the whole thing, and longed to change the subject.\\n\\n“Go on with the next verse,” the Gryphon repeated impatiently: “it begins ‘_I passed by his garden_.’”\\n\\nAlice did not dare to disobey, though she felt sure it would all come wrong, and she went on in a trembling voice:—\\n\\n“I passed by his garden, and marked, with one eye, How the Owl and the Panther were sharing a pie—”\\n\\n[later editions continued as follows The Panther took pie-crust, and gravy, and meat, While the Owl had the dish as its share of the treat. When the pie was all finished, the Owl, as a boon, Was kindly permitted to pocket the spoon: While the Panther received knife and fork with a growl, And concluded the banquet—]\\n\\n“What _is_ the use of repeating all that stuff,” the Mock Turtle interrupted, “if you don’t explain it as you go on? It’s by far the most confusing thing _I_ ever heard!”\\n\\n“Yes, I think you’d better leave off,” said the Gryphon: and Alice was only too glad to do so.\\n\\n“Shall we try another figure of the Lobster Quadrille?” the Gryphon went on. “Or would you like the Mock Turtle to sing you a song?”\\n\\n“Oh, a song, please, if the Mock Turtle would be so kind,” Alice replied, so eagerly that the Gryphon said, in a rather offended tone, “Hm! No accounting for tastes! Sing her ‘_Turtle Soup_,’ will you, old fellow?”\\n\\nThe Mock Turtle sighed deeply, and began, in a voice sometimes choked with sobs, to sing this:—\\n\\n“Beautiful Soup, so rich and green, Waiting in a hot tureen! Who for such dainties would not stoop? Soup of the evening, beautiful Soup! Soup of the evening, beautiful Soup! Beau—ootiful Soo—oop! Beau—ootiful Soo—oop! Soo—oop of the e—e—evening, Beautiful, beautiful Soup!\\n\\n“Beautiful Soup! Who cares for fish, Game, or any other dish? Who would not give all else for two p ennyworth only of beautiful Soup? Pennyworth only of beautiful Soup? Beau—ootiful Soo—oop! Beau—ootiful Soo—oop! Soo—oop of the e—e—evening, Beautiful, beauti—FUL SOUP!”\\n\\n“Chorus again!” cried the Gryphon, and the Mock Turtle had just begun to repeat it, when a cry of “The trial’s beginning!” was heard in the distance.\\n\\n“Come on!” cried the Gryphon, and, taking Alice by the hand, it hurried off, without waiting for the end of the song.\\n\\n“What trial is it?” Alice panted as she ran; but the Gryphon only answered “Come on!” and ran the faster, while more and more faintly came, carried on the breeze that followed them, the melancholy words:—\\n\\n“Soo—oop of the e—e—evening,\\n\\nBeautiful, beautiful Soup!”\\n\\nCHAPTER XI.\\n\\nWho Stole the Tarts?\\n\\nThe King and Queen of Hearts were seated on their throne when they arrived, with a great crowd assembled about them—all sorts of little birds and beasts, as well as the whole pack of cards: the Knave was standing before them, in chains, with a soldier on each side to guard him; and near the King was the White Rabbit, with a trumpet in one hand, and a scroll of parchment in the other. In the very middle of the court was a table, with a large dish of tarts upon it: they looked so good, that it made Alice quite hungry to look at them—“I wish they’d get the trial done,” she thought, “and hand round the refreshments!” But there seemed to be no chance of this, so she began looking at everything about her, to pass away the time.\\n\\nAlice had never been in a court of justice before, but she had read about them in books, and she was quite pleased to find that she knew the name of nearly everything there. “That’s the judge,” she said to herself, “because of his great wig.”\\n\\nThe judge, by the way, was the King; and as he wore his crown over the wig, (look at the frontispiece if you want to see how he did it,) he did not look at all comfortable, and it was certainly not becoming.\\n\\n“And that’s the jury-box,” thought Alice, “and those twelve creatures,” (she was obliged to say “creatures,” you see, because some of them were animals, and some were birds,) “I suppose they are the jurors.” She said this last word two or three times over to herself, being rather proud of it: for she thought, and rightly too, that very few little girls of her age knew the meaning of it at all. However, “jury-men” would have done just as well.\\n\\nThe twelve jurors were all writing very busily on slates. “What are they doing?” Alice whispered to the Gryphon. “They can’t have anything to put down yet, before the trial’s begun.”\\n\\n“They’re putting down their names,” the Gryphon whispered in reply, “for fear they should forget them before the end of the trial.”\\n\\n“Stupid things!” Alice began in a loud, indignant voice, but she stopped hastily, for the White Rabbit cried out, “Silence in the court!” and the King put on his spectacles and looked anxiously round, to make out who was talking.\\n\\nAlice could see, as well as if she were looking over their shoulders, that all the jurors were writing down “stupid things!” on their slates, and she could even make out that one of them didn’t know how to spell “stupid,” and that he had to ask his neighbour to tell him. “A nice muddle their slates’ll be in before the trial’s over!” thought Alice.\\n\\nOne of the jurors had a pencil that squeaked. This of course, Alice could _not_ stand, and she went round the court and got behind him, and very soon found an opportunity of taking it away. She did it so quickly that the poor little juror (it was Bill, the Lizard) could not make out at all what had become of it; so, after hunting all about for it, he was obliged to write with one finger for the rest of the day; and this was of very little use, as it left no mark on the slate.\\n\\n“Herald, read the accusation!” said the King.\\n\\nOn this the White Rabbit blew three blasts on the trumpet, and then unrolled the parchment scroll, and read as follows:—\\n\\n“The Queen of Hearts, she made some tarts, All on a summer day: The Knave of Hearts, he stole those tarts, And took them quite away!”\\n\\n“Consider your verdict,” the King said to the jury.\\n\\n“Not yet, not yet!” the Rabbit hastily interrupted. “There’s a great deal to come before that!”\\n\\n“Call the first witness,” said the King; and the White Rabbit blew three blasts on the trumpet, and called out, “First witness!”\\n\\nThe first witness was the Hatter. He came in with a teacup in one hand and a piece of bread-and-butter in the other. “I beg pardon, your Majesty,” he began, “for bringing these in: but I hadn’t quite finished my tea when I was sent for.”\\n\\n“You ought to have finished,” said the King. “When did you begin?”\\n\\nThe Hatter looked at the March Hare, who had followed him into the court, arm-in-arm with the Dormouse. “Fourteenth of March, I _think_ it was,” he said.\\n\\n“Fifteenth,” said the March Hare.\\n\\n“Sixteenth,” added the Dormouse.\\n\\n“Write that down,” the King said to the jury, and the jury eagerly wrote down all three dates on their slates, and then added them up, and reduced the answer to shillings and pence.\\n\\n“Take off your hat,” the King said to the Hatter.\\n\\n“It isn’t mine,” said the Hatter.\\n\\n“_Stolen!_” the King exclaimed, turning to the jury, who instantly made a memorandum of the fact.\\n\\n“I keep them to sell,” the Hatter added as an explanation; “I’ve none of my own. I’m a hatter.”\\n\\nHere the Queen put on her spectacles, and began staring at the Hatter, who turned pale and fidgeted.\\n\\n“Give your evidence,” said the King; “and don’t be nervous, or I’ll have you executed on the spot.”\\n\\nThis did not seem to encourage the witness at all: he kept shifting from one foot to the other, looking uneasily at the Queen, and in his confusion he bit a large piece out of his teacup instead of the bread-and-butter.\\n\\nJust at this moment Alice felt a very curious sensation, which puzzled her a good deal until she made out what it was: she was beginning to grow larger again, and she thought at first she would get up and leave the court; but on second thoughts she decided to remain where she was as long as there was room for her.\\n\\n“I wish you wouldn’t squeeze so,” said the Dormouse, who was sitting next to her. “I can hardly breathe.”\\n\\n“I can’t help it,” said Alice very meekly: “I’m growing.”\\n\\n“You’ve no right to grow _here_,” said the Dormouse.\\n\\n“Don’t talk nonsense,” said Alice more boldly: “you know you’re growing too.”\\n\\n“Yes, but _I_ grow at a reasonable pace,” said the Dormouse: “not in that ridiculous fashion.” And he got up very sulkily and crossed over to the other side of the court.\\n\\nAll this time the Queen had never left off staring at the Hatter, and, just as the Dormouse crossed the court, she said to one of the officers of the court, “Bring me the list of the singers in the last concert!” on which the wretched Hatter trembled so, that he shook both his shoes off.\\n\\n“Give your evidence,” the King repeated angrily, “or I’ll have you executed, whether you’re nervous or not.”\\n\\n“I’m a poor man, your Majesty,” the Hatter began, in a trembling voice, “—and I hadn’t begun my tea—not above a week or so—and what with the bread-and-butter getting so thin—and the twinkling of the tea—”\\n\\n“The twinkling of the _what?_” said the King.\\n\\n“It _began_ with the tea,” the Hatter replied.\\n\\n“Of course twinkling begins with a T!” said the King sharply. “Do you take me for a dunce? Go on!”\\n\\n“I’m a poor man,” the Hatter went on, “and most things twinkled after that—only the March Hare said—”\\n\\n“I didn’t!” the March Hare interrupted in a great hurry.\\n\\n“You did!” said the Hatter.\\n\\n“I deny it!” said the March Hare.\\n\\n“He denies it,” said the King: “leave out that part.”\\n\\n“Well, at any rate, the Dormouse said—” the Hatter went on, looking anxiously round to see if he would deny it too: but the Dormouse denied nothing, being fast asleep.\\n\\n“After that,” continued the Hatter, “I cut some more bread-and-butter—”\\n\\n“But what did the Dormouse say?” one of the jury asked.\\n\\n“That I can’t remember,” said the Hatter.\\n\\n“You _must_ remember,” remarked the King, “or I’ll have you executed.”\\n\\nThe miserable Hatter dropped his teacup and bread-and-butter, and went down on one knee. “I’m a poor man, your Majesty,” he began.\\n\\n“You’re a _very_ poor _speaker_,” said the King.\\n\\nHere one of the guinea-pigs cheered, and was immediately suppressed by the officers of the court. (As that is rather a hard word, I will just explain to you how it was done. They had a large canvas bag, which tied up at the mouth with strings: into this they slipped the guinea-pig, head first, and then sat upon it.)\\n\\n“I’m glad I’ve seen that done,” thought Alice. “I’ve so often read in the newspapers, at the end of trials, “There was some attempts at applause, which was immediately suppressed by the officers of the court,” and I never understood what it meant till now.”\\n\\n“If that’s all you know about it, you may stand down,” continued the King.\\n\\n“I can’t go no lower,” said the Hatter: “I’m on the floor, as it is.”\\n\\n“Then you may _sit_ down,” the King replied.\\n\\nHere the other guinea-pig cheered, and was suppressed.\\n\\n“Come, that finished the guinea-pigs!” thought Alice. “Now we shall get on better.”\\n\\n“I’d rather finish my tea,” said the Hatter, with an anxious look at the Queen, who was reading the list of singers.\\n\\n“You may go,” said the King, and the Hatter hurriedly left the court, without even waiting to put his shoes on.\\n\\n“—and just take his head off outside,” the Queen added to one of the officers: but the Hatter was out of sight before the officer could get to the door.\\n\\n“Call the next witness!” said the King.\\n\\nThe next witness was the Duchess’s cook. She carried the pepper-box in her hand, and Alice guessed who it was, even before she got into the court, by the way the people near the door began sneezing all at once.\\n\\n“Give your evidence,” said the King.\\n\\n“Shan’t,” said the cook.\\n\\nThe King looked anxiously at the White Rabbit, who said in a low voice, “Your Majesty must cross-examine _this_ witness.”\\n\\n“Well, if I must, I must,” the King said, with a melancholy air, and, after folding his arms and frowning at the cook till his eyes were nearly out of sight, he said in a deep voice, “What are tarts made of?”\\n\\n“Pepper, mostly,” said the cook.\\n\\n“Treacle,” said a sleepy voice behind her.\\n\\n“Collar that Dormouse,” the Queen shrieked out. “Behead that Dormouse! Turn that Dormouse out of court! Suppress him! Pinch him! Off with his whiskers!”\\n\\nFor some minutes the whole court was in confusion, getting the Dormouse turned out, and, by the time they had settled down again, the cook had disappeared.\\n\\n“Never mind!” said the King, with an air of great relief. “Call the next witness.” And he added in an undertone to the Queen, “Really, my dear, _you_ must cross-examine the next witness. It quite makes my forehead ache!”\\n\\nAlice watched the White Rabbit as he fumbled over the list, feeling very curious to see what the next witness would be like, “—for they haven’t got much evidence _yet_,” she said to herself. Imagine her surprise, when the White Rabbit read out, at the top of his shrill little voice, the name “Alice!”\\n\\nCHAPTER XII.\\n\\nAlice’s Evidence\\n\\n“Here!” cried Alice, quite forgetting in the flurry of the moment how large she had grown in the last few minutes, and she jumped up in such a hurry that she tipped over the jury-box with the edge of her skirt, upsetting all the jurymen on to the heads of the crowd below, and there they lay sprawling about, reminding her very much of a globe of goldfish she had accidentally upset the week before.\\n\\n“Oh, I _beg_ your pardon!” she exclaimed in a tone of great dismay, and began picking them up again as quickly as she could, for the accident of the goldfish kept running in her head, and she had a vague sort of idea that they must be collected at once and put back into the jury-box, or they would die.\\n\\n“The trial cannot proceed,” said the King in a very grave voice, “until all the jurymen are back in their proper places—_all_,” he repeated with great emphasis, looking hard at Alice as he said so.\\n\\nAlice looked at the jury-box, and saw that, in her haste, she had put the Lizard in head downwards, and the poor little thing was waving its tail about in a melancholy way, being quite unable to move. She soon got it out again, and put it right; “not that it signifies much,” she said to herself; “I should think it would be _quite_ as much use in the trial one way up as the other.”\\n\\nAs soon as the jury had a little recovered from the shock of being upset, and their slates and pencils had been found and handed back to them, they set to work very diligently to write out a history of the accident, all except the Lizard, who seemed too much overcome to do anything but sit with its mouth open, gazing up into the roof of the court.\\n\\n“What do you know about this business?” the King said to Alice.\\n\\n“Nothing,” said Alice.\\n\\n“Nothing _whatever?_” persisted the King.\\n\\n“Nothing whatever,” said Alice.\\n\\n“That’s very important,” the King said, turning to the jury. They were just beginning to write this down on their slates, when the White Rabbit interrupted: “_Un_important, your Majesty means, of course,” he said in a very respectful tone, but frowning and making faces at him as he spoke.\\n\\n“_Un_important, of course, I meant,” the King hastily said, and went on to himself in an undertone,\\n\\n“important—unimportant—unimportant—important—” as if he were trying which word sounded best.\\n\\nSome of the jury wrote it down “important,” and some “unimportant.” Alice could see this, as she was near enough to look over their slates; “but it doesn’t matter a bit,” she thought to herself.\\n\\nAt this moment the King, who had been for some time busily writing in his note-book, cackled out “Silence!” and read out from his book, “Rule Forty-two. _All persons more than a mile high to leave the court_.”\\n\\nEverybody looked at Alice.\\n\\n“_I’m_ not a mile high,” said Alice.\\n\\n“You are,” said the King.\\n\\n“Nearly two miles high,” added the Queen.\\n\\n“Well, I shan’t go, at any rate,” said Alice: “besides, that’s not a regular rule: you invented it just now.”\\n\\n“It’s the oldest rule in the book,” said the King.\\n\\n“Then it ought to be Number One,” said Alice.\\n\\nThe King turned pale, and shut his note-book hastily. “Consider your verdict,” he said to the jury, in a low, trembling voice.\\n\\n“There’s more evidence to come yet, please your Majesty,” said the White Rabbit, jumping up in a great hurry; “this paper has just been picked up.”\\n\\n“What’s in it?” said the Queen.\\n\\n“I haven’t opened it yet,” said the White Rabbit, “but it seems to be a letter, written by the prisoner to—to somebody.”\\n\\n“It must have been that,” said the King, “unless it was written to nobody, which isn’t usual, you know.”\\n\\n“Who is it directed to?” said one of the jurymen.\\n\\n“It isn’t directed at all,” said the White Rabbit; “in fact, there’s nothing written on the _outside_.” He unfolded the paper as he spoke, and added “It isn’t a letter, after all: it’s a set of verses.”\\n\\n“Are they in the prisoner’s handwriting?” asked another of the jurymen.\\n\\n“No, they’re not,” said the White Rabbit, “and that’s the queerest thing about it.” (The jury all looked puzzled.)\\n\\n“He must have imitated somebody else’s hand,” said the King. (The jury all brightened up again.)\\n\\n“Please your Majesty,” said the Knave, “I didn’t write it, and they can’t prove I did: there’s no name signed at the end.”\\n\\n“If you didn’t sign it,” said the King, “that only makes the matter worse. You _must_ have meant some mischief, or else you’d have signed your name like an honest man.”\\n\\nThere was a general clapping of hands at this: it was the first really clever thing the King had said that day.\\n\\n“That _proves_ his guilt,” said the Queen.\\n\\n“It proves nothing of the sort!” said Alice. “Why, you don’t even know what they’re about!”\\n\\n“Read them,” said the King.\\n\\nThe White Rabbit put on his spectacles. “Where shall I begin, please your Majesty?” he asked.\\n\\n“Begin at the beginning,” the King said gravely, “and go on till you come to the end: then stop.”\\n\\nThese were the verses the White Rabbit read:—\\n\\n“They told me you had been to her, And mentioned me to him: She gave me a good character, But said I could not swim.\\n\\nHe sent them word I had not gone (We know it to be true): If she should push the matter on, What would become of you?\\n\\nI gave her one, they gave him two, You gave us three or more; They all returned from him to you, Though they were mine before.\\n\\nIf I or she should chance to be Involved in this affair, He trusts to you to set them free, Exactly as we were.\\n\\nMy notion was that you had been (Before she had this fit) An obstacle that came between Him, and ourselves, and it.\\n\\nDon’t let him know she liked them best, For this must ever be A secret, kept from all the rest, Between yourself and me.”\\n\\n“That’s the most important piece of evidence we’ve heard yet,” said the King, rubbing his hands; “so now let the jury—”\\n\\n“If any one of them can explain it,” said Alice, (she had grown so large in the last few minutes that she wasn’t a bit afraid of interrupting him,) “I’ll give him sixpence. _I_ don’t believe there’s an atom of meaning in it.”\\n\\nThe jury all wrote down on their slates, “_She_ doesn’t believe there’s an atom of meaning in it,” but none of them attempted to explain the paper.\\n\\n“If there’s no meaning in it,” said the King, “that saves a world of trouble, you know, as we needn’t try to find any. And yet I don’t know,” he went on, spreading out the verses on his knee, and looking at them with one eye; “I seem to see some meaning in them, after all. “—_said I could not swim_—” you can’t swim, can you?” he added, turning to the Knave.\\n\\nThe Knave shook his head sadly. “Do I look like it?” he said. (Which he certainly did _not_, being made entirely of cardboard.)\\n\\n“All right, so far,” said the King, and he went on muttering over the verses to himself: “‘_We know it to be true_—’ that’s the jury, of course—‘_I gave her one, they gave him two_—’ why, that must be what he did with the tarts, you know—”\\n\\n“But, it goes on ‘_they all returned from him to you_,’” said Alice.\\n\\n“Why, there they are!” said the King triumphantly, pointing to the tarts on the table. “Nothing can be clearer than _that_. Then again—‘_before she had this fit_—’ you never had fits, my dear, I think?” he said to the Queen.\\n\\n“Never!” said the Queen furiously, throwing an inkstand at the Lizard as she spoke. (The unfortunate little Bill had left off writing on his slate with one finger, as he found it made no mark; but he now hastily began again, using the ink, that was trickling down his face, as long as it lasted.)\\n\\n“Then the words don’t _fit_ you,” said the King, looking round the court with a smile. There was a dead silence.\\n\\n“It’s a pun!” the King added in an offended tone, and everybody laughed, “Let the jury consider their verdict,” the King said, for about the twentieth time that day.\\n\\n“No, no!” said the Queen. “Sentence first—verdict afterwards.”\\n\\n“Stuff and nonsense!” said Alice loudly. “The idea of having the sentence first!”\\n\\n“Hold your tongue!” said the Queen, turning purple.\\n\\n“I won’t!” said Alice.\\n\\n“Off with her head!” the Queen shouted at the top of her voice. Nobody moved.\\n\\n“Who cares for you?” said Alice, (she had grown to her full size by this time.) “You’re nothing but a pack of cards!”\\n\\nAt this the whole pack rose up into the air, and came flying down upon her: she gave a little scream, half of fright and half of anger, and tried to beat them off, and found herself lying on the bank, with her head in the lap of her sister, who was gently brushing away some dead leaves that had fluttered down from the trees upon her face.\\n\\n“Wake up, Alice dear!” said her sister; “Why, what a long sleep you’ve had!”\\n\\n“Oh, I’ve had such a curious dream!” said Alice, and she told her sister, as well as she could remember them, all these strange Adventures of hers that you have just been reading about; and when she had finished, her sister kissed her, and said, “It _was_ a curious dream, dear, certainly: but now run in to your tea; it’s getting late.” So Alice got up and ran off, thinking while she ran, as well she might, what a wonderful dream it had been.\\n\\nBut her sister sat still just as she left her, leaning her head on her hand, watching the setting sun, and thinking of little Alice and all her wonderful Adventures, till she too began dreaming after a fashion, and this was her dream:—\\n\\nFirst, she dreamed of little Alice herself, and once again the tiny hands were clasped upon her knee, and the bright eager eyes were looking up into hers—she could hear the very tones of her voice, and see that queer little toss of her head to keep back the wandering hair that _would_ always get into her eyes—and still as she listened, or seemed to listen, the whole place around her became alive with the strange creatures of her little sister’s dream.\\n\\nThe long grass rustled at her feet as the White Rabbit hurried by—the frightened Mouse splashed his way through the neighbouring pool—she could hear the rattle of the teacups as the March Hare and his friends shared their never-ending meal, and the shrill voice of the Queen ordering off her unfortunate guests to execution—once more the pig-baby was sneezing on the Duchess’s knee, while plates and dishes crashed around it—once more the shriek of the Gryphon, the squeaking of the Lizard’s slate-pencil, and the choking of the suppressed guinea-pigs, filled the air, mixed up with the distant sobs of the miserable Mock Turtle.\\n\\nSo she sat on, with closed eyes, and half believed herself in Wonderland, though she knew she had but to open them again, and all would change to dull reality—the grass would be only rustling in the wind, and the pool rippling to the waving of the reeds—the rattling teacups would change to tinkling sheep-bells, and the Queen’s shrill cries to the voice of the shepherd boy—and the sneeze of the baby, the shriek of the Gryphon, and all the other queer noises, would change (she knew) to the confused clamour of the busy farm-yard—while the lowing of the cattle in the distance would take the place of the Mock Turtle’s heavy sobs.\\n\\nLastly, she pictured to herself how this same little sister of hers would, in the after-time, be herself a grown woman; and how she would keep, through all her riper years, the simple and loving heart of her childhood: and how she would gather about her other little children, and make _their_ eyes bright and eager with many a strange tale, perhaps even with the dream of Wonderland of long ago: and how she would feel with all their simple sorrows, and find a pleasure in all their simple joys, remembering her own child-life, and the happy summer days.\\n\\nTHE END\\n\\n*** END OF THE PROJECT GUTENBERG EBOOK 11 ***')]"
      ]
     },
     "execution_count": 69,
     "metadata": {},
     "output_type": "execute_result"
    }
   ],
   "source": [
    "from langchain_community.document_loaders import TextLoader\n",
    "from langchain_text_splitters import CharacterTextSplitter\n",
    "from langchain_openai import OpenAIEmbeddings\n",
    "from langchain_community.vectorstores import Chroma\n",
    "\n",
    "from langchain.document_loaders import UnstructuredURLLoader\n",
    "loader = UnstructuredURLLoader(\n",
    "    urls=[\"https://www.gutenberg.org/files/11/11-0.txt\"],\n",
    "    headers={\"User-Agent\": \"MyVectorStoreBot/1.0 (+https://github.com/my-project)\"}\n",
    ")\n",
    "my_docs = loader.load()\n",
    "# 1) Load book\n",
    "# my_docs = TextLoader(\"/path/to/alice_in_wonderland.txt\").load()\n",
    "\n",
    "# 2) Split into ~1 000-char chunks\n",
    "splitter = CharacterTextSplitter(chunk_size=1000, chunk_overlap=0)\n",
    "texts = splitter.split_documents(my_docs)\n",
    "\n",
    "# 3) Embed & index\n",
    "embeddings = OpenAIEmbeddings()\n",
    "alice_db = Chroma.from_documents(texts, embeddings, collection_name=\"alice_in_wonderland\")\n",
    "my_docs"
   ]
  },
  {
   "cell_type": "code",
   "execution_count": 72,
   "id": "a87ae95b",
   "metadata": {},
   "outputs": [],
   "source": [
    "# 1. Wrap in RetrievalQA\n",
    "from langchain.chains import RetrievalQA\n",
    "from langchain_openai import OpenAI\n",
    "from langchain.prompts import PromptTemplate\n",
    "\n",
    "llm = OpenAI(temperature=0)\n",
    "alice_prompt = PromptTemplate(\n",
    "    input_variables=[\"context\", \"question\"],\n",
    "    template=(\n",
    "        \"You are an assistant that answers questions about Alice’s Adventures in Wonderland.  \"\n",
    "        \"Use ONLY the following excerpts from the text.  \"\n",
    "        \"If the answer is not in the context, say “I don’t know.”\\n\\n\"\n",
    "        \"CONTEXT:\\n{context}\\n\\n\"\n",
    "        \"QUESTION: {question}\\n\"\n",
    "        \"ANSWER:\"\n",
    "    ),\n",
    ")\n",
    "\n",
    "# Build the QA chain\n",
    "alice_qa = RetrievalQA.from_chain_type(\n",
    "    llm=llm,\n",
    "    chain_type=\"stuff\",\n",
    "    retriever=alice_db.as_retriever(),\n",
    "    chain_type_kwargs={\"prompt\": alice_prompt},  # omit if you want default prompt\n",
    ")\n"
   ]
  },
  {
   "cell_type": "code",
   "execution_count": 73,
   "id": "c7d5be30",
   "metadata": {},
   "outputs": [
    {
     "name": "stderr",
     "output_type": "stream",
     "text": [
      "C:\\Users\\happy\\AppData\\Local\\Temp\\ipykernel_41472\\2066584284.py:1: LangChainDeprecationWarning: The method `Chain.run` was deprecated in langchain 0.1.0 and will be removed in 1.0. Use :meth:`~invoke` instead.\n",
      "  print(alice_qa.run(\"Who is the Cheshire Cat?\"))\n"
     ]
    },
    {
     "name": "stdout",
     "output_type": "stream",
     "text": [
      " The Cheshire Cat is a friend of Alice's.\n",
      " \"So you think you're changed, do you?\"\n"
     ]
    }
   ],
   "source": [
    "print(alice_qa.run(\"Who is the Cheshire Cat?\"))\n",
    "print(alice_qa.run(\"What does Alice say when she first meets the Caterpillar?\"))\n"
   ]
  },
  {
   "cell_type": "code",
   "execution_count": 74,
   "id": "fcf327c9",
   "metadata": {},
   "outputs": [
    {
     "name": "stdout",
     "output_type": "stream",
     "text": [
      "\n",
      "\n",
      "\u001b[1m> Entering new AgentExecutor chain...\u001b[0m\n",
      "\u001b[32;1m\u001b[1;3m I should use AliceBookQA to answer this question.\n",
      "Action: AliceBookQA\n",
      "Action Input: \"What happens in the Mad Tea Party chapter?\"\u001b[0m\n",
      "Observation: \u001b[36;1m\u001b[1;3m Alice comes across the house of the March Hare and the Hatter, who are having a tea party with a sleeping Dormouse. The Cat's head disappears and the King and executioner search for it while the rest of the party continues with their game. The Duchess and Alice walk off together and Alice is relieved to find her in a pleasant mood.\u001b[0m\n",
      "\u001b[32;1m\u001b[1;3m\u001b[0m\n",
      "\n",
      "\u001b[1m> Finished chain.\u001b[0m\n",
      " Alice comes across the house of the March Hare and the Hatter, who are having a tea party with a sleeping Dormouse. The Cat's head disappears and the King and executioner search for it while the rest of the party continues with their game. The Duchess and Alice walk off together and Alice is relieved to find her in a pleasant mood.\n"
     ]
    }
   ],
   "source": [
    "from langchain.agents import Tool, initialize_agent, AgentType\n",
    "\n",
    "tools = [\n",
    "    Tool(\n",
    "        name=\"AliceBookQA\",\n",
    "        func=alice_qa.run,\n",
    "        description=\"Answer questions about Alice’s Adventures in Wonderland\",\n",
    "        return_direct=True\n",
    "    ),\n",
    "    # …you could add more tools here…\n",
    "]\n",
    "\n",
    "agent = initialize_agent(\n",
    "    tools,\n",
    "    llm,\n",
    "    agent=AgentType.ZERO_SHOT_REACT_DESCRIPTION,\n",
    "    verbose=True\n",
    ")\n",
    "\n",
    "# Now you can do:\n",
    "print(agent.run(\"Tell me what happens in the Mad Tea Party chapter.\"))\n"
   ]
  }
 ],
 "metadata": {
  "kernelspec": {
   "display_name": "sub_ironhack",
   "language": "python",
   "name": "python3"
  },
  "language_info": {
   "codemirror_mode": {
    "name": "ipython",
    "version": 3
   },
   "file_extension": ".py",
   "mimetype": "text/x-python",
   "name": "python",
   "nbconvert_exporter": "python",
   "pygments_lexer": "ipython3",
   "version": "3.11.13"
  }
 },
 "nbformat": 4,
 "nbformat_minor": 5
}
