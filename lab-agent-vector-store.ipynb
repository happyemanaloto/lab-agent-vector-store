{
 "cells": [
  {
   "cell_type": "markdown",
   "id": "efad6479-7fb1-40c4-8610-8963f8de307f",
   "metadata": {},
   "source": [
    "# Lab | Agent & Vector store\n",
    "\n",
    "**Change the state union dataset and replicate this lab by updating the prompts accordingly.**\n",
    "\n",
    "One such dataset is the [sonnets.txt](https://github.com/martin-gorner/tensorflow-rnn-shakespeare/blob/master/shakespeare/sonnets.txt) dataset or any other data of your choice from the same git."
   ]
  },
  {
   "cell_type": "markdown",
   "id": "68b24990",
   "metadata": {},
   "source": [
    "# Combine agents and vector stores\n",
    "\n",
    "This notebook covers how to combine agents and vector stores. The use case for this is that you've ingested your data into a vector store and want to interact with it in an agentic manner.\n",
    "\n",
    "The recommended method for doing so is to create a `RetrievalQA` and then use that as a tool in the overall agent. Let's take a look at doing this below. You can do this with multiple different vector DBs, and use the agent as a way to route between them. There are two different ways of doing this - you can either let the agent use the vector stores as normal tools, or you can set `return_direct=True` to really just use the agent as a router."
   ]
  },
  {
   "cell_type": "markdown",
   "id": "9b22020a",
   "metadata": {},
   "source": [
    "## Create the vector store"
   ]
  },
  {
   "cell_type": "code",
   "execution_count": 1,
   "id": "12df91e0-7322-43c2-96cd-0159d017a1e1",
   "metadata": {
    "tags": []
   },
   "outputs": [
    {
     "name": "stdout",
     "output_type": "stream",
     "text": [
      "Collecting chromadb\n",
      "  Downloading chromadb-1.0.15-cp39-abi3-win_amd64.whl.metadata (7.1 kB)\n",
      "Requirement already satisfied: langchain in c:\\users\\happy\\anaconda3\\envs\\sub_ironhack\\lib\\site-packages (0.3.26)\n",
      "Requirement already satisfied: langchain_community in c:\\users\\happy\\anaconda3\\envs\\sub_ironhack\\lib\\site-packages (0.3.27)\n",
      "Requirement already satisfied: langchain_openai in c:\\users\\happy\\anaconda3\\envs\\sub_ironhack\\lib\\site-packages (0.3.27)\n",
      "Collecting build>=1.0.3 (from chromadb)\n",
      "  Downloading build-1.2.2.post1-py3-none-any.whl.metadata (6.5 kB)\n",
      "Requirement already satisfied: pydantic>=1.9 in c:\\users\\happy\\anaconda3\\envs\\sub_ironhack\\lib\\site-packages (from chromadb) (2.11.7)\n",
      "Collecting pybase64>=1.4.1 (from chromadb)\n",
      "  Downloading pybase64-1.4.1-cp311-cp311-win_amd64.whl.metadata (8.7 kB)\n",
      "Requirement already satisfied: uvicorn>=0.18.3 in c:\\users\\happy\\anaconda3\\envs\\sub_ironhack\\lib\\site-packages (from uvicorn[standard]>=0.18.3->chromadb) (0.35.0)\n",
      "Requirement already satisfied: numpy>=1.22.5 in c:\\users\\happy\\anaconda3\\envs\\sub_ironhack\\lib\\site-packages (from chromadb) (1.26.4)\n",
      "Collecting posthog<6.0.0,>=2.4.0 (from chromadb)\n",
      "  Downloading posthog-5.4.0-py3-none-any.whl.metadata (5.7 kB)\n",
      "Requirement already satisfied: typing-extensions>=4.5.0 in c:\\users\\happy\\anaconda3\\envs\\sub_ironhack\\lib\\site-packages (from chromadb) (4.14.1)\n",
      "Collecting onnxruntime>=1.14.1 (from chromadb)\n",
      "  Downloading onnxruntime-1.22.1-cp311-cp311-win_amd64.whl.metadata (5.1 kB)\n",
      "Collecting opentelemetry-api>=1.2.0 (from chromadb)\n",
      "  Downloading opentelemetry_api-1.35.0-py3-none-any.whl.metadata (1.5 kB)\n",
      "Collecting opentelemetry-exporter-otlp-proto-grpc>=1.2.0 (from chromadb)\n",
      "  Downloading opentelemetry_exporter_otlp_proto_grpc-1.35.0-py3-none-any.whl.metadata (2.4 kB)\n",
      "Collecting opentelemetry-sdk>=1.2.0 (from chromadb)\n",
      "  Downloading opentelemetry_sdk-1.35.0-py3-none-any.whl.metadata (1.5 kB)\n",
      "Requirement already satisfied: tokenizers>=0.13.2 in c:\\users\\happy\\anaconda3\\envs\\sub_ironhack\\lib\\site-packages (from chromadb) (0.21.2)\n",
      "Collecting pypika>=0.48.9 (from chromadb)\n",
      "  Downloading PyPika-0.48.9.tar.gz (67 kB)\n",
      "  Installing build dependencies: started\n",
      "  Installing build dependencies: finished with status 'done'\n",
      "  Getting requirements to build wheel: started\n",
      "  Getting requirements to build wheel: finished with status 'done'\n",
      "  Preparing metadata (pyproject.toml): started\n",
      "  Preparing metadata (pyproject.toml): finished with status 'done'\n",
      "Requirement already satisfied: tqdm>=4.65.0 in c:\\users\\happy\\anaconda3\\envs\\sub_ironhack\\lib\\site-packages (from chromadb) (4.67.1)\n",
      "Collecting overrides>=7.3.1 (from chromadb)\n",
      "  Using cached overrides-7.7.0-py3-none-any.whl.metadata (5.8 kB)\n",
      "Collecting importlib-resources (from chromadb)\n",
      "  Downloading importlib_resources-6.5.2-py3-none-any.whl.metadata (3.9 kB)\n",
      "Requirement already satisfied: grpcio>=1.58.0 in c:\\users\\happy\\anaconda3\\envs\\sub_ironhack\\lib\\site-packages (from chromadb) (1.73.1)\n",
      "Collecting bcrypt>=4.0.1 (from chromadb)\n",
      "  Downloading bcrypt-4.3.0-cp39-abi3-win_amd64.whl.metadata (10 kB)\n",
      "Collecting typer>=0.9.0 (from chromadb)\n",
      "  Using cached typer-0.16.0-py3-none-any.whl.metadata (15 kB)\n",
      "Collecting kubernetes>=28.1.0 (from chromadb)\n",
      "  Downloading kubernetes-33.1.0-py2.py3-none-any.whl.metadata (1.7 kB)\n",
      "Requirement already satisfied: tenacity>=8.2.3 in c:\\users\\happy\\anaconda3\\envs\\sub_ironhack\\lib\\site-packages (from chromadb) (9.1.2)\n",
      "Requirement already satisfied: pyyaml>=6.0.0 in c:\\users\\happy\\anaconda3\\envs\\sub_ironhack\\lib\\site-packages (from chromadb) (6.0.2)\n",
      "Collecting mmh3>=4.0.1 (from chromadb)\n",
      "  Downloading mmh3-5.1.0-cp311-cp311-win_amd64.whl.metadata (16 kB)\n",
      "Requirement already satisfied: orjson>=3.9.12 in c:\\users\\happy\\anaconda3\\envs\\sub_ironhack\\lib\\site-packages (from chromadb) (3.10.18)\n",
      "Requirement already satisfied: httpx>=0.27.0 in c:\\users\\happy\\anaconda3\\envs\\sub_ironhack\\lib\\site-packages (from chromadb) (0.28.1)\n",
      "Requirement already satisfied: rich>=10.11.0 in c:\\users\\happy\\anaconda3\\envs\\sub_ironhack\\lib\\site-packages (from chromadb) (14.0.0)\n",
      "Collecting jsonschema>=4.19.0 (from chromadb)\n",
      "  Using cached jsonschema-4.24.0-py3-none-any.whl.metadata (7.8 kB)\n",
      "Requirement already satisfied: requests<3.0,>=2.7 in c:\\users\\happy\\anaconda3\\envs\\sub_ironhack\\lib\\site-packages (from posthog<6.0.0,>=2.4.0->chromadb) (2.32.4)\n",
      "Requirement already satisfied: six>=1.5 in c:\\users\\happy\\anaconda3\\envs\\sub_ironhack\\lib\\site-packages (from posthog<6.0.0,>=2.4.0->chromadb) (1.17.0)\n",
      "Requirement already satisfied: python-dateutil>=2.2 in c:\\users\\happy\\anaconda3\\envs\\sub_ironhack\\lib\\site-packages (from posthog<6.0.0,>=2.4.0->chromadb) (2.9.0.post0)\n",
      "Collecting backoff>=1.10.0 (from posthog<6.0.0,>=2.4.0->chromadb)\n",
      "  Downloading backoff-2.2.1-py3-none-any.whl.metadata (14 kB)\n",
      "Requirement already satisfied: distro>=1.5.0 in c:\\users\\happy\\anaconda3\\envs\\sub_ironhack\\lib\\site-packages (from posthog<6.0.0,>=2.4.0->chromadb) (1.9.0)\n",
      "Requirement already satisfied: charset_normalizer<4,>=2 in c:\\users\\happy\\anaconda3\\envs\\sub_ironhack\\lib\\site-packages (from requests<3.0,>=2.7->posthog<6.0.0,>=2.4.0->chromadb) (3.4.2)\n",
      "Requirement already satisfied: idna<4,>=2.5 in c:\\users\\happy\\anaconda3\\envs\\sub_ironhack\\lib\\site-packages (from requests<3.0,>=2.7->posthog<6.0.0,>=2.4.0->chromadb) (3.10)\n",
      "Requirement already satisfied: urllib3<3,>=1.21.1 in c:\\users\\happy\\anaconda3\\envs\\sub_ironhack\\lib\\site-packages (from requests<3.0,>=2.7->posthog<6.0.0,>=2.4.0->chromadb) (2.5.0)\n",
      "Requirement already satisfied: certifi>=2017.4.17 in c:\\users\\happy\\anaconda3\\envs\\sub_ironhack\\lib\\site-packages (from requests<3.0,>=2.7->posthog<6.0.0,>=2.4.0->chromadb) (2025.7.9)\n",
      "Requirement already satisfied: langchain-core<1.0.0,>=0.3.66 in c:\\users\\happy\\anaconda3\\envs\\sub_ironhack\\lib\\site-packages (from langchain) (0.3.68)\n",
      "Requirement already satisfied: langchain-text-splitters<1.0.0,>=0.3.8 in c:\\users\\happy\\anaconda3\\envs\\sub_ironhack\\lib\\site-packages (from langchain) (0.3.8)\n",
      "Requirement already satisfied: langsmith>=0.1.17 in c:\\users\\happy\\anaconda3\\envs\\sub_ironhack\\lib\\site-packages (from langchain) (0.4.4)\n",
      "Requirement already satisfied: SQLAlchemy<3,>=1.4 in c:\\users\\happy\\anaconda3\\envs\\sub_ironhack\\lib\\site-packages (from langchain) (2.0.41)\n",
      "Requirement already satisfied: jsonpatch<2.0,>=1.33 in c:\\users\\happy\\anaconda3\\envs\\sub_ironhack\\lib\\site-packages (from langchain-core<1.0.0,>=0.3.66->langchain) (1.33)\n",
      "Requirement already satisfied: packaging<25,>=23.2 in c:\\users\\happy\\anaconda3\\envs\\sub_ironhack\\lib\\site-packages (from langchain-core<1.0.0,>=0.3.66->langchain) (24.2)\n",
      "Requirement already satisfied: jsonpointer>=1.9 in c:\\users\\happy\\anaconda3\\envs\\sub_ironhack\\lib\\site-packages (from jsonpatch<2.0,>=1.33->langchain-core<1.0.0,>=0.3.66->langchain) (3.0.0)\n",
      "Requirement already satisfied: annotated-types>=0.6.0 in c:\\users\\happy\\anaconda3\\envs\\sub_ironhack\\lib\\site-packages (from pydantic>=1.9->chromadb) (0.7.0)\n",
      "Requirement already satisfied: pydantic-core==2.33.2 in c:\\users\\happy\\anaconda3\\envs\\sub_ironhack\\lib\\site-packages (from pydantic>=1.9->chromadb) (2.33.2)\n",
      "Requirement already satisfied: typing-inspection>=0.4.0 in c:\\users\\happy\\anaconda3\\envs\\sub_ironhack\\lib\\site-packages (from pydantic>=1.9->chromadb) (0.4.1)\n",
      "Requirement already satisfied: greenlet>=1 in c:\\users\\happy\\anaconda3\\envs\\sub_ironhack\\lib\\site-packages (from SQLAlchemy<3,>=1.4->langchain) (3.2.3)\n",
      "Requirement already satisfied: aiohttp<4.0.0,>=3.8.3 in c:\\users\\happy\\anaconda3\\envs\\sub_ironhack\\lib\\site-packages (from langchain_community) (3.12.14)\n",
      "Requirement already satisfied: dataclasses-json<0.7,>=0.5.7 in c:\\users\\happy\\anaconda3\\envs\\sub_ironhack\\lib\\site-packages (from langchain_community) (0.6.7)\n",
      "Requirement already satisfied: pydantic-settings<3.0.0,>=2.4.0 in c:\\users\\happy\\anaconda3\\envs\\sub_ironhack\\lib\\site-packages (from langchain_community) (2.10.1)\n",
      "Requirement already satisfied: httpx-sse<1.0.0,>=0.4.0 in c:\\users\\happy\\anaconda3\\envs\\sub_ironhack\\lib\\site-packages (from langchain_community) (0.4.1)\n",
      "Requirement already satisfied: aiohappyeyeballs>=2.5.0 in c:\\users\\happy\\anaconda3\\envs\\sub_ironhack\\lib\\site-packages (from aiohttp<4.0.0,>=3.8.3->langchain_community) (2.6.1)\n",
      "Requirement already satisfied: aiosignal>=1.4.0 in c:\\users\\happy\\anaconda3\\envs\\sub_ironhack\\lib\\site-packages (from aiohttp<4.0.0,>=3.8.3->langchain_community) (1.4.0)\n",
      "Requirement already satisfied: attrs>=17.3.0 in c:\\users\\happy\\anaconda3\\envs\\sub_ironhack\\lib\\site-packages (from aiohttp<4.0.0,>=3.8.3->langchain_community) (25.3.0)\n",
      "Requirement already satisfied: frozenlist>=1.1.1 in c:\\users\\happy\\anaconda3\\envs\\sub_ironhack\\lib\\site-packages (from aiohttp<4.0.0,>=3.8.3->langchain_community) (1.7.0)\n",
      "Requirement already satisfied: multidict<7.0,>=4.5 in c:\\users\\happy\\anaconda3\\envs\\sub_ironhack\\lib\\site-packages (from aiohttp<4.0.0,>=3.8.3->langchain_community) (6.6.3)\n",
      "Requirement already satisfied: propcache>=0.2.0 in c:\\users\\happy\\anaconda3\\envs\\sub_ironhack\\lib\\site-packages (from aiohttp<4.0.0,>=3.8.3->langchain_community) (0.3.2)\n",
      "Requirement already satisfied: yarl<2.0,>=1.17.0 in c:\\users\\happy\\anaconda3\\envs\\sub_ironhack\\lib\\site-packages (from aiohttp<4.0.0,>=3.8.3->langchain_community) (1.20.1)\n",
      "Requirement already satisfied: marshmallow<4.0.0,>=3.18.0 in c:\\users\\happy\\anaconda3\\envs\\sub_ironhack\\lib\\site-packages (from dataclasses-json<0.7,>=0.5.7->langchain_community) (3.26.1)\n",
      "Requirement already satisfied: typing-inspect<1,>=0.4.0 in c:\\users\\happy\\anaconda3\\envs\\sub_ironhack\\lib\\site-packages (from dataclasses-json<0.7,>=0.5.7->langchain_community) (0.9.0)\n",
      "Requirement already satisfied: python-dotenv>=0.21.0 in c:\\users\\happy\\anaconda3\\envs\\sub_ironhack\\lib\\site-packages (from pydantic-settings<3.0.0,>=2.4.0->langchain_community) (1.1.1)\n",
      "Requirement already satisfied: mypy-extensions>=0.3.0 in c:\\users\\happy\\anaconda3\\envs\\sub_ironhack\\lib\\site-packages (from typing-inspect<1,>=0.4.0->dataclasses-json<0.7,>=0.5.7->langchain_community) (1.1.0)\n",
      "Requirement already satisfied: openai<2.0.0,>=1.86.0 in c:\\users\\happy\\anaconda3\\envs\\sub_ironhack\\lib\\site-packages (from langchain_openai) (1.95.0)\n",
      "Requirement already satisfied: tiktoken<1,>=0.7 in c:\\users\\happy\\anaconda3\\envs\\sub_ironhack\\lib\\site-packages (from langchain_openai) (0.9.0)\n",
      "Requirement already satisfied: anyio<5,>=3.5.0 in c:\\users\\happy\\anaconda3\\envs\\sub_ironhack\\lib\\site-packages (from openai<2.0.0,>=1.86.0->langchain_openai) (4.9.0)\n",
      "Requirement already satisfied: jiter<1,>=0.4.0 in c:\\users\\happy\\anaconda3\\envs\\sub_ironhack\\lib\\site-packages (from openai<2.0.0,>=1.86.0->langchain_openai) (0.10.0)\n",
      "Requirement already satisfied: sniffio in c:\\users\\happy\\anaconda3\\envs\\sub_ironhack\\lib\\site-packages (from openai<2.0.0,>=1.86.0->langchain_openai) (1.3.1)\n",
      "Requirement already satisfied: httpcore==1.* in c:\\users\\happy\\anaconda3\\envs\\sub_ironhack\\lib\\site-packages (from httpx>=0.27.0->chromadb) (1.0.9)\n",
      "Requirement already satisfied: h11>=0.16 in c:\\users\\happy\\anaconda3\\envs\\sub_ironhack\\lib\\site-packages (from httpcore==1.*->httpx>=0.27.0->chromadb) (0.16.0)\n",
      "Requirement already satisfied: regex>=2022.1.18 in c:\\users\\happy\\anaconda3\\envs\\sub_ironhack\\lib\\site-packages (from tiktoken<1,>=0.7->langchain_openai) (2024.11.6)\n",
      "Collecting pyproject_hooks (from build>=1.0.3->chromadb)\n",
      "  Downloading pyproject_hooks-1.2.0-py3-none-any.whl.metadata (1.3 kB)\n",
      "Requirement already satisfied: colorama in c:\\users\\happy\\anaconda3\\envs\\sub_ironhack\\lib\\site-packages (from build>=1.0.3->chromadb) (0.4.6)\n",
      "Collecting jsonschema-specifications>=2023.03.6 (from jsonschema>=4.19.0->chromadb)\n",
      "  Using cached jsonschema_specifications-2025.4.1-py3-none-any.whl.metadata (2.9 kB)\n",
      "Collecting referencing>=0.28.4 (from jsonschema>=4.19.0->chromadb)\n",
      "  Using cached referencing-0.36.2-py3-none-any.whl.metadata (2.8 kB)\n",
      "Collecting rpds-py>=0.7.1 (from jsonschema>=4.19.0->chromadb)\n",
      "  Downloading rpds_py-0.26.0-cp311-cp311-win_amd64.whl.metadata (4.3 kB)\n",
      "Collecting google-auth>=1.0.1 (from kubernetes>=28.1.0->chromadb)\n",
      "  Using cached google_auth-2.40.3-py2.py3-none-any.whl.metadata (6.2 kB)\n",
      "Collecting websocket-client!=0.40.0,!=0.41.*,!=0.42.*,>=0.32.0 (from kubernetes>=28.1.0->chromadb)\n",
      "  Using cached websocket_client-1.8.0-py3-none-any.whl.metadata (8.0 kB)\n",
      "Collecting requests-oauthlib (from kubernetes>=28.1.0->chromadb)\n",
      "  Using cached requests_oauthlib-2.0.0-py2.py3-none-any.whl.metadata (11 kB)\n",
      "Collecting oauthlib>=3.2.2 (from kubernetes>=28.1.0->chromadb)\n",
      "  Downloading oauthlib-3.3.1-py3-none-any.whl.metadata (7.9 kB)\n",
      "Collecting durationpy>=0.7 (from kubernetes>=28.1.0->chromadb)\n",
      "  Downloading durationpy-0.10-py3-none-any.whl.metadata (340 bytes)\n",
      "Collecting cachetools<6.0,>=2.0.0 (from google-auth>=1.0.1->kubernetes>=28.1.0->chromadb)\n",
      "  Using cached cachetools-5.5.2-py3-none-any.whl.metadata (5.4 kB)\n",
      "Collecting pyasn1-modules>=0.2.1 (from google-auth>=1.0.1->kubernetes>=28.1.0->chromadb)\n",
      "  Using cached pyasn1_modules-0.4.2-py3-none-any.whl.metadata (3.5 kB)\n",
      "Collecting rsa<5,>=3.1.4 (from google-auth>=1.0.1->kubernetes>=28.1.0->chromadb)\n",
      "  Using cached rsa-4.9.1-py3-none-any.whl.metadata (5.6 kB)\n",
      "Collecting pyasn1>=0.1.3 (from rsa<5,>=3.1.4->google-auth>=1.0.1->kubernetes>=28.1.0->chromadb)\n",
      "  Using cached pyasn1-0.6.1-py3-none-any.whl.metadata (8.4 kB)\n",
      "Requirement already satisfied: requests-toolbelt<2.0.0,>=1.0.0 in c:\\users\\happy\\anaconda3\\envs\\sub_ironhack\\lib\\site-packages (from langsmith>=0.1.17->langchain) (1.0.0)\n",
      "Requirement already satisfied: zstandard<0.24.0,>=0.23.0 in c:\\users\\happy\\anaconda3\\envs\\sub_ironhack\\lib\\site-packages (from langsmith>=0.1.17->langchain) (0.23.0)\n",
      "Collecting coloredlogs (from onnxruntime>=1.14.1->chromadb)\n",
      "  Downloading coloredlogs-15.0.1-py2.py3-none-any.whl.metadata (12 kB)\n",
      "Requirement already satisfied: flatbuffers in c:\\users\\happy\\anaconda3\\envs\\sub_ironhack\\lib\\site-packages (from onnxruntime>=1.14.1->chromadb) (25.2.10)\n",
      "Requirement already satisfied: protobuf in c:\\users\\happy\\anaconda3\\envs\\sub_ironhack\\lib\\site-packages (from onnxruntime>=1.14.1->chromadb) (5.29.5)\n",
      "Requirement already satisfied: sympy in c:\\users\\happy\\anaconda3\\envs\\sub_ironhack\\lib\\site-packages (from onnxruntime>=1.14.1->chromadb) (1.14.0)\n",
      "Requirement already satisfied: importlib-metadata<8.8.0,>=6.0 in c:\\users\\happy\\anaconda3\\envs\\sub_ironhack\\lib\\site-packages (from opentelemetry-api>=1.2.0->chromadb) (8.7.0)\n",
      "Requirement already satisfied: zipp>=3.20 in c:\\users\\happy\\anaconda3\\envs\\sub_ironhack\\lib\\site-packages (from importlib-metadata<8.8.0,>=6.0->opentelemetry-api>=1.2.0->chromadb) (3.23.0)\n",
      "Collecting googleapis-common-protos~=1.57 (from opentelemetry-exporter-otlp-proto-grpc>=1.2.0->chromadb)\n",
      "  Downloading googleapis_common_protos-1.70.0-py3-none-any.whl.metadata (9.3 kB)\n",
      "Collecting opentelemetry-exporter-otlp-proto-common==1.35.0 (from opentelemetry-exporter-otlp-proto-grpc>=1.2.0->chromadb)\n",
      "  Downloading opentelemetry_exporter_otlp_proto_common-1.35.0-py3-none-any.whl.metadata (1.8 kB)\n",
      "Collecting opentelemetry-proto==1.35.0 (from opentelemetry-exporter-otlp-proto-grpc>=1.2.0->chromadb)\n",
      "  Downloading opentelemetry_proto-1.35.0-py3-none-any.whl.metadata (2.3 kB)\n",
      "Collecting opentelemetry-semantic-conventions==0.56b0 (from opentelemetry-sdk>=1.2.0->chromadb)\n",
      "  Downloading opentelemetry_semantic_conventions-0.56b0-py3-none-any.whl.metadata (2.4 kB)\n",
      "Requirement already satisfied: markdown-it-py>=2.2.0 in c:\\users\\happy\\anaconda3\\envs\\sub_ironhack\\lib\\site-packages (from rich>=10.11.0->chromadb) (3.0.0)\n",
      "Requirement already satisfied: pygments<3.0.0,>=2.13.0 in c:\\users\\happy\\anaconda3\\envs\\sub_ironhack\\lib\\site-packages (from rich>=10.11.0->chromadb) (2.19.2)\n",
      "Requirement already satisfied: mdurl~=0.1 in c:\\users\\happy\\anaconda3\\envs\\sub_ironhack\\lib\\site-packages (from markdown-it-py>=2.2.0->rich>=10.11.0->chromadb) (0.1.2)\n",
      "Requirement already satisfied: huggingface-hub<1.0,>=0.16.4 in c:\\users\\happy\\anaconda3\\envs\\sub_ironhack\\lib\\site-packages (from tokenizers>=0.13.2->chromadb) (0.33.2)\n",
      "Requirement already satisfied: filelock in c:\\users\\happy\\anaconda3\\envs\\sub_ironhack\\lib\\site-packages (from huggingface-hub<1.0,>=0.16.4->tokenizers>=0.13.2->chromadb) (3.18.0)\n",
      "Requirement already satisfied: fsspec>=2023.5.0 in c:\\users\\happy\\anaconda3\\envs\\sub_ironhack\\lib\\site-packages (from huggingface-hub<1.0,>=0.16.4->tokenizers>=0.13.2->chromadb) (2025.3.0)\n",
      "Requirement already satisfied: click>=8.0.0 in c:\\users\\happy\\anaconda3\\envs\\sub_ironhack\\lib\\site-packages (from typer>=0.9.0->chromadb) (8.2.1)\n",
      "Collecting shellingham>=1.3.0 (from typer>=0.9.0->chromadb)\n",
      "  Using cached shellingham-1.5.4-py2.py3-none-any.whl.metadata (3.5 kB)\n",
      "Collecting httptools>=0.6.3 (from uvicorn[standard]>=0.18.3->chromadb)\n",
      "  Downloading httptools-0.6.4-cp311-cp311-win_amd64.whl.metadata (3.7 kB)\n",
      "Collecting watchfiles>=0.13 (from uvicorn[standard]>=0.18.3->chromadb)\n",
      "  Downloading watchfiles-1.1.0-cp311-cp311-win_amd64.whl.metadata (5.0 kB)\n",
      "Collecting websockets>=10.4 (from uvicorn[standard]>=0.18.3->chromadb)\n",
      "  Downloading websockets-15.0.1-cp311-cp311-win_amd64.whl.metadata (7.0 kB)\n",
      "Collecting humanfriendly>=9.1 (from coloredlogs->onnxruntime>=1.14.1->chromadb)\n",
      "  Downloading humanfriendly-10.0-py2.py3-none-any.whl.metadata (9.2 kB)\n",
      "Collecting pyreadline3 (from humanfriendly>=9.1->coloredlogs->onnxruntime>=1.14.1->chromadb)\n",
      "  Downloading pyreadline3-3.5.4-py3-none-any.whl.metadata (4.7 kB)\n",
      "Requirement already satisfied: mpmath<1.4,>=1.1.0 in c:\\users\\happy\\anaconda3\\envs\\sub_ironhack\\lib\\site-packages (from sympy->onnxruntime>=1.14.1->chromadb) (1.3.0)\n",
      "Downloading chromadb-1.0.15-cp39-abi3-win_amd64.whl (19.5 MB)\n",
      "   ---------------------------------------- 0.0/19.5 MB ? eta -:--:--\n",
      "   -------- ------------------------------- 3.9/19.5 MB 21.5 MB/s eta 0:00:01\n",
      "   -------------------- ------------------- 10.0/19.5 MB 24.9 MB/s eta 0:00:01\n",
      "   ------------------------------ --------- 14.9/19.5 MB 24.8 MB/s eta 0:00:01\n",
      "   ---------------------------------------- 19.5/19.5 MB 24.2 MB/s eta 0:00:00\n",
      "Downloading posthog-5.4.0-py3-none-any.whl (105 kB)\n",
      "Downloading backoff-2.2.1-py3-none-any.whl (15 kB)\n",
      "Downloading bcrypt-4.3.0-cp39-abi3-win_amd64.whl (152 kB)\n",
      "Downloading build-1.2.2.post1-py3-none-any.whl (22 kB)\n",
      "Using cached jsonschema-4.24.0-py3-none-any.whl (88 kB)\n",
      "Using cached jsonschema_specifications-2025.4.1-py3-none-any.whl (18 kB)\n",
      "Downloading kubernetes-33.1.0-py2.py3-none-any.whl (1.9 MB)\n",
      "   ---------------------------------------- 0.0/1.9 MB ? eta -:--:--\n",
      "   ---------------------------------------- 1.9/1.9 MB 21.5 MB/s eta 0:00:00\n",
      "Downloading durationpy-0.10-py3-none-any.whl (3.9 kB)\n",
      "Using cached google_auth-2.40.3-py2.py3-none-any.whl (216 kB)\n",
      "Using cached cachetools-5.5.2-py3-none-any.whl (10 kB)\n",
      "Using cached rsa-4.9.1-py3-none-any.whl (34 kB)\n",
      "Downloading mmh3-5.1.0-cp311-cp311-win_amd64.whl (41 kB)\n",
      "Downloading oauthlib-3.3.1-py3-none-any.whl (160 kB)\n",
      "Downloading onnxruntime-1.22.1-cp311-cp311-win_amd64.whl (12.7 MB)\n",
      "   ---------------------------------------- 0.0/12.7 MB ? eta -:--:--\n",
      "   --------------- ------------------------ 5.0/12.7 MB 25.2 MB/s eta 0:00:01\n",
      "   ------------------------ --------------- 7.9/12.7 MB 19.5 MB/s eta 0:00:01\n",
      "   ---------------------------------------  12.6/12.7 MB 21.3 MB/s eta 0:00:01\n",
      "   ---------------------------------------- 12.7/12.7 MB 20.4 MB/s eta 0:00:00\n",
      "Downloading opentelemetry_api-1.35.0-py3-none-any.whl (65 kB)\n",
      "Downloading opentelemetry_exporter_otlp_proto_grpc-1.35.0-py3-none-any.whl (18 kB)\n",
      "Downloading opentelemetry_exporter_otlp_proto_common-1.35.0-py3-none-any.whl (18 kB)\n",
      "Downloading opentelemetry_proto-1.35.0-py3-none-any.whl (72 kB)\n",
      "Downloading googleapis_common_protos-1.70.0-py3-none-any.whl (294 kB)\n",
      "Downloading opentelemetry_sdk-1.35.0-py3-none-any.whl (119 kB)\n",
      "Downloading opentelemetry_semantic_conventions-0.56b0-py3-none-any.whl (201 kB)\n",
      "Using cached overrides-7.7.0-py3-none-any.whl (17 kB)\n",
      "Using cached pyasn1-0.6.1-py3-none-any.whl (83 kB)\n",
      "Using cached pyasn1_modules-0.4.2-py3-none-any.whl (181 kB)\n",
      "Downloading pybase64-1.4.1-cp311-cp311-win_amd64.whl (36 kB)\n",
      "Using cached referencing-0.36.2-py3-none-any.whl (26 kB)\n",
      "Downloading rpds_py-0.26.0-cp311-cp311-win_amd64.whl (231 kB)\n",
      "Using cached typer-0.16.0-py3-none-any.whl (46 kB)\n",
      "Using cached shellingham-1.5.4-py2.py3-none-any.whl (9.8 kB)\n",
      "Downloading httptools-0.6.4-cp311-cp311-win_amd64.whl (88 kB)\n",
      "Downloading watchfiles-1.1.0-cp311-cp311-win_amd64.whl (292 kB)\n",
      "Using cached websocket_client-1.8.0-py3-none-any.whl (58 kB)\n",
      "Downloading websockets-15.0.1-cp311-cp311-win_amd64.whl (176 kB)\n",
      "Downloading coloredlogs-15.0.1-py2.py3-none-any.whl (46 kB)\n",
      "Downloading humanfriendly-10.0-py2.py3-none-any.whl (86 kB)\n",
      "Downloading importlib_resources-6.5.2-py3-none-any.whl (37 kB)\n",
      "Downloading pyproject_hooks-1.2.0-py3-none-any.whl (10 kB)\n",
      "Downloading pyreadline3-3.5.4-py3-none-any.whl (83 kB)\n",
      "Using cached requests_oauthlib-2.0.0-py2.py3-none-any.whl (24 kB)\n",
      "Building wheels for collected packages: pypika\n",
      "  Building wheel for pypika (pyproject.toml): started\n",
      "  Building wheel for pypika (pyproject.toml): finished with status 'done'\n",
      "  Created wheel for pypika: filename=pypika-0.48.9-py2.py3-none-any.whl size=53916 sha256=9129c9aab5f639adf5d4fbb383b388897d5302b70a2708007a7105610a4c8266\n",
      "  Stored in directory: c:\\users\\happy\\appdata\\local\\pip\\cache\\wheels\\a3\\01\\bd\\4c40ceb9d5354160cb186dcc153360f4ab7eb23e2b24daf96d\n",
      "Successfully built pypika\n",
      "Installing collected packages: pypika, durationpy, websockets, websocket-client, shellingham, rpds-py, pyreadline3, pyproject_hooks, pybase64, pyasn1, overrides, opentelemetry-proto, oauthlib, mmh3, importlib-resources, httptools, googleapis-common-protos, cachetools, bcrypt, backoff, watchfiles, rsa, requests-oauthlib, referencing, pyasn1-modules, posthog, opentelemetry-exporter-otlp-proto-common, opentelemetry-api, humanfriendly, build, typer, opentelemetry-semantic-conventions, jsonschema-specifications, google-auth, coloredlogs, opentelemetry-sdk, onnxruntime, kubernetes, jsonschema, opentelemetry-exporter-otlp-proto-grpc, chromadb\n",
      "\n",
      "   - --------------------------------------  2/41 [websockets]\n",
      "   ----- ----------------------------------  6/41 [pyreadline3]\n",
      "   -------- -------------------------------  9/41 [pyasn1]\n",
      "   ---------- ----------------------------- 11/41 [opentelemetry-proto]\n",
      "   ----------- ---------------------------- 12/41 [oauthlib]\n",
      "   --------------- ------------------------ 16/41 [googleapis-common-protos]\n",
      "   ----------------- ---------------------- 18/41 [bcrypt]\n",
      "   ---------------------- ----------------- 23/41 [referencing]\n",
      "   ----------------------- ---------------- 24/41 [pyasn1-modules]\n",
      "   ------------------------ --------------- 25/41 [posthog]\n",
      "   -------------------------- ------------- 27/41 [opentelemetry-api]\n",
      "   ---------------------------- ----------- 29/41 [build]\n",
      "   ------------------------ -------- 31/41 [opentelemetry-semantic-conventions]\n",
      "   -------------------------------- ------- 33/41 [google-auth]\n",
      "   --------------------------------- ------ 34/41 [coloredlogs]\n",
      "   ----------------------------------- ---- 36/41 [onnxruntime]\n",
      "   ----------------------------------- ---- 36/41 [onnxruntime]\n",
      "   ----------------------------------- ---- 36/41 [onnxruntime]\n",
      "   ----------------------------------- ---- 36/41 [onnxruntime]\n",
      "   ----------------------------------- ---- 36/41 [onnxruntime]\n",
      "   ----------------------------------- ---- 36/41 [onnxruntime]\n",
      "   ------------------------------------ --- 37/41 [kubernetes]\n",
      "   ------------------------------------ --- 37/41 [kubernetes]\n",
      "   ------------------------------------ --- 37/41 [kubernetes]\n",
      "   ------------------------------------ --- 37/41 [kubernetes]\n",
      "   ------------------------------------ --- 37/41 [kubernetes]\n",
      "   ------------------------------------ --- 37/41 [kubernetes]\n",
      "   ------------------------------------ --- 37/41 [kubernetes]\n",
      "   ------------------------------------ --- 37/41 [kubernetes]\n",
      "   ------------------------------------ --- 37/41 [kubernetes]\n",
      "   ------------------------------------ --- 37/41 [kubernetes]\n",
      "   ------------------------------------ --- 37/41 [kubernetes]\n",
      "   ------------------------------------ --- 37/41 [kubernetes]\n",
      "   ------------------------------------ --- 37/41 [kubernetes]\n",
      "   ---------------------------------------  40/41 [chromadb]\n",
      "   ---------------------------------------  40/41 [chromadb]\n",
      "   ---------------------------------------  40/41 [chromadb]\n",
      "   ---------------------------------------  40/41 [chromadb]\n",
      "   ---------------------------------------- 41/41 [chromadb]\n",
      "\n",
      "Successfully installed backoff-2.2.1 bcrypt-4.3.0 build-1.2.2.post1 cachetools-5.5.2 chromadb-1.0.15 coloredlogs-15.0.1 durationpy-0.10 google-auth-2.40.3 googleapis-common-protos-1.70.0 httptools-0.6.4 humanfriendly-10.0 importlib-resources-6.5.2 jsonschema-4.24.0 jsonschema-specifications-2025.4.1 kubernetes-33.1.0 mmh3-5.1.0 oauthlib-3.3.1 onnxruntime-1.22.1 opentelemetry-api-1.35.0 opentelemetry-exporter-otlp-proto-common-1.35.0 opentelemetry-exporter-otlp-proto-grpc-1.35.0 opentelemetry-proto-1.35.0 opentelemetry-sdk-1.35.0 opentelemetry-semantic-conventions-0.56b0 overrides-7.7.0 posthog-5.4.0 pyasn1-0.6.1 pyasn1-modules-0.4.2 pybase64-1.4.1 pypika-0.48.9 pyproject_hooks-1.2.0 pyreadline3-3.5.4 referencing-0.36.2 requests-oauthlib-2.0.0 rpds-py-0.26.0 rsa-4.9.1 shellingham-1.5.4 typer-0.16.0 watchfiles-1.1.0 websocket-client-1.8.0 websockets-15.0.1\n"
     ]
    }
   ],
   "source": [
    "!pip install chromadb langchain langchain_community langchain_openai"
   ]
  },
  {
   "cell_type": "code",
   "execution_count": 1,
   "id": "2868cff1-a3ef-426f-b8d7-7fe89047a5b7",
   "metadata": {
    "tags": []
   },
   "outputs": [],
   "source": [
    "from langchain.chains import RetrievalQA\n",
    "from langchain_community.vectorstores import Chroma\n",
    "from langchain_openai import OpenAI, OpenAIEmbeddings\n",
    "from langchain_text_splitters import CharacterTextSplitter\n",
    "from langchain_community.document_loaders import TextLoader"
   ]
  },
  {
   "cell_type": "code",
   "execution_count": 2,
   "id": "aeff3a2d-b0cc-429f-a34c-4381d71f1a5f",
   "metadata": {
    "tags": []
   },
   "outputs": [],
   "source": [
    "import os\n",
    "from dotenv import load_dotenv, find_dotenv\n",
    "_ = load_dotenv(find_dotenv())\n",
    "\n",
    "OPENAI_API_KEY  = os.getenv('OPENAI_API_KEY')"
   ]
  },
  {
   "cell_type": "code",
   "execution_count": null,
   "id": "f16d010b",
   "metadata": {},
   "outputs": [],
   "source": [
    "# If you're using colab, run this\n",
    "#os.environ['OPENAI_API_KEY'] = \"YOUR_OPENAI_API_KEY\""
   ]
  },
  {
   "cell_type": "code",
   "execution_count": 28,
   "id": "14331eec-fd46-42e0-b6e7-adaf21824ef7",
   "metadata": {
    "tags": []
   },
   "outputs": [],
   "source": [
    "llm = OpenAI(temperature=0)"
   ]
  },
  {
   "cell_type": "code",
   "execution_count": 29,
   "id": "0b7b772b",
   "metadata": {
    "tags": []
   },
   "outputs": [],
   "source": [
    "from pathlib import Path\n",
    "\n",
    "relevant_parts = []\n",
    "for p in Path(\".\").absolute().parts:\n",
    "    relevant_parts.append(p)\n",
    "    if relevant_parts[-3:] == [\"langchain\", \"docs\", \"modules\"]:\n",
    "        break\n",
    "doc_path = str(Path(*relevant_parts) / \"state_of_the_union.txt\")"
   ]
  },
  {
   "cell_type": "code",
   "execution_count": 30,
   "id": "f2675861",
   "metadata": {
    "tags": []
   },
   "outputs": [],
   "source": [
    "loader = TextLoader(doc_path)\n",
    "documents = loader.load()\n",
    "text_splitter = CharacterTextSplitter(chunk_size=1000, chunk_overlap=0)\n",
    "texts = text_splitter.split_documents(documents)\n",
    "\n",
    "embeddings = OpenAIEmbeddings()\n",
    "docsearch = Chroma.from_documents(texts, embeddings, collection_name=\"state-of-union\")"
   ]
  },
  {
   "cell_type": "code",
   "execution_count": 31,
   "id": "bc5403d4",
   "metadata": {
    "tags": []
   },
   "outputs": [],
   "source": [
    "state_of_union = RetrievalQA.from_chain_type(\n",
    "    llm=llm, chain_type=\"stuff\", retriever=docsearch.as_retriever()\n",
    ")"
   ]
  },
  {
   "cell_type": "code",
   "execution_count": 32,
   "id": "7884d37d",
   "metadata": {},
   "outputs": [],
   "source": [
    "import os\n",
    "from langchain_community.document_loaders import WebBaseLoader\n",
    "\n",
    "os.environ[\"USER_AGENT\"] = \"MyVectorStoreBot/1.0 (+https://github.com/my-project)\"\n",
    "loader = WebBaseLoader(\n",
    "    \"https://…\",\n",
    "    header_template={\"User-Agent\": os.environ[\"USER_AGENT\"]},\n",
    ")\n"
   ]
  },
  {
   "cell_type": "code",
   "execution_count": 33,
   "id": "1431cded",
   "metadata": {
    "tags": []
   },
   "outputs": [],
   "source": [
    "from langchain_community.document_loaders import WebBaseLoader"
   ]
  },
  {
   "cell_type": "code",
   "execution_count": 34,
   "id": "915d3ff3",
   "metadata": {
    "tags": []
   },
   "outputs": [],
   "source": [
    "loader = WebBaseLoader(\"https://beta.ruff.rs/docs/faq/\")"
   ]
  },
  {
   "cell_type": "code",
   "execution_count": 35,
   "id": "401312b5",
   "metadata": {},
   "outputs": [
    {
     "data": {
      "text/plain": [
       "<langchain_community.document_loaders.web_base.WebBaseLoader at 0x2361bb7dc90>"
      ]
     },
     "execution_count": 35,
     "metadata": {},
     "output_type": "execute_result"
    }
   ],
   "source": [
    "loader"
   ]
  },
  {
   "cell_type": "code",
   "execution_count": 39,
   "id": "0ae33d10",
   "metadata": {},
   "outputs": [],
   "source": [
    "raw_docs = loader.load()    "
   ]
  },
  {
   "cell_type": "code",
   "execution_count": 40,
   "id": "09357144",
   "metadata": {},
   "outputs": [
    {
     "data": {
      "text/plain": [
       "[Document(metadata={'source': 'https://beta.ruff.rs/docs/faq/', 'title': 'FAQ | Ruff', 'description': 'An extremely fast Python linter and code formatter, written in Rust.', 'language': 'en'}, page_content='\\n\\n\\n\\n\\n\\n\\n\\n\\n\\n\\n\\n\\nFAQ | Ruff\\n\\n\\n\\n\\n\\n\\n\\n\\n\\n\\n\\n\\n\\n\\n\\n\\n\\n\\n\\n\\n\\n\\n\\n\\n\\n          Skip to content\\n        \\n\\n\\n\\n\\n\\n\\n\\n\\n\\n\\n\\n\\n\\n\\n\\n            Ruff\\n          \\n\\n\\n\\n            \\n              FAQ\\n            \\n          \\n\\n\\n\\n\\n\\n\\n\\n\\n\\n\\n\\n\\n\\n\\n\\n\\n\\n\\n\\n\\n\\n\\n\\n\\n\\n\\n\\n\\n\\n\\n\\n\\n\\n\\n\\n\\n\\n\\n\\n\\n            Initializing search\\n          \\n\\n\\n\\n\\n\\n\\n\\n\\n\\n\\n\\n\\n    ruff\\n  \\n\\n\\n\\n\\n\\n\\n\\n\\n\\n\\n\\n\\n\\n\\n\\n    Ruff\\n  \\n\\n\\n\\n\\n\\n\\n    ruff\\n  \\n\\n\\n\\n\\n\\n\\n    \\n  \\n    Overview\\n  \\n\\n    \\n  \\n\\n\\n\\n\\n\\n    \\n  \\n    Tutorial\\n  \\n\\n    \\n  \\n\\n\\n\\n\\n\\n    \\n  \\n    Installing Ruff\\n  \\n\\n    \\n  \\n\\n\\n\\n\\n\\n    \\n  \\n    The Ruff Linter\\n  \\n\\n    \\n  \\n\\n\\n\\n\\n\\n    \\n  \\n    The Ruff Formatter\\n  \\n\\n    \\n  \\n\\n\\n\\n\\n\\n\\n    \\n  \\n    Editors\\n  \\n\\n    \\n  \\n\\n\\n\\n\\n\\n            \\n  \\n    Editors\\n  \\n\\n          \\n\\n\\n\\n\\n    \\n  \\n    Editor Integration\\n  \\n\\n    \\n  \\n\\n\\n\\n\\n\\n    \\n  \\n    Setup\\n  \\n\\n    \\n  \\n\\n\\n\\n\\n\\n    \\n  \\n    Features\\n  \\n\\n    \\n  \\n\\n\\n\\n\\n\\n    \\n  \\n    Settings\\n  \\n\\n    \\n  \\n\\n\\n\\n\\n\\n    \\n  \\n    Migrating from ruff-lsp\\n  \\n\\n    \\n  \\n\\n\\n\\n\\n\\n\\n\\n\\n    \\n  \\n    Configuring Ruff\\n  \\n\\n    \\n  \\n\\n\\n\\n\\n\\n    \\n  \\n    Preview\\n  \\n\\n    \\n  \\n\\n\\n\\n\\n\\n    \\n  \\n    Rules\\n  \\n\\n    \\n  \\n\\n\\n\\n\\n\\n    \\n  \\n    Settings\\n  \\n\\n    \\n  \\n\\n\\n\\n\\n\\n    \\n  \\n    Versioning\\n  \\n\\n    \\n  \\n\\n\\n\\n\\n\\n    \\n  \\n    Integrations\\n  \\n\\n    \\n  \\n\\n\\n\\n\\n\\n\\n    \\n  \\n    FAQ\\n  \\n\\n    \\n  \\n\\n\\n\\n\\n    \\n  \\n    FAQ\\n  \\n\\n    \\n  \\n\\n\\n\\n\\n      Table of contents\\n    \\n\\n\\n\\n\\n      \\n        Is the Ruff linter compatible with Black?\\n      \\n    \\n\\n\\n\\n\\n\\n      \\n        How does Ruff\\'s formatter compare to Black?\\n      \\n    \\n\\n\\n\\n\\n\\n      \\n        How does Ruff\\'s linter compare to Flake8?\\n      \\n    \\n\\n\\n\\n\\n\\n      \\n        How does Ruff\\'s linter compare to Pylint?\\n      \\n    \\n\\n\\n\\n\\n\\n      \\n        How does Ruff compare to Mypy, or Pyright, or Pyre?\\n      \\n    \\n\\n\\n\\n\\n\\n      \\n        Which tools does Ruff replace?\\n      \\n    \\n\\n\\n\\n\\n\\n      \\n        Do I have to use Ruff\\'s linter and formatter together?\\n      \\n    \\n\\n\\n\\n\\n\\n      \\n        What versions of Python does Ruff support?\\n      \\n    \\n\\n\\n\\n\\n\\n      \\n        Do I need to install Rust to use Ruff?\\n      \\n    \\n\\n\\n\\n\\n\\n      \\n        Can I write my own linter plugins for Ruff?\\n      \\n    \\n\\n\\n\\n\\n\\n      \\n        How does Ruff\\'s import sorting compare to isort?\\n      \\n    \\n\\n\\n\\n\\n\\n      \\n        How does Ruff determine which of my imports are first-party, third-party, etc.?\\n      \\n    \\n\\n\\n\\n\\n\\n      \\n        Does Ruff support Jupyter Notebooks?\\n      \\n    \\n\\n\\n\\n\\n\\n      \\n        Does Ruff support NumPy- or Google-style docstrings?\\n      \\n    \\n\\n\\n\\n\\n\\n      \\n        What is \"preview\"?\\n      \\n    \\n\\n\\n\\n\\n\\n      \\n        How can I tell what settings Ruff is using to check my code?\\n      \\n    \\n\\n\\n\\n\\n\\n      \\n        I want to use Ruff, but I don\\'t want to use pyproject.toml. What are my options?\\n      \\n    \\n\\n\\n\\n\\n\\n      \\n        How can I change Ruff\\'s default configuration?\\n      \\n    \\n\\n\\n\\n\\n\\n      \\n        Ruff tried to fix something — but it broke my code. What\\'s going on?\\n      \\n    \\n\\n\\n\\n\\n\\n      \\n        How can I disable/force Ruff\\'s color output?\\n      \\n    \\n\\n\\n\\n\\n\\n      \\n        Ruff behaves unexpectedly when using source.* code actions in Notebooks. What\\'s going on?\\n      \\n    \\n\\n\\n\\n\\n\\n\\n\\n\\n    \\n  \\n    Contributing\\n  \\n\\n    \\n  \\n\\n\\n\\n\\n\\n\\n\\n\\n\\nFAQ\\nIs the Ruff linter compatible with Black?\\nYes. The Ruff linter is compatible with Black out-of-the-box, as\\nlong as the line-length setting is consistent between the two.\\nRuff is designed to be used alongside a formatter (like Ruff\\'s own formatter, or Black) and, as\\nsuch, will defer implementing stylistic rules that are obviated by automated formatting.\\nNote that Ruff\\'s linter and Black treat line-length enforcement a little differently. Black, like\\nRuff\\'s formatter, makes a best-effort attempt to adhere to the\\nline-length, but avoids automatic line-wrapping in some cases (e.g.,\\nwithin comments). Ruff, on the other hand, will flag line-too-long\\n(E501) for any line that exceeds the line-length setting. As such, if\\nline-too-long (E501) is enabled, Ruff can still trigger line-length\\nviolations even when Black or ruff format is enabled.\\nHow does Ruff\\'s formatter compare to Black?\\nThe Ruff formatter is designed to be a drop-in replacement for Black.\\nSpecifically, the formatter is intended to emit near-identical output when run over Black-formatted\\ncode. When run over extensive Black-formatted projects like Django and Zulip, > 99.9% of lines\\nare formatted identically. When migrating an existing project from Black to Ruff, you should expect\\nto see a few differences on the margins, but the vast majority of your code should be unchanged.\\nWhen run over non-Black-formatted code, the formatter makes some different decisions than Black,\\nand so more deviations should be expected, especially around the treatment of end-of-line comments.\\nSee Style Guide for more.\\nHow does Ruff\\'s linter compare to Flake8?\\nRuff can be used as a drop-in replacement for Flake8 when used (1) without or with a small number of\\nplugins, (2) alongside Black, and (3) on Python 3 code.\\nUnder those conditions, Ruff implements every rule in Flake8. In practice, that means Ruff\\nimplements all of the F rules (which originate from Pyflakes), along with a subset of the E and\\nW rules (which originate from pycodestyle).\\nRuff also re-implements some of the most popular Flake8 plugins and related code quality tools\\nnatively, including:\\n\\nautoflake\\neradicate\\nflake8-2020\\nflake8-annotations\\nflake8-async\\nflake8-bandit (#1646)\\nflake8-blind-except\\nflake8-boolean-trap\\nflake8-bugbear\\nflake8-builtins\\nflake8-commas\\nflake8-comprehensions\\nflake8-copyright\\nflake8-datetimez\\nflake8-debugger\\nflake8-django\\nflake8-docstrings\\nflake8-eradicate\\nflake8-errmsg\\nflake8-executable\\nflake8-gettext\\nflake8-implicit-str-concat\\nflake8-import-conventions\\nflake8-logging\\nflake8-logging-format\\nflake8-no-pep420\\nflake8-pie\\nflake8-print\\nflake8-pyi\\nflake8-pytest-style\\nflake8-quotes\\nflake8-raise\\nflake8-return\\nflake8-self\\nflake8-simplify\\nflake8-slots\\nflake8-super\\nflake8-tidy-imports\\nflake8-todos\\nflake8-type-checking\\nflake8-use-pathlib\\nflynt (#2102)\\nisort\\nmccabe\\npandas-vet\\npep8-naming\\nperflint (#4789)\\npydocstyle\\npygrep-hooks\\npyupgrade\\ntryceratops\\nyesqa\\n\\nNote that, in some cases, Ruff uses different rule codes and prefixes than would be found in the\\noriginating Flake8 plugins. For example, Ruff uses TID252 to represent the I252 rule from\\nflake8-tidy-imports. This helps minimize conflicts across plugins and allows any individual plugin\\nto be toggled on or off with a single (e.g.) --select TID, as opposed to --select I2 (to avoid\\nconflicts with the isort rules, like I001).\\nBeyond the rule set, Ruff\\'s primary limitation vis-à-vis Flake8 is that it does not support custom\\nlint rules. (Instead, popular Flake8 plugins are re-implemented in Rust as part of Ruff itself.)\\nOne minor difference is that Ruff doesn\\'t include all the \\'opinionated\\' rules from flake8-bugbear.\\nHow does Ruff\\'s linter compare to Pylint?\\nAt time of writing, Pylint implements ~409 total rules, while Ruff implements over 800, of which at\\nleast 209 overlap with the Pylint rule set (see: #970).\\nPylint implements many rules that Ruff does not, and vice versa. For example, Pylint does more type\\ninference than Ruff (e.g., Pylint can validate the number of arguments in a function call). As such,\\nRuff is not a \"pure\" drop-in replacement for Pylint (and vice versa), as they enforce different sets\\nof rules.\\nDespite these differences, many users have successfully switched from Pylint to Ruff, especially\\nthose using Ruff alongside a type checker,\\nwhich can cover some of the functionality that Pylint provides.\\nLike Flake8, Pylint supports plugins (called \"checkers\"), while Ruff implements all rules natively\\nand does not support custom or third-party rules. Unlike Pylint, Ruff is capable of automatically\\nfixing its own lint violations.\\nIn some cases, Ruff\\'s rules may yield slightly different results than their Pylint counterparts. For\\nexample, Ruff\\'s too-many-branches does not count try blocks as\\ntheir own branches, unlike Pylint\\'s R0912. Ruff\\'s PL rule group also includes a small number of\\nrules from Pylint extensions (like magic-value-comparison),\\nwhich need to be explicitly activated when using Pylint. By enabling Ruff\\'s PL group, you may\\nsee violations for rules that weren\\'t previously enabled through your Pylint configuration.\\nPylint parity is being tracked in #970.\\nHow does Ruff compare to Mypy, or Pyright, or Pyre?\\nRuff is a linter, not a type checker. It can detect some of the same problems that a type checker\\ncan, but a type checker will catch certain errors that Ruff would miss. The opposite is also true:\\nRuff will catch certain errors that a type checker would typically ignore.\\nFor example, unlike a type checker, Ruff will notify you if an import is unused, by looking for\\nreferences to that import in the source code; on the other hand, a type checker could flag that you\\npassed an integer argument to a function that expects a string, which Ruff would miss. The\\ntools are complementary.\\nIt\\'s recommended that you use Ruff in conjunction with a type checker, like Mypy, Pyright, or Pyre,\\nwith Ruff providing faster feedback on lint violations and the type checker providing more detailed\\nfeedback on type errors.\\nWhich tools does Ruff replace?\\nToday, Ruff can be used to replace Flake8 when used with any of the following plugins:\\n\\nflake8-2020\\nflake8-annotations\\nflake8-async\\nflake8-bandit (#1646)\\nflake8-blind-except\\nflake8-boolean-trap\\nflake8-bugbear\\nflake8-builtins\\nflake8-commas\\nflake8-comprehensions\\nflake8-copyright\\nflake8-datetimez\\nflake8-debugger\\nflake8-django\\nflake8-docstrings\\nflake8-eradicate\\nflake8-errmsg\\nflake8-executable\\nflake8-gettext\\nflake8-implicit-str-concat\\nflake8-import-conventions\\nflake8-logging\\nflake8-logging-format\\nflake8-no-pep420\\nflake8-pie\\nflake8-print\\nflake8-pytest-style\\nflake8-quotes\\nflake8-raise\\nflake8-return\\nflake8-self\\nflake8-simplify\\nflake8-slots\\nflake8-super\\nflake8-tidy-imports\\nflake8-todos\\nflake8-type-checking\\nflake8-use-pathlib\\nflynt (#2102)\\nmccabe\\npandas-vet\\npep8-naming\\nperflint (#4789)\\npydocstyle\\ntryceratops\\n\\nRuff can also replace Black, isort,\\nyesqa, eradicate, and\\nmost of the rules implemented in pyupgrade.\\nIf you\\'re looking to use Ruff, but rely on an unsupported Flake8 plugin, feel free to file an\\nissue.\\nDo I have to use Ruff\\'s linter and formatter together?\\nNope! Ruff\\'s linter and formatter can be used independently of one another -- you can use\\nRuff as a formatter, but not a linter, or vice versa.\\nWhat versions of Python does Ruff support?\\nRuff can lint code for any Python version from 3.7 onwards, including Python 3.13.\\nRuff does not support Python 2. Ruff may run on pre-Python 3.7 code, although such versions\\nare not officially supported (e.g., Ruff does not respect type comments).\\nRuff is installable under any Python version from 3.7 onwards.\\nDo I need to install Rust to use Ruff?\\nNope! Ruff is available as ruff on PyPI. We recommend installing Ruff with uv,\\nthough it\\'s also installable with pip, pipx, and a variety of other package managers:\\n$ # Install Ruff globally.\\n$ uv tool install ruff@latest\\n\\n$ # Or add Ruff to your project.\\n$ uv add --dev ruff\\n\\n$ # With pip.\\n$ pip install ruff\\n\\n$ # With pipx.\\n$ pipx install ruff\\n\\nStarting with version 0.5.0, Ruff can also be installed with our standalone installers:\\n$ # On macOS and Linux.\\n$ curl -LsSf https://astral.sh/ruff/install.sh | sh\\n\\n$ # On Windows.\\n$ powershell -c \"irm https://astral.sh/ruff/install.ps1 | iex\"\\n\\n$ # For a specific version.\\n$ curl -LsSf https://astral.sh/ruff/0.5.0/install.sh | sh\\n$ powershell -c \"irm https://astral.sh/ruff/0.5.0/install.ps1 | iex\"\\n\\nRuff ships with wheels for all major platforms, which enables uv, pip, and other tools to install Ruff without\\nrelying on a Rust toolchain at all.\\nCan I write my own linter plugins for Ruff?\\nRuff does not yet support third-party plugins, though a plugin system is within-scope for the\\nproject. See #283 for more.\\nHow does Ruff\\'s import sorting compare to isort?\\nRuff\\'s import sorting is intended to be near-equivalent to isort\\'s when using isort\\'s\\nprofile = \"black\".\\nThere are a few known differences in how Ruff and isort treat aliased imports, and in how Ruff and\\nisort treat inline comments in some cases (see: #1381,\\n#2104).\\nFor example, Ruff tends to group non-aliased imports from the same module:\\nfrom numpy import cos, int8, int16, int32, int64, tan, uint8, uint16, uint32, uint64\\nfrom numpy import sin as np_sin\\n\\nWhereas isort splits them into separate import statements at each aliased boundary:\\nfrom numpy import cos, int8, int16, int32, int64\\nfrom numpy import sin as np_sin\\nfrom numpy import tan, uint8, uint16, uint32, uint64\\n\\nRuff also correctly classifies some modules as standard-library that aren\\'t recognized\\nby isort, like _string and idlelib.\\nLike isort, Ruff\\'s import sorting is compatible with Black.\\nHow does Ruff determine which of my imports are first-party, third-party, etc.?\\nRuff accepts a src option that in your pyproject.toml, ruff.toml, or .ruff.toml file,\\nspecifies the directories that Ruff should consider when determining whether an import is\\nfirst-party.\\nFor example, if you have a project with the following structure:\\nmy_project\\n├── pyproject.toml\\n└── src\\n    └── foo\\n        ├── __init__.py\\n        └── bar\\n            ├── __init__.py\\n            └── baz.py\\n\\nWhen Ruff sees an import like import foo, it will then iterate over the src directories,\\nlooking for a corresponding Python module (in reality, a directory named foo or a file named\\nfoo.py). For module paths with multiple components like import foo.bar,\\nthe default behavior is to search only for a directory named foo or a file\\nnamed foo.py. However, if preview is enabled, Ruff will require that the full relative path foo/bar exists as a directory, or that foo/bar.py or foo/bar.pyi exist as files. Finally, imports of the form from foo import bar, Ruff will only use foo when determining whether a module is first-party or third-party. \\nIf there is a directory\\nwhose name matches a third-party package, but does not contain Python code,\\nit could happen that the above algorithm incorrectly infers an import to be first-party.\\nTo prevent this, you can modify the known-third-party setting. For example, if you import\\nthe package wandb but also have a subdirectory of your src with\\nthe same name, you can add the following:\\npyproject.tomlruff.toml\\n\\n\\n[tool.ruff.lint.isort]\\nknown-third-party = [\"wandb\"]\\n\\n\\n\\n[lint.isort]\\nknown-third-party = [\"wandb\"]\\n\\n\\n\\n\\nIf the src field is omitted, Ruff will default to using the \"project root\", along with a \"src\"\\nsubdirectory, as the first-party sources, to support both flat and nested project layouts.\\nThe \"project root\" is typically the directory containing your pyproject.toml, ruff.toml, or\\n.ruff.toml file, unless a configuration file is provided on the command-line via the --config\\noption, in which case, the current working directory is used as the project root.\\nIn this case, Ruff would check the \"src\" directory by default, but we can configure it as an\\nexplicit, exclusive first-party source like so:\\npyproject.tomlruff.toml\\n\\n\\n[tool.ruff]\\n# Ruff supports a top-level `src` option in lieu of isort\\'s `src_paths` setting.\\n# All paths are relative to the project root, which is the directory containing the pyproject.toml.\\nsrc = [\"src\"]\\n\\n\\n\\n# Ruff supports a top-level `src` option in lieu of isort\\'s `src_paths` setting.\\n# All paths are relative to the project root, which is the directory containing the pyproject.toml.\\nsrc = [\"src\"]\\n\\n\\n\\n\\nIf your pyproject.toml, ruff.toml, or .ruff.toml extends another configuration file, Ruff\\nwill still use the directory containing your pyproject.toml, ruff.toml, or .ruff.toml file as\\nthe project root (as opposed to the directory of the file pointed to via the extends option).\\nFor example, if you add a configuration file to the tests directory in the above example, you\\'ll\\nwant to explicitly set the src option in the extended configuration file:\\npyproject.tomlruff.toml\\n\\n\\n[tool.ruff]\\nextend = \"../pyproject.toml\"\\nsrc = [\"../src\"]\\n\\n\\n\\nextend = \"../pyproject.toml\"\\nsrc = [\"../src\"]\\n\\n\\n\\n\\nBeyond this src-based detection, Ruff will also attempt to determine the current Python package\\nfor a given Python file, and mark imports from within the same package as first-party. For example,\\nabove, baz.py would be identified as part of the Python package beginning at\\n./my_project/src/foo, and so any imports in baz.py that begin with foo (like import foo.bar)\\nwould be considered first-party based on this same-package heuristic.\\nFor a detailed explanation of src resolution, see the contributing guide.\\nRuff can also be configured to treat certain modules as (e.g.) always first-party, regardless of\\ntheir location on the filesystem. For example, you can set known-first-party\\nlike so:\\npyproject.tomlruff.toml\\n\\n\\n[tool.ruff]\\nsrc = [\"src\", \"tests\"]\\n\\n[tool.ruff.lint]\\nselect = [\\n    # Pyflakes\\n    \"F\",\\n    # Pycodestyle\\n    \"E\",\\n    \"W\",\\n    # isort\\n    \"I001\"\\n]\\n\\n[tool.ruff.lint.isort]\\nknown-first-party = [\"my_module1\", \"my_module2\"]\\n\\n\\n\\nsrc = [\"src\", \"tests\"]\\n\\n[lint]\\nselect = [\\n    # Pyflakes\\n    \"F\",\\n    # Pycodestyle\\n    \"E\",\\n    \"W\",\\n    # isort\\n    \"I001\"\\n]\\n\\n[lint.isort]\\nknown-first-party = [\"my_module1\", \"my_module2\"]\\n\\n\\n\\n\\nRuff does not yet support all of isort\\'s configuration options, though it does support many of\\nthem. You can find the supported settings in the API reference.\\nDoes Ruff support Jupyter Notebooks?\\nRuff has built-in support for linting and formatting Jupyter Notebooks. Refer to the\\nJupyter Notebook section for more details.\\nRuff also integrates with nbQA, a tool for running linters and\\ncode formatters over Jupyter Notebooks.\\nAfter installing ruff and nbqa, you can run Ruff over a notebook like so:\\n$ nbqa ruff Untitled.ipynb\\nUntitled.ipynb:cell_1:2:5: F841 Local variable `x` is assigned to but never used\\nUntitled.ipynb:cell_2:1:1: E402 Module level import not at top of file\\nUntitled.ipynb:cell_2:1:8: F401 `os` imported but unused\\nFound 3 errors.\\n1 potentially fixable with the --fix option.\\n\\nDoes Ruff support NumPy- or Google-style docstrings?\\nYes! To enforce a docstring convention, add a convention\\nsetting following to your configuration file:\\npyproject.tomlruff.toml\\n\\n\\n[tool.ruff.lint.pydocstyle]\\nconvention = \"google\"  # Accepts: \"google\", \"numpy\", or \"pep257\".\\n\\n\\n\\n[lint.pydocstyle]\\nconvention = \"google\"  # Accepts: \"google\", \"numpy\", or \"pep257\".\\n\\n\\n\\n\\nFor example, if you\\'re coming from flake8-docstrings, and your originating configuration uses\\n--docstring-convention=numpy, you\\'d instead set convention = \"numpy\" in your pyproject.toml,\\nas above.\\nAlongside convention, you\\'ll want to\\nexplicitly enable the D rule code prefix, since the D rules are not enabled by default:\\npyproject.tomlruff.toml\\n\\n\\n[tool.ruff.lint]\\nselect = [\"D\"]\\n\\n[tool.ruff.lint.pydocstyle]\\nconvention = \"google\"\\n\\n\\n\\n[lint]\\nselect = [\"D\"]\\n\\n[lint.pydocstyle]\\nconvention = \"google\"\\n\\n\\n\\n\\nEnabling a convention will disable any rules that are not\\nincluded in the specified convention. As such, the intended workflow is to enable a convention and\\nthen selectively enable or disable any additional rules on top of it:\\npyproject.tomlruff.toml\\n\\n\\n[tool.ruff.lint]\\nselect = [\\n    \"D\",\\n    # Augment the convention by requiring an imperative mood for all docstrings.\\n    \"D401\",\\n]\\n\\nignore = [\\n    # Relax the convention by _not_ requiring documentation for every function parameter.\\n    \"D417\",\\n]\\n\\n[tool.ruff.lint.pydocstyle]\\nconvention = \"google\"\\n\\n\\n\\n[lint]\\nselect = [\\n    \"D\",\\n    # Augment the convention by requiring an imperative mood for all docstrings.\\n    \"D401\",\\n]\\n\\nignore = [\\n    # Relax the convention by _not_ requiring documentation for every function parameter.\\n    \"D417\",\\n]\\n\\n[lint.pydocstyle]\\nconvention = \"google\"\\n\\n\\n\\n\\nThe PEP 257 convention includes all D errors apart from:\\nD203,\\nD212,\\nD213,\\nD214,\\nD215,\\nD404,\\nD405,\\nD406,\\nD407,\\nD408,\\nD409,\\nD410,\\nD411,\\nD413,\\nD415,\\nD416, and\\nD417.\\nThe NumPy convention includes all D errors apart from:\\nD107,\\nD203,\\nD212,\\nD213,\\nD402,\\nD413,\\nD415,\\nD416, and\\nD417.\\nThe Google convention includes all D errors apart from:\\nD203,\\nD204,\\nD213,\\nD215,\\nD400,\\nD401,\\nD404,\\nD406,\\nD407,\\nD408,\\nD409, and\\nD413.\\nBy default, no convention is set, and so the enabled rules\\nare determined by the select setting alone.\\nWhat is \"preview\"?\\nPreview enables a collection of newer rules and fixes that are considered experimental or unstable.\\nSee the preview documentation for more details; or, to see which rules are currently\\nin preview, visit the rules reference.\\nHow can I tell what settings Ruff is using to check my code?\\nRun ruff check /path/to/code.py --show-settings to view the resolved settings for a given file.\\nI want to use Ruff, but I don\\'t want to use pyproject.toml. What are my options?\\nIn lieu of a pyproject.toml file, you can use a ruff.toml file for configuration. The two\\nfiles are functionally equivalent and have an identical schema, with the exception that a ruff.toml\\nfile can omit the [tool.ruff] section header. For example:\\npyproject.toml\\n\\n\\n\\n\\n[tool.ruff]\\nline-length = 88\\n\\n[tool.ruff.lint.pydocstyle]\\nconvention = \"google\"\\n\\nruff.toml\\n\\n\\n\\n\\nline-length = 88\\n\\n[lint.pydocstyle]\\nconvention = \"google\"\\n\\nRuff doesn\\'t currently support INI files, like setup.cfg or tox.ini.\\nHow can I change Ruff\\'s default configuration?\\nWhen no configuration file is found, Ruff will look for a user-specific ruff.toml file as a\\nlast resort. This behavior is similar to Flake8\\'s ~/.config/flake8.\\nOn macOS and Linux, Ruff expects that file to be located at ~/.config/ruff/ruff.toml,\\nand respects the XDG_CONFIG_HOME specification.\\nOn Windows, Ruff expects that file to be located at ~\\\\AppData\\\\Roaming\\\\ruff\\\\ruff.toml.\\n\\nNote\\nPrior to v0.5.0, Ruff would read user-specific configuration from\\n~/Library/Application Support/ruff/ruff.toml on macOS. While Ruff will still respect\\nsuch configuration files, the use of ~/Library/Application Support is considered deprecated.\\n\\nFor more, see the etcetera crate.\\nRuff tried to fix something — but it broke my code. What\\'s going on?\\nRuff labels fixes as \"safe\" and \"unsafe\". By default, Ruff will fix all violations for which safe\\nfixes are available, while unsafe fixes can be enabled via the unsafe-fixes\\nsetting, or passing the --unsafe-fixes flag to ruff check. For\\nmore, see the fix documentation.\\nEven still, given the dynamic nature of Python, it\\'s difficult to have complete certainty when\\nmaking changes to code, even for seemingly trivial fixes. If a \"safe\" fix breaks your code, please\\nfile an Issue.\\nHow can I disable/force Ruff\\'s color output?\\nRuff\\'s color output is powered by the colored crate, which\\nattempts to automatically detect whether the output stream supports color. However, you can force\\ncolors off by setting the NO_COLOR environment variable to any value (e.g., NO_COLOR=1), or\\nforce colors on by setting FORCE_COLOR to any non-empty value (e.g., FORCE_COLOR=1).\\ncolored also supports the CLICOLOR and CLICOLOR_FORCE\\nenvironment variables (see the spec).\\nRuff behaves unexpectedly when using source.* code actions in Notebooks. What\\'s going on?\\nRuff does not support source.organizeImports and source.fixAll code actions in Jupyter Notebooks\\n(notebook.codeActionsOnSave in VS Code). It\\'s recommended to use the notebook prefixed code\\nactions for the same such as notebook.source.organizeImports and notebook.source.fixAll\\nrespectively.\\nRuff requires to have a full view of the notebook to provide accurate diagnostics and fixes. For\\nexample, if you have a cell that imports a module and another cell that uses that module, Ruff\\nneeds to see both cells to mark the import as used. If Ruff were to only see one cell at a time,\\nit would incorrectly mark the import as unused.\\nWhen using the source.* code actions for a Notebook, Ruff will be asked to fix any issues for each\\ncell in parallel, which can lead to unexpected behavior. For example, if a user has configured to\\nrun source.organizeImports code action on save for a Notebook, Ruff will attempt to fix the\\nimports for the entire notebook corresponding to each cell. This leads to the client making the same\\nchanges to the notebook multiple times, which can lead to unexpected behavior\\n(astral-sh/ruff-vscode#680,\\nastral-sh/ruff-vscode#640,\\nastral-sh/ruff-vscode#391).\\n\\n\\n\\n\\n\\n\\n\\n  Back to top\\n\\n\\n\\n\\n\\n\\n  \\n  \\n    Made with\\n    \\n      Material for MkDocs Insiders\\n    \\n\\n\\n\\n\\n\\n\\n\\n\\n\\n\\n\\n\\n\\n\\n\\n\\n\\n\\n\\n\\n\\n\\n\\n\\n\\n\\n')]"
      ]
     },
     "execution_count": 40,
     "metadata": {},
     "output_type": "execute_result"
    }
   ],
   "source": [
    "raw_docs"
   ]
  },
  {
   "cell_type": "code",
   "execution_count": 41,
   "id": "c94d0c1a",
   "metadata": {},
   "outputs": [
    {
     "name": "stdout",
     "output_type": "stream",
     "text": [
      "Requirement already satisfied: beautifulsoup4 in c:\\users\\happy\\anaconda3\\envs\\sub_ironhack\\lib\\site-packages (4.13.4)\n",
      "Requirement already satisfied: soupsieve>1.2 in c:\\users\\happy\\anaconda3\\envs\\sub_ironhack\\lib\\site-packages (from beautifulsoup4) (2.7)\n",
      "Requirement already satisfied: typing-extensions>=4.0.0 in c:\\users\\happy\\anaconda3\\envs\\sub_ironhack\\lib\\site-packages (from beautifulsoup4) (4.14.1)\n",
      "Note: you may need to restart the kernel to use updated packages.\n"
     ]
    }
   ],
   "source": [
    "%pip install beautifulsoup4"
   ]
  },
  {
   "cell_type": "code",
   "execution_count": 46,
   "id": "cf2ac30a",
   "metadata": {},
   "outputs": [
    {
     "name": "stdout",
     "output_type": "stream",
     "text": [
      "(108, 1)\n"
     ]
    },
    {
     "data": {
      "application/vnd.microsoft.datawrangler.viewer.v0+json": {
       "columns": [
        {
         "name": "index",
         "rawType": "int64",
         "type": "integer"
        },
        {
         "name": "text",
         "rawType": "object",
         "type": "string"
        }
       ],
       "ref": "1e7350e6-a57a-4f33-9fbc-30a10f0c0774",
       "rows": [
        [
         "0",
         "FAQ | Ruff"
        ],
        [
         "1",
         "Skip to content"
        ],
        [
         "2",
         "Ruff"
        ],
        [
         "3",
         "FAQ"
        ],
        [
         "4",
         "Initializing search"
        ],
        [
         "5",
         "ruff"
        ],
        [
         "6",
         "Ruff"
        ],
        [
         "7",
         "ruff"
        ],
        [
         "8",
         "Overview"
        ],
        [
         "9",
         "Tutorial"
        ],
        [
         "10",
         "Installing Ruff"
        ],
        [
         "11",
         "The Ruff Linter"
        ],
        [
         "12",
         "The Ruff Formatter"
        ],
        [
         "13",
         "Editors"
        ],
        [
         "14",
         "Editors"
        ],
        [
         "15",
         "Editor Integration"
        ],
        [
         "16",
         "Setup"
        ],
        [
         "17",
         "Features"
        ],
        [
         "18",
         "Settings"
        ],
        [
         "19",
         "Migrating from ruff-lsp"
        ],
        [
         "20",
         "Configuring Ruff"
        ],
        [
         "21",
         "Preview"
        ],
        [
         "22",
         "Rules"
        ],
        [
         "23",
         "Settings"
        ],
        [
         "24",
         "Versioning"
        ],
        [
         "25",
         "Integrations"
        ],
        [
         "26",
         "FAQ"
        ],
        [
         "27",
         "FAQ"
        ],
        [
         "28",
         "Table of contents"
        ],
        [
         "29",
         "Is the Ruff linter compatible with Black?"
        ],
        [
         "30",
         "How does Ruff's formatter compare to Black?"
        ],
        [
         "31",
         "How does Ruff's linter compare to Flake8?"
        ],
        [
         "32",
         "How does Ruff's linter compare to Pylint?"
        ],
        [
         "33",
         "How does Ruff compare to Mypy, or Pyright, or Pyre?"
        ],
        [
         "34",
         "Which tools does Ruff replace?"
        ],
        [
         "35",
         "Do I have to use Ruff's linter and formatter together?"
        ],
        [
         "36",
         "What versions of Python does Ruff support?"
        ],
        [
         "37",
         "Do I need to install Rust to use Ruff?"
        ],
        [
         "38",
         "Can I write my own linter plugins for Ruff?"
        ],
        [
         "39",
         "How does Ruff's import sorting compare to isort?"
        ],
        [
         "40",
         "How does Ruff determine which of my imports are first-party, third-party, etc.?"
        ],
        [
         "41",
         "Does Ruff support Jupyter Notebooks?"
        ],
        [
         "42",
         "Does Ruff support NumPy- or Google-style docstrings?"
        ],
        [
         "43",
         "What is \"preview\"?"
        ],
        [
         "44",
         "How can I tell what settings Ruff is using to check my code?"
        ],
        [
         "45",
         "I want to use Ruff, but I don't want to use pyproject.toml. What are my options?"
        ],
        [
         "46",
         "How can I change Ruff's default configuration?"
        ],
        [
         "47",
         "Ruff tried to fix something — but it broke my code. What's going on?"
        ],
        [
         "48",
         "How can I disable/force Ruff's color output?"
        ],
        [
         "49",
         "Ruff behaves unexpectedly when using source.* code actions in Notebooks. What's going on?"
        ]
       ],
       "shape": {
        "columns": 1,
        "rows": 108
       }
      },
      "text/html": [
       "<div>\n",
       "<style scoped>\n",
       "    .dataframe tbody tr th:only-of-type {\n",
       "        vertical-align: middle;\n",
       "    }\n",
       "\n",
       "    .dataframe tbody tr th {\n",
       "        vertical-align: top;\n",
       "    }\n",
       "\n",
       "    .dataframe thead th {\n",
       "        text-align: right;\n",
       "    }\n",
       "</style>\n",
       "<table border=\"1\" class=\"dataframe\">\n",
       "  <thead>\n",
       "    <tr style=\"text-align: right;\">\n",
       "      <th></th>\n",
       "      <th>text</th>\n",
       "    </tr>\n",
       "  </thead>\n",
       "  <tbody>\n",
       "    <tr>\n",
       "      <th>0</th>\n",
       "      <td>FAQ | Ruff</td>\n",
       "    </tr>\n",
       "    <tr>\n",
       "      <th>1</th>\n",
       "      <td>Skip to content</td>\n",
       "    </tr>\n",
       "    <tr>\n",
       "      <th>2</th>\n",
       "      <td>Ruff</td>\n",
       "    </tr>\n",
       "    <tr>\n",
       "      <th>3</th>\n",
       "      <td>FAQ</td>\n",
       "    </tr>\n",
       "    <tr>\n",
       "      <th>4</th>\n",
       "      <td>Initializing search</td>\n",
       "    </tr>\n",
       "    <tr>\n",
       "      <th>...</th>\n",
       "      <td>...</td>\n",
       "    </tr>\n",
       "    <tr>\n",
       "      <th>103</th>\n",
       "      <td>Ruff doesn't currently support INI files, like...</td>\n",
       "    </tr>\n",
       "    <tr>\n",
       "      <th>104</th>\n",
       "      <td>Note Prior to v0.5.0, Ruff would read user-spe...</td>\n",
       "    </tr>\n",
       "    <tr>\n",
       "      <th>105</th>\n",
       "      <td>For more, see the etcetera crate. Ruff tried t...</td>\n",
       "    </tr>\n",
       "    <tr>\n",
       "      <th>106</th>\n",
       "      <td>Back to top</td>\n",
       "    </tr>\n",
       "    <tr>\n",
       "      <th>107</th>\n",
       "      <td>Made with Material for MkDocs Insiders</td>\n",
       "    </tr>\n",
       "  </tbody>\n",
       "</table>\n",
       "<p>108 rows × 1 columns</p>\n",
       "</div>"
      ],
      "text/plain": [
       "                                                  text\n",
       "0                                           FAQ | Ruff\n",
       "1                                      Skip to content\n",
       "2                                                 Ruff\n",
       "3                                                  FAQ\n",
       "4                                  Initializing search\n",
       "..                                                 ...\n",
       "103  Ruff doesn't currently support INI files, like...\n",
       "104  Note Prior to v0.5.0, Ruff would read user-spe...\n",
       "105  For more, see the etcetera crate. Ruff tried t...\n",
       "106                                        Back to top\n",
       "107             Made with Material for MkDocs Insiders\n",
       "\n",
       "[108 rows x 1 columns]"
      ]
     },
     "execution_count": 46,
     "metadata": {},
     "output_type": "execute_result"
    }
   ],
   "source": [
    "import pandas as pd\n",
    "from bs4 import BeautifulSoup\n",
    "from langchain.schema import Document\n",
    "\n",
    "# 1. Extract plain text from HTML\n",
    "plain_texts = []\n",
    "for doc in raw_docs:\n",
    "    soup = BeautifulSoup(doc.page_content, \"html.parser\")\n",
    "    text = soup.get_text(separator=\"\\n\")        # preserve paragraph breaks\n",
    "    plain_texts.append(text)\n",
    "\n",
    "# 2. Split into paragraphs and build DataFrame\n",
    "paras = []\n",
    "for text in plain_texts:\n",
    "    for p in text.split(\"\\n\\n\"):                # split on double-newline\n",
    "        p = p.strip()\n",
    "        if p:\n",
    "            paras.append(p)\n",
    "\n",
    "df = pd.DataFrame({\"text\": paras})\n",
    "\n",
    "# 3. Normalize whitespace (collapse internal runs of spaces/newlines) \n",
    "#    and drop any empty rows just in case:\n",
    "df[\"text\"] = df[\"text\"].str.replace(r\"\\s+\", \" \", regex=True).str.strip()\n",
    "df = df[df[\"text\"] != \"\"]\n",
    "\n",
    "print(df.shape)  # now (n_paragraphs, 1)\n",
    "# print(df())\n",
    "df"
   ]
  },
  {
   "cell_type": "code",
   "execution_count": null,
   "id": "7780ef54",
   "metadata": {},
   "outputs": [],
   "source": [
    "# from langchain.schema import Document\n",
    "# from langchain_text_splitters import CharacterTextSplitter\n",
    "\n",
    "# # wrap cleaned paragraphs back into Documents\n",
    "# clean_docs = [Document(page_content=t) for t in df[\"text\"]]\n",
    "\n",
    "# splitter = CharacterTextSplitter(chunk_size=1000, chunk_overlap=0)\n",
    "# texts = splitter.split_documents(clean_docs)\n",
    "\n",
    "# now build your vector store on `texts`\n"
   ]
  },
  {
   "cell_type": "code",
   "execution_count": null,
   "id": "59c8b504",
   "metadata": {},
   "outputs": [
    {
     "data": {
      "text/plain": [
       "[Document(metadata={}, page_content='FAQ | Ruff'),\n",
       " Document(metadata={}, page_content='Skip to content'),\n",
       " Document(metadata={}, page_content='Ruff'),\n",
       " Document(metadata={}, page_content='FAQ'),\n",
       " Document(metadata={}, page_content='Initializing search'),\n",
       " Document(metadata={}, page_content='ruff'),\n",
       " Document(metadata={}, page_content='Ruff'),\n",
       " Document(metadata={}, page_content='ruff'),\n",
       " Document(metadata={}, page_content='Overview'),\n",
       " Document(metadata={}, page_content='Tutorial'),\n",
       " Document(metadata={}, page_content='Installing Ruff'),\n",
       " Document(metadata={}, page_content='The Ruff Linter'),\n",
       " Document(metadata={}, page_content='The Ruff Formatter'),\n",
       " Document(metadata={}, page_content='Editors'),\n",
       " Document(metadata={}, page_content='Editors'),\n",
       " Document(metadata={}, page_content='Editor Integration'),\n",
       " Document(metadata={}, page_content='Setup'),\n",
       " Document(metadata={}, page_content='Features'),\n",
       " Document(metadata={}, page_content='Settings'),\n",
       " Document(metadata={}, page_content='Migrating from ruff-lsp'),\n",
       " Document(metadata={}, page_content='Configuring Ruff'),\n",
       " Document(metadata={}, page_content='Preview'),\n",
       " Document(metadata={}, page_content='Rules'),\n",
       " Document(metadata={}, page_content='Settings'),\n",
       " Document(metadata={}, page_content='Versioning'),\n",
       " Document(metadata={}, page_content='Integrations'),\n",
       " Document(metadata={}, page_content='FAQ'),\n",
       " Document(metadata={}, page_content='FAQ'),\n",
       " Document(metadata={}, page_content='Table of contents'),\n",
       " Document(metadata={}, page_content='Is the Ruff linter compatible with Black?'),\n",
       " Document(metadata={}, page_content=\"How does Ruff's formatter compare to Black?\"),\n",
       " Document(metadata={}, page_content=\"How does Ruff's linter compare to Flake8?\"),\n",
       " Document(metadata={}, page_content=\"How does Ruff's linter compare to Pylint?\"),\n",
       " Document(metadata={}, page_content='How does Ruff compare to Mypy, or Pyright, or Pyre?'),\n",
       " Document(metadata={}, page_content='Which tools does Ruff replace?'),\n",
       " Document(metadata={}, page_content=\"Do I have to use Ruff's linter and formatter together?\"),\n",
       " Document(metadata={}, page_content='What versions of Python does Ruff support?'),\n",
       " Document(metadata={}, page_content='Do I need to install Rust to use Ruff?'),\n",
       " Document(metadata={}, page_content='Can I write my own linter plugins for Ruff?'),\n",
       " Document(metadata={}, page_content=\"How does Ruff's import sorting compare to isort?\"),\n",
       " Document(metadata={}, page_content='How does Ruff determine which of my imports are first-party, third-party, etc.?'),\n",
       " Document(metadata={}, page_content='Does Ruff support Jupyter Notebooks?'),\n",
       " Document(metadata={}, page_content='Does Ruff support NumPy- or Google-style docstrings?'),\n",
       " Document(metadata={}, page_content='What is \"preview\"?'),\n",
       " Document(metadata={}, page_content='How can I tell what settings Ruff is using to check my code?'),\n",
       " Document(metadata={}, page_content=\"I want to use Ruff, but I don't want to use pyproject.toml. What are my options?\"),\n",
       " Document(metadata={}, page_content=\"How can I change Ruff's default configuration?\"),\n",
       " Document(metadata={}, page_content=\"Ruff tried to fix something — but it broke my code. What's going on?\"),\n",
       " Document(metadata={}, page_content=\"How can I disable/force Ruff's color output?\"),\n",
       " Document(metadata={}, page_content=\"Ruff behaves unexpectedly when using source.* code actions in Notebooks. What's going on?\"),\n",
       " Document(metadata={}, page_content='Contributing'),\n",
       " Document(metadata={}, page_content=\"FAQ Is the Ruff linter compatible with Black? Yes. The Ruff linter is compatible with Black out-of-the-box, as long as the line-length setting is consistent between the two. Ruff is designed to be used alongside a formatter (like Ruff's own formatter, or Black) and, as such, will defer implementing stylistic rules that are obviated by automated formatting. Note that Ruff's linter and Black treat line-length enforcement a little differently. Black, like Ruff's formatter, makes a best-effort attempt to adhere to the line-length, but avoids automatic line-wrapping in some cases (e.g., within comments). Ruff, on the other hand, will flag line-too-long (E501) for any line that exceeds the line-length setting. As such, if line-too-long (E501) is enabled, Ruff can still trigger line-length violations even when Black or ruff format is enabled. How does Ruff's formatter compare to Black? The Ruff formatter is designed to be a drop-in replacement for Black. Specifically, the formatter is intended to emit near-identical output when run over Black-formatted code. When run over extensive Black-formatted projects like Django and Zulip, > 99.9% of lines are formatted identically. When migrating an existing project from Black to Ruff, you should expect to see a few differences on the margins, but the vast majority of your code should be unchanged. When run over non-Black-formatted code, the formatter makes some different decisions than Black, and so more deviations should be expected, especially around the treatment of end-of-line comments. See Style Guide for more. How does Ruff's linter compare to Flake8? Ruff can be used as a drop-in replacement for Flake8 when used (1) without or with a small number of plugins, (2) alongside Black, and (3) on Python 3 code. Under those conditions, Ruff implements every rule in Flake8. In practice, that means Ruff implements all of the F rules (which originate from Pyflakes), along with a subset of the E and W rules (which originate from pycodestyle). Ruff also re-implements some of the most popular Flake8 plugins and related code quality tools natively, including:\"),\n",
       " Document(metadata={}, page_content='autoflake eradicate flake8-2020 flake8-annotations flake8-async flake8-bandit (#1646) flake8-blind-except flake8-boolean-trap flake8-bugbear flake8-builtins flake8-commas flake8-comprehensions flake8-copyright flake8-datetimez flake8-debugger flake8-django flake8-docstrings flake8-eradicate flake8-errmsg flake8-executable flake8-gettext flake8-implicit-str-concat flake8-import-conventions flake8-logging flake8-logging-format flake8-no-pep420 flake8-pie flake8-print flake8-pyi flake8-pytest-style flake8-quotes flake8-raise flake8-return flake8-self flake8-simplify flake8-slots flake8-super flake8-tidy-imports flake8-todos flake8-type-checking flake8-use-pathlib flynt (#2102) isort mccabe pandas-vet pep8-naming perflint (#4789) pydocstyle pygrep-hooks pyupgrade tryceratops yesqa'),\n",
       " Document(metadata={}, page_content='Note that, in some cases, Ruff uses different rule codes and prefixes than would be found in the originating Flake8 plugins. For example, Ruff uses TID252 to represent the I252 rule from flake8-tidy-imports. This helps minimize conflicts across plugins and allows any individual plugin to be toggled on or off with a single (e.g.) --select TID, as opposed to --select I2 (to avoid conflicts with the isort rules, like I001). Beyond the rule set, Ruff\\'s primary limitation vis-à-vis Flake8 is that it does not support custom lint rules. (Instead, popular Flake8 plugins are re-implemented in Rust as part of Ruff itself.) One minor difference is that Ruff doesn\\'t include all the \\'opinionated\\' rules from flake8-bugbear. How does Ruff\\'s linter compare to Pylint? At time of writing, Pylint implements ~409 total rules, while Ruff implements over 800, of which at least 209 overlap with the Pylint rule set (see: #970). Pylint implements many rules that Ruff does not, and vice versa. For example, Pylint does more type inference than Ruff (e.g., Pylint can validate the number of arguments in a function call). As such, Ruff is not a \"pure\" drop-in replacement for Pylint (and vice versa), as they enforce different sets of rules. Despite these differences, many users have successfully switched from Pylint to Ruff, especially those using Ruff alongside a type checker, which can cover some of the functionality that Pylint provides. Like Flake8, Pylint supports plugins (called \"checkers\"), while Ruff implements all rules natively and does not support custom or third-party rules. Unlike Pylint, Ruff is capable of automatically fixing its own lint violations. In some cases, Ruff\\'s rules may yield slightly different results than their Pylint counterparts. For example, Ruff\\'s too-many-branches does not count try blocks as their own branches, unlike Pylint\\'s R0912. Ruff\\'s PL rule group also includes a small number of rules from Pylint extensions (like magic-value-comparison), which need to be explicitly activated when using Pylint. By enabling Ruff\\'s PL group, you may see violations for rules that weren\\'t previously enabled through your Pylint configuration. Pylint parity is being tracked in #970. How does Ruff compare to Mypy, or Pyright, or Pyre? Ruff is a linter, not a type checker. It can detect some of the same problems that a type checker can, but a type checker will catch certain errors that Ruff would miss. The opposite is also true: Ruff will catch certain errors that a type checker would typically ignore. For example, unlike a type checker, Ruff will notify you if an import is unused, by looking for references to that import in the source code; on the other hand, a type checker could flag that you passed an integer argument to a function that expects a string, which Ruff would miss. The tools are complementary. It\\'s recommended that you use Ruff in conjunction with a type checker, like Mypy, Pyright, or Pyre, with Ruff providing faster feedback on lint violations and the type checker providing more detailed feedback on type errors. Which tools does Ruff replace? Today, Ruff can be used to replace Flake8 when used with any of the following plugins:'),\n",
       " Document(metadata={}, page_content='flake8-2020 flake8-annotations flake8-async flake8-bandit (#1646) flake8-blind-except flake8-boolean-trap flake8-bugbear flake8-builtins flake8-commas flake8-comprehensions flake8-copyright flake8-datetimez flake8-debugger flake8-django flake8-docstrings flake8-eradicate flake8-errmsg flake8-executable flake8-gettext flake8-implicit-str-concat flake8-import-conventions flake8-logging flake8-logging-format flake8-no-pep420 flake8-pie flake8-print flake8-pytest-style flake8-quotes flake8-raise flake8-return flake8-self flake8-simplify flake8-slots flake8-super flake8-tidy-imports flake8-todos flake8-type-checking flake8-use-pathlib flynt (#2102) mccabe pandas-vet pep8-naming perflint (#4789) pydocstyle tryceratops'),\n",
       " Document(metadata={}, page_content=\"Ruff can also replace Black, isort, yesqa, eradicate, and most of the rules implemented in pyupgrade. If you're looking to use Ruff, but rely on an unsupported Flake8 plugin, feel free to file an issue. Do I have to use Ruff's linter and formatter together? Nope! Ruff's linter and formatter can be used independently of one another -- you can use Ruff as a formatter, but not a linter, or vice versa. What versions of Python does Ruff support? Ruff can lint code for any Python version from 3.7 onwards, including Python 3.13. Ruff does not support Python 2. Ruff may run on pre-Python 3.7 code, although such versions are not officially supported (e.g., Ruff does not respect type comments). Ruff is installable under any Python version from 3.7 onwards. Do I need to install Rust to use Ruff? Nope! Ruff is available as ruff on PyPI. We recommend installing Ruff with uv, though it's also installable with pip, pipx, and a variety of other package managers: $ # Install Ruff globally. $ uv tool install ruff@latest\"),\n",
       " Document(metadata={}, page_content='$ # Or add Ruff to your project. $ uv add --dev ruff'),\n",
       " Document(metadata={}, page_content='$ # With pip. $ pip install ruff'),\n",
       " Document(metadata={}, page_content='$ # With pipx. $ pipx install ruff'),\n",
       " Document(metadata={}, page_content='Starting with version 0.5.0, Ruff can also be installed with our standalone installers: $ # On macOS and Linux. $ curl -LsSf https://astral.sh/ruff/install.sh | sh'),\n",
       " Document(metadata={}, page_content='$ # On Windows. $ powershell -c \"irm https://astral.sh/ruff/install.ps1 | iex\"'),\n",
       " Document(metadata={}, page_content='$ # For a specific version. $ curl -LsSf https://astral.sh/ruff/0.5.0/install.sh | sh $ powershell -c \"irm https://astral.sh/ruff/0.5.0/install.ps1 | iex\"'),\n",
       " Document(metadata={}, page_content='Ruff ships with wheels for all major platforms, which enables uv, pip, and other tools to install Ruff without relying on a Rust toolchain at all. Can I write my own linter plugins for Ruff? Ruff does not yet support third-party plugins, though a plugin system is within-scope for the project. See #283 for more. How does Ruff\\'s import sorting compare to isort? Ruff\\'s import sorting is intended to be near-equivalent to isort\\'s when using isort\\'s profile = \"black\". There are a few known differences in how Ruff and isort treat aliased imports, and in how Ruff and isort treat inline comments in some cases (see: #1381, #2104). For example, Ruff tends to group non-aliased imports from the same module: from numpy import cos, int8, int16, int32, int64, tan, uint8, uint16, uint32, uint64 from numpy import sin as np_sin'),\n",
       " Document(metadata={}, page_content='Whereas isort splits them into separate import statements at each aliased boundary: from numpy import cos, int8, int16, int32, int64 from numpy import sin as np_sin from numpy import tan, uint8, uint16, uint32, uint64'),\n",
       " Document(metadata={}, page_content=\"Ruff also correctly classifies some modules as standard-library that aren't recognized by isort, like _string and idlelib. Like isort, Ruff's import sorting is compatible with Black. How does Ruff determine which of my imports are first-party, third-party, etc.? Ruff accepts a src option that in your pyproject.toml, ruff.toml, or .ruff.toml file, specifies the directories that Ruff should consider when determining whether an import is first-party. For example, if you have a project with the following structure: my_project ├── pyproject.toml └── src └── foo ├── __init__.py └── bar ├── __init__.py └── baz.py\"),\n",
       " Document(metadata={}, page_content='When Ruff sees an import like import foo, it will then iterate over the src directories, looking for a corresponding Python module (in reality, a directory named foo or a file named foo.py). For module paths with multiple components like import foo.bar, the default behavior is to search only for a directory named foo or a file named foo.py. However, if preview is enabled, Ruff will require that the full relative path foo/bar exists as a directory, or that foo/bar.py or foo/bar.pyi exist as files. Finally, imports of the form from foo import bar, Ruff will only use foo when determining whether a module is first-party or third-party. If there is a directory whose name matches a third-party package, but does not contain Python code, it could happen that the above algorithm incorrectly infers an import to be first-party. To prevent this, you can modify the known-third-party setting. For example, if you import the package wandb but also have a subdirectory of your src with the same name, you can add the following: pyproject.tomlruff.toml'),\n",
       " Document(metadata={}, page_content='[tool.ruff.lint.isort] known-third-party = [\"wandb\"]'),\n",
       " Document(metadata={}, page_content='[lint.isort] known-third-party = [\"wandb\"]'),\n",
       " Document(metadata={}, page_content='If the src field is omitted, Ruff will default to using the \"project root\", along with a \"src\" subdirectory, as the first-party sources, to support both flat and nested project layouts. The \"project root\" is typically the directory containing your pyproject.toml, ruff.toml, or .ruff.toml file, unless a configuration file is provided on the command-line via the --config option, in which case, the current working directory is used as the project root. In this case, Ruff would check the \"src\" directory by default, but we can configure it as an explicit, exclusive first-party source like so: pyproject.tomlruff.toml'),\n",
       " Document(metadata={}, page_content='[tool.ruff] # Ruff supports a top-level `src` option in lieu of isort\\'s `src_paths` setting. # All paths are relative to the project root, which is the directory containing the pyproject.toml. src = [\"src\"]'),\n",
       " Document(metadata={}, page_content='# Ruff supports a top-level `src` option in lieu of isort\\'s `src_paths` setting. # All paths are relative to the project root, which is the directory containing the pyproject.toml. src = [\"src\"]'),\n",
       " Document(metadata={}, page_content=\"If your pyproject.toml, ruff.toml, or .ruff.toml extends another configuration file, Ruff will still use the directory containing your pyproject.toml, ruff.toml, or .ruff.toml file as the project root (as opposed to the directory of the file pointed to via the extends option). For example, if you add a configuration file to the tests directory in the above example, you'll want to explicitly set the src option in the extended configuration file: pyproject.tomlruff.toml\"),\n",
       " Document(metadata={}, page_content='[tool.ruff] extend = \"../pyproject.toml\" src = [\"../src\"]'),\n",
       " Document(metadata={}, page_content='extend = \"../pyproject.toml\" src = [\"../src\"]'),\n",
       " Document(metadata={}, page_content='Beyond this src-based detection, Ruff will also attempt to determine the current Python package for a given Python file, and mark imports from within the same package as first-party. For example, above, baz.py would be identified as part of the Python package beginning at ./my_project/src/foo, and so any imports in baz.py that begin with foo (like import foo.bar) would be considered first-party based on this same-package heuristic. For a detailed explanation of src resolution, see the contributing guide. Ruff can also be configured to treat certain modules as (e.g.) always first-party, regardless of their location on the filesystem. For example, you can set known-first-party like so: pyproject.tomlruff.toml'),\n",
       " Document(metadata={}, page_content='[tool.ruff] src = [\"src\", \"tests\"]'),\n",
       " Document(metadata={}, page_content='[tool.ruff.lint] select = [ # Pyflakes \"F\", # Pycodestyle \"E\", \"W\", # isort \"I001\" ]'),\n",
       " Document(metadata={}, page_content='[tool.ruff.lint.isort] known-first-party = [\"my_module1\", \"my_module2\"]'),\n",
       " Document(metadata={}, page_content='src = [\"src\", \"tests\"]'),\n",
       " Document(metadata={}, page_content='[lint] select = [ # Pyflakes \"F\", # Pycodestyle \"E\", \"W\", # isort \"I001\" ]'),\n",
       " Document(metadata={}, page_content='[lint.isort] known-first-party = [\"my_module1\", \"my_module2\"]'),\n",
       " Document(metadata={}, page_content=\"Ruff does not yet support all of isort's configuration options, though it does support many of them. You can find the supported settings in the API reference. Does Ruff support Jupyter Notebooks? Ruff has built-in support for linting and formatting Jupyter Notebooks. Refer to the Jupyter Notebook section for more details. Ruff also integrates with nbQA, a tool for running linters and code formatters over Jupyter Notebooks. After installing ruff and nbqa, you can run Ruff over a notebook like so: $ nbqa ruff Untitled.ipynb Untitled.ipynb:cell_1:2:5: F841 Local variable `x` is assigned to but never used Untitled.ipynb:cell_2:1:1: E402 Module level import not at top of file Untitled.ipynb:cell_2:1:8: F401 `os` imported but unused Found 3 errors. 1 potentially fixable with the --fix option.\"),\n",
       " Document(metadata={}, page_content='Does Ruff support NumPy- or Google-style docstrings? Yes! To enforce a docstring convention, add a convention setting following to your configuration file: pyproject.tomlruff.toml'),\n",
       " Document(metadata={}, page_content='[tool.ruff.lint.pydocstyle] convention = \"google\" # Accepts: \"google\", \"numpy\", or \"pep257\".'),\n",
       " Document(metadata={}, page_content='[lint.pydocstyle] convention = \"google\" # Accepts: \"google\", \"numpy\", or \"pep257\".'),\n",
       " Document(metadata={}, page_content='For example, if you\\'re coming from flake8-docstrings, and your originating configuration uses --docstring-convention=numpy, you\\'d instead set convention = \"numpy\" in your pyproject.toml, as above. Alongside convention, you\\'ll want to explicitly enable the D rule code prefix, since the D rules are not enabled by default: pyproject.tomlruff.toml'),\n",
       " Document(metadata={}, page_content='[tool.ruff.lint] select = [\"D\"]'),\n",
       " Document(metadata={}, page_content='[tool.ruff.lint.pydocstyle] convention = \"google\"'),\n",
       " Document(metadata={}, page_content='[lint] select = [\"D\"]'),\n",
       " Document(metadata={}, page_content='[lint.pydocstyle] convention = \"google\"'),\n",
       " Document(metadata={}, page_content='Enabling a convention will disable any rules that are not included in the specified convention. As such, the intended workflow is to enable a convention and then selectively enable or disable any additional rules on top of it: pyproject.tomlruff.toml'),\n",
       " Document(metadata={}, page_content='[tool.ruff.lint] select = [ \"D\", # Augment the convention by requiring an imperative mood for all docstrings. \"D401\", ]'),\n",
       " Document(metadata={}, page_content='ignore = [ # Relax the convention by _not_ requiring documentation for every function parameter. \"D417\", ]'),\n",
       " Document(metadata={}, page_content='[tool.ruff.lint.pydocstyle] convention = \"google\"'),\n",
       " Document(metadata={}, page_content='[lint] select = [ \"D\", # Augment the convention by requiring an imperative mood for all docstrings. \"D401\", ]'),\n",
       " Document(metadata={}, page_content='ignore = [ # Relax the convention by _not_ requiring documentation for every function parameter. \"D417\", ]'),\n",
       " Document(metadata={}, page_content='[lint.pydocstyle] convention = \"google\"'),\n",
       " Document(metadata={}, page_content='The PEP 257 convention includes all D errors apart from: D203, D212, D213, D214, D215, D404, D405, D406, D407, D408, D409, D410, D411, D413, D415, D416, and D417. The NumPy convention includes all D errors apart from: D107, D203, D212, D213, D402, D413, D415, D416, and D417. The Google convention includes all D errors apart from: D203, D204, D213, D215, D400, D401, D404, D406, D407, D408, D409, and D413. By default, no convention is set, and so the enabled rules are determined by the select setting alone. What is \"preview\"? Preview enables a collection of newer rules and fixes that are considered experimental or unstable. See the preview documentation for more details; or, to see which rules are currently in preview, visit the rules reference. How can I tell what settings Ruff is using to check my code? Run ruff check /path/to/code.py --show-settings to view the resolved settings for a given file. I want to use Ruff, but I don\\'t want to use pyproject.toml. What are my options? In lieu of a pyproject.toml file, you can use a ruff.toml file for configuration. The two files are functionally equivalent and have an identical schema, with the exception that a ruff.toml file can omit the [tool.ruff] section header. For example: pyproject.toml'),\n",
       " Document(metadata={}, page_content='[tool.ruff] line-length = 88'),\n",
       " Document(metadata={}, page_content='[tool.ruff.lint.pydocstyle] convention = \"google\"'),\n",
       " Document(metadata={}, page_content='ruff.toml'),\n",
       " Document(metadata={}, page_content='line-length = 88'),\n",
       " Document(metadata={}, page_content='[lint.pydocstyle] convention = \"google\"'),\n",
       " Document(metadata={}, page_content=\"Ruff doesn't currently support INI files, like setup.cfg or tox.ini. How can I change Ruff's default configuration? When no configuration file is found, Ruff will look for a user-specific ruff.toml file as a last resort. This behavior is similar to Flake8's ~/.config/flake8. On macOS and Linux, Ruff expects that file to be located at ~/.config/ruff/ruff.toml, and respects the XDG_CONFIG_HOME specification. On Windows, Ruff expects that file to be located at ~\\\\AppData\\\\Roaming\\\\ruff\\\\ruff.toml.\"),\n",
       " Document(metadata={}, page_content='Note Prior to v0.5.0, Ruff would read user-specific configuration from ~/Library/Application Support/ruff/ruff.toml on macOS. While Ruff will still respect such configuration files, the use of ~/Library/Application Support is considered deprecated.'),\n",
       " Document(metadata={}, page_content='For more, see the etcetera crate. Ruff tried to fix something — but it broke my code. What\\'s going on? Ruff labels fixes as \"safe\" and \"unsafe\". By default, Ruff will fix all violations for which safe fixes are available, while unsafe fixes can be enabled via the unsafe-fixes setting, or passing the --unsafe-fixes flag to ruff check. For more, see the fix documentation. Even still, given the dynamic nature of Python, it\\'s difficult to have complete certainty when making changes to code, even for seemingly trivial fixes. If a \"safe\" fix breaks your code, please file an Issue. How can I disable/force Ruff\\'s color output? Ruff\\'s color output is powered by the colored crate, which attempts to automatically detect whether the output stream supports color. However, you can force colors off by setting the NO_COLOR environment variable to any value (e.g., NO_COLOR=1), or force colors on by setting FORCE_COLOR to any non-empty value (e.g., FORCE_COLOR=1). colored also supports the CLICOLOR and CLICOLOR_FORCE environment variables (see the spec). Ruff behaves unexpectedly when using source.* code actions in Notebooks. What\\'s going on? Ruff does not support source.organizeImports and source.fixAll code actions in Jupyter Notebooks (notebook.codeActionsOnSave in VS Code). It\\'s recommended to use the notebook prefixed code actions for the same such as notebook.source.organizeImports and notebook.source.fixAll respectively. Ruff requires to have a full view of the notebook to provide accurate diagnostics and fixes. For example, if you have a cell that imports a module and another cell that uses that module, Ruff needs to see both cells to mark the import as used. If Ruff were to only see one cell at a time, it would incorrectly mark the import as unused. When using the source.* code actions for a Notebook, Ruff will be asked to fix any issues for each cell in parallel, which can lead to unexpected behavior. For example, if a user has configured to run source.organizeImports code action on save for a Notebook, Ruff will attempt to fix the imports for the entire notebook corresponding to each cell. This leads to the client making the same changes to the notebook multiple times, which can lead to unexpected behavior (astral-sh/ruff-vscode#680, astral-sh/ruff-vscode#640, astral-sh/ruff-vscode#391).'),\n",
       " Document(metadata={}, page_content='Back to top'),\n",
       " Document(metadata={}, page_content='Made with Material for MkDocs Insiders')]"
      ]
     },
     "execution_count": 44,
     "metadata": {},
     "output_type": "execute_result"
    }
   ],
   "source": [
    "# texts"
   ]
  },
  {
   "cell_type": "code",
   "execution_count": 50,
   "id": "96a2edf8",
   "metadata": {
    "tags": []
   },
   "outputs": [
    {
     "name": "stderr",
     "output_type": "stream",
     "text": [
      "Created a chunk of size 2122, which is longer than the specified 1000\n",
      "Created a chunk of size 3187, which is longer than the specified 1000\n",
      "Created a chunk of size 1017, which is longer than the specified 1000\n",
      "Created a chunk of size 1049, which is longer than the specified 1000\n",
      "Created a chunk of size 1256, which is longer than the specified 1000\n",
      "Created a chunk of size 2321, which is longer than the specified 1000\n"
     ]
    }
   ],
   "source": [
    "\n",
    "\n",
    "docs = loader.load()\n",
    "ruff_texts = text_splitter.split_documents(docs)\n",
    "ruff_db = Chroma.from_documents(ruff_texts, embeddings, collection_name=\"ruff\")\n",
    "ruff = RetrievalQA.from_chain_type(\n",
    "    llm=llm, chain_type=\"stuff\", retriever=ruff_db.as_retriever()\n",
    ")"
   ]
  },
  {
   "cell_type": "markdown",
   "id": "c0a6c031",
   "metadata": {},
   "source": [
    "## Create the Agent"
   ]
  },
  {
   "cell_type": "code",
   "execution_count": 51,
   "id": "eb142786",
   "metadata": {
    "tags": []
   },
   "outputs": [],
   "source": [
    "# Import things that are needed generically\n",
    "from langchain.agents import AgentType, Tool, initialize_agent\n",
    "from langchain_openai import OpenAI"
   ]
  },
  {
   "cell_type": "code",
   "execution_count": 52,
   "id": "850bc4e9",
   "metadata": {
    "tags": []
   },
   "outputs": [],
   "source": [
    "tools = [\n",
    "    Tool(\n",
    "        name=\"State of Union QA System\",\n",
    "        func=state_of_union.run,\n",
    "        description=\"useful for when you need to answer questions about the most recent state of the union address. Input should be a fully formed question.\",\n",
    "    ),\n",
    "    Tool(\n",
    "        name=\"Ruff QA System\",\n",
    "        func=ruff.run,\n",
    "        description=\"useful for when you need to answer questions about ruff (a python linter). Input should be a fully formed question.\",\n",
    "    ),\n",
    "]"
   ]
  },
  {
   "cell_type": "code",
   "execution_count": 53,
   "id": "fc47f230",
   "metadata": {
    "tags": []
   },
   "outputs": [
    {
     "name": "stderr",
     "output_type": "stream",
     "text": [
      "C:\\Users\\happy\\AppData\\Local\\Temp\\ipykernel_41472\\1834837320.py:3: LangChainDeprecationWarning: LangChain agents will continue to be supported, but it is recommended for new use cases to be built with LangGraph. LangGraph offers a more flexible and full-featured framework for building agents, including support for tool-calling, persistence of state, and human-in-the-loop workflows. For details, refer to the `LangGraph documentation <https://langchain-ai.github.io/langgraph/>`_ as well as guides for `Migrating from AgentExecutor <https://python.langchain.com/docs/how_to/migrate_agent/>`_ and LangGraph's `Pre-built ReAct agent <https://langchain-ai.github.io/langgraph/how-tos/create-react-agent/>`_.\n",
      "  agent = initialize_agent(\n"
     ]
    }
   ],
   "source": [
    "# Construct the agent. We will use the default agent type here.\n",
    "# See documentation for a full list of options.\n",
    "agent = initialize_agent(\n",
    "    tools, llm, agent=AgentType.ZERO_SHOT_REACT_DESCRIPTION, verbose=True\n",
    ")"
   ]
  },
  {
   "cell_type": "code",
   "execution_count": 54,
   "id": "10ca2db8",
   "metadata": {
    "tags": []
   },
   "outputs": [
    {
     "name": "stdout",
     "output_type": "stream",
     "text": [
      "\n",
      "\n",
      "\u001b[1m> Entering new AgentExecutor chain...\u001b[0m\n",
      "\u001b[32;1m\u001b[1;3m I should use the State of Union QA System to answer this question.\n",
      "Action: State of Union QA System\n",
      "Action Input: \"What did Biden say about Ketanji Brown Jackson in the state of the union address?\"\u001b[0m\n",
      "Observation: \u001b[36;1m\u001b[1;3m Biden mentioned that he nominated Circuit Court of Appeals Judge Ketanji Brown Jackson to serve on the United States Supreme Court, and praised her as one of the nation's top legal minds who will continue Justice Breyer's legacy of excellence.\u001b[0m\n",
      "Thought:\u001b[32;1m\u001b[1;3m I should use the Ruff QA System to get more information about Ketanji Brown Jackson.\n",
      "Action: Ruff QA System\n",
      "Action Input: \"Who is Ketanji Brown Jackson?\"\u001b[0m\n",
      "Observation: \u001b[33;1m\u001b[1;3m I don't know.\u001b[0m\n",
      "Thought:\u001b[32;1m\u001b[1;3m I should use the State of Union QA System again to get more information about Ketanji Brown Jackson.\n",
      "Action: State of Union QA System\n",
      "Action Input: \"Who is Ketanji Brown Jackson?\"\u001b[0m\n",
      "Observation: \u001b[36;1m\u001b[1;3m Ketanji Brown Jackson is a Circuit Court of Appeals Judge who was nominated by President Biden to serve on the United States Supreme Court.\u001b[0m\n",
      "Thought:\u001b[32;1m\u001b[1;3m I now know the final answer.\n",
      "Final Answer: Ketanji Brown Jackson is a Circuit Court of Appeals Judge who was nominated by President Biden to serve on the United States Supreme Court.\u001b[0m\n",
      "\n",
      "\u001b[1m> Finished chain.\u001b[0m\n"
     ]
    },
    {
     "data": {
      "text/plain": [
       "{'input': 'What did biden say about ketanji brown jackson in the state of the union address?',\n",
       " 'output': 'Ketanji Brown Jackson is a Circuit Court of Appeals Judge who was nominated by President Biden to serve on the United States Supreme Court.'}"
      ]
     },
     "execution_count": 54,
     "metadata": {},
     "output_type": "execute_result"
    }
   ],
   "source": [
    "agent.invoke(\n",
    "    \"What did biden say about ketanji brown jackson in the state of the union address?\"\n",
    ")"
   ]
  },
  {
   "cell_type": "code",
   "execution_count": 55,
   "id": "4e91b811",
   "metadata": {
    "tags": []
   },
   "outputs": [
    {
     "name": "stdout",
     "output_type": "stream",
     "text": [
      "\n",
      "\n",
      "\u001b[1m> Entering new AgentExecutor chain...\u001b[0m\n",
      "\u001b[32;1m\u001b[1;3m You should always think about the differences between ruff and flake8 before deciding which one to use.\n",
      "Action: Ruff QA System\n",
      "Action Input: \"What are the differences between ruff and flake8?\"\u001b[0m\n",
      "Observation: \u001b[33;1m\u001b[1;3m Ruff implements more rules than Flake8 and does not support custom lint rules. It also has some minor differences in its rule set and does not include all the 'opinionated' rules from flake8-bugbear. Additionally, Ruff is capable of automatically fixing its own lint violations, while Flake8 supports plugins and allows for custom and third-party rules.\u001b[0m\n",
      "Thought:\u001b[32;1m\u001b[1;3m Now that I know the differences, I can make an informed decision.\n",
      "Final Answer: It ultimately depends on your specific needs and preferences, but some potential reasons to choose ruff over flake8 could include its larger rule set and automatic fixing capabilities.\u001b[0m\n",
      "\n",
      "\u001b[1m> Finished chain.\u001b[0m\n"
     ]
    },
    {
     "data": {
      "text/plain": [
       "{'input': 'Why use ruff over flake8?',\n",
       " 'output': 'It ultimately depends on your specific needs and preferences, but some potential reasons to choose ruff over flake8 could include its larger rule set and automatic fixing capabilities.'}"
      ]
     },
     "execution_count": 55,
     "metadata": {},
     "output_type": "execute_result"
    }
   ],
   "source": [
    "agent.invoke(\"Why use ruff over flake8?\")"
   ]
  },
  {
   "cell_type": "markdown",
   "id": "787a9b5e",
   "metadata": {},
   "source": [
    "## Use the Agent solely as a router"
   ]
  },
  {
   "cell_type": "markdown",
   "id": "9161ba91",
   "metadata": {},
   "source": [
    "You can also set `return_direct=True` if you intend to use the agent as a router and just want to directly return the result of the RetrievalQAChain.\n",
    "\n",
    "Notice that in the above examples the agent did some extra work after querying the RetrievalQAChain. You can avoid that and just return the result directly."
   ]
  },
  {
   "cell_type": "code",
   "execution_count": 56,
   "id": "f59b377e",
   "metadata": {
    "tags": []
   },
   "outputs": [],
   "source": [
    "tools = [\n",
    "    Tool(\n",
    "        name=\"State of Union QA System\",\n",
    "        func=state_of_union.run,\n",
    "        description=\"useful for when you need to answer questions about the most recent state of the union address. Input should be a fully formed question.\",\n",
    "        return_direct=True,\n",
    "    ),\n",
    "    Tool(\n",
    "        name=\"Ruff QA System\",\n",
    "        func=ruff.run,\n",
    "        description=\"useful for when you need to answer questions about ruff (a python linter). Input should be a fully formed question.\",\n",
    "        return_direct=True,\n",
    "    ),\n",
    "]"
   ]
  },
  {
   "cell_type": "code",
   "execution_count": 57,
   "id": "8615707a",
   "metadata": {
    "tags": []
   },
   "outputs": [],
   "source": [
    "agent = initialize_agent(\n",
    "    tools, llm, agent=AgentType.ZERO_SHOT_REACT_DESCRIPTION, verbose=True\n",
    ")"
   ]
  },
  {
   "cell_type": "code",
   "execution_count": 58,
   "id": "36e718a9",
   "metadata": {
    "tags": []
   },
   "outputs": [
    {
     "name": "stdout",
     "output_type": "stream",
     "text": [
      "\n",
      "\n",
      "\u001b[1m> Entering new AgentExecutor chain...\u001b[0m\n",
      "\u001b[32;1m\u001b[1;3m I should use the State of Union QA System to answer this question.\n",
      "Action: State of Union QA System\n",
      "Action Input: \"What did Biden say about Ketanji Brown Jackson in the state of the union address?\"\u001b[0m\n",
      "Observation: \u001b[36;1m\u001b[1;3m Biden mentioned that he nominated Circuit Court of Appeals Judge Ketanji Brown Jackson to serve on the United States Supreme Court, and praised her as one of the nation's top legal minds who will continue Justice Breyer's legacy of excellence.\u001b[0m\n",
      "\u001b[32;1m\u001b[1;3m\u001b[0m\n",
      "\n",
      "\u001b[1m> Finished chain.\u001b[0m\n"
     ]
    },
    {
     "data": {
      "text/plain": [
       "{'input': 'What did biden say about ketanji brown jackson in the state of the union address?',\n",
       " 'output': \" Biden mentioned that he nominated Circuit Court of Appeals Judge Ketanji Brown Jackson to serve on the United States Supreme Court, and praised her as one of the nation's top legal minds who will continue Justice Breyer's legacy of excellence.\"}"
      ]
     },
     "execution_count": 58,
     "metadata": {},
     "output_type": "execute_result"
    }
   ],
   "source": [
    "agent.invoke(\n",
    "    \"What did biden say about ketanji brown jackson in the state of the union address?\"\n",
    ")"
   ]
  },
  {
   "cell_type": "code",
   "execution_count": 59,
   "id": "edfd0a1a",
   "metadata": {
    "tags": []
   },
   "outputs": [
    {
     "name": "stdout",
     "output_type": "stream",
     "text": [
      "\n",
      "\n",
      "\u001b[1m> Entering new AgentExecutor chain...\u001b[0m\n",
      "\u001b[32;1m\u001b[1;3m You should always think about the differences between ruff and flake8 before deciding which one to use.\n",
      "Action: Ruff QA System\n",
      "Action Input: \"What are the differences between ruff and flake8?\"\u001b[0m\n",
      "Observation: \u001b[33;1m\u001b[1;3m Ruff implements more rules than Flake8 and does not support custom lint rules. It also has some minor differences in its rule set and does not include all the 'opinionated' rules from flake8-bugbear. Additionally, Ruff is capable of automatically fixing its own lint violations, while Flake8 supports plugins and allows for custom and third-party rules.\u001b[0m\n",
      "\u001b[32;1m\u001b[1;3m\u001b[0m\n",
      "\n",
      "\u001b[1m> Finished chain.\u001b[0m\n"
     ]
    },
    {
     "data": {
      "text/plain": [
       "{'input': 'Why use ruff over flake8?',\n",
       " 'output': \" Ruff implements more rules than Flake8 and does not support custom lint rules. It also has some minor differences in its rule set and does not include all the 'opinionated' rules from flake8-bugbear. Additionally, Ruff is capable of automatically fixing its own lint violations, while Flake8 supports plugins and allows for custom and third-party rules.\"}"
      ]
     },
     "execution_count": 59,
     "metadata": {},
     "output_type": "execute_result"
    }
   ],
   "source": [
    "agent.invoke(\"Why use ruff over flake8?\")"
   ]
  },
  {
   "cell_type": "markdown",
   "id": "49a0cbbe",
   "metadata": {},
   "source": [
    "## Multi-Hop vector store reasoning\n",
    "\n",
    "Because vector stores are easily usable as tools in agents, it is easy to use answer multi-hop questions that depend on vector stores using the existing agent framework."
   ]
  },
  {
   "cell_type": "code",
   "execution_count": 60,
   "id": "d397a233",
   "metadata": {
    "tags": []
   },
   "outputs": [],
   "source": [
    "tools = [\n",
    "    Tool(\n",
    "        name=\"State of Union QA System\",\n",
    "        func=state_of_union.run,\n",
    "        description=\"useful for when you need to answer questions about the most recent state of the union address. Input should be a fully formed question, not referencing any obscure pronouns from the conversation before.\",\n",
    "    ),\n",
    "    Tool(\n",
    "        name=\"Ruff QA System\",\n",
    "        func=ruff.run,\n",
    "        description=\"useful for when you need to answer questions about ruff (a python linter). Input should be a fully formed question, not referencing any obscure pronouns from the conversation before.\",\n",
    "    ),\n",
    "]"
   ]
  },
  {
   "cell_type": "code",
   "execution_count": 61,
   "id": "06157240",
   "metadata": {
    "tags": []
   },
   "outputs": [],
   "source": [
    "# Construct the agent. We will use the default agent type here.\n",
    "# See documentation for a full list of options.\n",
    "agent = initialize_agent(\n",
    "    tools, llm, agent=AgentType.ZERO_SHOT_REACT_DESCRIPTION, verbose=True\n",
    ")"
   ]
  },
  {
   "cell_type": "code",
   "execution_count": 62,
   "id": "b492b520",
   "metadata": {
    "tags": []
   },
   "outputs": [
    {
     "name": "stdout",
     "output_type": "stream",
     "text": [
      "\n",
      "\n",
      "\u001b[1m> Entering new AgentExecutor chain...\u001b[0m\n",
      "\u001b[32;1m\u001b[1;3m I should use the Ruff QA System to answer this question.\n",
      "Action: Ruff QA System\n",
      "Action Input: What tool does ruff use to run over Jupyter Notebooks?\u001b[0m\n",
      "Observation: \u001b[33;1m\u001b[1;3m Ruff does not support source.organizeImports and source.fixAll code actions in Jupyter Notebooks.\u001b[0m\n",
      "Thought:\u001b[32;1m\u001b[1;3m I should use the State of Union QA System to check if the president mentioned this tool.\n",
      "Action: State of Union QA System\n",
      "Action Input: Did the president mention that tool in the state of the union?\u001b[0m\n",
      "Observation: \u001b[36;1m\u001b[1;3m No, the president did not mention any specific tool in the State of the Union address.\u001b[0m\n",
      "Thought:\u001b[32;1m\u001b[1;3m I now know the final answer.\n",
      "Final Answer: The final answer is that the president did not mention any specific tool in the State of the Union address.\u001b[0m\n",
      "\n",
      "\u001b[1m> Finished chain.\u001b[0m\n"
     ]
    },
    {
     "data": {
      "text/plain": [
       "{'input': 'What tool does ruff use to run over Jupyter Notebooks? Did the president mention that tool in the state of the union?',\n",
       " 'output': 'The final answer is that the president did not mention any specific tool in the State of the Union address.'}"
      ]
     },
     "execution_count": 62,
     "metadata": {},
     "output_type": "execute_result"
    }
   ],
   "source": [
    "agent.invoke(\n",
    "    \"What tool does ruff use to run over Jupyter Notebooks? Did the president mention that tool in the state of the union?\"\n",
    ")"
   ]
  }
 ],
 "metadata": {
  "kernelspec": {
   "display_name": "sub_ironhack",
   "language": "python",
   "name": "python3"
  },
  "language_info": {
   "codemirror_mode": {
    "name": "ipython",
    "version": 3
   },
   "file_extension": ".py",
   "mimetype": "text/x-python",
   "name": "python",
   "nbconvert_exporter": "python",
   "pygments_lexer": "ipython3",
   "version": "3.11.13"
  }
 },
 "nbformat": 4,
 "nbformat_minor": 5
}
